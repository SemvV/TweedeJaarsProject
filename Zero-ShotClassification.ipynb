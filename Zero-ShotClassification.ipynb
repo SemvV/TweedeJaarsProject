{
 "cells": [
  {
   "cell_type": "code",
   "execution_count": null,
   "id": "277945c8",
   "metadata": {},
   "outputs": [
    {
     "name": "stderr",
     "output_type": "stream",
     "text": [
      "Device set to use cuda:0\n"
     ]
    },
    {
     "name": "stdout",
     "output_type": "stream",
     "text": [
      "Resuming from row 8...\n"
     ]
    },
    {
     "name": "stderr",
     "output_type": "stream",
     "text": [
      "Classifying:   0%|          | 0/22884 [00:00<?, ?batch/s]Asking to truncate to max_length but no maximum length is provided and the model has no predefined maximum length. Default to no truncation.\n",
      "Classifying:  75%|███████▌  | 17240/22884 [2:25:48<57:17,  1.64batch/s]  "
     ]
    }
   ],
   "source": [
    "from tqdm import tqdm\n",
    "import pandas as pd\n",
    "from transformers import pipeline\n",
    "import os\n",
    "\n",
    "classifier = pipeline(\"zero-shot-classification\", \n",
    "                      model=\"MoritzLaurer/DeBERTa-v3-base-mnli-fever-anli\", \n",
    "                      device=0,\n",
    "                      batch_size=8)\n",
    "\n",
    "candidate_labels = [\n",
    "    \"women rights\",\n",
    "    \"climate\",\n",
    "    \"labor rights\",\n",
    "    \"health care\",\n",
    "    \"farmers\",\n",
    "    \"environment\",\n",
    "    \"public services\",\n",
    "    \"palestine-israel conflict\",\n",
    "    \"immigration\",\n",
    "    \"unjust law enforcement\",\n",
    "    \"ukraine-russia war\",\n",
    "    \"discrimination\",\n",
    "    \"education\",\n",
    "    \"housing\",\n",
    "    \"culture\",\n",
    "    \"policies\",\n",
    "    \"animal welfare\",\n",
    "    \"pandemic\",\n",
    "    \"lgbtq\"\n",
    "]\n",
    "\n",
    "df = pd.read_csv('../data/filtered_events_country_code.csv')\n",
    "texts = df['notes'].tolist()\n",
    "\n",
    "batch_size = 8\n",
    "predictions = []\n",
    "\n",
    "output_path = '../data/predicted_topics_progress.csv'\n",
    "\n",
    "if os.path.exists(output_path):\n",
    "    df_done = pd.read_csv(output_path)\n",
    "    start_idx = len(df_done)\n",
    "    predicted_topics = df_done['predicted_topic'].tolist()\n",
    "    print(f\"Resuming from row {start_idx}...\")\n",
    "else:\n",
    "    df_done = pd.DataFrame()\n",
    "    start_idx = 0\n",
    "    predicted_topics = []\n",
    "\n",
    "\n",
    "for i in tqdm(range(start_idx, len(texts), batch_size), desc=\"Classifying\", unit=\"batch\"):\n",
    "    batch_texts = texts[i:i + batch_size]\n",
    "    results = classifier(batch_texts, candidate_labels, multi_label=False)\n",
    "\n",
    "\n",
    "    if isinstance(results, dict):\n",
    "        batch_preds = [results['labels'][0]]\n",
    "    else:\n",
    "        batch_preds = [r['labels'][0] for r in results]\n",
    "\n",
    "    predicted_topics.extend(batch_preds)\n",
    "\n",
    "    df_batch = df.iloc[start_idx:i + batch_size].copy()\n",
    "    df_batch = df_batch.iloc[:len(batch_preds)]  # ensure same size\n",
    "    df_batch['predicted_topic'] = batch_preds\n",
    "\n",
    "    if i == start_idx:\n",
    "        df_batch.to_csv(output_path, index=False)\n",
    "    else:\n",
    "        df_batch.to_csv(output_path, mode='a', index=False, header=False)\n",
    "\n",
    "    start_idx = i + batch_size"
   ]
  },
  {
   "cell_type": "code",
   "execution_count": null,
   "id": "ea6f8c72",
   "metadata": {},
   "outputs": [
    {
     "data": {
      "text/html": [
       "        <script type=\"text/javascript\">\n",
       "        window.PlotlyConfig = {MathJaxConfig: 'local'};\n",
       "        if (window.MathJax && window.MathJax.Hub && window.MathJax.Hub.Config) {window.MathJax.Hub.Config({SVG: {font: \"STIX-Web\"}});}\n",
       "        if (typeof require !== 'undefined') {\n",
       "        require.undef(\"plotly\");\n",
       "        requirejs.config({\n",
       "            paths: {\n",
       "                'plotly': ['https://cdn.plot.ly/plotly-2.35.2.min']\n",
       "            }\n",
       "        });\n",
       "        require(['plotly'], function(Plotly) {\n",
       "            window._Plotly = Plotly;\n",
       "        });\n",
       "        }\n",
       "        </script>\n",
       "        "
      ]
     },
     "metadata": {},
     "output_type": "display_data"
    },
    {
     "data": {
      "application/vnd.plotly.v1+json": {
       "config": {
        "linkText": "Export to plot.ly",
        "plotlyServerURL": "https://plot.ly",
        "showLink": false
       },
       "data": [
        {
         "alignmentgroup": "True",
         "hovertemplate": "Category:'%{x}' Counted: %{y}",
         "legendgroup": "political criticism",
         "marker": {
          "color": "#636efa",
          "pattern": {
           "shape": ""
          }
         },
         "name": "political criticism",
         "offsetgroup": "political criticism",
         "orientation": "v",
         "showlegend": true,
         "text": [
          74228
         ],
         "textposition": "auto",
         "type": "bar",
         "x": [
          "political criticism"
         ],
         "xaxis": "x",
         "y": [
          74228
         ],
         "yaxis": "y"
        },
        {
         "alignmentgroup": "True",
         "hovertemplate": "Category:'%{x}' Counted: %{y}",
         "legendgroup": "environment",
         "marker": {
          "color": "#EF553B",
          "pattern": {
           "shape": ""
          }
         },
         "name": "environment",
         "offsetgroup": "environment",
         "orientation": "v",
         "showlegend": true,
         "text": [
          13596
         ],
         "textposition": "auto",
         "type": "bar",
         "x": [
          "environment"
         ],
         "xaxis": "x",
         "y": [
          13596
         ],
         "yaxis": "y"
        },
        {
         "alignmentgroup": "True",
         "hovertemplate": "Category:'%{x}' Counted: %{y}",
         "legendgroup": "infrastructure",
         "marker": {
          "color": "#00cc96",
          "pattern": {
           "shape": ""
          }
         },
         "name": "infrastructure",
         "offsetgroup": "infrastructure",
         "orientation": "v",
         "showlegend": true,
         "text": [
          12074
         ],
         "textposition": "auto",
         "type": "bar",
         "x": [
          "infrastructure"
         ],
         "xaxis": "x",
         "y": [
          12074
         ],
         "yaxis": "y"
        },
        {
         "alignmentgroup": "True",
         "hovertemplate": "Category:'%{x}' Counted: %{y}",
         "legendgroup": "health care",
         "marker": {
          "color": "#ab63fa",
          "pattern": {
           "shape": ""
          }
         },
         "name": "health care",
         "offsetgroup": "health care",
         "orientation": "v",
         "showlegend": true,
         "text": [
          11928
         ],
         "textposition": "auto",
         "type": "bar",
         "x": [
          "health care"
         ],
         "xaxis": "x",
         "y": [
          11928
         ],
         "yaxis": "y"
        },
        {
         "alignmentgroup": "True",
         "hovertemplate": "Category:'%{x}' Counted: %{y}",
         "legendgroup": "housing",
         "marker": {
          "color": "#FFA15A",
          "pattern": {
           "shape": ""
          }
         },
         "name": "housing",
         "offsetgroup": "housing",
         "orientation": "v",
         "showlegend": true,
         "text": [
          7657
         ],
         "textposition": "auto",
         "type": "bar",
         "x": [
          "housing"
         ],
         "xaxis": "x",
         "y": [
          7657
         ],
         "yaxis": "y"
        },
        {
         "alignmentgroup": "True",
         "hovertemplate": "Category:'%{x}' Counted: %{y}",
         "legendgroup": "farmers",
         "marker": {
          "color": "#19d3f3",
          "pattern": {
           "shape": ""
          }
         },
         "name": "farmers",
         "offsetgroup": "farmers",
         "orientation": "v",
         "showlegend": true,
         "text": [
          7431
         ],
         "textposition": "auto",
         "type": "bar",
         "x": [
          "farmers"
         ],
         "xaxis": "x",
         "y": [
          7431
         ],
         "yaxis": "y"
        },
        {
         "alignmentgroup": "True",
         "hovertemplate": "Category:'%{x}' Counted: %{y}",
         "legendgroup": "education",
         "marker": {
          "color": "#FF6692",
          "pattern": {
           "shape": ""
          }
         },
         "name": "education",
         "offsetgroup": "education",
         "orientation": "v",
         "showlegend": true,
         "text": [
          7188
         ],
         "textposition": "auto",
         "type": "bar",
         "x": [
          "education"
         ],
         "xaxis": "x",
         "y": [
          7188
         ],
         "yaxis": "y"
        },
        {
         "alignmentgroup": "True",
         "hovertemplate": "Category:'%{x}' Counted: %{y}",
         "legendgroup": "labor rights",
         "marker": {
          "color": "#B6E880",
          "pattern": {
           "shape": ""
          }
         },
         "name": "labor rights",
         "offsetgroup": "labor rights",
         "orientation": "v",
         "showlegend": true,
         "text": [
          7007
         ],
         "textposition": "auto",
         "type": "bar",
         "x": [
          "labor rights"
         ],
         "xaxis": "x",
         "y": [
          7007
         ],
         "yaxis": "y"
        },
        {
         "alignmentgroup": "True",
         "hovertemplate": "Category:'%{x}' Counted: %{y}",
         "legendgroup": "public services",
         "marker": {
          "color": "#FF97FF",
          "pattern": {
           "shape": ""
          }
         },
         "name": "public services",
         "offsetgroup": "public services",
         "orientation": "v",
         "showlegend": true,
         "text": [
          6784
         ],
         "textposition": "auto",
         "type": "bar",
         "x": [
          "public services"
         ],
         "xaxis": "x",
         "y": [
          6784
         ],
         "yaxis": "y"
        },
        {
         "alignmentgroup": "True",
         "hovertemplate": "Category:'%{x}' Counted: %{y}",
         "legendgroup": "unjust law enforcement",
         "marker": {
          "color": "#FECB52",
          "pattern": {
           "shape": ""
          }
         },
         "name": "unjust law enforcement",
         "offsetgroup": "unjust law enforcement",
         "orientation": "v",
         "showlegend": true,
         "text": [
          5613
         ],
         "textposition": "auto",
         "type": "bar",
         "x": [
          "unjust law enforcement"
         ],
         "xaxis": "x",
         "y": [
          5613
         ],
         "yaxis": "y"
        },
        {
         "alignmentgroup": "True",
         "hovertemplate": "Category:'%{x}' Counted: %{y}",
         "legendgroup": "anti right wing",
         "marker": {
          "color": "#636efa",
          "pattern": {
           "shape": ""
          }
         },
         "name": "anti right wing",
         "offsetgroup": "anti right wing",
         "orientation": "v",
         "showlegend": true,
         "text": [
          4658
         ],
         "textposition": "auto",
         "type": "bar",
         "x": [
          "anti right wing"
         ],
         "xaxis": "x",
         "y": [
          4658
         ],
         "yaxis": "y"
        },
        {
         "alignmentgroup": "True",
         "hovertemplate": "Category:'%{x}' Counted: %{y}",
         "legendgroup": "culture",
         "marker": {
          "color": "#EF553B",
          "pattern": {
           "shape": ""
          }
         },
         "name": "culture",
         "offsetgroup": "culture",
         "orientation": "v",
         "showlegend": true,
         "text": [
          3744
         ],
         "textposition": "auto",
         "type": "bar",
         "x": [
          "culture"
         ],
         "xaxis": "x",
         "y": [
          3744
         ],
         "yaxis": "y"
        },
        {
         "alignmentgroup": "True",
         "hovertemplate": "Category:'%{x}' Counted: %{y}",
         "legendgroup": "discrimination",
         "marker": {
          "color": "#00cc96",
          "pattern": {
           "shape": ""
          }
         },
         "name": "discrimination",
         "offsetgroup": "discrimination",
         "orientation": "v",
         "showlegend": true,
         "text": [
          3686
         ],
         "textposition": "auto",
         "type": "bar",
         "x": [
          "discrimination"
         ],
         "xaxis": "x",
         "y": [
          3686
         ],
         "yaxis": "y"
        },
        {
         "alignmentgroup": "True",
         "hovertemplate": "Category:'%{x}' Counted: %{y}",
         "legendgroup": "palestine-israel conflict",
         "marker": {
          "color": "#ab63fa",
          "pattern": {
           "shape": ""
          }
         },
         "name": "palestine-israel conflict",
         "offsetgroup": "palestine-israel conflict",
         "orientation": "v",
         "showlegend": true,
         "text": [
          3059
         ],
         "textposition": "auto",
         "type": "bar",
         "x": [
          "palestine-israel conflict"
         ],
         "xaxis": "x",
         "y": [
          3059
         ],
         "yaxis": "y"
        },
        {
         "alignmentgroup": "True",
         "hovertemplate": "Category:'%{x}' Counted: %{y}",
         "legendgroup": "women rights",
         "marker": {
          "color": "#FFA15A",
          "pattern": {
           "shape": ""
          }
         },
         "name": "women rights",
         "offsetgroup": "women rights",
         "orientation": "v",
         "showlegend": true,
         "text": [
          2510
         ],
         "textposition": "auto",
         "type": "bar",
         "x": [
          "women rights"
         ],
         "xaxis": "x",
         "y": [
          2510
         ],
         "yaxis": "y"
        },
        {
         "alignmentgroup": "True",
         "hovertemplate": "Category:'%{x}' Counted: %{y}",
         "legendgroup": "eviction",
         "marker": {
          "color": "#19d3f3",
          "pattern": {
           "shape": ""
          }
         },
         "name": "eviction",
         "offsetgroup": "eviction",
         "orientation": "v",
         "showlegend": true,
         "text": [
          2308
         ],
         "textposition": "auto",
         "type": "bar",
         "x": [
          "eviction"
         ],
         "xaxis": "x",
         "y": [
          2308
         ],
         "yaxis": "y"
        },
        {
         "alignmentgroup": "True",
         "hovertemplate": "Category:'%{x}' Counted: %{y}",
         "legendgroup": "ukraine-russia war",
         "marker": {
          "color": "#FF6692",
          "pattern": {
           "shape": ""
          }
         },
         "name": "ukraine-russia war",
         "offsetgroup": "ukraine-russia war",
         "orientation": "v",
         "showlegend": true,
         "text": [
          1846
         ],
         "textposition": "auto",
         "type": "bar",
         "x": [
          "ukraine-russia war"
         ],
         "xaxis": "x",
         "y": [
          1846
         ],
         "yaxis": "y"
        },
        {
         "alignmentgroup": "True",
         "hovertemplate": "Category:'%{x}' Counted: %{y}",
         "legendgroup": "youth violence",
         "marker": {
          "color": "#B6E880",
          "pattern": {
           "shape": ""
          }
         },
         "name": "youth violence",
         "offsetgroup": "youth violence",
         "orientation": "v",
         "showlegend": true,
         "text": [
          1807
         ],
         "textposition": "auto",
         "type": "bar",
         "x": [
          "youth violence"
         ],
         "xaxis": "x",
         "y": [
          1807
         ],
         "yaxis": "y"
        },
        {
         "alignmentgroup": "True",
         "hovertemplate": "Category:'%{x}' Counted: %{y}",
         "legendgroup": "immigration",
         "marker": {
          "color": "#FF97FF",
          "pattern": {
           "shape": ""
          }
         },
         "name": "immigration",
         "offsetgroup": "immigration",
         "orientation": "v",
         "showlegend": true,
         "text": [
          1675
         ],
         "textposition": "auto",
         "type": "bar",
         "x": [
          "immigration"
         ],
         "xaxis": "x",
         "y": [
          1675
         ],
         "yaxis": "y"
        },
        {
         "alignmentgroup": "True",
         "hovertemplate": "Category:'%{x}' Counted: %{y}",
         "legendgroup": "social welfare",
         "marker": {
          "color": "#FECB52",
          "pattern": {
           "shape": ""
          }
         },
         "name": "social welfare",
         "offsetgroup": "social welfare",
         "orientation": "v",
         "showlegend": true,
         "text": [
          1614
         ],
         "textposition": "auto",
         "type": "bar",
         "x": [
          "social welfare"
         ],
         "xaxis": "x",
         "y": [
          1614
         ],
         "yaxis": "y"
        },
        {
         "alignmentgroup": "True",
         "hovertemplate": "Category:'%{x}' Counted: %{y}",
         "legendgroup": "climate",
         "marker": {
          "color": "#636efa",
          "pattern": {
           "shape": ""
          }
         },
         "name": "climate",
         "offsetgroup": "climate",
         "orientation": "v",
         "showlegend": true,
         "text": [
          726
         ],
         "textposition": "auto",
         "type": "bar",
         "x": [
          "climate"
         ],
         "xaxis": "x",
         "y": [
          726
         ],
         "yaxis": "y"
        },
        {
         "alignmentgroup": "True",
         "hovertemplate": "Category:'%{x}' Counted: %{y}",
         "legendgroup": "animal welfare",
         "marker": {
          "color": "#EF553B",
          "pattern": {
           "shape": ""
          }
         },
         "name": "animal welfare",
         "offsetgroup": "animal welfare",
         "orientation": "v",
         "showlegend": true,
         "text": [
          670
         ],
         "textposition": "auto",
         "type": "bar",
         "x": [
          "animal welfare"
         ],
         "xaxis": "x",
         "y": [
          670
         ],
         "yaxis": "y"
        },
        {
         "alignmentgroup": "True",
         "hovertemplate": "Category:'%{x}' Counted: %{y}",
         "legendgroup": "democracy",
         "marker": {
          "color": "#00cc96",
          "pattern": {
           "shape": ""
          }
         },
         "name": "democracy",
         "offsetgroup": "democracy",
         "orientation": "v",
         "showlegend": true,
         "text": [
          489
         ],
         "textposition": "auto",
         "type": "bar",
         "x": [
          "democracy"
         ],
         "xaxis": "x",
         "y": [
          489
         ],
         "yaxis": "y"
        },
        {
         "alignmentgroup": "True",
         "hovertemplate": "Category:'%{x}' Counted: %{y}",
         "legendgroup": "tourism",
         "marker": {
          "color": "#ab63fa",
          "pattern": {
           "shape": ""
          }
         },
         "name": "tourism",
         "offsetgroup": "tourism",
         "orientation": "v",
         "showlegend": true,
         "text": [
          464
         ],
         "textposition": "auto",
         "type": "bar",
         "x": [
          "tourism"
         ],
         "xaxis": "x",
         "y": [
          464
         ],
         "yaxis": "y"
        },
        {
         "alignmentgroup": "True",
         "hovertemplate": "Category:'%{x}' Counted: %{y}",
         "legendgroup": "political rights",
         "marker": {
          "color": "#FFA15A",
          "pattern": {
           "shape": ""
          }
         },
         "name": "political rights",
         "offsetgroup": "political rights",
         "orientation": "v",
         "showlegend": true,
         "text": [
          318
         ],
         "textposition": "auto",
         "type": "bar",
         "x": [
          "political rights"
         ],
         "xaxis": "x",
         "y": [
          318
         ],
         "yaxis": "y"
        }
       ],
       "layout": {
        "barmode": "relative",
        "height": 500,
        "legend": {
         "title": {
          "text": "color"
         },
         "tracegroupgap": 0
        },
        "margin": {
         "t": 60
        },
        "plot_bgcolor": "white",
        "showlegend": false,
        "template": {
         "data": {
          "bar": [
           {
            "error_x": {
             "color": "#2a3f5f"
            },
            "error_y": {
             "color": "#2a3f5f"
            },
            "marker": {
             "line": {
              "color": "#E5ECF6",
              "width": 0.5
             },
             "pattern": {
              "fillmode": "overlay",
              "size": 10,
              "solidity": 0.2
             }
            },
            "type": "bar"
           }
          ],
          "barpolar": [
           {
            "marker": {
             "line": {
              "color": "#E5ECF6",
              "width": 0.5
             },
             "pattern": {
              "fillmode": "overlay",
              "size": 10,
              "solidity": 0.2
             }
            },
            "type": "barpolar"
           }
          ],
          "carpet": [
           {
            "aaxis": {
             "endlinecolor": "#2a3f5f",
             "gridcolor": "white",
             "linecolor": "white",
             "minorgridcolor": "white",
             "startlinecolor": "#2a3f5f"
            },
            "baxis": {
             "endlinecolor": "#2a3f5f",
             "gridcolor": "white",
             "linecolor": "white",
             "minorgridcolor": "white",
             "startlinecolor": "#2a3f5f"
            },
            "type": "carpet"
           }
          ],
          "choropleth": [
           {
            "colorbar": {
             "outlinewidth": 0,
             "ticks": ""
            },
            "type": "choropleth"
           }
          ],
          "contour": [
           {
            "colorbar": {
             "outlinewidth": 0,
             "ticks": ""
            },
            "colorscale": [
             [
              0,
              "#0d0887"
             ],
             [
              0.1111111111111111,
              "#46039f"
             ],
             [
              0.2222222222222222,
              "#7201a8"
             ],
             [
              0.3333333333333333,
              "#9c179e"
             ],
             [
              0.4444444444444444,
              "#bd3786"
             ],
             [
              0.5555555555555556,
              "#d8576b"
             ],
             [
              0.6666666666666666,
              "#ed7953"
             ],
             [
              0.7777777777777778,
              "#fb9f3a"
             ],
             [
              0.8888888888888888,
              "#fdca26"
             ],
             [
              1,
              "#f0f921"
             ]
            ],
            "type": "contour"
           }
          ],
          "contourcarpet": [
           {
            "colorbar": {
             "outlinewidth": 0,
             "ticks": ""
            },
            "type": "contourcarpet"
           }
          ],
          "heatmap": [
           {
            "colorbar": {
             "outlinewidth": 0,
             "ticks": ""
            },
            "colorscale": [
             [
              0,
              "#0d0887"
             ],
             [
              0.1111111111111111,
              "#46039f"
             ],
             [
              0.2222222222222222,
              "#7201a8"
             ],
             [
              0.3333333333333333,
              "#9c179e"
             ],
             [
              0.4444444444444444,
              "#bd3786"
             ],
             [
              0.5555555555555556,
              "#d8576b"
             ],
             [
              0.6666666666666666,
              "#ed7953"
             ],
             [
              0.7777777777777778,
              "#fb9f3a"
             ],
             [
              0.8888888888888888,
              "#fdca26"
             ],
             [
              1,
              "#f0f921"
             ]
            ],
            "type": "heatmap"
           }
          ],
          "heatmapgl": [
           {
            "colorbar": {
             "outlinewidth": 0,
             "ticks": ""
            },
            "colorscale": [
             [
              0,
              "#0d0887"
             ],
             [
              0.1111111111111111,
              "#46039f"
             ],
             [
              0.2222222222222222,
              "#7201a8"
             ],
             [
              0.3333333333333333,
              "#9c179e"
             ],
             [
              0.4444444444444444,
              "#bd3786"
             ],
             [
              0.5555555555555556,
              "#d8576b"
             ],
             [
              0.6666666666666666,
              "#ed7953"
             ],
             [
              0.7777777777777778,
              "#fb9f3a"
             ],
             [
              0.8888888888888888,
              "#fdca26"
             ],
             [
              1,
              "#f0f921"
             ]
            ],
            "type": "heatmapgl"
           }
          ],
          "histogram": [
           {
            "marker": {
             "pattern": {
              "fillmode": "overlay",
              "size": 10,
              "solidity": 0.2
             }
            },
            "type": "histogram"
           }
          ],
          "histogram2d": [
           {
            "colorbar": {
             "outlinewidth": 0,
             "ticks": ""
            },
            "colorscale": [
             [
              0,
              "#0d0887"
             ],
             [
              0.1111111111111111,
              "#46039f"
             ],
             [
              0.2222222222222222,
              "#7201a8"
             ],
             [
              0.3333333333333333,
              "#9c179e"
             ],
             [
              0.4444444444444444,
              "#bd3786"
             ],
             [
              0.5555555555555556,
              "#d8576b"
             ],
             [
              0.6666666666666666,
              "#ed7953"
             ],
             [
              0.7777777777777778,
              "#fb9f3a"
             ],
             [
              0.8888888888888888,
              "#fdca26"
             ],
             [
              1,
              "#f0f921"
             ]
            ],
            "type": "histogram2d"
           }
          ],
          "histogram2dcontour": [
           {
            "colorbar": {
             "outlinewidth": 0,
             "ticks": ""
            },
            "colorscale": [
             [
              0,
              "#0d0887"
             ],
             [
              0.1111111111111111,
              "#46039f"
             ],
             [
              0.2222222222222222,
              "#7201a8"
             ],
             [
              0.3333333333333333,
              "#9c179e"
             ],
             [
              0.4444444444444444,
              "#bd3786"
             ],
             [
              0.5555555555555556,
              "#d8576b"
             ],
             [
              0.6666666666666666,
              "#ed7953"
             ],
             [
              0.7777777777777778,
              "#fb9f3a"
             ],
             [
              0.8888888888888888,
              "#fdca26"
             ],
             [
              1,
              "#f0f921"
             ]
            ],
            "type": "histogram2dcontour"
           }
          ],
          "mesh3d": [
           {
            "colorbar": {
             "outlinewidth": 0,
             "ticks": ""
            },
            "type": "mesh3d"
           }
          ],
          "parcoords": [
           {
            "line": {
             "colorbar": {
              "outlinewidth": 0,
              "ticks": ""
             }
            },
            "type": "parcoords"
           }
          ],
          "pie": [
           {
            "automargin": true,
            "type": "pie"
           }
          ],
          "scatter": [
           {
            "fillpattern": {
             "fillmode": "overlay",
             "size": 10,
             "solidity": 0.2
            },
            "type": "scatter"
           }
          ],
          "scatter3d": [
           {
            "line": {
             "colorbar": {
              "outlinewidth": 0,
              "ticks": ""
             }
            },
            "marker": {
             "colorbar": {
              "outlinewidth": 0,
              "ticks": ""
             }
            },
            "type": "scatter3d"
           }
          ],
          "scattercarpet": [
           {
            "marker": {
             "colorbar": {
              "outlinewidth": 0,
              "ticks": ""
             }
            },
            "type": "scattercarpet"
           }
          ],
          "scattergeo": [
           {
            "marker": {
             "colorbar": {
              "outlinewidth": 0,
              "ticks": ""
             }
            },
            "type": "scattergeo"
           }
          ],
          "scattergl": [
           {
            "marker": {
             "colorbar": {
              "outlinewidth": 0,
              "ticks": ""
             }
            },
            "type": "scattergl"
           }
          ],
          "scattermapbox": [
           {
            "marker": {
             "colorbar": {
              "outlinewidth": 0,
              "ticks": ""
             }
            },
            "type": "scattermapbox"
           }
          ],
          "scatterpolar": [
           {
            "marker": {
             "colorbar": {
              "outlinewidth": 0,
              "ticks": ""
             }
            },
            "type": "scatterpolar"
           }
          ],
          "scatterpolargl": [
           {
            "marker": {
             "colorbar": {
              "outlinewidth": 0,
              "ticks": ""
             }
            },
            "type": "scatterpolargl"
           }
          ],
          "scatterternary": [
           {
            "marker": {
             "colorbar": {
              "outlinewidth": 0,
              "ticks": ""
             }
            },
            "type": "scatterternary"
           }
          ],
          "surface": [
           {
            "colorbar": {
             "outlinewidth": 0,
             "ticks": ""
            },
            "colorscale": [
             [
              0,
              "#0d0887"
             ],
             [
              0.1111111111111111,
              "#46039f"
             ],
             [
              0.2222222222222222,
              "#7201a8"
             ],
             [
              0.3333333333333333,
              "#9c179e"
             ],
             [
              0.4444444444444444,
              "#bd3786"
             ],
             [
              0.5555555555555556,
              "#d8576b"
             ],
             [
              0.6666666666666666,
              "#ed7953"
             ],
             [
              0.7777777777777778,
              "#fb9f3a"
             ],
             [
              0.8888888888888888,
              "#fdca26"
             ],
             [
              1,
              "#f0f921"
             ]
            ],
            "type": "surface"
           }
          ],
          "table": [
           {
            "cells": {
             "fill": {
              "color": "#EBF0F8"
             },
             "line": {
              "color": "white"
             }
            },
            "header": {
             "fill": {
              "color": "#C8D4E3"
             },
             "line": {
              "color": "white"
             }
            },
            "type": "table"
           }
          ]
         },
         "layout": {
          "annotationdefaults": {
           "arrowcolor": "#2a3f5f",
           "arrowhead": 0,
           "arrowwidth": 1
          },
          "autotypenumbers": "strict",
          "coloraxis": {
           "colorbar": {
            "outlinewidth": 0,
            "ticks": ""
           }
          },
          "colorscale": {
           "diverging": [
            [
             0,
             "#8e0152"
            ],
            [
             0.1,
             "#c51b7d"
            ],
            [
             0.2,
             "#de77ae"
            ],
            [
             0.3,
             "#f1b6da"
            ],
            [
             0.4,
             "#fde0ef"
            ],
            [
             0.5,
             "#f7f7f7"
            ],
            [
             0.6,
             "#e6f5d0"
            ],
            [
             0.7,
             "#b8e186"
            ],
            [
             0.8,
             "#7fbc41"
            ],
            [
             0.9,
             "#4d9221"
            ],
            [
             1,
             "#276419"
            ]
           ],
           "sequential": [
            [
             0,
             "#0d0887"
            ],
            [
             0.1111111111111111,
             "#46039f"
            ],
            [
             0.2222222222222222,
             "#7201a8"
            ],
            [
             0.3333333333333333,
             "#9c179e"
            ],
            [
             0.4444444444444444,
             "#bd3786"
            ],
            [
             0.5555555555555556,
             "#d8576b"
            ],
            [
             0.6666666666666666,
             "#ed7953"
            ],
            [
             0.7777777777777778,
             "#fb9f3a"
            ],
            [
             0.8888888888888888,
             "#fdca26"
            ],
            [
             1,
             "#f0f921"
            ]
           ],
           "sequentialminus": [
            [
             0,
             "#0d0887"
            ],
            [
             0.1111111111111111,
             "#46039f"
            ],
            [
             0.2222222222222222,
             "#7201a8"
            ],
            [
             0.3333333333333333,
             "#9c179e"
            ],
            [
             0.4444444444444444,
             "#bd3786"
            ],
            [
             0.5555555555555556,
             "#d8576b"
            ],
            [
             0.6666666666666666,
             "#ed7953"
            ],
            [
             0.7777777777777778,
             "#fb9f3a"
            ],
            [
             0.8888888888888888,
             "#fdca26"
            ],
            [
             1,
             "#f0f921"
            ]
           ]
          },
          "colorway": [
           "#636efa",
           "#EF553B",
           "#00cc96",
           "#ab63fa",
           "#FFA15A",
           "#19d3f3",
           "#FF6692",
           "#B6E880",
           "#FF97FF",
           "#FECB52"
          ],
          "font": {
           "color": "#2a3f5f"
          },
          "geo": {
           "bgcolor": "white",
           "lakecolor": "white",
           "landcolor": "#E5ECF6",
           "showlakes": true,
           "showland": true,
           "subunitcolor": "white"
          },
          "hoverlabel": {
           "align": "left"
          },
          "hovermode": "closest",
          "mapbox": {
           "style": "light"
          },
          "paper_bgcolor": "white",
          "plot_bgcolor": "#E5ECF6",
          "polar": {
           "angularaxis": {
            "gridcolor": "white",
            "linecolor": "white",
            "ticks": ""
           },
           "bgcolor": "#E5ECF6",
           "radialaxis": {
            "gridcolor": "white",
            "linecolor": "white",
            "ticks": ""
           }
          },
          "scene": {
           "xaxis": {
            "backgroundcolor": "#E5ECF6",
            "gridcolor": "white",
            "gridwidth": 2,
            "linecolor": "white",
            "showbackground": true,
            "ticks": "",
            "zerolinecolor": "white"
           },
           "yaxis": {
            "backgroundcolor": "#E5ECF6",
            "gridcolor": "white",
            "gridwidth": 2,
            "linecolor": "white",
            "showbackground": true,
            "ticks": "",
            "zerolinecolor": "white"
           },
           "zaxis": {
            "backgroundcolor": "#E5ECF6",
            "gridcolor": "white",
            "gridwidth": 2,
            "linecolor": "white",
            "showbackground": true,
            "ticks": "",
            "zerolinecolor": "white"
           }
          },
          "shapedefaults": {
           "line": {
            "color": "#2a3f5f"
           }
          },
          "ternary": {
           "aaxis": {
            "gridcolor": "white",
            "linecolor": "white",
            "ticks": ""
           },
           "baxis": {
            "gridcolor": "white",
            "linecolor": "white",
            "ticks": ""
           },
           "bgcolor": "#E5ECF6",
           "caxis": {
            "gridcolor": "white",
            "linecolor": "white",
            "ticks": ""
           }
          },
          "title": {
           "x": 0.05
          },
          "xaxis": {
           "automargin": true,
           "gridcolor": "white",
           "linecolor": "white",
           "ticks": "",
           "title": {
            "standoff": 15
           },
           "zerolinecolor": "white",
           "zerolinewidth": 2
          },
          "yaxis": {
           "automargin": true,
           "gridcolor": "white",
           "linecolor": "white",
           "ticks": "",
           "title": {
            "standoff": 15
           },
           "zerolinecolor": "white",
           "zerolinewidth": 2
          }
         }
        },
        "title": {
         "font": {
          "size": 35
         },
         "text": "Category Counts",
         "x": 0.5
        },
        "width": 800,
        "xaxis": {
         "anchor": "y",
         "domain": [
          0,
          1
         ],
         "showgrid": false,
         "title": {
          "text": "Category"
         }
        },
        "yaxis": {
         "anchor": "x",
         "domain": [
          0,
          1
         ],
         "showgrid": false,
         "title": {
          "text": "Value"
         }
        }
       }
      },
      "text/html": [
       "<div>                            <div id=\"e56cda69-6239-42d7-a9d4-ae2329a6440a\" class=\"plotly-graph-div\" style=\"height:500px; width:800px;\"></div>            <script type=\"text/javascript\">                require([\"plotly\"], function(Plotly) {                    window.PLOTLYENV=window.PLOTLYENV || {};                                    if (document.getElementById(\"e56cda69-6239-42d7-a9d4-ae2329a6440a\")) {                    Plotly.newPlot(                        \"e56cda69-6239-42d7-a9d4-ae2329a6440a\",                        [{\"alignmentgroup\":\"True\",\"hovertemplate\":\"Category:'%{x}' Counted: %{y}\",\"legendgroup\":\"political criticism\",\"marker\":{\"color\":\"#636efa\",\"pattern\":{\"shape\":\"\"}},\"name\":\"political criticism\",\"offsetgroup\":\"political criticism\",\"orientation\":\"v\",\"showlegend\":true,\"text\":[74228.0],\"textposition\":\"auto\",\"x\":[\"political criticism\"],\"xaxis\":\"x\",\"y\":[74228],\"yaxis\":\"y\",\"type\":\"bar\"},{\"alignmentgroup\":\"True\",\"hovertemplate\":\"Category:'%{x}' Counted: %{y}\",\"legendgroup\":\"environment\",\"marker\":{\"color\":\"#EF553B\",\"pattern\":{\"shape\":\"\"}},\"name\":\"environment\",\"offsetgroup\":\"environment\",\"orientation\":\"v\",\"showlegend\":true,\"text\":[13596.0],\"textposition\":\"auto\",\"x\":[\"environment\"],\"xaxis\":\"x\",\"y\":[13596],\"yaxis\":\"y\",\"type\":\"bar\"},{\"alignmentgroup\":\"True\",\"hovertemplate\":\"Category:'%{x}' Counted: %{y}\",\"legendgroup\":\"infrastructure\",\"marker\":{\"color\":\"#00cc96\",\"pattern\":{\"shape\":\"\"}},\"name\":\"infrastructure\",\"offsetgroup\":\"infrastructure\",\"orientation\":\"v\",\"showlegend\":true,\"text\":[12074.0],\"textposition\":\"auto\",\"x\":[\"infrastructure\"],\"xaxis\":\"x\",\"y\":[12074],\"yaxis\":\"y\",\"type\":\"bar\"},{\"alignmentgroup\":\"True\",\"hovertemplate\":\"Category:'%{x}' Counted: %{y}\",\"legendgroup\":\"health care\",\"marker\":{\"color\":\"#ab63fa\",\"pattern\":{\"shape\":\"\"}},\"name\":\"health care\",\"offsetgroup\":\"health care\",\"orientation\":\"v\",\"showlegend\":true,\"text\":[11928.0],\"textposition\":\"auto\",\"x\":[\"health care\"],\"xaxis\":\"x\",\"y\":[11928],\"yaxis\":\"y\",\"type\":\"bar\"},{\"alignmentgroup\":\"True\",\"hovertemplate\":\"Category:'%{x}' Counted: %{y}\",\"legendgroup\":\"housing\",\"marker\":{\"color\":\"#FFA15A\",\"pattern\":{\"shape\":\"\"}},\"name\":\"housing\",\"offsetgroup\":\"housing\",\"orientation\":\"v\",\"showlegend\":true,\"text\":[7657.0],\"textposition\":\"auto\",\"x\":[\"housing\"],\"xaxis\":\"x\",\"y\":[7657],\"yaxis\":\"y\",\"type\":\"bar\"},{\"alignmentgroup\":\"True\",\"hovertemplate\":\"Category:'%{x}' Counted: %{y}\",\"legendgroup\":\"farmers\",\"marker\":{\"color\":\"#19d3f3\",\"pattern\":{\"shape\":\"\"}},\"name\":\"farmers\",\"offsetgroup\":\"farmers\",\"orientation\":\"v\",\"showlegend\":true,\"text\":[7431.0],\"textposition\":\"auto\",\"x\":[\"farmers\"],\"xaxis\":\"x\",\"y\":[7431],\"yaxis\":\"y\",\"type\":\"bar\"},{\"alignmentgroup\":\"True\",\"hovertemplate\":\"Category:'%{x}' Counted: %{y}\",\"legendgroup\":\"education\",\"marker\":{\"color\":\"#FF6692\",\"pattern\":{\"shape\":\"\"}},\"name\":\"education\",\"offsetgroup\":\"education\",\"orientation\":\"v\",\"showlegend\":true,\"text\":[7188.0],\"textposition\":\"auto\",\"x\":[\"education\"],\"xaxis\":\"x\",\"y\":[7188],\"yaxis\":\"y\",\"type\":\"bar\"},{\"alignmentgroup\":\"True\",\"hovertemplate\":\"Category:'%{x}' Counted: %{y}\",\"legendgroup\":\"labor rights\",\"marker\":{\"color\":\"#B6E880\",\"pattern\":{\"shape\":\"\"}},\"name\":\"labor rights\",\"offsetgroup\":\"labor rights\",\"orientation\":\"v\",\"showlegend\":true,\"text\":[7007.0],\"textposition\":\"auto\",\"x\":[\"labor rights\"],\"xaxis\":\"x\",\"y\":[7007],\"yaxis\":\"y\",\"type\":\"bar\"},{\"alignmentgroup\":\"True\",\"hovertemplate\":\"Category:'%{x}' Counted: %{y}\",\"legendgroup\":\"public services\",\"marker\":{\"color\":\"#FF97FF\",\"pattern\":{\"shape\":\"\"}},\"name\":\"public services\",\"offsetgroup\":\"public services\",\"orientation\":\"v\",\"showlegend\":true,\"text\":[6784.0],\"textposition\":\"auto\",\"x\":[\"public services\"],\"xaxis\":\"x\",\"y\":[6784],\"yaxis\":\"y\",\"type\":\"bar\"},{\"alignmentgroup\":\"True\",\"hovertemplate\":\"Category:'%{x}' Counted: %{y}\",\"legendgroup\":\"unjust law enforcement\",\"marker\":{\"color\":\"#FECB52\",\"pattern\":{\"shape\":\"\"}},\"name\":\"unjust law enforcement\",\"offsetgroup\":\"unjust law enforcement\",\"orientation\":\"v\",\"showlegend\":true,\"text\":[5613.0],\"textposition\":\"auto\",\"x\":[\"unjust law enforcement\"],\"xaxis\":\"x\",\"y\":[5613],\"yaxis\":\"y\",\"type\":\"bar\"},{\"alignmentgroup\":\"True\",\"hovertemplate\":\"Category:'%{x}' Counted: %{y}\",\"legendgroup\":\"anti right wing\",\"marker\":{\"color\":\"#636efa\",\"pattern\":{\"shape\":\"\"}},\"name\":\"anti right wing\",\"offsetgroup\":\"anti right wing\",\"orientation\":\"v\",\"showlegend\":true,\"text\":[4658.0],\"textposition\":\"auto\",\"x\":[\"anti right wing\"],\"xaxis\":\"x\",\"y\":[4658],\"yaxis\":\"y\",\"type\":\"bar\"},{\"alignmentgroup\":\"True\",\"hovertemplate\":\"Category:'%{x}' Counted: %{y}\",\"legendgroup\":\"culture\",\"marker\":{\"color\":\"#EF553B\",\"pattern\":{\"shape\":\"\"}},\"name\":\"culture\",\"offsetgroup\":\"culture\",\"orientation\":\"v\",\"showlegend\":true,\"text\":[3744.0],\"textposition\":\"auto\",\"x\":[\"culture\"],\"xaxis\":\"x\",\"y\":[3744],\"yaxis\":\"y\",\"type\":\"bar\"},{\"alignmentgroup\":\"True\",\"hovertemplate\":\"Category:'%{x}' Counted: %{y}\",\"legendgroup\":\"discrimination\",\"marker\":{\"color\":\"#00cc96\",\"pattern\":{\"shape\":\"\"}},\"name\":\"discrimination\",\"offsetgroup\":\"discrimination\",\"orientation\":\"v\",\"showlegend\":true,\"text\":[3686.0],\"textposition\":\"auto\",\"x\":[\"discrimination\"],\"xaxis\":\"x\",\"y\":[3686],\"yaxis\":\"y\",\"type\":\"bar\"},{\"alignmentgroup\":\"True\",\"hovertemplate\":\"Category:'%{x}' Counted: %{y}\",\"legendgroup\":\"palestine-israel conflict\",\"marker\":{\"color\":\"#ab63fa\",\"pattern\":{\"shape\":\"\"}},\"name\":\"palestine-israel conflict\",\"offsetgroup\":\"palestine-israel conflict\",\"orientation\":\"v\",\"showlegend\":true,\"text\":[3059.0],\"textposition\":\"auto\",\"x\":[\"palestine-israel conflict\"],\"xaxis\":\"x\",\"y\":[3059],\"yaxis\":\"y\",\"type\":\"bar\"},{\"alignmentgroup\":\"True\",\"hovertemplate\":\"Category:'%{x}' Counted: %{y}\",\"legendgroup\":\"women rights\",\"marker\":{\"color\":\"#FFA15A\",\"pattern\":{\"shape\":\"\"}},\"name\":\"women rights\",\"offsetgroup\":\"women rights\",\"orientation\":\"v\",\"showlegend\":true,\"text\":[2510.0],\"textposition\":\"auto\",\"x\":[\"women rights\"],\"xaxis\":\"x\",\"y\":[2510],\"yaxis\":\"y\",\"type\":\"bar\"},{\"alignmentgroup\":\"True\",\"hovertemplate\":\"Category:'%{x}' Counted: %{y}\",\"legendgroup\":\"eviction\",\"marker\":{\"color\":\"#19d3f3\",\"pattern\":{\"shape\":\"\"}},\"name\":\"eviction\",\"offsetgroup\":\"eviction\",\"orientation\":\"v\",\"showlegend\":true,\"text\":[2308.0],\"textposition\":\"auto\",\"x\":[\"eviction\"],\"xaxis\":\"x\",\"y\":[2308],\"yaxis\":\"y\",\"type\":\"bar\"},{\"alignmentgroup\":\"True\",\"hovertemplate\":\"Category:'%{x}' Counted: %{y}\",\"legendgroup\":\"ukraine-russia war\",\"marker\":{\"color\":\"#FF6692\",\"pattern\":{\"shape\":\"\"}},\"name\":\"ukraine-russia war\",\"offsetgroup\":\"ukraine-russia war\",\"orientation\":\"v\",\"showlegend\":true,\"text\":[1846.0],\"textposition\":\"auto\",\"x\":[\"ukraine-russia war\"],\"xaxis\":\"x\",\"y\":[1846],\"yaxis\":\"y\",\"type\":\"bar\"},{\"alignmentgroup\":\"True\",\"hovertemplate\":\"Category:'%{x}' Counted: %{y}\",\"legendgroup\":\"youth violence\",\"marker\":{\"color\":\"#B6E880\",\"pattern\":{\"shape\":\"\"}},\"name\":\"youth violence\",\"offsetgroup\":\"youth violence\",\"orientation\":\"v\",\"showlegend\":true,\"text\":[1807.0],\"textposition\":\"auto\",\"x\":[\"youth violence\"],\"xaxis\":\"x\",\"y\":[1807],\"yaxis\":\"y\",\"type\":\"bar\"},{\"alignmentgroup\":\"True\",\"hovertemplate\":\"Category:'%{x}' Counted: %{y}\",\"legendgroup\":\"immigration\",\"marker\":{\"color\":\"#FF97FF\",\"pattern\":{\"shape\":\"\"}},\"name\":\"immigration\",\"offsetgroup\":\"immigration\",\"orientation\":\"v\",\"showlegend\":true,\"text\":[1675.0],\"textposition\":\"auto\",\"x\":[\"immigration\"],\"xaxis\":\"x\",\"y\":[1675],\"yaxis\":\"y\",\"type\":\"bar\"},{\"alignmentgroup\":\"True\",\"hovertemplate\":\"Category:'%{x}' Counted: %{y}\",\"legendgroup\":\"social welfare\",\"marker\":{\"color\":\"#FECB52\",\"pattern\":{\"shape\":\"\"}},\"name\":\"social welfare\",\"offsetgroup\":\"social welfare\",\"orientation\":\"v\",\"showlegend\":true,\"text\":[1614.0],\"textposition\":\"auto\",\"x\":[\"social welfare\"],\"xaxis\":\"x\",\"y\":[1614],\"yaxis\":\"y\",\"type\":\"bar\"},{\"alignmentgroup\":\"True\",\"hovertemplate\":\"Category:'%{x}' Counted: %{y}\",\"legendgroup\":\"climate\",\"marker\":{\"color\":\"#636efa\",\"pattern\":{\"shape\":\"\"}},\"name\":\"climate\",\"offsetgroup\":\"climate\",\"orientation\":\"v\",\"showlegend\":true,\"text\":[726.0],\"textposition\":\"auto\",\"x\":[\"climate\"],\"xaxis\":\"x\",\"y\":[726],\"yaxis\":\"y\",\"type\":\"bar\"},{\"alignmentgroup\":\"True\",\"hovertemplate\":\"Category:'%{x}' Counted: %{y}\",\"legendgroup\":\"animal welfare\",\"marker\":{\"color\":\"#EF553B\",\"pattern\":{\"shape\":\"\"}},\"name\":\"animal welfare\",\"offsetgroup\":\"animal welfare\",\"orientation\":\"v\",\"showlegend\":true,\"text\":[670.0],\"textposition\":\"auto\",\"x\":[\"animal welfare\"],\"xaxis\":\"x\",\"y\":[670],\"yaxis\":\"y\",\"type\":\"bar\"},{\"alignmentgroup\":\"True\",\"hovertemplate\":\"Category:'%{x}' Counted: %{y}\",\"legendgroup\":\"democracy\",\"marker\":{\"color\":\"#00cc96\",\"pattern\":{\"shape\":\"\"}},\"name\":\"democracy\",\"offsetgroup\":\"democracy\",\"orientation\":\"v\",\"showlegend\":true,\"text\":[489.0],\"textposition\":\"auto\",\"x\":[\"democracy\"],\"xaxis\":\"x\",\"y\":[489],\"yaxis\":\"y\",\"type\":\"bar\"},{\"alignmentgroup\":\"True\",\"hovertemplate\":\"Category:'%{x}' Counted: %{y}\",\"legendgroup\":\"tourism\",\"marker\":{\"color\":\"#ab63fa\",\"pattern\":{\"shape\":\"\"}},\"name\":\"tourism\",\"offsetgroup\":\"tourism\",\"orientation\":\"v\",\"showlegend\":true,\"text\":[464.0],\"textposition\":\"auto\",\"x\":[\"tourism\"],\"xaxis\":\"x\",\"y\":[464],\"yaxis\":\"y\",\"type\":\"bar\"},{\"alignmentgroup\":\"True\",\"hovertemplate\":\"Category:'%{x}' Counted: %{y}\",\"legendgroup\":\"political rights\",\"marker\":{\"color\":\"#FFA15A\",\"pattern\":{\"shape\":\"\"}},\"name\":\"political rights\",\"offsetgroup\":\"political rights\",\"orientation\":\"v\",\"showlegend\":true,\"text\":[318.0],\"textposition\":\"auto\",\"x\":[\"political rights\"],\"xaxis\":\"x\",\"y\":[318],\"yaxis\":\"y\",\"type\":\"bar\"}],                        {\"barmode\":\"relative\",\"height\":500,\"legend\":{\"title\":{\"text\":\"color\"},\"tracegroupgap\":0},\"margin\":{\"t\":60},\"plot_bgcolor\":\"white\",\"showlegend\":false,\"template\":{\"data\":{\"barpolar\":[{\"marker\":{\"line\":{\"color\":\"#E5ECF6\",\"width\":0.5},\"pattern\":{\"fillmode\":\"overlay\",\"size\":10,\"solidity\":0.2}},\"type\":\"barpolar\"}],\"bar\":[{\"error_x\":{\"color\":\"#2a3f5f\"},\"error_y\":{\"color\":\"#2a3f5f\"},\"marker\":{\"line\":{\"color\":\"#E5ECF6\",\"width\":0.5},\"pattern\":{\"fillmode\":\"overlay\",\"size\":10,\"solidity\":0.2}},\"type\":\"bar\"}],\"carpet\":[{\"aaxis\":{\"endlinecolor\":\"#2a3f5f\",\"gridcolor\":\"white\",\"linecolor\":\"white\",\"minorgridcolor\":\"white\",\"startlinecolor\":\"#2a3f5f\"},\"baxis\":{\"endlinecolor\":\"#2a3f5f\",\"gridcolor\":\"white\",\"linecolor\":\"white\",\"minorgridcolor\":\"white\",\"startlinecolor\":\"#2a3f5f\"},\"type\":\"carpet\"}],\"choropleth\":[{\"colorbar\":{\"outlinewidth\":0,\"ticks\":\"\"},\"type\":\"choropleth\"}],\"contourcarpet\":[{\"colorbar\":{\"outlinewidth\":0,\"ticks\":\"\"},\"type\":\"contourcarpet\"}],\"contour\":[{\"colorbar\":{\"outlinewidth\":0,\"ticks\":\"\"},\"colorscale\":[[0.0,\"#0d0887\"],[0.1111111111111111,\"#46039f\"],[0.2222222222222222,\"#7201a8\"],[0.3333333333333333,\"#9c179e\"],[0.4444444444444444,\"#bd3786\"],[0.5555555555555556,\"#d8576b\"],[0.6666666666666666,\"#ed7953\"],[0.7777777777777778,\"#fb9f3a\"],[0.8888888888888888,\"#fdca26\"],[1.0,\"#f0f921\"]],\"type\":\"contour\"}],\"heatmapgl\":[{\"colorbar\":{\"outlinewidth\":0,\"ticks\":\"\"},\"colorscale\":[[0.0,\"#0d0887\"],[0.1111111111111111,\"#46039f\"],[0.2222222222222222,\"#7201a8\"],[0.3333333333333333,\"#9c179e\"],[0.4444444444444444,\"#bd3786\"],[0.5555555555555556,\"#d8576b\"],[0.6666666666666666,\"#ed7953\"],[0.7777777777777778,\"#fb9f3a\"],[0.8888888888888888,\"#fdca26\"],[1.0,\"#f0f921\"]],\"type\":\"heatmapgl\"}],\"heatmap\":[{\"colorbar\":{\"outlinewidth\":0,\"ticks\":\"\"},\"colorscale\":[[0.0,\"#0d0887\"],[0.1111111111111111,\"#46039f\"],[0.2222222222222222,\"#7201a8\"],[0.3333333333333333,\"#9c179e\"],[0.4444444444444444,\"#bd3786\"],[0.5555555555555556,\"#d8576b\"],[0.6666666666666666,\"#ed7953\"],[0.7777777777777778,\"#fb9f3a\"],[0.8888888888888888,\"#fdca26\"],[1.0,\"#f0f921\"]],\"type\":\"heatmap\"}],\"histogram2dcontour\":[{\"colorbar\":{\"outlinewidth\":0,\"ticks\":\"\"},\"colorscale\":[[0.0,\"#0d0887\"],[0.1111111111111111,\"#46039f\"],[0.2222222222222222,\"#7201a8\"],[0.3333333333333333,\"#9c179e\"],[0.4444444444444444,\"#bd3786\"],[0.5555555555555556,\"#d8576b\"],[0.6666666666666666,\"#ed7953\"],[0.7777777777777778,\"#fb9f3a\"],[0.8888888888888888,\"#fdca26\"],[1.0,\"#f0f921\"]],\"type\":\"histogram2dcontour\"}],\"histogram2d\":[{\"colorbar\":{\"outlinewidth\":0,\"ticks\":\"\"},\"colorscale\":[[0.0,\"#0d0887\"],[0.1111111111111111,\"#46039f\"],[0.2222222222222222,\"#7201a8\"],[0.3333333333333333,\"#9c179e\"],[0.4444444444444444,\"#bd3786\"],[0.5555555555555556,\"#d8576b\"],[0.6666666666666666,\"#ed7953\"],[0.7777777777777778,\"#fb9f3a\"],[0.8888888888888888,\"#fdca26\"],[1.0,\"#f0f921\"]],\"type\":\"histogram2d\"}],\"histogram\":[{\"marker\":{\"pattern\":{\"fillmode\":\"overlay\",\"size\":10,\"solidity\":0.2}},\"type\":\"histogram\"}],\"mesh3d\":[{\"colorbar\":{\"outlinewidth\":0,\"ticks\":\"\"},\"type\":\"mesh3d\"}],\"parcoords\":[{\"line\":{\"colorbar\":{\"outlinewidth\":0,\"ticks\":\"\"}},\"type\":\"parcoords\"}],\"pie\":[{\"automargin\":true,\"type\":\"pie\"}],\"scatter3d\":[{\"line\":{\"colorbar\":{\"outlinewidth\":0,\"ticks\":\"\"}},\"marker\":{\"colorbar\":{\"outlinewidth\":0,\"ticks\":\"\"}},\"type\":\"scatter3d\"}],\"scattercarpet\":[{\"marker\":{\"colorbar\":{\"outlinewidth\":0,\"ticks\":\"\"}},\"type\":\"scattercarpet\"}],\"scattergeo\":[{\"marker\":{\"colorbar\":{\"outlinewidth\":0,\"ticks\":\"\"}},\"type\":\"scattergeo\"}],\"scattergl\":[{\"marker\":{\"colorbar\":{\"outlinewidth\":0,\"ticks\":\"\"}},\"type\":\"scattergl\"}],\"scattermapbox\":[{\"marker\":{\"colorbar\":{\"outlinewidth\":0,\"ticks\":\"\"}},\"type\":\"scattermapbox\"}],\"scatterpolargl\":[{\"marker\":{\"colorbar\":{\"outlinewidth\":0,\"ticks\":\"\"}},\"type\":\"scatterpolargl\"}],\"scatterpolar\":[{\"marker\":{\"colorbar\":{\"outlinewidth\":0,\"ticks\":\"\"}},\"type\":\"scatterpolar\"}],\"scatter\":[{\"fillpattern\":{\"fillmode\":\"overlay\",\"size\":10,\"solidity\":0.2},\"type\":\"scatter\"}],\"scatterternary\":[{\"marker\":{\"colorbar\":{\"outlinewidth\":0,\"ticks\":\"\"}},\"type\":\"scatterternary\"}],\"surface\":[{\"colorbar\":{\"outlinewidth\":0,\"ticks\":\"\"},\"colorscale\":[[0.0,\"#0d0887\"],[0.1111111111111111,\"#46039f\"],[0.2222222222222222,\"#7201a8\"],[0.3333333333333333,\"#9c179e\"],[0.4444444444444444,\"#bd3786\"],[0.5555555555555556,\"#d8576b\"],[0.6666666666666666,\"#ed7953\"],[0.7777777777777778,\"#fb9f3a\"],[0.8888888888888888,\"#fdca26\"],[1.0,\"#f0f921\"]],\"type\":\"surface\"}],\"table\":[{\"cells\":{\"fill\":{\"color\":\"#EBF0F8\"},\"line\":{\"color\":\"white\"}},\"header\":{\"fill\":{\"color\":\"#C8D4E3\"},\"line\":{\"color\":\"white\"}},\"type\":\"table\"}]},\"layout\":{\"annotationdefaults\":{\"arrowcolor\":\"#2a3f5f\",\"arrowhead\":0,\"arrowwidth\":1},\"autotypenumbers\":\"strict\",\"coloraxis\":{\"colorbar\":{\"outlinewidth\":0,\"ticks\":\"\"}},\"colorscale\":{\"diverging\":[[0,\"#8e0152\"],[0.1,\"#c51b7d\"],[0.2,\"#de77ae\"],[0.3,\"#f1b6da\"],[0.4,\"#fde0ef\"],[0.5,\"#f7f7f7\"],[0.6,\"#e6f5d0\"],[0.7,\"#b8e186\"],[0.8,\"#7fbc41\"],[0.9,\"#4d9221\"],[1,\"#276419\"]],\"sequential\":[[0.0,\"#0d0887\"],[0.1111111111111111,\"#46039f\"],[0.2222222222222222,\"#7201a8\"],[0.3333333333333333,\"#9c179e\"],[0.4444444444444444,\"#bd3786\"],[0.5555555555555556,\"#d8576b\"],[0.6666666666666666,\"#ed7953\"],[0.7777777777777778,\"#fb9f3a\"],[0.8888888888888888,\"#fdca26\"],[1.0,\"#f0f921\"]],\"sequentialminus\":[[0.0,\"#0d0887\"],[0.1111111111111111,\"#46039f\"],[0.2222222222222222,\"#7201a8\"],[0.3333333333333333,\"#9c179e\"],[0.4444444444444444,\"#bd3786\"],[0.5555555555555556,\"#d8576b\"],[0.6666666666666666,\"#ed7953\"],[0.7777777777777778,\"#fb9f3a\"],[0.8888888888888888,\"#fdca26\"],[1.0,\"#f0f921\"]]},\"colorway\":[\"#636efa\",\"#EF553B\",\"#00cc96\",\"#ab63fa\",\"#FFA15A\",\"#19d3f3\",\"#FF6692\",\"#B6E880\",\"#FF97FF\",\"#FECB52\"],\"font\":{\"color\":\"#2a3f5f\"},\"geo\":{\"bgcolor\":\"white\",\"lakecolor\":\"white\",\"landcolor\":\"#E5ECF6\",\"showlakes\":true,\"showland\":true,\"subunitcolor\":\"white\"},\"hoverlabel\":{\"align\":\"left\"},\"hovermode\":\"closest\",\"mapbox\":{\"style\":\"light\"},\"paper_bgcolor\":\"white\",\"plot_bgcolor\":\"#E5ECF6\",\"polar\":{\"angularaxis\":{\"gridcolor\":\"white\",\"linecolor\":\"white\",\"ticks\":\"\"},\"bgcolor\":\"#E5ECF6\",\"radialaxis\":{\"gridcolor\":\"white\",\"linecolor\":\"white\",\"ticks\":\"\"}},\"scene\":{\"xaxis\":{\"backgroundcolor\":\"#E5ECF6\",\"gridcolor\":\"white\",\"gridwidth\":2,\"linecolor\":\"white\",\"showbackground\":true,\"ticks\":\"\",\"zerolinecolor\":\"white\"},\"yaxis\":{\"backgroundcolor\":\"#E5ECF6\",\"gridcolor\":\"white\",\"gridwidth\":2,\"linecolor\":\"white\",\"showbackground\":true,\"ticks\":\"\",\"zerolinecolor\":\"white\"},\"zaxis\":{\"backgroundcolor\":\"#E5ECF6\",\"gridcolor\":\"white\",\"gridwidth\":2,\"linecolor\":\"white\",\"showbackground\":true,\"ticks\":\"\",\"zerolinecolor\":\"white\"}},\"shapedefaults\":{\"line\":{\"color\":\"#2a3f5f\"}},\"ternary\":{\"aaxis\":{\"gridcolor\":\"white\",\"linecolor\":\"white\",\"ticks\":\"\"},\"baxis\":{\"gridcolor\":\"white\",\"linecolor\":\"white\",\"ticks\":\"\"},\"bgcolor\":\"#E5ECF6\",\"caxis\":{\"gridcolor\":\"white\",\"linecolor\":\"white\",\"ticks\":\"\"}},\"title\":{\"x\":0.05},\"xaxis\":{\"automargin\":true,\"gridcolor\":\"white\",\"linecolor\":\"white\",\"ticks\":\"\",\"title\":{\"standoff\":15},\"zerolinecolor\":\"white\",\"zerolinewidth\":2},\"yaxis\":{\"automargin\":true,\"gridcolor\":\"white\",\"linecolor\":\"white\",\"ticks\":\"\",\"title\":{\"standoff\":15},\"zerolinecolor\":\"white\",\"zerolinewidth\":2}}},\"title\":{\"font\":{\"size\":35},\"text\":\"Category Counts\",\"x\":0.5},\"width\":800,\"xaxis\":{\"anchor\":\"y\",\"domain\":[0.0,1.0],\"showgrid\":false,\"title\":{\"text\":\"Category\"}},\"yaxis\":{\"anchor\":\"x\",\"domain\":[0.0,1.0],\"showgrid\":false,\"title\":{\"text\":\"Value\"}}},                        {\"responsive\": true}                    ).then(function(){\n",
       "                            \n",
       "var gd = document.getElementById('e56cda69-6239-42d7-a9d4-ae2329a6440a');\n",
       "var x = new MutationObserver(function (mutations, observer) {{\n",
       "        var display = window.getComputedStyle(gd).display;\n",
       "        if (!display || display === 'none') {{\n",
       "            console.log([gd, 'removed!']);\n",
       "            Plotly.purge(gd);\n",
       "            observer.disconnect();\n",
       "        }}\n",
       "}});\n",
       "\n",
       "// Listen for the removal of the full notebook cells\n",
       "var notebookContainer = gd.closest('#notebook-container');\n",
       "if (notebookContainer) {{\n",
       "    x.observe(notebookContainer, {childList: true});\n",
       "}}\n",
       "\n",
       "// Listen for the clearing of the current output cell\n",
       "var outputEl = gd.closest('.output');\n",
       "if (outputEl) {{\n",
       "    x.observe(outputEl, {childList: true});\n",
       "}}\n",
       "\n",
       "                        })                };                });            </script>        </div>"
      ]
     },
     "metadata": {},
     "output_type": "display_data"
    }
   ],
   "source": [
    "import plotly.graph_objects as go\n",
    "from plotly.offline import iplot, init_notebook_mode\n",
    "import plotly.express as px\n",
    "import plotly.io as pio\n",
    "init_notebook_mode(True)\n",
    "\n",
    "fig = px.bar(x=df[\"predicted_topic\"].value_counts().index,y=df[\"predicted_topic\"].value_counts(),color=df[\"predicted_topic\"].value_counts().index,text=df[\"predicted_topic\"].value_counts())\n",
    "fig.update_traces(hovertemplate=\"Category:'%{x}' Counted: %{y}\")\n",
    "fig.update_layout(title={\"text\":\"Category Counts\",\"x\":0.5,\"font\":{\"size\":35}},xaxis={\"title\":\"Category\",\"showgrid\":False},yaxis={\"title\":\"Value\",\"showgrid\":False},plot_bgcolor=\"white\",width=800,height=500,showlegend=False)\n",
    "iplot(fig)"
   ]
  },
  {
   "cell_type": "code",
   "execution_count": null,
   "id": "d800f463",
   "metadata": {},
   "outputs": [],
   "source": [
    "df_true = pd.read_csv(\"'../data/topics_evaluation.csv'\")\n",
    "\n",
    "df_merged = pd.merge(df_true, df[['clean_notes', 'predicted_topic']], on='clean_notes', how='inner')\n",
    "\n",
    "\n",
    "from sklearn.metrics import classification_report, accuracy_score\n",
    "\n",
    "df_eval = df_merged[df_merged['true_topic'] != 'unknown']\n",
    "\n",
    "y_true = df_eval['class']\n",
    "y_pred = df_eval['predicted_topic']\n",
    "\n",
    "print(\"Accuracy:\", accuracy_score(y_true, y_pred))\n",
    "print(\"\\nClassification Report:\\n\", classification_report(y_true, y_pred))"
   ]
  }
 ],
 "metadata": {
  "kernelspec": {
   "display_name": "Python 3",
   "language": "python",
   "name": "python3"
  },
  "language_info": {
   "codemirror_mode": {
    "name": "ipython",
    "version": 3
   },
   "file_extension": ".py",
   "mimetype": "text/x-python",
   "name": "python",
   "nbconvert_exporter": "python",
   "pygments_lexer": "ipython3",
   "version": "3.13.3"
  }
 },
 "nbformat": 4,
 "nbformat_minor": 5
}
