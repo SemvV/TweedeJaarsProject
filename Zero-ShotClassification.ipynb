{
 "cells": [
  {
   "cell_type": "code",
   "execution_count": null,
   "id": "277945c8",
   "metadata": {},
   "outputs": [
    {
     "name": "stderr",
     "output_type": "stream",
     "text": [
      "Device set to use cuda:0\n",
      "  0%|          | 0/22885 [00:00<?, ?it/s]Asking to truncate to max_length but no maximum length is provided and the model has no predefined maximum length. Default to no truncation.\n",
      "  0%|          | 10/22885 [00:07<4:20:31,  1.46it/s]You seem to be using the pipelines sequentially on GPU. In order to maximize efficiency please use a dataset\n",
      "100%|██████████| 22885/22885 [3:45:18<00:00,  1.69it/s]  \n"
     ]
    }
   ],
   "source": [
    "from tqdm import tqdm\n",
    "import pandas as pd\n",
    "from transformers import pipeline\n",
    "\n",
    "classifier = pipeline(\"zero-shot-classification\", \n",
    "                      model=\"MoritzLaurer/DeBERTa-v3-base-mnli-fever-anli\", \n",
    "                      device=0,\n",
    "                      batch_size=8)\n",
    "'''\n",
    "candidate_labels = [\n",
    "    \"women rights\",\n",
    "    \"climate\",\n",
    "    \"labor rights\",\n",
    "    \"health care\",\n",
    "    \"farmers\",\n",
    "    \"environment\",\n",
    "    \"public services\",\n",
    "    \"palestine-israel conflict\",\n",
    "    \"immigration\",\n",
    "    \"unjust law enforcement\",\n",
    "    \"ukraine-russia war\",\n",
    "    \"discrimination\",\n",
    "    \"education\",\n",
    "    \"housing\",\n",
    "    \"culture\",\n",
    "    \"policies\",\n",
    "    \"animal welfare\",\n",
    "    \"pandemic\",\n",
    "    \"lgbtq\"\n",
    "]\n",
    "'''\n",
    "candidate_labels =[\n",
    "    \"women rights: Protests advocating for gender equality, reproductive rights, protection from gender-based violence, equal pay, and representation in politics and leadership roles.\",\n",
    "    \"climate: Demonstrations focused on climate change, demanding urgent action to reduce carbon emissions, transition to renewable energy, and hold governments or corporations accountable for environmental damage.\",\n",
    "    \"labor rights: Protests by workers or labor unions for fair wages, better working conditions, protection from exploitation, the right to organize, and opposition to layoffs or union-busting.\",\n",
    "    \"health care: Protests demanding access to affordable and quality health care, opposition to privatization, or calling attention to deficiencies in hospitals, medical services, or health insurance systems.\",\n",
    "    \"farmers: Protests by agricultural workers or rural communities over land rights, crop pricing, subsidies, agricultural reforms, or environmental impacts on farming.\",\n",
    "    \"environment: Protests against pollution, deforestation, mining, industrial projects, or government inaction that harms natural ecosystems or biodiversity.\",\n",
    "    \"public services: Demonstrations in support of better public transport, utilities, postal services, sanitation, or opposition to budget cuts or privatization of essential services.\",\n",
    "    \"palestine-israel conflict: Protests addressing the Israeli-Palestinian conflict, including calls for ceasefire, condemnation of military actions, support for Palestinian or Israeli civilians, or broader geopolitical stances.\",\n",
    "    \"immigration: Protests concerning immigration policies, refugee treatment, deportation, border enforcement, asylum rights, and xenophobia or anti-immigrant rhetoric.\",\n",
    "    \"unjust law enforcement: Demonstrations against police brutality, racial profiling, excessive use of force, lack of accountability, or systemic abuse by law enforcement.\",\n",
    "    \"ukraine-russia war: Protests related to the conflict in Ukraine, including opposition to Russian military aggression, support for Ukrainian sovereignty, calls for peace, or criticism of international responses.\",\n",
    "    \"discrimination: Protests against racial, religious, ethnic, or disability-based discrimination, including civil rights marches, anti-hate movements, and demands for equality and justice.\",\n",
    "    \"education: Demonstrations for accessible, equitable, and quality education; opposition to budget cuts, tuition hikes, or curriculum changes; or support for teachers and students.\",\n",
    "    \"housing: Protests calling for affordable housing, rent control, opposition to evictions or gentrification, or action on homelessness and housing insecurity.\",\n",
    "    \"culture: Protests about cultural preservation, opposition to censorship or erasure of indigenous or minority identities, or resistance to cultural appropriation or defunding of arts programs.\",\n",
    "    \"policies: Protests targeting government or institutional policies, including new laws, reforms, or administrative decisions perceived as harmful, unjust, or controversial.\",\n",
    "    \"animal welfare: Demonstrations advocating for animal rights, opposing factory farming, animal testing, abuse, or calling for stronger animal protection laws and ethical treatment.\",\n",
    "    \"pandemic: Protests related to COVID-19 or other public health crises, including lockdowns, vaccine mandates, health measures, or economic relief demands.\",\n",
    "    \"lgbtq: Protests for LGBTQ rights, including marriage equality, anti-discrimination protections, trans rights, and opposition to anti-LGBTQ legislation or rhetoric.\"\n",
    "]\n",
    "\n",
    "df = pd.read_csv('../data/filtered_events_country_code.csv')\n",
    "texts = df['notes'].tolist()\n",
    "\n",
    "batch_size = 8\n",
    "predictions = []\n",
    "\n",
    "for i in tqdm(range(0, len(texts), batch_size)):\n",
    "    batch = texts[i:i + batch_size]\n",
    "    results = classifier(batch, candidate_labels)\n",
    "    predictions.extend([res['labels'][0] for res in results])\n",
    "\n",
    "df['predicted_topic'] = predictions\n",
    "df['predicted_topic'] = df['predicted_topic'].str.split(':').str[0]\n",
    "df.to_csv('../data/topics_zsc.csv', index=False)"
   ]
  },
  {
   "cell_type": "code",
   "execution_count": 2,
   "id": "ea6f8c72",
   "metadata": {},
   "outputs": [
    {
     "data": {
      "text/html": [
       "        <script type=\"text/javascript\">\n",
       "        window.PlotlyConfig = {MathJaxConfig: 'local'};\n",
       "        if (window.MathJax && window.MathJax.Hub && window.MathJax.Hub.Config) {window.MathJax.Hub.Config({SVG: {font: \"STIX-Web\"}});}\n",
       "        if (typeof require !== 'undefined') {\n",
       "        require.undef(\"plotly\");\n",
       "        requirejs.config({\n",
       "            paths: {\n",
       "                'plotly': ['https://cdn.plot.ly/plotly-2.35.2.min']\n",
       "            }\n",
       "        });\n",
       "        require(['plotly'], function(Plotly) {\n",
       "            window._Plotly = Plotly;\n",
       "        });\n",
       "        }\n",
       "        </script>\n",
       "        "
      ]
     },
     "metadata": {},
     "output_type": "display_data"
    },
    {
     "data": {
      "application/vnd.plotly.v1+json": {
       "config": {
        "linkText": "Export to plot.ly",
        "plotlyServerURL": "https://plot.ly",
        "showLink": false
       },
       "data": [
        {
         "alignmentgroup": "True",
         "hovertemplate": "Category:'%{x}' Counted: %{y}",
         "legendgroup": "education",
         "marker": {
          "color": "#636efa",
          "pattern": {
           "shape": ""
          }
         },
         "name": "education",
         "offsetgroup": "education",
         "orientation": "v",
         "showlegend": true,
         "text": [
          32934
         ],
         "textposition": "auto",
         "type": "bar",
         "x": [
          "education"
         ],
         "xaxis": "x",
         "y": [
          32934
         ],
         "yaxis": "y"
        },
        {
         "alignmentgroup": "True",
         "hovertemplate": "Category:'%{x}' Counted: %{y}",
         "legendgroup": "labor rights",
         "marker": {
          "color": "#EF553B",
          "pattern": {
           "shape": ""
          }
         },
         "name": "labor rights",
         "offsetgroup": "labor rights",
         "orientation": "v",
         "showlegend": true,
         "text": [
          31957
         ],
         "textposition": "auto",
         "type": "bar",
         "x": [
          "labor rights"
         ],
         "xaxis": "x",
         "y": [
          31957
         ],
         "yaxis": "y"
        },
        {
         "alignmentgroup": "True",
         "hovertemplate": "Category:'%{x}' Counted: %{y}",
         "legendgroup": "lgbtq",
         "marker": {
          "color": "#00cc96",
          "pattern": {
           "shape": ""
          }
         },
         "name": "lgbtq",
         "offsetgroup": "lgbtq",
         "orientation": "v",
         "showlegend": true,
         "text": [
          22018
         ],
         "textposition": "auto",
         "type": "bar",
         "x": [
          "lgbtq"
         ],
         "xaxis": "x",
         "y": [
          22018
         ],
         "yaxis": "y"
        },
        {
         "alignmentgroup": "True",
         "hovertemplate": "Category:'%{x}' Counted: %{y}",
         "legendgroup": "animal welfare",
         "marker": {
          "color": "#ab63fa",
          "pattern": {
           "shape": ""
          }
         },
         "name": "animal welfare",
         "offsetgroup": "animal welfare",
         "orientation": "v",
         "showlegend": true,
         "text": [
          17916
         ],
         "textposition": "auto",
         "type": "bar",
         "x": [
          "animal welfare"
         ],
         "xaxis": "x",
         "y": [
          17916
         ],
         "yaxis": "y"
        },
        {
         "alignmentgroup": "True",
         "hovertemplate": "Category:'%{x}' Counted: %{y}",
         "legendgroup": "immigration",
         "marker": {
          "color": "#FFA15A",
          "pattern": {
           "shape": ""
          }
         },
         "name": "immigration",
         "offsetgroup": "immigration",
         "orientation": "v",
         "showlegend": true,
         "text": [
          10343
         ],
         "textposition": "auto",
         "type": "bar",
         "x": [
          "immigration"
         ],
         "xaxis": "x",
         "y": [
          10343
         ],
         "yaxis": "y"
        },
        {
         "alignmentgroup": "True",
         "hovertemplate": "Category:'%{x}' Counted: %{y}",
         "legendgroup": "climate",
         "marker": {
          "color": "#19d3f3",
          "pattern": {
           "shape": ""
          }
         },
         "name": "climate",
         "offsetgroup": "climate",
         "orientation": "v",
         "showlegend": true,
         "text": [
          10044
         ],
         "textposition": "auto",
         "type": "bar",
         "x": [
          "climate"
         ],
         "xaxis": "x",
         "y": [
          10044
         ],
         "yaxis": "y"
        },
        {
         "alignmentgroup": "True",
         "hovertemplate": "Category:'%{x}' Counted: %{y}",
         "legendgroup": "health care",
         "marker": {
          "color": "#FF6692",
          "pattern": {
           "shape": ""
          }
         },
         "name": "health care",
         "offsetgroup": "health care",
         "orientation": "v",
         "showlegend": true,
         "text": [
          7078
         ],
         "textposition": "auto",
         "type": "bar",
         "x": [
          "health care"
         ],
         "xaxis": "x",
         "y": [
          7078
         ],
         "yaxis": "y"
        },
        {
         "alignmentgroup": "True",
         "hovertemplate": "Category:'%{x}' Counted: %{y}",
         "legendgroup": "palestine-israel conflict",
         "marker": {
          "color": "#B6E880",
          "pattern": {
           "shape": ""
          }
         },
         "name": "palestine-israel conflict",
         "offsetgroup": "palestine-israel conflict",
         "orientation": "v",
         "showlegend": true,
         "text": [
          7073
         ],
         "textposition": "auto",
         "type": "bar",
         "x": [
          "palestine-israel conflict"
         ],
         "xaxis": "x",
         "y": [
          7073
         ],
         "yaxis": "y"
        },
        {
         "alignmentgroup": "True",
         "hovertemplate": "Category:'%{x}' Counted: %{y}",
         "legendgroup": "unjust law enforcement",
         "marker": {
          "color": "#FF97FF",
          "pattern": {
           "shape": ""
          }
         },
         "name": "unjust law enforcement",
         "offsetgroup": "unjust law enforcement",
         "orientation": "v",
         "showlegend": true,
         "text": [
          7000
         ],
         "textposition": "auto",
         "type": "bar",
         "x": [
          "unjust law enforcement"
         ],
         "xaxis": "x",
         "y": [
          7000
         ],
         "yaxis": "y"
        },
        {
         "alignmentgroup": "True",
         "hovertemplate": "Category:'%{x}' Counted: %{y}",
         "legendgroup": "public services",
         "marker": {
          "color": "#FECB52",
          "pattern": {
           "shape": ""
          }
         },
         "name": "public services",
         "offsetgroup": "public services",
         "orientation": "v",
         "showlegend": true,
         "text": [
          6647
         ],
         "textposition": "auto",
         "type": "bar",
         "x": [
          "public services"
         ],
         "xaxis": "x",
         "y": [
          6647
         ],
         "yaxis": "y"
        },
        {
         "alignmentgroup": "True",
         "hovertemplate": "Category:'%{x}' Counted: %{y}",
         "legendgroup": "farmers",
         "marker": {
          "color": "#636efa",
          "pattern": {
           "shape": ""
          }
         },
         "name": "farmers",
         "offsetgroup": "farmers",
         "orientation": "v",
         "showlegend": true,
         "text": [
          6210
         ],
         "textposition": "auto",
         "type": "bar",
         "x": [
          "farmers"
         ],
         "xaxis": "x",
         "y": [
          6210
         ],
         "yaxis": "y"
        },
        {
         "alignmentgroup": "True",
         "hovertemplate": "Category:'%{x}' Counted: %{y}",
         "legendgroup": "policies",
         "marker": {
          "color": "#EF553B",
          "pattern": {
           "shape": ""
          }
         },
         "name": "policies",
         "offsetgroup": "policies",
         "orientation": "v",
         "showlegend": true,
         "text": [
          6103
         ],
         "textposition": "auto",
         "type": "bar",
         "x": [
          "policies"
         ],
         "xaxis": "x",
         "y": [
          6103
         ],
         "yaxis": "y"
        },
        {
         "alignmentgroup": "True",
         "hovertemplate": "Category:'%{x}' Counted: %{y}",
         "legendgroup": "culture",
         "marker": {
          "color": "#00cc96",
          "pattern": {
           "shape": ""
          }
         },
         "name": "culture",
         "offsetgroup": "culture",
         "orientation": "v",
         "showlegend": true,
         "text": [
          5763
         ],
         "textposition": "auto",
         "type": "bar",
         "x": [
          "culture"
         ],
         "xaxis": "x",
         "y": [
          5763
         ],
         "yaxis": "y"
        },
        {
         "alignmentgroup": "True",
         "hovertemplate": "Category:'%{x}' Counted: %{y}",
         "legendgroup": "environment",
         "marker": {
          "color": "#ab63fa",
          "pattern": {
           "shape": ""
          }
         },
         "name": "environment",
         "offsetgroup": "environment",
         "orientation": "v",
         "showlegend": true,
         "text": [
          3268
         ],
         "textposition": "auto",
         "type": "bar",
         "x": [
          "environment"
         ],
         "xaxis": "x",
         "y": [
          3268
         ],
         "yaxis": "y"
        },
        {
         "alignmentgroup": "True",
         "hovertemplate": "Category:'%{x}' Counted: %{y}",
         "legendgroup": "women rights",
         "marker": {
          "color": "#FFA15A",
          "pattern": {
           "shape": ""
          }
         },
         "name": "women rights",
         "offsetgroup": "women rights",
         "orientation": "v",
         "showlegend": true,
         "text": [
          2771
         ],
         "textposition": "auto",
         "type": "bar",
         "x": [
          "women rights"
         ],
         "xaxis": "x",
         "y": [
          2771
         ],
         "yaxis": "y"
        },
        {
         "alignmentgroup": "True",
         "hovertemplate": "Category:'%{x}' Counted: %{y}",
         "legendgroup": "housing",
         "marker": {
          "color": "#19d3f3",
          "pattern": {
           "shape": ""
          }
         },
         "name": "housing",
         "offsetgroup": "housing",
         "orientation": "v",
         "showlegend": true,
         "text": [
          2750
         ],
         "textposition": "auto",
         "type": "bar",
         "x": [
          "housing"
         ],
         "xaxis": "x",
         "y": [
          2750
         ],
         "yaxis": "y"
        },
        {
         "alignmentgroup": "True",
         "hovertemplate": "Category:'%{x}' Counted: %{y}",
         "legendgroup": "pandemic",
         "marker": {
          "color": "#FF6692",
          "pattern": {
           "shape": ""
          }
         },
         "name": "pandemic",
         "offsetgroup": "pandemic",
         "orientation": "v",
         "showlegend": true,
         "text": [
          2515
         ],
         "textposition": "auto",
         "type": "bar",
         "x": [
          "pandemic"
         ],
         "xaxis": "x",
         "y": [
          2515
         ],
         "yaxis": "y"
        },
        {
         "alignmentgroup": "True",
         "hovertemplate": "Category:'%{x}' Counted: %{y}",
         "legendgroup": "ukraine-russia war",
         "marker": {
          "color": "#B6E880",
          "pattern": {
           "shape": ""
          }
         },
         "name": "ukraine-russia war",
         "offsetgroup": "ukraine-russia war",
         "orientation": "v",
         "showlegend": true,
         "text": [
          688
         ],
         "textposition": "auto",
         "type": "bar",
         "x": [
          "ukraine-russia war"
         ],
         "xaxis": "x",
         "y": [
          688
         ],
         "yaxis": "y"
        },
        {
         "alignmentgroup": "True",
         "hovertemplate": "Category:'%{x}' Counted: %{y}",
         "legendgroup": "discrimination",
         "marker": {
          "color": "#FF97FF",
          "pattern": {
           "shape": ""
          }
         },
         "name": "discrimination",
         "offsetgroup": "discrimination",
         "orientation": "v",
         "showlegend": true,
         "text": [
          2
         ],
         "textposition": "auto",
         "type": "bar",
         "x": [
          "discrimination"
         ],
         "xaxis": "x",
         "y": [
          2
         ],
         "yaxis": "y"
        }
       ],
       "layout": {
        "barmode": "relative",
        "height": 500,
        "legend": {
         "title": {
          "text": "color"
         },
         "tracegroupgap": 0
        },
        "margin": {
         "t": 60
        },
        "plot_bgcolor": "white",
        "showlegend": false,
        "template": {
         "data": {
          "bar": [
           {
            "error_x": {
             "color": "#2a3f5f"
            },
            "error_y": {
             "color": "#2a3f5f"
            },
            "marker": {
             "line": {
              "color": "#E5ECF6",
              "width": 0.5
             },
             "pattern": {
              "fillmode": "overlay",
              "size": 10,
              "solidity": 0.2
             }
            },
            "type": "bar"
           }
          ],
          "barpolar": [
           {
            "marker": {
             "line": {
              "color": "#E5ECF6",
              "width": 0.5
             },
             "pattern": {
              "fillmode": "overlay",
              "size": 10,
              "solidity": 0.2
             }
            },
            "type": "barpolar"
           }
          ],
          "carpet": [
           {
            "aaxis": {
             "endlinecolor": "#2a3f5f",
             "gridcolor": "white",
             "linecolor": "white",
             "minorgridcolor": "white",
             "startlinecolor": "#2a3f5f"
            },
            "baxis": {
             "endlinecolor": "#2a3f5f",
             "gridcolor": "white",
             "linecolor": "white",
             "minorgridcolor": "white",
             "startlinecolor": "#2a3f5f"
            },
            "type": "carpet"
           }
          ],
          "choropleth": [
           {
            "colorbar": {
             "outlinewidth": 0,
             "ticks": ""
            },
            "type": "choropleth"
           }
          ],
          "contour": [
           {
            "colorbar": {
             "outlinewidth": 0,
             "ticks": ""
            },
            "colorscale": [
             [
              0,
              "#0d0887"
             ],
             [
              0.1111111111111111,
              "#46039f"
             ],
             [
              0.2222222222222222,
              "#7201a8"
             ],
             [
              0.3333333333333333,
              "#9c179e"
             ],
             [
              0.4444444444444444,
              "#bd3786"
             ],
             [
              0.5555555555555556,
              "#d8576b"
             ],
             [
              0.6666666666666666,
              "#ed7953"
             ],
             [
              0.7777777777777778,
              "#fb9f3a"
             ],
             [
              0.8888888888888888,
              "#fdca26"
             ],
             [
              1,
              "#f0f921"
             ]
            ],
            "type": "contour"
           }
          ],
          "contourcarpet": [
           {
            "colorbar": {
             "outlinewidth": 0,
             "ticks": ""
            },
            "type": "contourcarpet"
           }
          ],
          "heatmap": [
           {
            "colorbar": {
             "outlinewidth": 0,
             "ticks": ""
            },
            "colorscale": [
             [
              0,
              "#0d0887"
             ],
             [
              0.1111111111111111,
              "#46039f"
             ],
             [
              0.2222222222222222,
              "#7201a8"
             ],
             [
              0.3333333333333333,
              "#9c179e"
             ],
             [
              0.4444444444444444,
              "#bd3786"
             ],
             [
              0.5555555555555556,
              "#d8576b"
             ],
             [
              0.6666666666666666,
              "#ed7953"
             ],
             [
              0.7777777777777778,
              "#fb9f3a"
             ],
             [
              0.8888888888888888,
              "#fdca26"
             ],
             [
              1,
              "#f0f921"
             ]
            ],
            "type": "heatmap"
           }
          ],
          "heatmapgl": [
           {
            "colorbar": {
             "outlinewidth": 0,
             "ticks": ""
            },
            "colorscale": [
             [
              0,
              "#0d0887"
             ],
             [
              0.1111111111111111,
              "#46039f"
             ],
             [
              0.2222222222222222,
              "#7201a8"
             ],
             [
              0.3333333333333333,
              "#9c179e"
             ],
             [
              0.4444444444444444,
              "#bd3786"
             ],
             [
              0.5555555555555556,
              "#d8576b"
             ],
             [
              0.6666666666666666,
              "#ed7953"
             ],
             [
              0.7777777777777778,
              "#fb9f3a"
             ],
             [
              0.8888888888888888,
              "#fdca26"
             ],
             [
              1,
              "#f0f921"
             ]
            ],
            "type": "heatmapgl"
           }
          ],
          "histogram": [
           {
            "marker": {
             "pattern": {
              "fillmode": "overlay",
              "size": 10,
              "solidity": 0.2
             }
            },
            "type": "histogram"
           }
          ],
          "histogram2d": [
           {
            "colorbar": {
             "outlinewidth": 0,
             "ticks": ""
            },
            "colorscale": [
             [
              0,
              "#0d0887"
             ],
             [
              0.1111111111111111,
              "#46039f"
             ],
             [
              0.2222222222222222,
              "#7201a8"
             ],
             [
              0.3333333333333333,
              "#9c179e"
             ],
             [
              0.4444444444444444,
              "#bd3786"
             ],
             [
              0.5555555555555556,
              "#d8576b"
             ],
             [
              0.6666666666666666,
              "#ed7953"
             ],
             [
              0.7777777777777778,
              "#fb9f3a"
             ],
             [
              0.8888888888888888,
              "#fdca26"
             ],
             [
              1,
              "#f0f921"
             ]
            ],
            "type": "histogram2d"
           }
          ],
          "histogram2dcontour": [
           {
            "colorbar": {
             "outlinewidth": 0,
             "ticks": ""
            },
            "colorscale": [
             [
              0,
              "#0d0887"
             ],
             [
              0.1111111111111111,
              "#46039f"
             ],
             [
              0.2222222222222222,
              "#7201a8"
             ],
             [
              0.3333333333333333,
              "#9c179e"
             ],
             [
              0.4444444444444444,
              "#bd3786"
             ],
             [
              0.5555555555555556,
              "#d8576b"
             ],
             [
              0.6666666666666666,
              "#ed7953"
             ],
             [
              0.7777777777777778,
              "#fb9f3a"
             ],
             [
              0.8888888888888888,
              "#fdca26"
             ],
             [
              1,
              "#f0f921"
             ]
            ],
            "type": "histogram2dcontour"
           }
          ],
          "mesh3d": [
           {
            "colorbar": {
             "outlinewidth": 0,
             "ticks": ""
            },
            "type": "mesh3d"
           }
          ],
          "parcoords": [
           {
            "line": {
             "colorbar": {
              "outlinewidth": 0,
              "ticks": ""
             }
            },
            "type": "parcoords"
           }
          ],
          "pie": [
           {
            "automargin": true,
            "type": "pie"
           }
          ],
          "scatter": [
           {
            "fillpattern": {
             "fillmode": "overlay",
             "size": 10,
             "solidity": 0.2
            },
            "type": "scatter"
           }
          ],
          "scatter3d": [
           {
            "line": {
             "colorbar": {
              "outlinewidth": 0,
              "ticks": ""
             }
            },
            "marker": {
             "colorbar": {
              "outlinewidth": 0,
              "ticks": ""
             }
            },
            "type": "scatter3d"
           }
          ],
          "scattercarpet": [
           {
            "marker": {
             "colorbar": {
              "outlinewidth": 0,
              "ticks": ""
             }
            },
            "type": "scattercarpet"
           }
          ],
          "scattergeo": [
           {
            "marker": {
             "colorbar": {
              "outlinewidth": 0,
              "ticks": ""
             }
            },
            "type": "scattergeo"
           }
          ],
          "scattergl": [
           {
            "marker": {
             "colorbar": {
              "outlinewidth": 0,
              "ticks": ""
             }
            },
            "type": "scattergl"
           }
          ],
          "scattermapbox": [
           {
            "marker": {
             "colorbar": {
              "outlinewidth": 0,
              "ticks": ""
             }
            },
            "type": "scattermapbox"
           }
          ],
          "scatterpolar": [
           {
            "marker": {
             "colorbar": {
              "outlinewidth": 0,
              "ticks": ""
             }
            },
            "type": "scatterpolar"
           }
          ],
          "scatterpolargl": [
           {
            "marker": {
             "colorbar": {
              "outlinewidth": 0,
              "ticks": ""
             }
            },
            "type": "scatterpolargl"
           }
          ],
          "scatterternary": [
           {
            "marker": {
             "colorbar": {
              "outlinewidth": 0,
              "ticks": ""
             }
            },
            "type": "scatterternary"
           }
          ],
          "surface": [
           {
            "colorbar": {
             "outlinewidth": 0,
             "ticks": ""
            },
            "colorscale": [
             [
              0,
              "#0d0887"
             ],
             [
              0.1111111111111111,
              "#46039f"
             ],
             [
              0.2222222222222222,
              "#7201a8"
             ],
             [
              0.3333333333333333,
              "#9c179e"
             ],
             [
              0.4444444444444444,
              "#bd3786"
             ],
             [
              0.5555555555555556,
              "#d8576b"
             ],
             [
              0.6666666666666666,
              "#ed7953"
             ],
             [
              0.7777777777777778,
              "#fb9f3a"
             ],
             [
              0.8888888888888888,
              "#fdca26"
             ],
             [
              1,
              "#f0f921"
             ]
            ],
            "type": "surface"
           }
          ],
          "table": [
           {
            "cells": {
             "fill": {
              "color": "#EBF0F8"
             },
             "line": {
              "color": "white"
             }
            },
            "header": {
             "fill": {
              "color": "#C8D4E3"
             },
             "line": {
              "color": "white"
             }
            },
            "type": "table"
           }
          ]
         },
         "layout": {
          "annotationdefaults": {
           "arrowcolor": "#2a3f5f",
           "arrowhead": 0,
           "arrowwidth": 1
          },
          "autotypenumbers": "strict",
          "coloraxis": {
           "colorbar": {
            "outlinewidth": 0,
            "ticks": ""
           }
          },
          "colorscale": {
           "diverging": [
            [
             0,
             "#8e0152"
            ],
            [
             0.1,
             "#c51b7d"
            ],
            [
             0.2,
             "#de77ae"
            ],
            [
             0.3,
             "#f1b6da"
            ],
            [
             0.4,
             "#fde0ef"
            ],
            [
             0.5,
             "#f7f7f7"
            ],
            [
             0.6,
             "#e6f5d0"
            ],
            [
             0.7,
             "#b8e186"
            ],
            [
             0.8,
             "#7fbc41"
            ],
            [
             0.9,
             "#4d9221"
            ],
            [
             1,
             "#276419"
            ]
           ],
           "sequential": [
            [
             0,
             "#0d0887"
            ],
            [
             0.1111111111111111,
             "#46039f"
            ],
            [
             0.2222222222222222,
             "#7201a8"
            ],
            [
             0.3333333333333333,
             "#9c179e"
            ],
            [
             0.4444444444444444,
             "#bd3786"
            ],
            [
             0.5555555555555556,
             "#d8576b"
            ],
            [
             0.6666666666666666,
             "#ed7953"
            ],
            [
             0.7777777777777778,
             "#fb9f3a"
            ],
            [
             0.8888888888888888,
             "#fdca26"
            ],
            [
             1,
             "#f0f921"
            ]
           ],
           "sequentialminus": [
            [
             0,
             "#0d0887"
            ],
            [
             0.1111111111111111,
             "#46039f"
            ],
            [
             0.2222222222222222,
             "#7201a8"
            ],
            [
             0.3333333333333333,
             "#9c179e"
            ],
            [
             0.4444444444444444,
             "#bd3786"
            ],
            [
             0.5555555555555556,
             "#d8576b"
            ],
            [
             0.6666666666666666,
             "#ed7953"
            ],
            [
             0.7777777777777778,
             "#fb9f3a"
            ],
            [
             0.8888888888888888,
             "#fdca26"
            ],
            [
             1,
             "#f0f921"
            ]
           ]
          },
          "colorway": [
           "#636efa",
           "#EF553B",
           "#00cc96",
           "#ab63fa",
           "#FFA15A",
           "#19d3f3",
           "#FF6692",
           "#B6E880",
           "#FF97FF",
           "#FECB52"
          ],
          "font": {
           "color": "#2a3f5f"
          },
          "geo": {
           "bgcolor": "white",
           "lakecolor": "white",
           "landcolor": "#E5ECF6",
           "showlakes": true,
           "showland": true,
           "subunitcolor": "white"
          },
          "hoverlabel": {
           "align": "left"
          },
          "hovermode": "closest",
          "mapbox": {
           "style": "light"
          },
          "paper_bgcolor": "white",
          "plot_bgcolor": "#E5ECF6",
          "polar": {
           "angularaxis": {
            "gridcolor": "white",
            "linecolor": "white",
            "ticks": ""
           },
           "bgcolor": "#E5ECF6",
           "radialaxis": {
            "gridcolor": "white",
            "linecolor": "white",
            "ticks": ""
           }
          },
          "scene": {
           "xaxis": {
            "backgroundcolor": "#E5ECF6",
            "gridcolor": "white",
            "gridwidth": 2,
            "linecolor": "white",
            "showbackground": true,
            "ticks": "",
            "zerolinecolor": "white"
           },
           "yaxis": {
            "backgroundcolor": "#E5ECF6",
            "gridcolor": "white",
            "gridwidth": 2,
            "linecolor": "white",
            "showbackground": true,
            "ticks": "",
            "zerolinecolor": "white"
           },
           "zaxis": {
            "backgroundcolor": "#E5ECF6",
            "gridcolor": "white",
            "gridwidth": 2,
            "linecolor": "white",
            "showbackground": true,
            "ticks": "",
            "zerolinecolor": "white"
           }
          },
          "shapedefaults": {
           "line": {
            "color": "#2a3f5f"
           }
          },
          "ternary": {
           "aaxis": {
            "gridcolor": "white",
            "linecolor": "white",
            "ticks": ""
           },
           "baxis": {
            "gridcolor": "white",
            "linecolor": "white",
            "ticks": ""
           },
           "bgcolor": "#E5ECF6",
           "caxis": {
            "gridcolor": "white",
            "linecolor": "white",
            "ticks": ""
           }
          },
          "title": {
           "x": 0.05
          },
          "xaxis": {
           "automargin": true,
           "gridcolor": "white",
           "linecolor": "white",
           "ticks": "",
           "title": {
            "standoff": 15
           },
           "zerolinecolor": "white",
           "zerolinewidth": 2
          },
          "yaxis": {
           "automargin": true,
           "gridcolor": "white",
           "linecolor": "white",
           "ticks": "",
           "title": {
            "standoff": 15
           },
           "zerolinecolor": "white",
           "zerolinewidth": 2
          }
         }
        },
        "title": {
         "font": {
          "size": 35
         },
         "text": "Category Counts",
         "x": 0.5
        },
        "width": 800,
        "xaxis": {
         "anchor": "y",
         "domain": [
          0,
          1
         ],
         "showgrid": false,
         "title": {
          "text": "Category"
         }
        },
        "yaxis": {
         "anchor": "x",
         "domain": [
          0,
          1
         ],
         "showgrid": false,
         "title": {
          "text": "Value"
         }
        }
       }
      },
      "text/html": [
       "<div>                            <div id=\"f9b93cf6-6b2a-4912-aee7-a37b991668bb\" class=\"plotly-graph-div\" style=\"height:500px; width:800px;\"></div>            <script type=\"text/javascript\">                require([\"plotly\"], function(Plotly) {                    window.PLOTLYENV=window.PLOTLYENV || {};                                    if (document.getElementById(\"f9b93cf6-6b2a-4912-aee7-a37b991668bb\")) {                    Plotly.newPlot(                        \"f9b93cf6-6b2a-4912-aee7-a37b991668bb\",                        [{\"alignmentgroup\":\"True\",\"hovertemplate\":\"Category:'%{x}' Counted: %{y}\",\"legendgroup\":\"education\",\"marker\":{\"color\":\"#636efa\",\"pattern\":{\"shape\":\"\"}},\"name\":\"education\",\"offsetgroup\":\"education\",\"orientation\":\"v\",\"showlegend\":true,\"text\":[32934.0],\"textposition\":\"auto\",\"x\":[\"education\"],\"xaxis\":\"x\",\"y\":[32934],\"yaxis\":\"y\",\"type\":\"bar\"},{\"alignmentgroup\":\"True\",\"hovertemplate\":\"Category:'%{x}' Counted: %{y}\",\"legendgroup\":\"labor rights\",\"marker\":{\"color\":\"#EF553B\",\"pattern\":{\"shape\":\"\"}},\"name\":\"labor rights\",\"offsetgroup\":\"labor rights\",\"orientation\":\"v\",\"showlegend\":true,\"text\":[31957.0],\"textposition\":\"auto\",\"x\":[\"labor rights\"],\"xaxis\":\"x\",\"y\":[31957],\"yaxis\":\"y\",\"type\":\"bar\"},{\"alignmentgroup\":\"True\",\"hovertemplate\":\"Category:'%{x}' Counted: %{y}\",\"legendgroup\":\"lgbtq\",\"marker\":{\"color\":\"#00cc96\",\"pattern\":{\"shape\":\"\"}},\"name\":\"lgbtq\",\"offsetgroup\":\"lgbtq\",\"orientation\":\"v\",\"showlegend\":true,\"text\":[22018.0],\"textposition\":\"auto\",\"x\":[\"lgbtq\"],\"xaxis\":\"x\",\"y\":[22018],\"yaxis\":\"y\",\"type\":\"bar\"},{\"alignmentgroup\":\"True\",\"hovertemplate\":\"Category:'%{x}' Counted: %{y}\",\"legendgroup\":\"animal welfare\",\"marker\":{\"color\":\"#ab63fa\",\"pattern\":{\"shape\":\"\"}},\"name\":\"animal welfare\",\"offsetgroup\":\"animal welfare\",\"orientation\":\"v\",\"showlegend\":true,\"text\":[17916.0],\"textposition\":\"auto\",\"x\":[\"animal welfare\"],\"xaxis\":\"x\",\"y\":[17916],\"yaxis\":\"y\",\"type\":\"bar\"},{\"alignmentgroup\":\"True\",\"hovertemplate\":\"Category:'%{x}' Counted: %{y}\",\"legendgroup\":\"immigration\",\"marker\":{\"color\":\"#FFA15A\",\"pattern\":{\"shape\":\"\"}},\"name\":\"immigration\",\"offsetgroup\":\"immigration\",\"orientation\":\"v\",\"showlegend\":true,\"text\":[10343.0],\"textposition\":\"auto\",\"x\":[\"immigration\"],\"xaxis\":\"x\",\"y\":[10343],\"yaxis\":\"y\",\"type\":\"bar\"},{\"alignmentgroup\":\"True\",\"hovertemplate\":\"Category:'%{x}' Counted: %{y}\",\"legendgroup\":\"climate\",\"marker\":{\"color\":\"#19d3f3\",\"pattern\":{\"shape\":\"\"}},\"name\":\"climate\",\"offsetgroup\":\"climate\",\"orientation\":\"v\",\"showlegend\":true,\"text\":[10044.0],\"textposition\":\"auto\",\"x\":[\"climate\"],\"xaxis\":\"x\",\"y\":[10044],\"yaxis\":\"y\",\"type\":\"bar\"},{\"alignmentgroup\":\"True\",\"hovertemplate\":\"Category:'%{x}' Counted: %{y}\",\"legendgroup\":\"health care\",\"marker\":{\"color\":\"#FF6692\",\"pattern\":{\"shape\":\"\"}},\"name\":\"health care\",\"offsetgroup\":\"health care\",\"orientation\":\"v\",\"showlegend\":true,\"text\":[7078.0],\"textposition\":\"auto\",\"x\":[\"health care\"],\"xaxis\":\"x\",\"y\":[7078],\"yaxis\":\"y\",\"type\":\"bar\"},{\"alignmentgroup\":\"True\",\"hovertemplate\":\"Category:'%{x}' Counted: %{y}\",\"legendgroup\":\"palestine-israel conflict\",\"marker\":{\"color\":\"#B6E880\",\"pattern\":{\"shape\":\"\"}},\"name\":\"palestine-israel conflict\",\"offsetgroup\":\"palestine-israel conflict\",\"orientation\":\"v\",\"showlegend\":true,\"text\":[7073.0],\"textposition\":\"auto\",\"x\":[\"palestine-israel conflict\"],\"xaxis\":\"x\",\"y\":[7073],\"yaxis\":\"y\",\"type\":\"bar\"},{\"alignmentgroup\":\"True\",\"hovertemplate\":\"Category:'%{x}' Counted: %{y}\",\"legendgroup\":\"unjust law enforcement\",\"marker\":{\"color\":\"#FF97FF\",\"pattern\":{\"shape\":\"\"}},\"name\":\"unjust law enforcement\",\"offsetgroup\":\"unjust law enforcement\",\"orientation\":\"v\",\"showlegend\":true,\"text\":[7000.0],\"textposition\":\"auto\",\"x\":[\"unjust law enforcement\"],\"xaxis\":\"x\",\"y\":[7000],\"yaxis\":\"y\",\"type\":\"bar\"},{\"alignmentgroup\":\"True\",\"hovertemplate\":\"Category:'%{x}' Counted: %{y}\",\"legendgroup\":\"public services\",\"marker\":{\"color\":\"#FECB52\",\"pattern\":{\"shape\":\"\"}},\"name\":\"public services\",\"offsetgroup\":\"public services\",\"orientation\":\"v\",\"showlegend\":true,\"text\":[6647.0],\"textposition\":\"auto\",\"x\":[\"public services\"],\"xaxis\":\"x\",\"y\":[6647],\"yaxis\":\"y\",\"type\":\"bar\"},{\"alignmentgroup\":\"True\",\"hovertemplate\":\"Category:'%{x}' Counted: %{y}\",\"legendgroup\":\"farmers\",\"marker\":{\"color\":\"#636efa\",\"pattern\":{\"shape\":\"\"}},\"name\":\"farmers\",\"offsetgroup\":\"farmers\",\"orientation\":\"v\",\"showlegend\":true,\"text\":[6210.0],\"textposition\":\"auto\",\"x\":[\"farmers\"],\"xaxis\":\"x\",\"y\":[6210],\"yaxis\":\"y\",\"type\":\"bar\"},{\"alignmentgroup\":\"True\",\"hovertemplate\":\"Category:'%{x}' Counted: %{y}\",\"legendgroup\":\"policies\",\"marker\":{\"color\":\"#EF553B\",\"pattern\":{\"shape\":\"\"}},\"name\":\"policies\",\"offsetgroup\":\"policies\",\"orientation\":\"v\",\"showlegend\":true,\"text\":[6103.0],\"textposition\":\"auto\",\"x\":[\"policies\"],\"xaxis\":\"x\",\"y\":[6103],\"yaxis\":\"y\",\"type\":\"bar\"},{\"alignmentgroup\":\"True\",\"hovertemplate\":\"Category:'%{x}' Counted: %{y}\",\"legendgroup\":\"culture\",\"marker\":{\"color\":\"#00cc96\",\"pattern\":{\"shape\":\"\"}},\"name\":\"culture\",\"offsetgroup\":\"culture\",\"orientation\":\"v\",\"showlegend\":true,\"text\":[5763.0],\"textposition\":\"auto\",\"x\":[\"culture\"],\"xaxis\":\"x\",\"y\":[5763],\"yaxis\":\"y\",\"type\":\"bar\"},{\"alignmentgroup\":\"True\",\"hovertemplate\":\"Category:'%{x}' Counted: %{y}\",\"legendgroup\":\"environment\",\"marker\":{\"color\":\"#ab63fa\",\"pattern\":{\"shape\":\"\"}},\"name\":\"environment\",\"offsetgroup\":\"environment\",\"orientation\":\"v\",\"showlegend\":true,\"text\":[3268.0],\"textposition\":\"auto\",\"x\":[\"environment\"],\"xaxis\":\"x\",\"y\":[3268],\"yaxis\":\"y\",\"type\":\"bar\"},{\"alignmentgroup\":\"True\",\"hovertemplate\":\"Category:'%{x}' Counted: %{y}\",\"legendgroup\":\"women rights\",\"marker\":{\"color\":\"#FFA15A\",\"pattern\":{\"shape\":\"\"}},\"name\":\"women rights\",\"offsetgroup\":\"women rights\",\"orientation\":\"v\",\"showlegend\":true,\"text\":[2771.0],\"textposition\":\"auto\",\"x\":[\"women rights\"],\"xaxis\":\"x\",\"y\":[2771],\"yaxis\":\"y\",\"type\":\"bar\"},{\"alignmentgroup\":\"True\",\"hovertemplate\":\"Category:'%{x}' Counted: %{y}\",\"legendgroup\":\"housing\",\"marker\":{\"color\":\"#19d3f3\",\"pattern\":{\"shape\":\"\"}},\"name\":\"housing\",\"offsetgroup\":\"housing\",\"orientation\":\"v\",\"showlegend\":true,\"text\":[2750.0],\"textposition\":\"auto\",\"x\":[\"housing\"],\"xaxis\":\"x\",\"y\":[2750],\"yaxis\":\"y\",\"type\":\"bar\"},{\"alignmentgroup\":\"True\",\"hovertemplate\":\"Category:'%{x}' Counted: %{y}\",\"legendgroup\":\"pandemic\",\"marker\":{\"color\":\"#FF6692\",\"pattern\":{\"shape\":\"\"}},\"name\":\"pandemic\",\"offsetgroup\":\"pandemic\",\"orientation\":\"v\",\"showlegend\":true,\"text\":[2515.0],\"textposition\":\"auto\",\"x\":[\"pandemic\"],\"xaxis\":\"x\",\"y\":[2515],\"yaxis\":\"y\",\"type\":\"bar\"},{\"alignmentgroup\":\"True\",\"hovertemplate\":\"Category:'%{x}' Counted: %{y}\",\"legendgroup\":\"ukraine-russia war\",\"marker\":{\"color\":\"#B6E880\",\"pattern\":{\"shape\":\"\"}},\"name\":\"ukraine-russia war\",\"offsetgroup\":\"ukraine-russia war\",\"orientation\":\"v\",\"showlegend\":true,\"text\":[688.0],\"textposition\":\"auto\",\"x\":[\"ukraine-russia war\"],\"xaxis\":\"x\",\"y\":[688],\"yaxis\":\"y\",\"type\":\"bar\"},{\"alignmentgroup\":\"True\",\"hovertemplate\":\"Category:'%{x}' Counted: %{y}\",\"legendgroup\":\"discrimination\",\"marker\":{\"color\":\"#FF97FF\",\"pattern\":{\"shape\":\"\"}},\"name\":\"discrimination\",\"offsetgroup\":\"discrimination\",\"orientation\":\"v\",\"showlegend\":true,\"text\":[2.0],\"textposition\":\"auto\",\"x\":[\"discrimination\"],\"xaxis\":\"x\",\"y\":[2],\"yaxis\":\"y\",\"type\":\"bar\"}],                        {\"barmode\":\"relative\",\"height\":500,\"legend\":{\"title\":{\"text\":\"color\"},\"tracegroupgap\":0},\"margin\":{\"t\":60},\"plot_bgcolor\":\"white\",\"showlegend\":false,\"template\":{\"data\":{\"barpolar\":[{\"marker\":{\"line\":{\"color\":\"#E5ECF6\",\"width\":0.5},\"pattern\":{\"fillmode\":\"overlay\",\"size\":10,\"solidity\":0.2}},\"type\":\"barpolar\"}],\"bar\":[{\"error_x\":{\"color\":\"#2a3f5f\"},\"error_y\":{\"color\":\"#2a3f5f\"},\"marker\":{\"line\":{\"color\":\"#E5ECF6\",\"width\":0.5},\"pattern\":{\"fillmode\":\"overlay\",\"size\":10,\"solidity\":0.2}},\"type\":\"bar\"}],\"carpet\":[{\"aaxis\":{\"endlinecolor\":\"#2a3f5f\",\"gridcolor\":\"white\",\"linecolor\":\"white\",\"minorgridcolor\":\"white\",\"startlinecolor\":\"#2a3f5f\"},\"baxis\":{\"endlinecolor\":\"#2a3f5f\",\"gridcolor\":\"white\",\"linecolor\":\"white\",\"minorgridcolor\":\"white\",\"startlinecolor\":\"#2a3f5f\"},\"type\":\"carpet\"}],\"choropleth\":[{\"colorbar\":{\"outlinewidth\":0,\"ticks\":\"\"},\"type\":\"choropleth\"}],\"contourcarpet\":[{\"colorbar\":{\"outlinewidth\":0,\"ticks\":\"\"},\"type\":\"contourcarpet\"}],\"contour\":[{\"colorbar\":{\"outlinewidth\":0,\"ticks\":\"\"},\"colorscale\":[[0.0,\"#0d0887\"],[0.1111111111111111,\"#46039f\"],[0.2222222222222222,\"#7201a8\"],[0.3333333333333333,\"#9c179e\"],[0.4444444444444444,\"#bd3786\"],[0.5555555555555556,\"#d8576b\"],[0.6666666666666666,\"#ed7953\"],[0.7777777777777778,\"#fb9f3a\"],[0.8888888888888888,\"#fdca26\"],[1.0,\"#f0f921\"]],\"type\":\"contour\"}],\"heatmapgl\":[{\"colorbar\":{\"outlinewidth\":0,\"ticks\":\"\"},\"colorscale\":[[0.0,\"#0d0887\"],[0.1111111111111111,\"#46039f\"],[0.2222222222222222,\"#7201a8\"],[0.3333333333333333,\"#9c179e\"],[0.4444444444444444,\"#bd3786\"],[0.5555555555555556,\"#d8576b\"],[0.6666666666666666,\"#ed7953\"],[0.7777777777777778,\"#fb9f3a\"],[0.8888888888888888,\"#fdca26\"],[1.0,\"#f0f921\"]],\"type\":\"heatmapgl\"}],\"heatmap\":[{\"colorbar\":{\"outlinewidth\":0,\"ticks\":\"\"},\"colorscale\":[[0.0,\"#0d0887\"],[0.1111111111111111,\"#46039f\"],[0.2222222222222222,\"#7201a8\"],[0.3333333333333333,\"#9c179e\"],[0.4444444444444444,\"#bd3786\"],[0.5555555555555556,\"#d8576b\"],[0.6666666666666666,\"#ed7953\"],[0.7777777777777778,\"#fb9f3a\"],[0.8888888888888888,\"#fdca26\"],[1.0,\"#f0f921\"]],\"type\":\"heatmap\"}],\"histogram2dcontour\":[{\"colorbar\":{\"outlinewidth\":0,\"ticks\":\"\"},\"colorscale\":[[0.0,\"#0d0887\"],[0.1111111111111111,\"#46039f\"],[0.2222222222222222,\"#7201a8\"],[0.3333333333333333,\"#9c179e\"],[0.4444444444444444,\"#bd3786\"],[0.5555555555555556,\"#d8576b\"],[0.6666666666666666,\"#ed7953\"],[0.7777777777777778,\"#fb9f3a\"],[0.8888888888888888,\"#fdca26\"],[1.0,\"#f0f921\"]],\"type\":\"histogram2dcontour\"}],\"histogram2d\":[{\"colorbar\":{\"outlinewidth\":0,\"ticks\":\"\"},\"colorscale\":[[0.0,\"#0d0887\"],[0.1111111111111111,\"#46039f\"],[0.2222222222222222,\"#7201a8\"],[0.3333333333333333,\"#9c179e\"],[0.4444444444444444,\"#bd3786\"],[0.5555555555555556,\"#d8576b\"],[0.6666666666666666,\"#ed7953\"],[0.7777777777777778,\"#fb9f3a\"],[0.8888888888888888,\"#fdca26\"],[1.0,\"#f0f921\"]],\"type\":\"histogram2d\"}],\"histogram\":[{\"marker\":{\"pattern\":{\"fillmode\":\"overlay\",\"size\":10,\"solidity\":0.2}},\"type\":\"histogram\"}],\"mesh3d\":[{\"colorbar\":{\"outlinewidth\":0,\"ticks\":\"\"},\"type\":\"mesh3d\"}],\"parcoords\":[{\"line\":{\"colorbar\":{\"outlinewidth\":0,\"ticks\":\"\"}},\"type\":\"parcoords\"}],\"pie\":[{\"automargin\":true,\"type\":\"pie\"}],\"scatter3d\":[{\"line\":{\"colorbar\":{\"outlinewidth\":0,\"ticks\":\"\"}},\"marker\":{\"colorbar\":{\"outlinewidth\":0,\"ticks\":\"\"}},\"type\":\"scatter3d\"}],\"scattercarpet\":[{\"marker\":{\"colorbar\":{\"outlinewidth\":0,\"ticks\":\"\"}},\"type\":\"scattercarpet\"}],\"scattergeo\":[{\"marker\":{\"colorbar\":{\"outlinewidth\":0,\"ticks\":\"\"}},\"type\":\"scattergeo\"}],\"scattergl\":[{\"marker\":{\"colorbar\":{\"outlinewidth\":0,\"ticks\":\"\"}},\"type\":\"scattergl\"}],\"scattermapbox\":[{\"marker\":{\"colorbar\":{\"outlinewidth\":0,\"ticks\":\"\"}},\"type\":\"scattermapbox\"}],\"scatterpolargl\":[{\"marker\":{\"colorbar\":{\"outlinewidth\":0,\"ticks\":\"\"}},\"type\":\"scatterpolargl\"}],\"scatterpolar\":[{\"marker\":{\"colorbar\":{\"outlinewidth\":0,\"ticks\":\"\"}},\"type\":\"scatterpolar\"}],\"scatter\":[{\"fillpattern\":{\"fillmode\":\"overlay\",\"size\":10,\"solidity\":0.2},\"type\":\"scatter\"}],\"scatterternary\":[{\"marker\":{\"colorbar\":{\"outlinewidth\":0,\"ticks\":\"\"}},\"type\":\"scatterternary\"}],\"surface\":[{\"colorbar\":{\"outlinewidth\":0,\"ticks\":\"\"},\"colorscale\":[[0.0,\"#0d0887\"],[0.1111111111111111,\"#46039f\"],[0.2222222222222222,\"#7201a8\"],[0.3333333333333333,\"#9c179e\"],[0.4444444444444444,\"#bd3786\"],[0.5555555555555556,\"#d8576b\"],[0.6666666666666666,\"#ed7953\"],[0.7777777777777778,\"#fb9f3a\"],[0.8888888888888888,\"#fdca26\"],[1.0,\"#f0f921\"]],\"type\":\"surface\"}],\"table\":[{\"cells\":{\"fill\":{\"color\":\"#EBF0F8\"},\"line\":{\"color\":\"white\"}},\"header\":{\"fill\":{\"color\":\"#C8D4E3\"},\"line\":{\"color\":\"white\"}},\"type\":\"table\"}]},\"layout\":{\"annotationdefaults\":{\"arrowcolor\":\"#2a3f5f\",\"arrowhead\":0,\"arrowwidth\":1},\"autotypenumbers\":\"strict\",\"coloraxis\":{\"colorbar\":{\"outlinewidth\":0,\"ticks\":\"\"}},\"colorscale\":{\"diverging\":[[0,\"#8e0152\"],[0.1,\"#c51b7d\"],[0.2,\"#de77ae\"],[0.3,\"#f1b6da\"],[0.4,\"#fde0ef\"],[0.5,\"#f7f7f7\"],[0.6,\"#e6f5d0\"],[0.7,\"#b8e186\"],[0.8,\"#7fbc41\"],[0.9,\"#4d9221\"],[1,\"#276419\"]],\"sequential\":[[0.0,\"#0d0887\"],[0.1111111111111111,\"#46039f\"],[0.2222222222222222,\"#7201a8\"],[0.3333333333333333,\"#9c179e\"],[0.4444444444444444,\"#bd3786\"],[0.5555555555555556,\"#d8576b\"],[0.6666666666666666,\"#ed7953\"],[0.7777777777777778,\"#fb9f3a\"],[0.8888888888888888,\"#fdca26\"],[1.0,\"#f0f921\"]],\"sequentialminus\":[[0.0,\"#0d0887\"],[0.1111111111111111,\"#46039f\"],[0.2222222222222222,\"#7201a8\"],[0.3333333333333333,\"#9c179e\"],[0.4444444444444444,\"#bd3786\"],[0.5555555555555556,\"#d8576b\"],[0.6666666666666666,\"#ed7953\"],[0.7777777777777778,\"#fb9f3a\"],[0.8888888888888888,\"#fdca26\"],[1.0,\"#f0f921\"]]},\"colorway\":[\"#636efa\",\"#EF553B\",\"#00cc96\",\"#ab63fa\",\"#FFA15A\",\"#19d3f3\",\"#FF6692\",\"#B6E880\",\"#FF97FF\",\"#FECB52\"],\"font\":{\"color\":\"#2a3f5f\"},\"geo\":{\"bgcolor\":\"white\",\"lakecolor\":\"white\",\"landcolor\":\"#E5ECF6\",\"showlakes\":true,\"showland\":true,\"subunitcolor\":\"white\"},\"hoverlabel\":{\"align\":\"left\"},\"hovermode\":\"closest\",\"mapbox\":{\"style\":\"light\"},\"paper_bgcolor\":\"white\",\"plot_bgcolor\":\"#E5ECF6\",\"polar\":{\"angularaxis\":{\"gridcolor\":\"white\",\"linecolor\":\"white\",\"ticks\":\"\"},\"bgcolor\":\"#E5ECF6\",\"radialaxis\":{\"gridcolor\":\"white\",\"linecolor\":\"white\",\"ticks\":\"\"}},\"scene\":{\"xaxis\":{\"backgroundcolor\":\"#E5ECF6\",\"gridcolor\":\"white\",\"gridwidth\":2,\"linecolor\":\"white\",\"showbackground\":true,\"ticks\":\"\",\"zerolinecolor\":\"white\"},\"yaxis\":{\"backgroundcolor\":\"#E5ECF6\",\"gridcolor\":\"white\",\"gridwidth\":2,\"linecolor\":\"white\",\"showbackground\":true,\"ticks\":\"\",\"zerolinecolor\":\"white\"},\"zaxis\":{\"backgroundcolor\":\"#E5ECF6\",\"gridcolor\":\"white\",\"gridwidth\":2,\"linecolor\":\"white\",\"showbackground\":true,\"ticks\":\"\",\"zerolinecolor\":\"white\"}},\"shapedefaults\":{\"line\":{\"color\":\"#2a3f5f\"}},\"ternary\":{\"aaxis\":{\"gridcolor\":\"white\",\"linecolor\":\"white\",\"ticks\":\"\"},\"baxis\":{\"gridcolor\":\"white\",\"linecolor\":\"white\",\"ticks\":\"\"},\"bgcolor\":\"#E5ECF6\",\"caxis\":{\"gridcolor\":\"white\",\"linecolor\":\"white\",\"ticks\":\"\"}},\"title\":{\"x\":0.05},\"xaxis\":{\"automargin\":true,\"gridcolor\":\"white\",\"linecolor\":\"white\",\"ticks\":\"\",\"title\":{\"standoff\":15},\"zerolinecolor\":\"white\",\"zerolinewidth\":2},\"yaxis\":{\"automargin\":true,\"gridcolor\":\"white\",\"linecolor\":\"white\",\"ticks\":\"\",\"title\":{\"standoff\":15},\"zerolinecolor\":\"white\",\"zerolinewidth\":2}}},\"title\":{\"font\":{\"size\":35},\"text\":\"Category Counts\",\"x\":0.5},\"width\":800,\"xaxis\":{\"anchor\":\"y\",\"domain\":[0.0,1.0],\"showgrid\":false,\"title\":{\"text\":\"Category\"}},\"yaxis\":{\"anchor\":\"x\",\"domain\":[0.0,1.0],\"showgrid\":false,\"title\":{\"text\":\"Value\"}}},                        {\"responsive\": true}                    ).then(function(){\n",
       "                            \n",
       "var gd = document.getElementById('f9b93cf6-6b2a-4912-aee7-a37b991668bb');\n",
       "var x = new MutationObserver(function (mutations, observer) {{\n",
       "        var display = window.getComputedStyle(gd).display;\n",
       "        if (!display || display === 'none') {{\n",
       "            console.log([gd, 'removed!']);\n",
       "            Plotly.purge(gd);\n",
       "            observer.disconnect();\n",
       "        }}\n",
       "}});\n",
       "\n",
       "// Listen for the removal of the full notebook cells\n",
       "var notebookContainer = gd.closest('#notebook-container');\n",
       "if (notebookContainer) {{\n",
       "    x.observe(notebookContainer, {childList: true});\n",
       "}}\n",
       "\n",
       "// Listen for the clearing of the current output cell\n",
       "var outputEl = gd.closest('.output');\n",
       "if (outputEl) {{\n",
       "    x.observe(outputEl, {childList: true});\n",
       "}}\n",
       "\n",
       "                        })                };                });            </script>        </div>"
      ]
     },
     "metadata": {},
     "output_type": "display_data"
    }
   ],
   "source": [
    "import plotly.graph_objects as go\n",
    "from plotly.offline import iplot, init_notebook_mode\n",
    "import plotly.express as px\n",
    "import plotly.io as pio\n",
    "init_notebook_mode(True)\n",
    "\n",
    "fig = px.bar(x=df[\"predicted_topic\"].value_counts().index,y=df[\"predicted_topic\"].value_counts(),color=df[\"predicted_topic\"].value_counts().index,text=df[\"predicted_topic\"].value_counts())\n",
    "fig.update_traces(hovertemplate=\"Category:'%{x}' Counted: %{y}\")\n",
    "fig.update_layout(title={\"text\":\"Category Counts\",\"x\":0.5,\"font\":{\"size\":35}},xaxis={\"title\":\"Category\",\"showgrid\":False},yaxis={\"title\":\"Value\",\"showgrid\":False},plot_bgcolor=\"white\",width=800,height=500,showlegend=False)\n",
    "iplot(fig)"
   ]
  },
  {
   "cell_type": "code",
   "execution_count": 3,
   "id": "d800f463",
   "metadata": {},
   "outputs": [
    {
     "name": "stdout",
     "output_type": "stream",
     "text": [
      "Accuracy: 0.47144948755490484\n",
      "\n",
      "Classification Report:\n",
      "                            precision    recall  f1-score   support\n",
      "\n",
      "           animal welfare       0.11      0.86      0.19         7\n",
      "                  climate       0.81      0.86      0.83        29\n",
      "                  culture       0.29      0.78      0.42         9\n",
      "           discrimination       0.00      0.00      0.00         3\n",
      "                education       0.39      0.85      0.54        53\n",
      "              environment       0.64      0.29      0.40        24\n",
      "                  farmers       0.97      0.62      0.76        53\n",
      "              health care       0.38      0.52      0.44        27\n",
      "                  housing       0.62      0.62      0.62         8\n",
      "              immigration       0.07      1.00      0.14         2\n",
      "             labor rights       0.81      0.62      0.70       205\n",
      "                    lgbtq       0.10      0.67      0.17        12\n",
      "palestine-israel conflict       0.72      0.57      0.64        40\n",
      "                 pandemic       0.46      0.07      0.12        90\n",
      "                 policies       0.00      0.00      0.00        30\n",
      "          public services       0.18      0.25      0.21        12\n",
      "       ukraine-russia war       1.00      0.02      0.04        45\n",
      "   unjust law enforcement       0.20      0.40      0.27        10\n",
      "             women rights       1.00      0.25      0.40        24\n",
      "\n",
      "                 accuracy                           0.47       683\n",
      "                macro avg       0.46      0.49      0.36       683\n",
      "             weighted avg       0.64      0.47      0.47       683\n",
      "\n"
     ]
    },
    {
     "name": "stderr",
     "output_type": "stream",
     "text": [
      "C:\\Users\\semvv\\AppData\\Local\\Packages\\PythonSoftwareFoundation.Python.3.13_qbz5n2kfra8p0\\LocalCache\\local-packages\\Python313\\site-packages\\sklearn\\metrics\\_classification.py:1565: UndefinedMetricWarning:\n",
      "\n",
      "Precision is ill-defined and being set to 0.0 in labels with no predicted samples. Use `zero_division` parameter to control this behavior.\n",
      "\n",
      "C:\\Users\\semvv\\AppData\\Local\\Packages\\PythonSoftwareFoundation.Python.3.13_qbz5n2kfra8p0\\LocalCache\\local-packages\\Python313\\site-packages\\sklearn\\metrics\\_classification.py:1565: UndefinedMetricWarning:\n",
      "\n",
      "Precision is ill-defined and being set to 0.0 in labels with no predicted samples. Use `zero_division` parameter to control this behavior.\n",
      "\n",
      "C:\\Users\\semvv\\AppData\\Local\\Packages\\PythonSoftwareFoundation.Python.3.13_qbz5n2kfra8p0\\LocalCache\\local-packages\\Python313\\site-packages\\sklearn\\metrics\\_classification.py:1565: UndefinedMetricWarning:\n",
      "\n",
      "Precision is ill-defined and being set to 0.0 in labels with no predicted samples. Use `zero_division` parameter to control this behavior.\n",
      "\n"
     ]
    }
   ],
   "source": [
    "df_true = pd.read_csv(\"../data/topics_evaluation.csv\")\n",
    "\n",
    "df_merged = pd.merge(df_true, df[['notes', 'predicted_topic']], on='notes', how='inner')\n",
    "\n",
    "\n",
    "from sklearn.metrics import classification_report, accuracy_score\n",
    "\n",
    "df_eval = df_merged[df_merged['class'] != 'unknown']\n",
    "\n",
    "y_true = df_eval['class']\n",
    "y_pred = df_eval['predicted_topic']\n",
    "\n",
    "print(\"Accuracy:\", accuracy_score(y_true, y_pred))\n",
    "print(\"\\nClassification Report:\\n\", classification_report(y_true, y_pred))"
   ]
  },
  {
   "cell_type": "code",
   "execution_count": 4,
   "id": "329ca4a5",
   "metadata": {},
   "outputs": [
    {
     "name": "stdout",
     "output_type": "stream",
     "text": [
      "                                                 notes               class  \\\n",
      "0    On 17 November 2022, doctors and nurses affili...         health care   \n",
      "1    On 13 January 2022, at the call of eight teach...           education   \n",
      "2    On 24 August 2022, Ukrainian activists gathere...  ukraine-russia war   \n",
      "3    On 17 November 2020, students gathered outside...            pandemic   \n",
      "4    On 2 May 2020, members of the newly-born movem...         health care   \n",
      "..                                                 ...                 ...   \n",
      "678  On 24 June 2022, an unknown number of farmers ...             farmers   \n",
      "679  On 27 November 2024, Diageo workers staged a p...        labor rights   \n",
      "680  On 20 June 2023, cleaning, catering, security ...        labor rights   \n",
      "681  On 17 October 2024, around 30 undocumented mig...             housing   \n",
      "682  On 25 May 2020, law enforcers in Slupia stoppe...            pandemic   \n",
      "\n",
      "    real class         predicted_topic  \n",
      "0      unknown             health care  \n",
      "1      unknown               education  \n",
      "2      unknown          animal welfare  \n",
      "3      unknown               education  \n",
      "4      unknown             health care  \n",
      "..         ...                     ...  \n",
      "678    unknown                policies  \n",
      "679    unknown            labor rights  \n",
      "680    unknown            labor rights  \n",
      "681    unknown             immigration  \n",
      "682    unknown  unjust law enforcement  \n",
      "\n",
      "[683 rows x 4 columns]\n"
     ]
    }
   ],
   "source": [
    "print(df_eval)"
   ]
  }
 ],
 "metadata": {
  "kernelspec": {
   "display_name": "Python 3",
   "language": "python",
   "name": "python3"
  },
  "language_info": {
   "codemirror_mode": {
    "name": "ipython",
    "version": 3
   },
   "file_extension": ".py",
   "mimetype": "text/x-python",
   "name": "python",
   "nbconvert_exporter": "python",
   "pygments_lexer": "ipython3",
   "version": "3.13.5"
  }
 },
 "nbformat": 4,
 "nbformat_minor": 5
}
