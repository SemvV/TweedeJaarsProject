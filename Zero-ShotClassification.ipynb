{
 "cells": [
  {
   "cell_type": "code",
   "execution_count": 1,
   "id": "ec771d76",
   "metadata": {},
   "outputs": [
    {
     "name": "stdout",
     "output_type": "stream",
     "text": [
      "        Unnamed: 0 event_id_cnty       event_date  year  time_precision  \\\n",
      "0                0       BEL4179      23 May 2025  2025               1   \n",
      "1                1       BEL4183      23 May 2025  2025               1   \n",
      "2                2       BGR4378      23 May 2025  2025               1   \n",
      "3                3       BGR4379      23 May 2025  2025               1   \n",
      "4                4       BGR4380      23 May 2025  2025               1   \n",
      "...            ...           ...              ...   ...             ...   \n",
      "183058      183058          ROU2  08 January 2018  2018               1   \n",
      "183059      183059       GRC2059  08 January 2018  2018               1   \n",
      "183063      183063          HRV1  07 January 2018  2018               1   \n",
      "183069      183069          BGR2  04 January 2018  2018               2   \n",
      "183077      183077          BGR1  03 January 2018  2018               1   \n",
      "\n",
      "         disorder_type event_type             sub_event_type  \\\n",
      "0       Demonstrations   Protests           Peaceful protest   \n",
      "1       Demonstrations   Protests           Peaceful protest   \n",
      "2       Demonstrations   Protests           Peaceful protest   \n",
      "3       Demonstrations   Protests           Peaceful protest   \n",
      "4       Demonstrations   Protests           Peaceful protest   \n",
      "...                ...        ...                        ...   \n",
      "183058  Demonstrations   Protests  Protest with intervention   \n",
      "183059  Demonstrations   Protests           Peaceful protest   \n",
      "183063  Demonstrations   Protests           Peaceful protest   \n",
      "183069  Demonstrations   Protests           Peaceful protest   \n",
      "183077  Demonstrations   Protests           Peaceful protest   \n",
      "\n",
      "                       actor1                           assoc_actor_1  ...  \\\n",
      "0        Protesters (Belgium)    Government of Belgium (2025-); Green  ...   \n",
      "1        Protesters (Belgium)                XR: Extinction Rebellion  ...   \n",
      "2       Protesters (Bulgaria)                  Labor Group (Bulgaria)  ...   \n",
      "3       Protesters (Bulgaria)                  Labor Group (Bulgaria)  ...   \n",
      "4       Protesters (Bulgaria)                  Labor Group (Bulgaria)  ...   \n",
      "...                       ...                                     ...  ...   \n",
      "183058   Protesters (Romania)                                     NaN  ...   \n",
      "183059    Protesters (Greece)                                     NaN  ...   \n",
      "183063   Protesters (Croatia)  RF: Workers Front; The Left (Slovenia)  ...   \n",
      "183069  Protesters (Bulgaria)                                     NaN  ...   \n",
      "183077  Protesters (Bulgaria)                  Labor Group (Bulgaria)  ...   \n",
      "\n",
      "                                     source            source_scale  \\\n",
      "0                                 Focus WTV             Subnational   \n",
      "1       Extinction Rebellion; Landbouwleven          Other-National   \n",
      "2                     Bulgarian News Agency                National   \n",
      "3                     Bulgarian News Agency                National   \n",
      "4                     Bulgarian News Agency                National   \n",
      "...                                     ...                     ...   \n",
      "183058                              News.ro                National   \n",
      "183059                              To Vima                National   \n",
      "183063                                 HINA                National   \n",
      "183069             Balkan Insight; Novinite  National-International   \n",
      "183077                            Mediapool                National   \n",
      "\n",
      "                                                    notes  fatalities  \\\n",
      "0       On 23 May 2025, in the afternoon, at the call ...           0   \n",
      "1       On 23 May 2025, XR protested at the Farmers Un...           0   \n",
      "2       On 23 May 2025, librarians and representatives...           0   \n",
      "3       On 23 May 2025, librarians and representatives...           0   \n",
      "4       On 23 May 2025, librarians and representatives...           0   \n",
      "...                                                   ...         ...   \n",
      "183058  On 8 January 2018, several people protested ou...           0   \n",
      "183059  On 8 January 2018, 60-70 members of anti-estab...           0   \n",
      "183063  On 7 January 2018, representatives of Croatian...           0   \n",
      "183069  January, 2018: Supporters of the constructions...           0   \n",
      "183077  On Jan. 3, 2018: Parents from the Gorna Banya ...           0   \n",
      "\n",
      "                        tags   timestamp population_best  \\\n",
      "0         crowd size=several  1748377529          2753.0   \n",
      "1       crowd size=no report  1748377529         10978.0   \n",
      "2       crowd size=no report  1748377530           194.0   \n",
      "3       crowd size=no report  1748377530          7324.0   \n",
      "4       crowd size=no report  1748377530          1502.0   \n",
      "...                      ...         ...             ...   \n",
      "183058                   NaN  1653503228             NaN   \n",
      "183059      crowd size=60-70  1680633805             NaN   \n",
      "183063  crowd size=no report  1665508788             NaN   \n",
      "183069                   NaN  1561483030             NaN   \n",
      "183077                   NaN  1604423659             NaN   \n",
      "\n",
      "                                              clean_notes country_code  \\\n",
      "0       afternoon call green west flanders groen west ...          BEL   \n",
      "1       xr protested farmer union bb office leuven vla...          BEL   \n",
      "2       librarian representative cultural institution ...          BGR   \n",
      "3       librarian representative cultural institution ...          BGR   \n",
      "4       librarian representative cultural institution ...          BGR   \n",
      "...                                                   ...          ...   \n",
      "183058  several people protested outside headquarters ...          ROU   \n",
      "183059  60 70 member anti establishment group occupied...          GRC   \n",
      "183063  representative croatian worker front slovenian...          HRV   \n",
      "183069  construction pirin national park bansko staged...          BGR   \n",
      "183077  parent gorna banya neighborhood employee zorni...          BGR   \n",
      "\n",
      "               class  \n",
      "0        health care  \n",
      "1            farmers  \n",
      "2       labor rights  \n",
      "3       labor rights  \n",
      "4       labor rights  \n",
      "...              ...  \n",
      "183058      policies  \n",
      "183059     education  \n",
      "183063  labor rights  \n",
      "183069   environment  \n",
      "183077  labor rights  \n",
      "\n",
      "[122494 rows x 33 columns]\n",
      "class\n",
      "labor rights                 36309\n",
      "pandemic                     14804\n",
      "farmers                       9668\n",
      "education                     8468\n",
      "palestine-israel conflict     7425\n",
      "women rights                  6835\n",
      "ukraine-russia war            6169\n",
      "policies                      5598\n",
      "climate                       5569\n",
      "health care                   5174\n",
      "environment                   4483\n",
      "public services               2988\n",
      "unjust law enforcement        2176\n",
      "lgbtq                         1681\n",
      "culture                       1508\n",
      "animal welfare                1336\n",
      "housing                        820\n",
      "discrimination                 763\n",
      "immigration                    720\n",
      "Name: count, dtype: int64\n"
     ]
    },
    {
     "name": "stderr",
     "output_type": "stream",
     "text": [
      "C:\\Users\\semvv\\AppData\\Local\\Temp\\ipykernel_13276\\3073264609.py:6: DtypeWarning: Columns (12) have mixed types. Specify dtype option on import or set low_memory=False.\n",
      "  df_true = pd.read_csv(\"../data/labeled.csv\")\n"
     ]
    }
   ],
   "source": [
    "from tqdm import tqdm\n",
    "import pandas as pd\n",
    "from transformers import pipeline\n",
    "\n",
    "\n",
    "df_true = pd.read_csv(\"../data/labeled.csv\")\n",
    "\n",
    "df = df_true[df_true['class'] != 'unknown']\n",
    "print(df)\n",
    "print(df[\"class\"].value_counts())"
   ]
  },
  {
   "cell_type": "code",
   "execution_count": 2,
   "id": "277945c8",
   "metadata": {},
   "outputs": [
    {
     "name": "stderr",
     "output_type": "stream",
     "text": [
      "Device set to use cuda:0\n",
      "  0%|          | 0/15312 [00:00<?, ?it/s]Asking to truncate to max_length but no maximum length is provided and the model has no predefined maximum length. Default to no truncation.\n",
      "  0%|          | 10/15312 [00:06<2:27:19,  1.73it/s]You seem to be using the pipelines sequentially on GPU. In order to maximize efficiency please use a dataset\n",
      "100%|██████████| 15312/15312 [2:09:50<00:00,  1.97it/s]  \n",
      "C:\\Users\\semvv\\AppData\\Local\\Temp\\ipykernel_13276\\455539624.py:38: SettingWithCopyWarning: \n",
      "A value is trying to be set on a copy of a slice from a DataFrame.\n",
      "Try using .loc[row_indexer,col_indexer] = value instead\n",
      "\n",
      "See the caveats in the documentation: https://pandas.pydata.org/pandas-docs/stable/user_guide/indexing.html#returning-a-view-versus-a-copy\n",
      "  df['predicted_topic'] = predictions\n",
      "C:\\Users\\semvv\\AppData\\Local\\Temp\\ipykernel_13276\\455539624.py:39: SettingWithCopyWarning: \n",
      "A value is trying to be set on a copy of a slice from a DataFrame.\n",
      "Try using .loc[row_indexer,col_indexer] = value instead\n",
      "\n",
      "See the caveats in the documentation: https://pandas.pydata.org/pandas-docs/stable/user_guide/indexing.html#returning-a-view-versus-a-copy\n",
      "  df['predicted_topic'] = df['predicted_topic'].str.split(':').str[0]\n"
     ]
    }
   ],
   "source": [
    "classifier = pipeline(\"zero-shot-classification\", \n",
    "                      model=\"MoritzLaurer/DeBERTa-v3-base-mnli-fever-anli\", \n",
    "                      device=0,\n",
    "                      batch_size=8)\n",
    "\n",
    "candidate_labels = [\n",
    "    \"women rights\",\n",
    "    \"climate\",\n",
    "    \"labor rights\",\n",
    "    \"health care\",\n",
    "    \"farmers\",\n",
    "    \"environment\",\n",
    "    \"public services\",\n",
    "    \"palestine-israel conflict\",\n",
    "    \"immigration\",\n",
    "    \"unjust law enforcement\",\n",
    "    \"ukraine-russia war\",\n",
    "    \"discrimination\",\n",
    "    \"education\",\n",
    "    \"housing\",\n",
    "    \"culture\",\n",
    "    \"policies\",\n",
    "    \"animal welfare\",\n",
    "    \"pandemic\",\n",
    "    \"lgbtq\"\n",
    "]\n",
    "\n",
    "texts = df['notes'].tolist()\n",
    "\n",
    "batch_size = 8\n",
    "predictions = []\n",
    "\n",
    "for i in tqdm(range(0, len(texts), batch_size)):\n",
    "    batch = texts[i:i + batch_size]\n",
    "    results = classifier(batch, candidate_labels)\n",
    "    predictions.extend([res['labels'][0] for res in results])\n",
    "\n",
    "df['predicted_topic'] = predictions\n",
    "df['predicted_topic'] = df['predicted_topic'].str.split(':').str[0]\n",
    "df.to_csv('../data/topics_zsc.csv', index=False)"
   ]
  },
  {
   "cell_type": "code",
   "execution_count": 3,
   "id": "ea6f8c72",
   "metadata": {},
   "outputs": [
    {
     "data": {
      "text/html": [
       "        <script type=\"text/javascript\">\n",
       "        window.PlotlyConfig = {MathJaxConfig: 'local'};\n",
       "        if (window.MathJax && window.MathJax.Hub && window.MathJax.Hub.Config) {window.MathJax.Hub.Config({SVG: {font: \"STIX-Web\"}});}\n",
       "        if (typeof require !== 'undefined') {\n",
       "        require.undef(\"plotly\");\n",
       "        requirejs.config({\n",
       "            paths: {\n",
       "                'plotly': ['https://cdn.plot.ly/plotly-2.35.2.min']\n",
       "            }\n",
       "        });\n",
       "        require(['plotly'], function(Plotly) {\n",
       "            window._Plotly = Plotly;\n",
       "        });\n",
       "        }\n",
       "        </script>\n",
       "        "
      ]
     },
     "metadata": {},
     "output_type": "display_data"
    },
    {
     "data": {
      "application/vnd.plotly.v1+json": {
       "config": {
        "linkText": "Export to plot.ly",
        "plotlyServerURL": "https://plot.ly",
        "showLink": false
       },
       "data": [
        {
         "alignmentgroup": "True",
         "hovertemplate": "Category:'%{x}' Counted: %{y}",
         "legendgroup": "policies",
         "marker": {
          "color": "#636efa",
          "pattern": {
           "shape": ""
          }
         },
         "name": "policies",
         "offsetgroup": "policies",
         "orientation": "v",
         "showlegend": true,
         "text": [
          15653
         ],
         "textposition": "auto",
         "type": "bar",
         "x": [
          "policies"
         ],
         "xaxis": "x",
         "y": [
          15653
         ],
         "yaxis": "y"
        },
        {
         "alignmentgroup": "True",
         "hovertemplate": "Category:'%{x}' Counted: %{y}",
         "legendgroup": "health care",
         "marker": {
          "color": "#EF553B",
          "pattern": {
           "shape": ""
          }
         },
         "name": "health care",
         "offsetgroup": "health care",
         "orientation": "v",
         "showlegend": true,
         "text": [
          13021
         ],
         "textposition": "auto",
         "type": "bar",
         "x": [
          "health care"
         ],
         "xaxis": "x",
         "y": [
          13021
         ],
         "yaxis": "y"
        },
        {
         "alignmentgroup": "True",
         "hovertemplate": "Category:'%{x}' Counted: %{y}",
         "legendgroup": "labor rights",
         "marker": {
          "color": "#00cc96",
          "pattern": {
           "shape": ""
          }
         },
         "name": "labor rights",
         "offsetgroup": "labor rights",
         "orientation": "v",
         "showlegend": true,
         "text": [
          12107
         ],
         "textposition": "auto",
         "type": "bar",
         "x": [
          "labor rights"
         ],
         "xaxis": "x",
         "y": [
          12107
         ],
         "yaxis": "y"
        },
        {
         "alignmentgroup": "True",
         "hovertemplate": "Category:'%{x}' Counted: %{y}",
         "legendgroup": "pandemic",
         "marker": {
          "color": "#ab63fa",
          "pattern": {
           "shape": ""
          }
         },
         "name": "pandemic",
         "offsetgroup": "pandemic",
         "orientation": "v",
         "showlegend": true,
         "text": [
          11155
         ],
         "textposition": "auto",
         "type": "bar",
         "x": [
          "pandemic"
         ],
         "xaxis": "x",
         "y": [
          11155
         ],
         "yaxis": "y"
        },
        {
         "alignmentgroup": "True",
         "hovertemplate": "Category:'%{x}' Counted: %{y}",
         "legendgroup": "environment",
         "marker": {
          "color": "#FFA15A",
          "pattern": {
           "shape": ""
          }
         },
         "name": "environment",
         "offsetgroup": "environment",
         "orientation": "v",
         "showlegend": true,
         "text": [
          10868
         ],
         "textposition": "auto",
         "type": "bar",
         "x": [
          "environment"
         ],
         "xaxis": "x",
         "y": [
          10868
         ],
         "yaxis": "y"
        },
        {
         "alignmentgroup": "True",
         "hovertemplate": "Category:'%{x}' Counted: %{y}",
         "legendgroup": "education",
         "marker": {
          "color": "#19d3f3",
          "pattern": {
           "shape": ""
          }
         },
         "name": "education",
         "offsetgroup": "education",
         "orientation": "v",
         "showlegend": true,
         "text": [
          9378
         ],
         "textposition": "auto",
         "type": "bar",
         "x": [
          "education"
         ],
         "xaxis": "x",
         "y": [
          9378
         ],
         "yaxis": "y"
        },
        {
         "alignmentgroup": "True",
         "hovertemplate": "Category:'%{x}' Counted: %{y}",
         "legendgroup": "public services",
         "marker": {
          "color": "#FF6692",
          "pattern": {
           "shape": ""
          }
         },
         "name": "public services",
         "offsetgroup": "public services",
         "orientation": "v",
         "showlegend": true,
         "text": [
          9275
         ],
         "textposition": "auto",
         "type": "bar",
         "x": [
          "public services"
         ],
         "xaxis": "x",
         "y": [
          9275
         ],
         "yaxis": "y"
        },
        {
         "alignmentgroup": "True",
         "hovertemplate": "Category:'%{x}' Counted: %{y}",
         "legendgroup": "farmers",
         "marker": {
          "color": "#B6E880",
          "pattern": {
           "shape": ""
          }
         },
         "name": "farmers",
         "offsetgroup": "farmers",
         "orientation": "v",
         "showlegend": true,
         "text": [
          9191
         ],
         "textposition": "auto",
         "type": "bar",
         "x": [
          "farmers"
         ],
         "xaxis": "x",
         "y": [
          9191
         ],
         "yaxis": "y"
        },
        {
         "alignmentgroup": "True",
         "hovertemplate": "Category:'%{x}' Counted: %{y}",
         "legendgroup": "palestine-israel conflict",
         "marker": {
          "color": "#FF97FF",
          "pattern": {
           "shape": ""
          }
         },
         "name": "palestine-israel conflict",
         "offsetgroup": "palestine-israel conflict",
         "orientation": "v",
         "showlegend": true,
         "text": [
          5525
         ],
         "textposition": "auto",
         "type": "bar",
         "x": [
          "palestine-israel conflict"
         ],
         "xaxis": "x",
         "y": [
          5525
         ],
         "yaxis": "y"
        },
        {
         "alignmentgroup": "True",
         "hovertemplate": "Category:'%{x}' Counted: %{y}",
         "legendgroup": "unjust law enforcement",
         "marker": {
          "color": "#FECB52",
          "pattern": {
           "shape": ""
          }
         },
         "name": "unjust law enforcement",
         "offsetgroup": "unjust law enforcement",
         "orientation": "v",
         "showlegend": true,
         "text": [
          4639
         ],
         "textposition": "auto",
         "type": "bar",
         "x": [
          "unjust law enforcement"
         ],
         "xaxis": "x",
         "y": [
          4639
         ],
         "yaxis": "y"
        },
        {
         "alignmentgroup": "True",
         "hovertemplate": "Category:'%{x}' Counted: %{y}",
         "legendgroup": "housing",
         "marker": {
          "color": "#636efa",
          "pattern": {
           "shape": ""
          }
         },
         "name": "housing",
         "offsetgroup": "housing",
         "orientation": "v",
         "showlegend": true,
         "text": [
          4479
         ],
         "textposition": "auto",
         "type": "bar",
         "x": [
          "housing"
         ],
         "xaxis": "x",
         "y": [
          4479
         ],
         "yaxis": "y"
        },
        {
         "alignmentgroup": "True",
         "hovertemplate": "Category:'%{x}' Counted: %{y}",
         "legendgroup": "discrimination",
         "marker": {
          "color": "#EF553B",
          "pattern": {
           "shape": ""
          }
         },
         "name": "discrimination",
         "offsetgroup": "discrimination",
         "orientation": "v",
         "showlegend": true,
         "text": [
          4448
         ],
         "textposition": "auto",
         "type": "bar",
         "x": [
          "discrimination"
         ],
         "xaxis": "x",
         "y": [
          4448
         ],
         "yaxis": "y"
        },
        {
         "alignmentgroup": "True",
         "hovertemplate": "Category:'%{x}' Counted: %{y}",
         "legendgroup": "ukraine-russia war",
         "marker": {
          "color": "#00cc96",
          "pattern": {
           "shape": ""
          }
         },
         "name": "ukraine-russia war",
         "offsetgroup": "ukraine-russia war",
         "orientation": "v",
         "showlegend": true,
         "text": [
          3746
         ],
         "textposition": "auto",
         "type": "bar",
         "x": [
          "ukraine-russia war"
         ],
         "xaxis": "x",
         "y": [
          3746
         ],
         "yaxis": "y"
        },
        {
         "alignmentgroup": "True",
         "hovertemplate": "Category:'%{x}' Counted: %{y}",
         "legendgroup": "women rights",
         "marker": {
          "color": "#ab63fa",
          "pattern": {
           "shape": ""
          }
         },
         "name": "women rights",
         "offsetgroup": "women rights",
         "orientation": "v",
         "showlegend": true,
         "text": [
          2917
         ],
         "textposition": "auto",
         "type": "bar",
         "x": [
          "women rights"
         ],
         "xaxis": "x",
         "y": [
          2917
         ],
         "yaxis": "y"
        },
        {
         "alignmentgroup": "True",
         "hovertemplate": "Category:'%{x}' Counted: %{y}",
         "legendgroup": "culture",
         "marker": {
          "color": "#FFA15A",
          "pattern": {
           "shape": ""
          }
         },
         "name": "culture",
         "offsetgroup": "culture",
         "orientation": "v",
         "showlegend": true,
         "text": [
          2236
         ],
         "textposition": "auto",
         "type": "bar",
         "x": [
          "culture"
         ],
         "xaxis": "x",
         "y": [
          2236
         ],
         "yaxis": "y"
        },
        {
         "alignmentgroup": "True",
         "hovertemplate": "Category:'%{x}' Counted: %{y}",
         "legendgroup": "animal welfare",
         "marker": {
          "color": "#19d3f3",
          "pattern": {
           "shape": ""
          }
         },
         "name": "animal welfare",
         "offsetgroup": "animal welfare",
         "orientation": "v",
         "showlegend": true,
         "text": [
          1332
         ],
         "textposition": "auto",
         "type": "bar",
         "x": [
          "animal welfare"
         ],
         "xaxis": "x",
         "y": [
          1332
         ],
         "yaxis": "y"
        },
        {
         "alignmentgroup": "True",
         "hovertemplate": "Category:'%{x}' Counted: %{y}",
         "legendgroup": "lgbtq",
         "marker": {
          "color": "#FF6692",
          "pattern": {
           "shape": ""
          }
         },
         "name": "lgbtq",
         "offsetgroup": "lgbtq",
         "orientation": "v",
         "showlegend": true,
         "text": [
          1261
         ],
         "textposition": "auto",
         "type": "bar",
         "x": [
          "lgbtq"
         ],
         "xaxis": "x",
         "y": [
          1261
         ],
         "yaxis": "y"
        },
        {
         "alignmentgroup": "True",
         "hovertemplate": "Category:'%{x}' Counted: %{y}",
         "legendgroup": "immigration",
         "marker": {
          "color": "#B6E880",
          "pattern": {
           "shape": ""
          }
         },
         "name": "immigration",
         "offsetgroup": "immigration",
         "orientation": "v",
         "showlegend": true,
         "text": [
          1062
         ],
         "textposition": "auto",
         "type": "bar",
         "x": [
          "immigration"
         ],
         "xaxis": "x",
         "y": [
          1062
         ],
         "yaxis": "y"
        },
        {
         "alignmentgroup": "True",
         "hovertemplate": "Category:'%{x}' Counted: %{y}",
         "legendgroup": "climate",
         "marker": {
          "color": "#FF97FF",
          "pattern": {
           "shape": ""
          }
         },
         "name": "climate",
         "offsetgroup": "climate",
         "orientation": "v",
         "showlegend": true,
         "text": [
          201
         ],
         "textposition": "auto",
         "type": "bar",
         "x": [
          "climate"
         ],
         "xaxis": "x",
         "y": [
          201
         ],
         "yaxis": "y"
        }
       ],
       "layout": {
        "barmode": "relative",
        "height": 500,
        "legend": {
         "title": {
          "text": "color"
         },
         "tracegroupgap": 0
        },
        "margin": {
         "t": 60
        },
        "plot_bgcolor": "white",
        "showlegend": false,
        "template": {
         "data": {
          "bar": [
           {
            "error_x": {
             "color": "#2a3f5f"
            },
            "error_y": {
             "color": "#2a3f5f"
            },
            "marker": {
             "line": {
              "color": "#E5ECF6",
              "width": 0.5
             },
             "pattern": {
              "fillmode": "overlay",
              "size": 10,
              "solidity": 0.2
             }
            },
            "type": "bar"
           }
          ],
          "barpolar": [
           {
            "marker": {
             "line": {
              "color": "#E5ECF6",
              "width": 0.5
             },
             "pattern": {
              "fillmode": "overlay",
              "size": 10,
              "solidity": 0.2
             }
            },
            "type": "barpolar"
           }
          ],
          "carpet": [
           {
            "aaxis": {
             "endlinecolor": "#2a3f5f",
             "gridcolor": "white",
             "linecolor": "white",
             "minorgridcolor": "white",
             "startlinecolor": "#2a3f5f"
            },
            "baxis": {
             "endlinecolor": "#2a3f5f",
             "gridcolor": "white",
             "linecolor": "white",
             "minorgridcolor": "white",
             "startlinecolor": "#2a3f5f"
            },
            "type": "carpet"
           }
          ],
          "choropleth": [
           {
            "colorbar": {
             "outlinewidth": 0,
             "ticks": ""
            },
            "type": "choropleth"
           }
          ],
          "contour": [
           {
            "colorbar": {
             "outlinewidth": 0,
             "ticks": ""
            },
            "colorscale": [
             [
              0,
              "#0d0887"
             ],
             [
              0.1111111111111111,
              "#46039f"
             ],
             [
              0.2222222222222222,
              "#7201a8"
             ],
             [
              0.3333333333333333,
              "#9c179e"
             ],
             [
              0.4444444444444444,
              "#bd3786"
             ],
             [
              0.5555555555555556,
              "#d8576b"
             ],
             [
              0.6666666666666666,
              "#ed7953"
             ],
             [
              0.7777777777777778,
              "#fb9f3a"
             ],
             [
              0.8888888888888888,
              "#fdca26"
             ],
             [
              1,
              "#f0f921"
             ]
            ],
            "type": "contour"
           }
          ],
          "contourcarpet": [
           {
            "colorbar": {
             "outlinewidth": 0,
             "ticks": ""
            },
            "type": "contourcarpet"
           }
          ],
          "heatmap": [
           {
            "colorbar": {
             "outlinewidth": 0,
             "ticks": ""
            },
            "colorscale": [
             [
              0,
              "#0d0887"
             ],
             [
              0.1111111111111111,
              "#46039f"
             ],
             [
              0.2222222222222222,
              "#7201a8"
             ],
             [
              0.3333333333333333,
              "#9c179e"
             ],
             [
              0.4444444444444444,
              "#bd3786"
             ],
             [
              0.5555555555555556,
              "#d8576b"
             ],
             [
              0.6666666666666666,
              "#ed7953"
             ],
             [
              0.7777777777777778,
              "#fb9f3a"
             ],
             [
              0.8888888888888888,
              "#fdca26"
             ],
             [
              1,
              "#f0f921"
             ]
            ],
            "type": "heatmap"
           }
          ],
          "heatmapgl": [
           {
            "colorbar": {
             "outlinewidth": 0,
             "ticks": ""
            },
            "colorscale": [
             [
              0,
              "#0d0887"
             ],
             [
              0.1111111111111111,
              "#46039f"
             ],
             [
              0.2222222222222222,
              "#7201a8"
             ],
             [
              0.3333333333333333,
              "#9c179e"
             ],
             [
              0.4444444444444444,
              "#bd3786"
             ],
             [
              0.5555555555555556,
              "#d8576b"
             ],
             [
              0.6666666666666666,
              "#ed7953"
             ],
             [
              0.7777777777777778,
              "#fb9f3a"
             ],
             [
              0.8888888888888888,
              "#fdca26"
             ],
             [
              1,
              "#f0f921"
             ]
            ],
            "type": "heatmapgl"
           }
          ],
          "histogram": [
           {
            "marker": {
             "pattern": {
              "fillmode": "overlay",
              "size": 10,
              "solidity": 0.2
             }
            },
            "type": "histogram"
           }
          ],
          "histogram2d": [
           {
            "colorbar": {
             "outlinewidth": 0,
             "ticks": ""
            },
            "colorscale": [
             [
              0,
              "#0d0887"
             ],
             [
              0.1111111111111111,
              "#46039f"
             ],
             [
              0.2222222222222222,
              "#7201a8"
             ],
             [
              0.3333333333333333,
              "#9c179e"
             ],
             [
              0.4444444444444444,
              "#bd3786"
             ],
             [
              0.5555555555555556,
              "#d8576b"
             ],
             [
              0.6666666666666666,
              "#ed7953"
             ],
             [
              0.7777777777777778,
              "#fb9f3a"
             ],
             [
              0.8888888888888888,
              "#fdca26"
             ],
             [
              1,
              "#f0f921"
             ]
            ],
            "type": "histogram2d"
           }
          ],
          "histogram2dcontour": [
           {
            "colorbar": {
             "outlinewidth": 0,
             "ticks": ""
            },
            "colorscale": [
             [
              0,
              "#0d0887"
             ],
             [
              0.1111111111111111,
              "#46039f"
             ],
             [
              0.2222222222222222,
              "#7201a8"
             ],
             [
              0.3333333333333333,
              "#9c179e"
             ],
             [
              0.4444444444444444,
              "#bd3786"
             ],
             [
              0.5555555555555556,
              "#d8576b"
             ],
             [
              0.6666666666666666,
              "#ed7953"
             ],
             [
              0.7777777777777778,
              "#fb9f3a"
             ],
             [
              0.8888888888888888,
              "#fdca26"
             ],
             [
              1,
              "#f0f921"
             ]
            ],
            "type": "histogram2dcontour"
           }
          ],
          "mesh3d": [
           {
            "colorbar": {
             "outlinewidth": 0,
             "ticks": ""
            },
            "type": "mesh3d"
           }
          ],
          "parcoords": [
           {
            "line": {
             "colorbar": {
              "outlinewidth": 0,
              "ticks": ""
             }
            },
            "type": "parcoords"
           }
          ],
          "pie": [
           {
            "automargin": true,
            "type": "pie"
           }
          ],
          "scatter": [
           {
            "fillpattern": {
             "fillmode": "overlay",
             "size": 10,
             "solidity": 0.2
            },
            "type": "scatter"
           }
          ],
          "scatter3d": [
           {
            "line": {
             "colorbar": {
              "outlinewidth": 0,
              "ticks": ""
             }
            },
            "marker": {
             "colorbar": {
              "outlinewidth": 0,
              "ticks": ""
             }
            },
            "type": "scatter3d"
           }
          ],
          "scattercarpet": [
           {
            "marker": {
             "colorbar": {
              "outlinewidth": 0,
              "ticks": ""
             }
            },
            "type": "scattercarpet"
           }
          ],
          "scattergeo": [
           {
            "marker": {
             "colorbar": {
              "outlinewidth": 0,
              "ticks": ""
             }
            },
            "type": "scattergeo"
           }
          ],
          "scattergl": [
           {
            "marker": {
             "colorbar": {
              "outlinewidth": 0,
              "ticks": ""
             }
            },
            "type": "scattergl"
           }
          ],
          "scattermapbox": [
           {
            "marker": {
             "colorbar": {
              "outlinewidth": 0,
              "ticks": ""
             }
            },
            "type": "scattermapbox"
           }
          ],
          "scatterpolar": [
           {
            "marker": {
             "colorbar": {
              "outlinewidth": 0,
              "ticks": ""
             }
            },
            "type": "scatterpolar"
           }
          ],
          "scatterpolargl": [
           {
            "marker": {
             "colorbar": {
              "outlinewidth": 0,
              "ticks": ""
             }
            },
            "type": "scatterpolargl"
           }
          ],
          "scatterternary": [
           {
            "marker": {
             "colorbar": {
              "outlinewidth": 0,
              "ticks": ""
             }
            },
            "type": "scatterternary"
           }
          ],
          "surface": [
           {
            "colorbar": {
             "outlinewidth": 0,
             "ticks": ""
            },
            "colorscale": [
             [
              0,
              "#0d0887"
             ],
             [
              0.1111111111111111,
              "#46039f"
             ],
             [
              0.2222222222222222,
              "#7201a8"
             ],
             [
              0.3333333333333333,
              "#9c179e"
             ],
             [
              0.4444444444444444,
              "#bd3786"
             ],
             [
              0.5555555555555556,
              "#d8576b"
             ],
             [
              0.6666666666666666,
              "#ed7953"
             ],
             [
              0.7777777777777778,
              "#fb9f3a"
             ],
             [
              0.8888888888888888,
              "#fdca26"
             ],
             [
              1,
              "#f0f921"
             ]
            ],
            "type": "surface"
           }
          ],
          "table": [
           {
            "cells": {
             "fill": {
              "color": "#EBF0F8"
             },
             "line": {
              "color": "white"
             }
            },
            "header": {
             "fill": {
              "color": "#C8D4E3"
             },
             "line": {
              "color": "white"
             }
            },
            "type": "table"
           }
          ]
         },
         "layout": {
          "annotationdefaults": {
           "arrowcolor": "#2a3f5f",
           "arrowhead": 0,
           "arrowwidth": 1
          },
          "autotypenumbers": "strict",
          "coloraxis": {
           "colorbar": {
            "outlinewidth": 0,
            "ticks": ""
           }
          },
          "colorscale": {
           "diverging": [
            [
             0,
             "#8e0152"
            ],
            [
             0.1,
             "#c51b7d"
            ],
            [
             0.2,
             "#de77ae"
            ],
            [
             0.3,
             "#f1b6da"
            ],
            [
             0.4,
             "#fde0ef"
            ],
            [
             0.5,
             "#f7f7f7"
            ],
            [
             0.6,
             "#e6f5d0"
            ],
            [
             0.7,
             "#b8e186"
            ],
            [
             0.8,
             "#7fbc41"
            ],
            [
             0.9,
             "#4d9221"
            ],
            [
             1,
             "#276419"
            ]
           ],
           "sequential": [
            [
             0,
             "#0d0887"
            ],
            [
             0.1111111111111111,
             "#46039f"
            ],
            [
             0.2222222222222222,
             "#7201a8"
            ],
            [
             0.3333333333333333,
             "#9c179e"
            ],
            [
             0.4444444444444444,
             "#bd3786"
            ],
            [
             0.5555555555555556,
             "#d8576b"
            ],
            [
             0.6666666666666666,
             "#ed7953"
            ],
            [
             0.7777777777777778,
             "#fb9f3a"
            ],
            [
             0.8888888888888888,
             "#fdca26"
            ],
            [
             1,
             "#f0f921"
            ]
           ],
           "sequentialminus": [
            [
             0,
             "#0d0887"
            ],
            [
             0.1111111111111111,
             "#46039f"
            ],
            [
             0.2222222222222222,
             "#7201a8"
            ],
            [
             0.3333333333333333,
             "#9c179e"
            ],
            [
             0.4444444444444444,
             "#bd3786"
            ],
            [
             0.5555555555555556,
             "#d8576b"
            ],
            [
             0.6666666666666666,
             "#ed7953"
            ],
            [
             0.7777777777777778,
             "#fb9f3a"
            ],
            [
             0.8888888888888888,
             "#fdca26"
            ],
            [
             1,
             "#f0f921"
            ]
           ]
          },
          "colorway": [
           "#636efa",
           "#EF553B",
           "#00cc96",
           "#ab63fa",
           "#FFA15A",
           "#19d3f3",
           "#FF6692",
           "#B6E880",
           "#FF97FF",
           "#FECB52"
          ],
          "font": {
           "color": "#2a3f5f"
          },
          "geo": {
           "bgcolor": "white",
           "lakecolor": "white",
           "landcolor": "#E5ECF6",
           "showlakes": true,
           "showland": true,
           "subunitcolor": "white"
          },
          "hoverlabel": {
           "align": "left"
          },
          "hovermode": "closest",
          "mapbox": {
           "style": "light"
          },
          "paper_bgcolor": "white",
          "plot_bgcolor": "#E5ECF6",
          "polar": {
           "angularaxis": {
            "gridcolor": "white",
            "linecolor": "white",
            "ticks": ""
           },
           "bgcolor": "#E5ECF6",
           "radialaxis": {
            "gridcolor": "white",
            "linecolor": "white",
            "ticks": ""
           }
          },
          "scene": {
           "xaxis": {
            "backgroundcolor": "#E5ECF6",
            "gridcolor": "white",
            "gridwidth": 2,
            "linecolor": "white",
            "showbackground": true,
            "ticks": "",
            "zerolinecolor": "white"
           },
           "yaxis": {
            "backgroundcolor": "#E5ECF6",
            "gridcolor": "white",
            "gridwidth": 2,
            "linecolor": "white",
            "showbackground": true,
            "ticks": "",
            "zerolinecolor": "white"
           },
           "zaxis": {
            "backgroundcolor": "#E5ECF6",
            "gridcolor": "white",
            "gridwidth": 2,
            "linecolor": "white",
            "showbackground": true,
            "ticks": "",
            "zerolinecolor": "white"
           }
          },
          "shapedefaults": {
           "line": {
            "color": "#2a3f5f"
           }
          },
          "ternary": {
           "aaxis": {
            "gridcolor": "white",
            "linecolor": "white",
            "ticks": ""
           },
           "baxis": {
            "gridcolor": "white",
            "linecolor": "white",
            "ticks": ""
           },
           "bgcolor": "#E5ECF6",
           "caxis": {
            "gridcolor": "white",
            "linecolor": "white",
            "ticks": ""
           }
          },
          "title": {
           "x": 0.05
          },
          "xaxis": {
           "automargin": true,
           "gridcolor": "white",
           "linecolor": "white",
           "ticks": "",
           "title": {
            "standoff": 15
           },
           "zerolinecolor": "white",
           "zerolinewidth": 2
          },
          "yaxis": {
           "automargin": true,
           "gridcolor": "white",
           "linecolor": "white",
           "ticks": "",
           "title": {
            "standoff": 15
           },
           "zerolinecolor": "white",
           "zerolinewidth": 2
          }
         }
        },
        "title": {
         "font": {
          "size": 35
         },
         "text": "Category Counts",
         "x": 0.5
        },
        "width": 800,
        "xaxis": {
         "anchor": "y",
         "domain": [
          0,
          1
         ],
         "showgrid": false,
         "title": {
          "text": "Category"
         }
        },
        "yaxis": {
         "anchor": "x",
         "domain": [
          0,
          1
         ],
         "showgrid": false,
         "title": {
          "text": "Value"
         }
        }
       }
      },
      "text/html": [
       "<div>                            <div id=\"c23da7f5-982e-41f2-a638-4a5f26e9d567\" class=\"plotly-graph-div\" style=\"height:500px; width:800px;\"></div>            <script type=\"text/javascript\">                require([\"plotly\"], function(Plotly) {                    window.PLOTLYENV=window.PLOTLYENV || {};                                    if (document.getElementById(\"c23da7f5-982e-41f2-a638-4a5f26e9d567\")) {                    Plotly.newPlot(                        \"c23da7f5-982e-41f2-a638-4a5f26e9d567\",                        [{\"alignmentgroup\":\"True\",\"hovertemplate\":\"Category:'%{x}' Counted: %{y}\",\"legendgroup\":\"policies\",\"marker\":{\"color\":\"#636efa\",\"pattern\":{\"shape\":\"\"}},\"name\":\"policies\",\"offsetgroup\":\"policies\",\"orientation\":\"v\",\"showlegend\":true,\"text\":[15653.0],\"textposition\":\"auto\",\"x\":[\"policies\"],\"xaxis\":\"x\",\"y\":[15653],\"yaxis\":\"y\",\"type\":\"bar\"},{\"alignmentgroup\":\"True\",\"hovertemplate\":\"Category:'%{x}' Counted: %{y}\",\"legendgroup\":\"health care\",\"marker\":{\"color\":\"#EF553B\",\"pattern\":{\"shape\":\"\"}},\"name\":\"health care\",\"offsetgroup\":\"health care\",\"orientation\":\"v\",\"showlegend\":true,\"text\":[13021.0],\"textposition\":\"auto\",\"x\":[\"health care\"],\"xaxis\":\"x\",\"y\":[13021],\"yaxis\":\"y\",\"type\":\"bar\"},{\"alignmentgroup\":\"True\",\"hovertemplate\":\"Category:'%{x}' Counted: %{y}\",\"legendgroup\":\"labor rights\",\"marker\":{\"color\":\"#00cc96\",\"pattern\":{\"shape\":\"\"}},\"name\":\"labor rights\",\"offsetgroup\":\"labor rights\",\"orientation\":\"v\",\"showlegend\":true,\"text\":[12107.0],\"textposition\":\"auto\",\"x\":[\"labor rights\"],\"xaxis\":\"x\",\"y\":[12107],\"yaxis\":\"y\",\"type\":\"bar\"},{\"alignmentgroup\":\"True\",\"hovertemplate\":\"Category:'%{x}' Counted: %{y}\",\"legendgroup\":\"pandemic\",\"marker\":{\"color\":\"#ab63fa\",\"pattern\":{\"shape\":\"\"}},\"name\":\"pandemic\",\"offsetgroup\":\"pandemic\",\"orientation\":\"v\",\"showlegend\":true,\"text\":[11155.0],\"textposition\":\"auto\",\"x\":[\"pandemic\"],\"xaxis\":\"x\",\"y\":[11155],\"yaxis\":\"y\",\"type\":\"bar\"},{\"alignmentgroup\":\"True\",\"hovertemplate\":\"Category:'%{x}' Counted: %{y}\",\"legendgroup\":\"environment\",\"marker\":{\"color\":\"#FFA15A\",\"pattern\":{\"shape\":\"\"}},\"name\":\"environment\",\"offsetgroup\":\"environment\",\"orientation\":\"v\",\"showlegend\":true,\"text\":[10868.0],\"textposition\":\"auto\",\"x\":[\"environment\"],\"xaxis\":\"x\",\"y\":[10868],\"yaxis\":\"y\",\"type\":\"bar\"},{\"alignmentgroup\":\"True\",\"hovertemplate\":\"Category:'%{x}' Counted: %{y}\",\"legendgroup\":\"education\",\"marker\":{\"color\":\"#19d3f3\",\"pattern\":{\"shape\":\"\"}},\"name\":\"education\",\"offsetgroup\":\"education\",\"orientation\":\"v\",\"showlegend\":true,\"text\":[9378.0],\"textposition\":\"auto\",\"x\":[\"education\"],\"xaxis\":\"x\",\"y\":[9378],\"yaxis\":\"y\",\"type\":\"bar\"},{\"alignmentgroup\":\"True\",\"hovertemplate\":\"Category:'%{x}' Counted: %{y}\",\"legendgroup\":\"public services\",\"marker\":{\"color\":\"#FF6692\",\"pattern\":{\"shape\":\"\"}},\"name\":\"public services\",\"offsetgroup\":\"public services\",\"orientation\":\"v\",\"showlegend\":true,\"text\":[9275.0],\"textposition\":\"auto\",\"x\":[\"public services\"],\"xaxis\":\"x\",\"y\":[9275],\"yaxis\":\"y\",\"type\":\"bar\"},{\"alignmentgroup\":\"True\",\"hovertemplate\":\"Category:'%{x}' Counted: %{y}\",\"legendgroup\":\"farmers\",\"marker\":{\"color\":\"#B6E880\",\"pattern\":{\"shape\":\"\"}},\"name\":\"farmers\",\"offsetgroup\":\"farmers\",\"orientation\":\"v\",\"showlegend\":true,\"text\":[9191.0],\"textposition\":\"auto\",\"x\":[\"farmers\"],\"xaxis\":\"x\",\"y\":[9191],\"yaxis\":\"y\",\"type\":\"bar\"},{\"alignmentgroup\":\"True\",\"hovertemplate\":\"Category:'%{x}' Counted: %{y}\",\"legendgroup\":\"palestine-israel conflict\",\"marker\":{\"color\":\"#FF97FF\",\"pattern\":{\"shape\":\"\"}},\"name\":\"palestine-israel conflict\",\"offsetgroup\":\"palestine-israel conflict\",\"orientation\":\"v\",\"showlegend\":true,\"text\":[5525.0],\"textposition\":\"auto\",\"x\":[\"palestine-israel conflict\"],\"xaxis\":\"x\",\"y\":[5525],\"yaxis\":\"y\",\"type\":\"bar\"},{\"alignmentgroup\":\"True\",\"hovertemplate\":\"Category:'%{x}' Counted: %{y}\",\"legendgroup\":\"unjust law enforcement\",\"marker\":{\"color\":\"#FECB52\",\"pattern\":{\"shape\":\"\"}},\"name\":\"unjust law enforcement\",\"offsetgroup\":\"unjust law enforcement\",\"orientation\":\"v\",\"showlegend\":true,\"text\":[4639.0],\"textposition\":\"auto\",\"x\":[\"unjust law enforcement\"],\"xaxis\":\"x\",\"y\":[4639],\"yaxis\":\"y\",\"type\":\"bar\"},{\"alignmentgroup\":\"True\",\"hovertemplate\":\"Category:'%{x}' Counted: %{y}\",\"legendgroup\":\"housing\",\"marker\":{\"color\":\"#636efa\",\"pattern\":{\"shape\":\"\"}},\"name\":\"housing\",\"offsetgroup\":\"housing\",\"orientation\":\"v\",\"showlegend\":true,\"text\":[4479.0],\"textposition\":\"auto\",\"x\":[\"housing\"],\"xaxis\":\"x\",\"y\":[4479],\"yaxis\":\"y\",\"type\":\"bar\"},{\"alignmentgroup\":\"True\",\"hovertemplate\":\"Category:'%{x}' Counted: %{y}\",\"legendgroup\":\"discrimination\",\"marker\":{\"color\":\"#EF553B\",\"pattern\":{\"shape\":\"\"}},\"name\":\"discrimination\",\"offsetgroup\":\"discrimination\",\"orientation\":\"v\",\"showlegend\":true,\"text\":[4448.0],\"textposition\":\"auto\",\"x\":[\"discrimination\"],\"xaxis\":\"x\",\"y\":[4448],\"yaxis\":\"y\",\"type\":\"bar\"},{\"alignmentgroup\":\"True\",\"hovertemplate\":\"Category:'%{x}' Counted: %{y}\",\"legendgroup\":\"ukraine-russia war\",\"marker\":{\"color\":\"#00cc96\",\"pattern\":{\"shape\":\"\"}},\"name\":\"ukraine-russia war\",\"offsetgroup\":\"ukraine-russia war\",\"orientation\":\"v\",\"showlegend\":true,\"text\":[3746.0],\"textposition\":\"auto\",\"x\":[\"ukraine-russia war\"],\"xaxis\":\"x\",\"y\":[3746],\"yaxis\":\"y\",\"type\":\"bar\"},{\"alignmentgroup\":\"True\",\"hovertemplate\":\"Category:'%{x}' Counted: %{y}\",\"legendgroup\":\"women rights\",\"marker\":{\"color\":\"#ab63fa\",\"pattern\":{\"shape\":\"\"}},\"name\":\"women rights\",\"offsetgroup\":\"women rights\",\"orientation\":\"v\",\"showlegend\":true,\"text\":[2917.0],\"textposition\":\"auto\",\"x\":[\"women rights\"],\"xaxis\":\"x\",\"y\":[2917],\"yaxis\":\"y\",\"type\":\"bar\"},{\"alignmentgroup\":\"True\",\"hovertemplate\":\"Category:'%{x}' Counted: %{y}\",\"legendgroup\":\"culture\",\"marker\":{\"color\":\"#FFA15A\",\"pattern\":{\"shape\":\"\"}},\"name\":\"culture\",\"offsetgroup\":\"culture\",\"orientation\":\"v\",\"showlegend\":true,\"text\":[2236.0],\"textposition\":\"auto\",\"x\":[\"culture\"],\"xaxis\":\"x\",\"y\":[2236],\"yaxis\":\"y\",\"type\":\"bar\"},{\"alignmentgroup\":\"True\",\"hovertemplate\":\"Category:'%{x}' Counted: %{y}\",\"legendgroup\":\"animal welfare\",\"marker\":{\"color\":\"#19d3f3\",\"pattern\":{\"shape\":\"\"}},\"name\":\"animal welfare\",\"offsetgroup\":\"animal welfare\",\"orientation\":\"v\",\"showlegend\":true,\"text\":[1332.0],\"textposition\":\"auto\",\"x\":[\"animal welfare\"],\"xaxis\":\"x\",\"y\":[1332],\"yaxis\":\"y\",\"type\":\"bar\"},{\"alignmentgroup\":\"True\",\"hovertemplate\":\"Category:'%{x}' Counted: %{y}\",\"legendgroup\":\"lgbtq\",\"marker\":{\"color\":\"#FF6692\",\"pattern\":{\"shape\":\"\"}},\"name\":\"lgbtq\",\"offsetgroup\":\"lgbtq\",\"orientation\":\"v\",\"showlegend\":true,\"text\":[1261.0],\"textposition\":\"auto\",\"x\":[\"lgbtq\"],\"xaxis\":\"x\",\"y\":[1261],\"yaxis\":\"y\",\"type\":\"bar\"},{\"alignmentgroup\":\"True\",\"hovertemplate\":\"Category:'%{x}' Counted: %{y}\",\"legendgroup\":\"immigration\",\"marker\":{\"color\":\"#B6E880\",\"pattern\":{\"shape\":\"\"}},\"name\":\"immigration\",\"offsetgroup\":\"immigration\",\"orientation\":\"v\",\"showlegend\":true,\"text\":[1062.0],\"textposition\":\"auto\",\"x\":[\"immigration\"],\"xaxis\":\"x\",\"y\":[1062],\"yaxis\":\"y\",\"type\":\"bar\"},{\"alignmentgroup\":\"True\",\"hovertemplate\":\"Category:'%{x}' Counted: %{y}\",\"legendgroup\":\"climate\",\"marker\":{\"color\":\"#FF97FF\",\"pattern\":{\"shape\":\"\"}},\"name\":\"climate\",\"offsetgroup\":\"climate\",\"orientation\":\"v\",\"showlegend\":true,\"text\":[201.0],\"textposition\":\"auto\",\"x\":[\"climate\"],\"xaxis\":\"x\",\"y\":[201],\"yaxis\":\"y\",\"type\":\"bar\"}],                        {\"barmode\":\"relative\",\"height\":500,\"legend\":{\"title\":{\"text\":\"color\"},\"tracegroupgap\":0},\"margin\":{\"t\":60},\"plot_bgcolor\":\"white\",\"showlegend\":false,\"template\":{\"data\":{\"barpolar\":[{\"marker\":{\"line\":{\"color\":\"#E5ECF6\",\"width\":0.5},\"pattern\":{\"fillmode\":\"overlay\",\"size\":10,\"solidity\":0.2}},\"type\":\"barpolar\"}],\"bar\":[{\"error_x\":{\"color\":\"#2a3f5f\"},\"error_y\":{\"color\":\"#2a3f5f\"},\"marker\":{\"line\":{\"color\":\"#E5ECF6\",\"width\":0.5},\"pattern\":{\"fillmode\":\"overlay\",\"size\":10,\"solidity\":0.2}},\"type\":\"bar\"}],\"carpet\":[{\"aaxis\":{\"endlinecolor\":\"#2a3f5f\",\"gridcolor\":\"white\",\"linecolor\":\"white\",\"minorgridcolor\":\"white\",\"startlinecolor\":\"#2a3f5f\"},\"baxis\":{\"endlinecolor\":\"#2a3f5f\",\"gridcolor\":\"white\",\"linecolor\":\"white\",\"minorgridcolor\":\"white\",\"startlinecolor\":\"#2a3f5f\"},\"type\":\"carpet\"}],\"choropleth\":[{\"colorbar\":{\"outlinewidth\":0,\"ticks\":\"\"},\"type\":\"choropleth\"}],\"contourcarpet\":[{\"colorbar\":{\"outlinewidth\":0,\"ticks\":\"\"},\"type\":\"contourcarpet\"}],\"contour\":[{\"colorbar\":{\"outlinewidth\":0,\"ticks\":\"\"},\"colorscale\":[[0.0,\"#0d0887\"],[0.1111111111111111,\"#46039f\"],[0.2222222222222222,\"#7201a8\"],[0.3333333333333333,\"#9c179e\"],[0.4444444444444444,\"#bd3786\"],[0.5555555555555556,\"#d8576b\"],[0.6666666666666666,\"#ed7953\"],[0.7777777777777778,\"#fb9f3a\"],[0.8888888888888888,\"#fdca26\"],[1.0,\"#f0f921\"]],\"type\":\"contour\"}],\"heatmapgl\":[{\"colorbar\":{\"outlinewidth\":0,\"ticks\":\"\"},\"colorscale\":[[0.0,\"#0d0887\"],[0.1111111111111111,\"#46039f\"],[0.2222222222222222,\"#7201a8\"],[0.3333333333333333,\"#9c179e\"],[0.4444444444444444,\"#bd3786\"],[0.5555555555555556,\"#d8576b\"],[0.6666666666666666,\"#ed7953\"],[0.7777777777777778,\"#fb9f3a\"],[0.8888888888888888,\"#fdca26\"],[1.0,\"#f0f921\"]],\"type\":\"heatmapgl\"}],\"heatmap\":[{\"colorbar\":{\"outlinewidth\":0,\"ticks\":\"\"},\"colorscale\":[[0.0,\"#0d0887\"],[0.1111111111111111,\"#46039f\"],[0.2222222222222222,\"#7201a8\"],[0.3333333333333333,\"#9c179e\"],[0.4444444444444444,\"#bd3786\"],[0.5555555555555556,\"#d8576b\"],[0.6666666666666666,\"#ed7953\"],[0.7777777777777778,\"#fb9f3a\"],[0.8888888888888888,\"#fdca26\"],[1.0,\"#f0f921\"]],\"type\":\"heatmap\"}],\"histogram2dcontour\":[{\"colorbar\":{\"outlinewidth\":0,\"ticks\":\"\"},\"colorscale\":[[0.0,\"#0d0887\"],[0.1111111111111111,\"#46039f\"],[0.2222222222222222,\"#7201a8\"],[0.3333333333333333,\"#9c179e\"],[0.4444444444444444,\"#bd3786\"],[0.5555555555555556,\"#d8576b\"],[0.6666666666666666,\"#ed7953\"],[0.7777777777777778,\"#fb9f3a\"],[0.8888888888888888,\"#fdca26\"],[1.0,\"#f0f921\"]],\"type\":\"histogram2dcontour\"}],\"histogram2d\":[{\"colorbar\":{\"outlinewidth\":0,\"ticks\":\"\"},\"colorscale\":[[0.0,\"#0d0887\"],[0.1111111111111111,\"#46039f\"],[0.2222222222222222,\"#7201a8\"],[0.3333333333333333,\"#9c179e\"],[0.4444444444444444,\"#bd3786\"],[0.5555555555555556,\"#d8576b\"],[0.6666666666666666,\"#ed7953\"],[0.7777777777777778,\"#fb9f3a\"],[0.8888888888888888,\"#fdca26\"],[1.0,\"#f0f921\"]],\"type\":\"histogram2d\"}],\"histogram\":[{\"marker\":{\"pattern\":{\"fillmode\":\"overlay\",\"size\":10,\"solidity\":0.2}},\"type\":\"histogram\"}],\"mesh3d\":[{\"colorbar\":{\"outlinewidth\":0,\"ticks\":\"\"},\"type\":\"mesh3d\"}],\"parcoords\":[{\"line\":{\"colorbar\":{\"outlinewidth\":0,\"ticks\":\"\"}},\"type\":\"parcoords\"}],\"pie\":[{\"automargin\":true,\"type\":\"pie\"}],\"scatter3d\":[{\"line\":{\"colorbar\":{\"outlinewidth\":0,\"ticks\":\"\"}},\"marker\":{\"colorbar\":{\"outlinewidth\":0,\"ticks\":\"\"}},\"type\":\"scatter3d\"}],\"scattercarpet\":[{\"marker\":{\"colorbar\":{\"outlinewidth\":0,\"ticks\":\"\"}},\"type\":\"scattercarpet\"}],\"scattergeo\":[{\"marker\":{\"colorbar\":{\"outlinewidth\":0,\"ticks\":\"\"}},\"type\":\"scattergeo\"}],\"scattergl\":[{\"marker\":{\"colorbar\":{\"outlinewidth\":0,\"ticks\":\"\"}},\"type\":\"scattergl\"}],\"scattermapbox\":[{\"marker\":{\"colorbar\":{\"outlinewidth\":0,\"ticks\":\"\"}},\"type\":\"scattermapbox\"}],\"scatterpolargl\":[{\"marker\":{\"colorbar\":{\"outlinewidth\":0,\"ticks\":\"\"}},\"type\":\"scatterpolargl\"}],\"scatterpolar\":[{\"marker\":{\"colorbar\":{\"outlinewidth\":0,\"ticks\":\"\"}},\"type\":\"scatterpolar\"}],\"scatter\":[{\"fillpattern\":{\"fillmode\":\"overlay\",\"size\":10,\"solidity\":0.2},\"type\":\"scatter\"}],\"scatterternary\":[{\"marker\":{\"colorbar\":{\"outlinewidth\":0,\"ticks\":\"\"}},\"type\":\"scatterternary\"}],\"surface\":[{\"colorbar\":{\"outlinewidth\":0,\"ticks\":\"\"},\"colorscale\":[[0.0,\"#0d0887\"],[0.1111111111111111,\"#46039f\"],[0.2222222222222222,\"#7201a8\"],[0.3333333333333333,\"#9c179e\"],[0.4444444444444444,\"#bd3786\"],[0.5555555555555556,\"#d8576b\"],[0.6666666666666666,\"#ed7953\"],[0.7777777777777778,\"#fb9f3a\"],[0.8888888888888888,\"#fdca26\"],[1.0,\"#f0f921\"]],\"type\":\"surface\"}],\"table\":[{\"cells\":{\"fill\":{\"color\":\"#EBF0F8\"},\"line\":{\"color\":\"white\"}},\"header\":{\"fill\":{\"color\":\"#C8D4E3\"},\"line\":{\"color\":\"white\"}},\"type\":\"table\"}]},\"layout\":{\"annotationdefaults\":{\"arrowcolor\":\"#2a3f5f\",\"arrowhead\":0,\"arrowwidth\":1},\"autotypenumbers\":\"strict\",\"coloraxis\":{\"colorbar\":{\"outlinewidth\":0,\"ticks\":\"\"}},\"colorscale\":{\"diverging\":[[0,\"#8e0152\"],[0.1,\"#c51b7d\"],[0.2,\"#de77ae\"],[0.3,\"#f1b6da\"],[0.4,\"#fde0ef\"],[0.5,\"#f7f7f7\"],[0.6,\"#e6f5d0\"],[0.7,\"#b8e186\"],[0.8,\"#7fbc41\"],[0.9,\"#4d9221\"],[1,\"#276419\"]],\"sequential\":[[0.0,\"#0d0887\"],[0.1111111111111111,\"#46039f\"],[0.2222222222222222,\"#7201a8\"],[0.3333333333333333,\"#9c179e\"],[0.4444444444444444,\"#bd3786\"],[0.5555555555555556,\"#d8576b\"],[0.6666666666666666,\"#ed7953\"],[0.7777777777777778,\"#fb9f3a\"],[0.8888888888888888,\"#fdca26\"],[1.0,\"#f0f921\"]],\"sequentialminus\":[[0.0,\"#0d0887\"],[0.1111111111111111,\"#46039f\"],[0.2222222222222222,\"#7201a8\"],[0.3333333333333333,\"#9c179e\"],[0.4444444444444444,\"#bd3786\"],[0.5555555555555556,\"#d8576b\"],[0.6666666666666666,\"#ed7953\"],[0.7777777777777778,\"#fb9f3a\"],[0.8888888888888888,\"#fdca26\"],[1.0,\"#f0f921\"]]},\"colorway\":[\"#636efa\",\"#EF553B\",\"#00cc96\",\"#ab63fa\",\"#FFA15A\",\"#19d3f3\",\"#FF6692\",\"#B6E880\",\"#FF97FF\",\"#FECB52\"],\"font\":{\"color\":\"#2a3f5f\"},\"geo\":{\"bgcolor\":\"white\",\"lakecolor\":\"white\",\"landcolor\":\"#E5ECF6\",\"showlakes\":true,\"showland\":true,\"subunitcolor\":\"white\"},\"hoverlabel\":{\"align\":\"left\"},\"hovermode\":\"closest\",\"mapbox\":{\"style\":\"light\"},\"paper_bgcolor\":\"white\",\"plot_bgcolor\":\"#E5ECF6\",\"polar\":{\"angularaxis\":{\"gridcolor\":\"white\",\"linecolor\":\"white\",\"ticks\":\"\"},\"bgcolor\":\"#E5ECF6\",\"radialaxis\":{\"gridcolor\":\"white\",\"linecolor\":\"white\",\"ticks\":\"\"}},\"scene\":{\"xaxis\":{\"backgroundcolor\":\"#E5ECF6\",\"gridcolor\":\"white\",\"gridwidth\":2,\"linecolor\":\"white\",\"showbackground\":true,\"ticks\":\"\",\"zerolinecolor\":\"white\"},\"yaxis\":{\"backgroundcolor\":\"#E5ECF6\",\"gridcolor\":\"white\",\"gridwidth\":2,\"linecolor\":\"white\",\"showbackground\":true,\"ticks\":\"\",\"zerolinecolor\":\"white\"},\"zaxis\":{\"backgroundcolor\":\"#E5ECF6\",\"gridcolor\":\"white\",\"gridwidth\":2,\"linecolor\":\"white\",\"showbackground\":true,\"ticks\":\"\",\"zerolinecolor\":\"white\"}},\"shapedefaults\":{\"line\":{\"color\":\"#2a3f5f\"}},\"ternary\":{\"aaxis\":{\"gridcolor\":\"white\",\"linecolor\":\"white\",\"ticks\":\"\"},\"baxis\":{\"gridcolor\":\"white\",\"linecolor\":\"white\",\"ticks\":\"\"},\"bgcolor\":\"#E5ECF6\",\"caxis\":{\"gridcolor\":\"white\",\"linecolor\":\"white\",\"ticks\":\"\"}},\"title\":{\"x\":0.05},\"xaxis\":{\"automargin\":true,\"gridcolor\":\"white\",\"linecolor\":\"white\",\"ticks\":\"\",\"title\":{\"standoff\":15},\"zerolinecolor\":\"white\",\"zerolinewidth\":2},\"yaxis\":{\"automargin\":true,\"gridcolor\":\"white\",\"linecolor\":\"white\",\"ticks\":\"\",\"title\":{\"standoff\":15},\"zerolinecolor\":\"white\",\"zerolinewidth\":2}}},\"title\":{\"font\":{\"size\":35},\"text\":\"Category Counts\",\"x\":0.5},\"width\":800,\"xaxis\":{\"anchor\":\"y\",\"domain\":[0.0,1.0],\"showgrid\":false,\"title\":{\"text\":\"Category\"}},\"yaxis\":{\"anchor\":\"x\",\"domain\":[0.0,1.0],\"showgrid\":false,\"title\":{\"text\":\"Value\"}}},                        {\"responsive\": true}                    ).then(function(){\n",
       "                            \n",
       "var gd = document.getElementById('c23da7f5-982e-41f2-a638-4a5f26e9d567');\n",
       "var x = new MutationObserver(function (mutations, observer) {{\n",
       "        var display = window.getComputedStyle(gd).display;\n",
       "        if (!display || display === 'none') {{\n",
       "            console.log([gd, 'removed!']);\n",
       "            Plotly.purge(gd);\n",
       "            observer.disconnect();\n",
       "        }}\n",
       "}});\n",
       "\n",
       "// Listen for the removal of the full notebook cells\n",
       "var notebookContainer = gd.closest('#notebook-container');\n",
       "if (notebookContainer) {{\n",
       "    x.observe(notebookContainer, {childList: true});\n",
       "}}\n",
       "\n",
       "// Listen for the clearing of the current output cell\n",
       "var outputEl = gd.closest('.output');\n",
       "if (outputEl) {{\n",
       "    x.observe(outputEl, {childList: true});\n",
       "}}\n",
       "\n",
       "                        })                };                });            </script>        </div>"
      ]
     },
     "metadata": {},
     "output_type": "display_data"
    }
   ],
   "source": [
    "import plotly.graph_objects as go\n",
    "from plotly.offline import iplot, init_notebook_mode\n",
    "import plotly.express as px\n",
    "import plotly.io as pio\n",
    "init_notebook_mode(True)\n",
    "\n",
    "fig = px.bar(x=df[\"predicted_topic\"].value_counts().index,y=df[\"predicted_topic\"].value_counts(),color=df[\"predicted_topic\"].value_counts().index,text=df[\"predicted_topic\"].value_counts())\n",
    "fig.update_traces(hovertemplate=\"Category:'%{x}' Counted: %{y}\")\n",
    "fig.update_layout(title={\"text\":\"Category Counts\",\"x\":0.5,\"font\":{\"size\":35}},xaxis={\"title\":\"Category\",\"showgrid\":False},yaxis={\"title\":\"Value\",\"showgrid\":False},plot_bgcolor=\"white\",width=800,height=500,showlegend=False)\n",
    "iplot(fig)"
   ]
  },
  {
   "cell_type": "code",
   "execution_count": 4,
   "id": "d800f463",
   "metadata": {},
   "outputs": [
    {
     "name": "stderr",
     "output_type": "stream",
     "text": [
      "C:\\Users\\semvv\\AppData\\Local\\Temp\\ipykernel_13276\\3565800152.py:1: DtypeWarning:\n",
      "\n",
      "Columns (12) have mixed types. Specify dtype option on import or set low_memory=False.\n",
      "\n"
     ]
    },
    {
     "name": "stdout",
     "output_type": "stream",
     "text": [
      "Accuracy: 0.4991591424886117\n",
      "\n",
      "Classification Report:\n",
      "                            precision    recall  f1-score   support\n",
      "\n",
      "           animal welfare       0.82      0.81      0.82      1336\n",
      "                  climate       0.56      0.02      0.04      5569\n",
      "                  culture       0.29      0.43      0.35      1508\n",
      "           discrimination       0.11      0.63      0.18       763\n",
      "                education       0.61      0.68      0.64      8468\n",
      "              environment       0.33      0.81      0.47      4483\n",
      "                  farmers       0.95      0.91      0.93      9668\n",
      "              health care       0.25      0.63      0.36      5174\n",
      "                  housing       0.17      0.92      0.29       820\n",
      "              immigration       0.21      0.32      0.25       720\n",
      "             labor rights       0.91      0.30      0.46     36309\n",
      "                    lgbtq       0.70      0.52      0.60      1681\n",
      "palestine-israel conflict       0.96      0.71      0.82      7425\n",
      "                 pandemic       0.75      0.57      0.65     14804\n",
      "                 policies       0.13      0.36      0.19      5598\n",
      "          public services       0.11      0.34      0.17      2988\n",
      "       ukraine-russia war       0.96      0.58      0.72      6169\n",
      "   unjust law enforcement       0.33      0.69      0.44      2176\n",
      "             women rights       0.94      0.40      0.56      6835\n",
      "\n",
      "                 accuracy                           0.50    122494\n",
      "                macro avg       0.53      0.56      0.47    122494\n",
      "             weighted avg       0.73      0.50      0.53    122494\n",
      "\n"
     ]
    }
   ],
   "source": [
    "df_true = pd.read_csv(\"../data/labeled.csv\")\n",
    "\n",
    "df_merged = pd.merge(df_true, df[['notes', 'predicted_topic']], on='notes', how='inner')\n",
    "\n",
    "\n",
    "from sklearn.metrics import classification_report, accuracy_score\n",
    "\n",
    "df_eval = df_merged[df_merged['class'] != 'unknown']\n",
    "\n",
    "y_true = df_eval['class']\n",
    "y_pred = df_eval['predicted_topic']\n",
    "\n",
    "print(\"Accuracy:\", accuracy_score(y_true, y_pred))\n",
    "print(\"\\nClassification Report:\\n\", classification_report(y_true, y_pred))"
   ]
  },
  {
   "cell_type": "code",
   "execution_count": 5,
   "id": "329ca4a5",
   "metadata": {},
   "outputs": [
    {
     "name": "stdout",
     "output_type": "stream",
     "text": [
      "        Unnamed: 0 event_id_cnty       event_date  year  time_precision  \\\n",
      "0                0       BEL4179      23 May 2025  2025               1   \n",
      "1                1       BEL4183      23 May 2025  2025               1   \n",
      "2                2       BGR4378      23 May 2025  2025               1   \n",
      "3                3       BGR4379      23 May 2025  2025               1   \n",
      "4                4       BGR4380      23 May 2025  2025               1   \n",
      "...            ...           ...              ...   ...             ...   \n",
      "122489      183058          ROU2  08 January 2018  2018               1   \n",
      "122490      183059       GRC2059  08 January 2018  2018               1   \n",
      "122491      183063          HRV1  07 January 2018  2018               1   \n",
      "122492      183069          BGR2  04 January 2018  2018               2   \n",
      "122493      183077          BGR1  03 January 2018  2018               1   \n",
      "\n",
      "         disorder_type event_type             sub_event_type  \\\n",
      "0       Demonstrations   Protests           Peaceful protest   \n",
      "1       Demonstrations   Protests           Peaceful protest   \n",
      "2       Demonstrations   Protests           Peaceful protest   \n",
      "3       Demonstrations   Protests           Peaceful protest   \n",
      "4       Demonstrations   Protests           Peaceful protest   \n",
      "...                ...        ...                        ...   \n",
      "122489  Demonstrations   Protests  Protest with intervention   \n",
      "122490  Demonstrations   Protests           Peaceful protest   \n",
      "122491  Demonstrations   Protests           Peaceful protest   \n",
      "122492  Demonstrations   Protests           Peaceful protest   \n",
      "122493  Demonstrations   Protests           Peaceful protest   \n",
      "\n",
      "                       actor1                           assoc_actor_1  ...  \\\n",
      "0        Protesters (Belgium)    Government of Belgium (2025-); Green  ...   \n",
      "1        Protesters (Belgium)                XR: Extinction Rebellion  ...   \n",
      "2       Protesters (Bulgaria)                  Labor Group (Bulgaria)  ...   \n",
      "3       Protesters (Bulgaria)                  Labor Group (Bulgaria)  ...   \n",
      "4       Protesters (Bulgaria)                  Labor Group (Bulgaria)  ...   \n",
      "...                       ...                                     ...  ...   \n",
      "122489   Protesters (Romania)                                     NaN  ...   \n",
      "122490    Protesters (Greece)                                     NaN  ...   \n",
      "122491   Protesters (Croatia)  RF: Workers Front; The Left (Slovenia)  ...   \n",
      "122492  Protesters (Bulgaria)                                     NaN  ...   \n",
      "122493  Protesters (Bulgaria)                  Labor Group (Bulgaria)  ...   \n",
      "\n",
      "                  source_scale  \\\n",
      "0                  Subnational   \n",
      "1               Other-National   \n",
      "2                     National   \n",
      "3                     National   \n",
      "4                     National   \n",
      "...                        ...   \n",
      "122489                National   \n",
      "122490                National   \n",
      "122491                National   \n",
      "122492  National-International   \n",
      "122493                National   \n",
      "\n",
      "                                                    notes fatalities  \\\n",
      "0       On 23 May 2025, in the afternoon, at the call ...          0   \n",
      "1       On 23 May 2025, XR protested at the Farmers Un...          0   \n",
      "2       On 23 May 2025, librarians and representatives...          0   \n",
      "3       On 23 May 2025, librarians and representatives...          0   \n",
      "4       On 23 May 2025, librarians and representatives...          0   \n",
      "...                                                   ...        ...   \n",
      "122489  On 8 January 2018, several people protested ou...          0   \n",
      "122490  On 8 January 2018, 60-70 members of anti-estab...          0   \n",
      "122491  On 7 January 2018, representatives of Croatian...          0   \n",
      "122492  January, 2018: Supporters of the constructions...          0   \n",
      "122493  On Jan. 3, 2018: Parents from the Gorna Banya ...          0   \n",
      "\n",
      "                        tags   timestamp population_best  \\\n",
      "0         crowd size=several  1748377529          2753.0   \n",
      "1       crowd size=no report  1748377529         10978.0   \n",
      "2       crowd size=no report  1748377530           194.0   \n",
      "3       crowd size=no report  1748377530          7324.0   \n",
      "4       crowd size=no report  1748377530          1502.0   \n",
      "...                      ...         ...             ...   \n",
      "122489                   NaN  1653503228             NaN   \n",
      "122490      crowd size=60-70  1680633805             NaN   \n",
      "122491  crowd size=no report  1665508788             NaN   \n",
      "122492                   NaN  1561483030             NaN   \n",
      "122493                   NaN  1604423659             NaN   \n",
      "\n",
      "                                              clean_notes country_code  \\\n",
      "0       afternoon call green west flanders groen west ...          BEL   \n",
      "1       xr protested farmer union bb office leuven vla...          BEL   \n",
      "2       librarian representative cultural institution ...          BGR   \n",
      "3       librarian representative cultural institution ...          BGR   \n",
      "4       librarian representative cultural institution ...          BGR   \n",
      "...                                                   ...          ...   \n",
      "122489  several people protested outside headquarters ...          ROU   \n",
      "122490  60 70 member anti establishment group occupied...          GRC   \n",
      "122491  representative croatian worker front slovenian...          HRV   \n",
      "122492  construction pirin national park bansko staged...          BGR   \n",
      "122493  parent gorna banya neighborhood employee zorni...          BGR   \n",
      "\n",
      "               class         predicted_topic  \n",
      "0        health care             environment  \n",
      "1            farmers                 farmers  \n",
      "2       labor rights                 culture  \n",
      "3       labor rights                 culture  \n",
      "4       labor rights                 culture  \n",
      "...              ...                     ...  \n",
      "122489      policies  unjust law enforcement  \n",
      "122490     education                 housing  \n",
      "122491  labor rights                policies  \n",
      "122492   environment                 housing  \n",
      "122493  labor rights               education  \n",
      "\n",
      "[122494 rows x 34 columns]\n"
     ]
    }
   ],
   "source": [
    "print(df_eval)"
   ]
  }
 ],
 "metadata": {
  "kernelspec": {
   "display_name": "Python 3",
   "language": "python",
   "name": "python3"
  },
  "language_info": {
   "codemirror_mode": {
    "name": "ipython",
    "version": 3
   },
   "file_extension": ".py",
   "mimetype": "text/x-python",
   "name": "python",
   "nbconvert_exporter": "python",
   "pygments_lexer": "ipython3",
   "version": "3.13.5"
  }
 },
 "nbformat": 4,
 "nbformat_minor": 5
}
