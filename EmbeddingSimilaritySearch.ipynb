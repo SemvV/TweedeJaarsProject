{
 "cells": [
  {
   "cell_type": "code",
   "execution_count": 3,
   "id": "7a9262fe",
   "metadata": {},
   "outputs": [],
   "source": [
    "from sentence_transformers import SentenceTransformer, util\n",
    "import pandas as pd\n",
    "\n",
    "model = SentenceTransformer('all-MiniLM-L6-v2')\n",
    "\n",
    "df = pd.read_csv('../data/filtered_events_country_code.csv', delimiter=',')\n",
    "\"\"\"\n",
    "#topics more expansive\n",
    "topics = [\n",
    "    \"women rights\", \"health care\", \"farmers\", \"environment\", \"labor rights\", \"infrastructure\", \"palestine-israel conflict\", \"climate\", \"anti right wing\", \"immigration\", \"eviction\",\"youth violence\", \"tourism\",\n",
    "    \"unjust law enforcement\", \"democracy\", \"ukraine-russia war\", \"discrimination\",\n",
    "    \"education\", \"housing\", \"culture\", \"social welfare\", \"political rights\", \"public services\", \"policital criticism\", \"animal welfare\",\n",
    "]\n",
    "#topics strictly from slides\n",
    "\"\"\"\n",
    "\n",
    "\"\"\"\n",
    "topics = [\n",
    "    \"pro palestine\", \n",
    "    \"pro israel\",\n",
    "    \"climate\",\n",
    "    \"consumerism\",\n",
    "    \"migration\",\n",
    "    \"labor rights\",\n",
    "    \"racism\",\n",
    "    \"higher education\",\n",
    "    \"corruption\",\n",
    "    \"anti-government\",\n",
    "    \"peace\"\n",
    "]\n",
    "\"\"\"\n",
    "\n",
    "#with descriptions\n",
    "topics = [\n",
    "    \"pro palestine: Content supportive of Palestinian rights, sovereignty, and resistance to Israeli occupation or military actions.\",\n",
    "    \"pro israel: Content supportive of the state of Israel, its right to exist, defend itself, and maintain security.\",\n",
    "    \"climate: Discussions related to climate change, global warming, environmental protection, and sustainability.\",\n",
    "    \"consumerism: Criticism or commentary on materialism, overconsumption, capitalism, or commercial culture.\",\n",
    "    \"migration: Topics about immigration, refugees, asylum seekers, border policies, and demographic movement.\",\n",
    "    \"labor rights: Advocacy for workers' rights, fair wages, unions, labor laws, or critiques of workplace exploitation.\",\n",
    "    \"racism: Issues related to racial discrimination, systemic injustice, white supremacy, or anti-racism advocacy.\",\n",
    "    \"higher education: Content focused on universities, student protests, tuition fees, academic freedom, or campus politics.\",\n",
    "    \"corruption: Allegations or discussions of government misconduct, bribery, embezzlement, or political scandals.\",\n",
    "    \"anti-government: Expressions of dissent or protest against state power, authoritarianism, police violence, or national institutions.\",\n",
    "    \"peace: Calls for ceasefires, nonviolence, diplomacy, coexistence, or reconciliation between opposing groups.\",\n",
    "    \"lgbtq rights: Advocacy for the rights, safety, and equality of LGBTQ individuals, including issues of discrimination, marriage, identity, and visibility.\"\n",
    "]\n",
    "\n",
    "topic_embeddings = model.encode(topics, convert_to_tensor=True)\n",
    "\n",
    "def assign_topic(text):\n",
    "    note_embedding = model.encode(text, convert_to_tensor=True)\n",
    "    cosine_scores = util.cos_sim(note_embedding, topic_embeddings)\n",
    "    best_topic_idx = cosine_scores.argmax().item()\n",
    "    return topics[best_topic_idx]\n",
    " \n",
    "df['predicted_topic'] = df['clean_notes'].apply(assign_topic)"
   ]
  },
  {
   "cell_type": "code",
   "execution_count": 4,
   "id": "cfd8deff",
   "metadata": {},
   "outputs": [],
   "source": [
    "df = df[['notes', 'clean_notes', 'predicted_topic']]\n",
    "df.to_csv(\"../data/notes_with_inferred_topics_ESS_strictly_slides.csv\", index=False)"
   ]
  }
 ],
 "metadata": {
  "kernelspec": {
   "display_name": "Python 3",
   "language": "python",
   "name": "python3"
  },
  "language_info": {
   "codemirror_mode": {
    "name": "ipython",
    "version": 3
   },
   "file_extension": ".py",
   "mimetype": "text/x-python",
   "name": "python",
   "nbconvert_exporter": "python",
   "pygments_lexer": "ipython3",
   "version": "3.13.3"
  }
 },
 "nbformat": 4,
 "nbformat_minor": 5
}
