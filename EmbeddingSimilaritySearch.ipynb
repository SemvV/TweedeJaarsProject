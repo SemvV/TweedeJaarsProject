{
 "cells": [
  {
   "cell_type": "code",
   "execution_count": null,
   "id": "7a9262fe",
   "metadata": {},
   "outputs": [],
   "source": [
    "from sentence_transformers import SentenceTransformer, util\n",
    "import pandas as pd\n",
    "\n",
    "model = SentenceTransformer('all-MiniLM-L6-v2')\n",
    "\n",
    "df = pd.read_csv('../data/filtered_events_country_code.csv', delimiter=',')\n",
    "\n",
    "#topics more expansive\n",
    "#topics = [\n",
    "#    \"women rights\", \"health care\", \"farmers\", \"environment\", \"labor rights\", \"infrastructure\", \"palestine-israel conflict\", \"climate\", \"anti right wing\", \"immigration\", \"eviction\",\"youth violence\", \"tourism\",\n",
    "#    \"unjust law enforcement\", \"democracy\", \"ukraine-russia war\", \"discrimination\",\n",
    "#    \"education\", \"housing\", \"culture\", \"social welfare\", \"political rights\", \"public services\", \"policital criticism\", \"animal welfare\",\n",
    "#]\n",
    "#topics strictly from slides\n",
    "topics = [\n",
    "    \"pro palestine\", \n",
    "    \"pro israel\",\n",
    "    \"climate\",\n",
    "    \"consumerism\",\n",
    "    \"migration\",\n",
    "    \"labor rights\",\n",
    "    \"racism\",\n",
    "    \"higher education\",\n",
    "    \"corruption\",\n",
    "    \"anti-government\",\n",
    "    \"peace\"\n",
    "]\n",
    "\n",
    "\"\"\"\n",
    "maybe use this way\n",
    "topics = [\n",
    "    \"topic: description\",\n",
    "    ...\n",
    "]\n",
    "\"\"\"\n",
    "\n",
    "topic_embeddings = model.encode(topics, convert_to_tensor=True)\n",
    "\n",
    "def assign_topic(text):\n",
    "    note_embedding = model.encode(text, convert_to_tensor=True)\n",
    "    cosine_scores = util.cos_sim(note_embedding, topic_embeddings)\n",
    "    best_topic_idx = cosine_scores.argmax().item()\n",
    "    return topics[best_topic_idx]\n",
    "\n",
    "df['predicted_topic'] = df['clean_notes'].apply(assign_topic)"
   ]
  },
  {
   "cell_type": "code",
   "execution_count": 4,
   "id": "cfd8deff",
   "metadata": {},
   "outputs": [],
   "source": [
    "df = df[['notes', 'clean_notes', 'predicted_topic']]\n",
    "df.to_csv(\"../data/notes_with_inferred_topics_ESS_strictly_slides.csv\", index=False)"
   ]
  }
 ],
 "metadata": {
  "kernelspec": {
   "display_name": "Python 3",
   "language": "python",
   "name": "python3"
  },
  "language_info": {
   "codemirror_mode": {
    "name": "ipython",
    "version": 3
   },
   "file_extension": ".py",
   "mimetype": "text/x-python",
   "name": "python",
   "nbconvert_exporter": "python",
   "pygments_lexer": "ipython3",
   "version": "3.13.3"
  }
 },
 "nbformat": 4,
 "nbformat_minor": 5
}
