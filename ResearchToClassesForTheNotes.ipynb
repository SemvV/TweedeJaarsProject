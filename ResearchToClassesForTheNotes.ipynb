{
  "cells": [
    {
      "cell_type": "code",
      "execution_count": 368,
      "metadata": {
        "colab": {
          "base_uri": "https://localhost:8080/"
        },
        "id": "Ea5WVY0CA2Vz",
        "outputId": "8e45fbfc-a9f4-4b28-b44f-dc4d592d1af5"
      },
      "outputs": [],
      "source": [
        "import pandas as pd"
      ]
    },
    {
      "cell_type": "code",
      "execution_count": 369,
      "metadata": {
        "id": "LF3A846SBDWg"
      },
      "outputs": [],
      "source": [
        "# datafile aanmaken met classes\n",
        "df = pd.read_csv('../data/filtered_events_country_code.csv')\n",
        "df[\"class\"] = \"NoN\"\n",
        "df.head()\n",
        "df.to_csv('../data/filtered_events_class.csv', index=False)"
      ]
    },
    {
      "cell_type": "markdown",
      "metadata": {
        "id": "Sy8p1cFOaze6"
      },
      "source": [
        "### Adding classes column"
      ]
    },
    {
      "cell_type": "code",
      "execution_count": 370,
      "metadata": {
        "colab": {
          "base_uri": "https://localhost:8080/",
          "height": 440
        },
        "id": "vJk5OVzRar-I",
        "outputId": "babf010a-dbd6-4516-d5f9-3faa41177545"
      },
      "outputs": [
        {
          "name": "stdout",
          "output_type": "stream",
          "text": [
            "class\n",
            "NoN    183080\n",
            "Name: count, dtype: int64\n"
          ]
        },
        {
          "name": "stderr",
          "output_type": "stream",
          "text": [
            "/tmp/ipykernel_21342/1811023806.py:1: DtypeWarning: Columns (11) have mixed types. Specify dtype option on import or set low_memory=False.\n",
            "  df = pd.read_csv('../data/filtered_events_class.csv')\n"
          ]
        }
      ],
      "source": [
        "df = pd.read_csv('../data/filtered_events_class.csv')\n",
        "print(df[\"class\"].value_counts())"
      ]
    },
    {
      "cell_type": "code",
      "execution_count": 510,
      "metadata": {
        "id": "Pb-QcxI4ZC0_"
      },
      "outputs": [],
      "source": [
        "Classes_dic = {\n",
        "    \"women rights\": [\"women's rights\", \"feminism\", \"feminist\", \"against women\", \"women protested\", \"abortion\", \"all genders\"],\n",
        "    \"climate\": [\"climate change\", \"fossil fuels\", \"greenwashing\", \"climate agenda\", \"global warming\"],\n",
        "    \"health care\": [\"health\", \"healthcare\", \"hospital\", \"nurseries\", \"emergency clinics\", \"emergency care\"],\n",
        "    \"farmers\": [\"farmers\", \"agriculture\", \"agricultural\", \"intensive farming\"],\n",
        "    \"environment\": [\"environment\", \"pfas\", \"nitrogen\", \"planned felling\", \"biodiversity\", \"against a planned agri-solar park\", \"shopping centre on the banks\", \"opposing plans for a new bridge\", \"wildlife\", \"park project\"],\n",
        "    \"labor rights\": [\"labor rights\", \"labor\", \"higher salaries\", \"workers\", \"working conditions\", \"employee\", \"demand increased security\", \"commission fees\", \"pension reform\", \"salary equalization\", \"jobs\", \"unfairly dismissed\"],\n",
        "    \"infrastructure\": [\"traffic accidents\", \"emergency break\", \"railway station\", \"bike lanes\", \"road connection\", \"bus\", \"rail\", \"railroad\", \"canopy collapse\", \"pedestrianization\", \"child-safe intersections\", \"bike street\", \"play street\", \"reasonable mobility\", \"cycling conditions\", \"low emission zones\", \"urban development\", \"free transport\"],\n",
        "    \"palestine-israel conflict\": [\"gaza\", \"pro-palestinian\", \"palestine\", \"israel\", \"hamas\", \"palestinian\", \"palestinians\"],\n",
        "    \"immigration\": [\"immigration\", \"against migration\"],\n",
        "    \"eviction\": [\"eviction\", \"evict\"],\n",
        "    \"youth violence\": [\"youth violence\"],\n",
        "    \"anti crime\": [\"end to criminality\", \"organized crime\", \"security measures\", \"over the mob attack\", \"perpetrator\"],\n",
        "    \"tourism\": [\"tourism\", \"tourists\"],\n",
        "    \"unjust law enforcement\": [\"police violence\", \"police intervention\", \"police brutality\", \"criminalize protests\", \"use of force\", \"criminalize demonstrations\"],\n",
        "    \"democracy\": [\"democracy\", \"democratic\", \"referendums\", \"all levels of government\", \"urgent elections\", \"distinct autonomy\"],\n",
        "    \"ukraine-russia war\": [\"ukraine refugees\", \"ukrainian people\", \"russian attacks\", \"ukraine\"],\n",
        "    \"discrimination\": [\"discrimination\"],\n",
        "    \"education\": [\"education\", \"school\", \"teacher\", \"academic\", \"education\", \"professor\", \"university\", \"student loan\", \"students\"],\n",
        "    \"housing\": [\"residential complex\", \"dignified housing\"],\n",
        "    \"culture\": [\"culture\", \"cultural\", \"national glass center\"],\n",
        "    \"social welfare\": [\"social welfare\", \"social services\", \"social assistance\", \"unemployed people\"],\n",
        "    \"public services\": [\"public services\", \"public service\", \"prevention of similar accidents\"],\n",
        "    \"political\": [\"political criticism\", \"political opposition\", \"against the pm\", \"resignation of the president\", \"political rights\", \"political prisoners\", \"far-right\", \"fidesz\", \"anti-eu\"],\n",
        "    \"animal welfare\": [\"animal welfare\", \"animal rights\", \"animal protection\", \"bullfighting\", \"animals locked\"],\n",
        "    \"cyprus conflict\": [\"cyprus conflict\", \"turkish invasion\"],\n",
        "    \"military\": [\"anti military\", \"weapons production\", \"demilitarization\"],\n",
        "    \"economic justice\": [\"tax breaks for multinational corporations\", \"economic justice\"],\n",
        "    \"local policy\": [\"council's plan\", \"nightlife noise\", \"municipality\", \"regional government\"],\n",
        "    \"sudan conflict\": [\"sudan conflict\", \"civil war in sudan\", \"sudan's ongoing war\", \"in sudan\"],\n",
        "    \"historical justice\": [\"historical justice\", \"historical injustices\", \"historical injustices\", \"commemorative\"],\n",
        "    \"pandemic\": [\"pandemic\", \"covid-19\", \"coronavirus\",],\n",
        "    \"economic sovereignty\": [\"economic sovereignty\", \"economic independence\", \"adoption of the euro\", \"euro adoption\"],\n",
        "    \"judaism\": [\"judaism\", \"antisemitism\"],\n",
        "    \"prison(ers rights)\": [\"prisoner rights\", \"prisoners' rights\", \"deportation detention\", \"detention\"],\n",
        "    \"lgbtq\": [\"lgbtq\", \"queer\", \"homophobia\", \"transphobia\", \"biphobia\", \"lgbti\", \"trans rights\"],\n",
        "    \"sports\": [\"football club\"],\n",
        "    \"language rights\": [\"linguistic emergency\"],\n",
        "    \"sexual violence\": [\"sexual violence\", \"sexual assault\", \"sexual harassment\", \"sexual abuse\"]\n",
        "}\n",
        "# judaism in discrimination\n",
        "# economic sovereignty in politics"
      ]
    },
    {
      "cell_type": "code",
      "execution_count": 511,
      "metadata": {},
      "outputs": [
        {
          "data": {
            "text/plain": [
              "'\\nfor index, row in df.iterrows():\\n    if \"housing\" in row[\"notes\"].lower():\\n        print(row[\"notes\"])\\n        print(row[\"class\"])\\n\\n'"
            ]
          },
          "execution_count": 511,
          "metadata": {},
          "output_type": "execute_result"
        }
      ],
      "source": [
        "'''\n",
        "for index, row in df.iterrows():\n",
        "    if \"housing\" in row[\"notes\"].lower():\n",
        "        print(row[\"notes\"])\n",
        "        print(row[\"class\"])\n",
        "\n",
        "'''"
      ]
    },
    {
      "cell_type": "code",
      "execution_count": 512,
      "metadata": {},
      "outputs": [
        {
          "data": {
            "text/plain": [
              "'\\nindexes = []\\nfor index, row in df.iterrows():\\n    if row[\"class\"] == \\'skip\\':\\n        indexes.append(index)\\nprint(indexes)\\n'"
            ]
          },
          "execution_count": 512,
          "metadata": {},
          "output_type": "execute_result"
        }
      ],
      "source": [
        "'''\n",
        "indexes = []\n",
        "for index, row in df.iterrows():\n",
        "    if row[\"class\"] == 'skip':\n",
        "        indexes.append(index)\n",
        "print(indexes)\n",
        "'''"
      ]
    },
    {
      "cell_type": "code",
      "execution_count": 513,
      "metadata": {},
      "outputs": [
        {
          "data": {
            "text/plain": [
              "'\\nfor word in Classes_dic[\\'environment\\']:\\n    if word in \"On 19 May 2025, taxi drivers gathered in Nice (Provence-Alpes-Cote d\\'Azur) to demonstrate. The event was part of a nationwide demonstration movement led by FNAT and FNDT to demonstrate against the new Assurance Maladie (France\\'s national health insurance system) convention cutting medical-transport fees, and against growing competition with VTC (vehicle-for-hire) drivers.\":\\n        print(word)\\n'"
            ]
          },
          "execution_count": 513,
          "metadata": {},
          "output_type": "execute_result"
        }
      ],
      "source": [
        "'''\n",
        "for word in Classes_dic['environment']:\n",
        "    if word in \"On 19 May 2025, taxi drivers gathered in Nice (Provence-Alpes-Cote d'Azur) to demonstrate. The event was part of a nationwide demonstration movement led by FNAT and FNDT to demonstrate against the new Assurance Maladie (France's national health insurance system) convention cutting medical-transport fees, and against growing competition with VTC (vehicle-for-hire) drivers.\":\n",
        "        print(word)\n",
        "'''"
      ]
    },
    {
      "cell_type": "code",
      "execution_count": 514,
      "metadata": {},
      "outputs": [
        {
          "data": {
            "text/plain": [
              "\"\\nindexes = [20, 21, 22, 23, 24, 25, 102, 105, 111, 112, 114, 117, 118, 119, 120, 178, 179, 181, 182, 185, 186, 248, 251, 256, 257, 261, 262, 263, 264, 265, 266, 267, 311, 312, 313, 314, 316, 317, 318, 319, 320, 321, 322, 324, 325, 326, 327, 328, 329, 330, 331, 333, 335, 336, 337, 338, 340, 341, 342, 343, 344, 345, 346, 347, 348, 349, 350, 353, 355, 356, 357, 358, 359, 360, 361, 362, 363, 364, 365, 366, 367, 373, 526, 547, 557, 2633, 23990, 40051, 80732, 92493]\\nfor index, row in df.iterrows():\\n    if index in indexes:\\n        print(row['notes'])\\n        print(row['class'])\\n\""
            ]
          },
          "execution_count": 514,
          "metadata": {},
          "output_type": "execute_result"
        }
      ],
      "source": [
        "'''\n",
        "indexes = [20, 21, 22, 23, 24, 25, 102, 105, 111, 112, 114, 117, 118, 119, 120, 178, 179, 181, 182, 185, 186, 248, 251, 256, 257, 261, 262, 263, 264, 265, 266, 267, 311, 312, 313, 314, 316, 317, 318, 319, 320, 321, 322, 324, 325, 326, 327, 328, 329, 330, 331, 333, 335, 336, 337, 338, 340, 341, 342, 343, 344, 345, 346, 347, 348, 349, 350, 353, 355, 356, 357, 358, 359, 360, 361, 362, 363, 364, 365, 366, 367, 373, 526, 547, 557, 2633, 23990, 40051, 80732, 92493]\n",
        "for index, row in df.iterrows():\n",
        "    if index in indexes:\n",
        "        print(row['notes'])\n",
        "        print(row['class'])\n",
        "'''"
      ]
    },
    {
      "cell_type": "code",
      "execution_count": 515,
      "metadata": {},
      "outputs": [
        {
          "name": "stdout",
          "output_type": "stream",
          "text": [
            "On 23 May 2025, in the afternoon, at the call of Green West-Flanders (Groen West-Vlaanderen) and Green Diksmuide (Groen Diksmuide), several activists, including a Green MP, gathered outside the company TWZ in Diksmuide (Vlaanderen), to protest a provincial permit allowing the discharge of PFAS-contaminated water, denouncing it as dangerous for human health.\n",
            "environment\n"
          ]
        }
      ],
      "source": [
        "# print first note\n",
        "print(df.iloc[0]['notes'])\n",
        "# first class\n",
        "print(df.iloc[0]['class'])"
      ]
    },
    {
      "cell_type": "code",
      "execution_count": 516,
      "metadata": {
        "id": "68xW1PQveMeo"
      },
      "outputs": [],
      "source": [
        "def classify(df, classes_dic):\n",
        "  for index, row in df.iterrows():\n",
        "    if row[\"class\"] == \"NoN\":\n",
        "      for class_name, words in classes_dic.items():\n",
        "        for word in words:\n",
        "          if word in row[\"notes\"].lower():\n",
        "            df.at[index, \"class\"] = class_name\n",
        "            break\n",
        "classify(df, Classes_dic)"
      ]
    },
    {
      "cell_type": "code",
      "execution_count": 517,
      "metadata": {},
      "outputs": [
        {
          "name": "stdout",
          "output_type": "stream",
          "text": [
            "class\n",
            "NoN                          53570\n",
            "labor rights                 25935\n",
            "pandemic                     24259\n",
            "education                    18950\n",
            "environment                   7796\n",
            "culture                       6329\n",
            "palestine-israel conflict     5925\n",
            "ukraine-russia war            5293\n",
            "women rights                  5088\n",
            "infrastructure                4034\n",
            "political                     3555\n",
            "farmers                       3224\n",
            "health care                   2911\n",
            "local policy                  2495\n",
            "unjust law enforcement        2088\n",
            "climate                       2011\n",
            "democracy                     1726\n",
            "lgbtq                         1497\n",
            "animal welfare                1481\n",
            "public services                869\n",
            "eviction                       728\n",
            "discrimination                 690\n",
            "immigration                    605\n",
            "prison(ers rights)             418\n",
            "tourism                        321\n",
            "social welfare                 283\n",
            "anti crime                     276\n",
            "judaism                        223\n",
            "sports                         166\n",
            "sexual violence                124\n",
            "historical justice              40\n",
            "housing                         40\n",
            "military                        36\n",
            "cyprus conflict                 29\n",
            "sudan conflict                  26\n",
            "economic sovereignty            25\n",
            "youth violence                   8\n",
            "economic justice                 5\n",
            "language rights                  1\n",
            "Name: count, dtype: int64\n"
          ]
        }
      ],
      "source": [
        "print(df[\"class\"].value_counts())\n"
      ]
    },
    {
      "cell_type": "code",
      "execution_count": 518,
      "metadata": {},
      "outputs": [
        {
          "name": "stdout",
          "output_type": "stream",
          "text": [
            "On 19 May 2025, around 150 people, including Reich Citizens, gathered in front of the Kulturpalast in Dresden (Sachsen) for the regular Monday demonstration, promoting far-right ideologies. Around 50 people staged a counter-protest against far-right ideologies. During the event, protesters displayed a flag and clothing with symbols of the recently banned Reich Citizens group 'Kingdom of Germany' (Konigreich Deutschland) leading the authorities to seize the items and initiate an investigation for the use of unconstitutional symbols. Physical altercations and insults also occurred but the report does not provide details on what happened.\n",
            "political\n",
            "Protests\n"
          ]
        }
      ],
      "source": [
        "n=301\n",
        "print(df.iloc[n]['notes'])\n",
        "print(df.iloc[n]['class'])\n",
        "print(df.iloc[n]['event_type'])"
      ]
    },
    {
      "cell_type": "code",
      "execution_count": 519,
      "metadata": {
        "id": "v0ucpjEjZ6d6"
      },
      "outputs": [
        {
          "data": {
            "text/plain": [
              "638"
            ]
          },
          "execution_count": 519,
          "metadata": {},
          "output_type": "execute_result"
        }
      ],
      "source": [
        "def getNonClassIndex(df):\n",
        "  for index, row in df.iterrows():\n",
        "    if row[\"class\"] == \"NoN\":\n",
        "      return index\n",
        "  return -1\n",
        "\n",
        "getNonClassIndex(df)"
      ]
    },
    {
      "cell_type": "code",
      "execution_count": 520,
      "metadata": {},
      "outputs": [
        {
          "name": "stdout",
          "output_type": "stream",
          "text": [
            "29.26043259777147\n"
          ]
        }
      ],
      "source": [
        "# Zoveel procent nog\n",
        "print((df[\"class\"] == \"NoN\").mean() * 100)"
      ]
    },
    {
      "cell_type": "code",
      "execution_count": 521,
      "metadata": {},
      "outputs": [
        {
          "name": "stdout",
          "output_type": "stream",
          "text": [
            "On 16 May 2025, thousands of people, including supporters from Gaelic Athletic Association (GAA) clubs from across Ireland, held a rally in Bellaghy (Northern Ireland) to demand a public inquiry into the 1997 murder of GAA official Sean Brown by loyalists. After the rally, people marched from the local church to the GAA grounds named in Brown's memory.\n"
          ]
        }
      ],
      "source": [
        "while True:\n",
        "    index = getNonClassIndex(df)\n",
        "    if index == -1:\n",
        "        break\n",
        "    else:\n",
        "        print(df.iloc[index]['notes'])\n",
        "        break"
      ]
    },
    {
      "cell_type": "code",
      "execution_count": null,
      "metadata": {},
      "outputs": [],
      "source": []
    },
    {
      "cell_type": "code",
      "execution_count": null,
      "metadata": {},
      "outputs": [],
      "source": []
    }
  ],
  "metadata": {
    "colab": {
      "provenance": []
    },
    "kernelspec": {
      "display_name": "base",
      "language": "python",
      "name": "python3"
    },
    "language_info": {
      "codemirror_mode": {
        "name": "ipython",
        "version": 3
      },
      "file_extension": ".py",
      "mimetype": "text/x-python",
      "name": "python",
      "nbconvert_exporter": "python",
      "pygments_lexer": "ipython3",
      "version": "3.12.2"
    }
  },
  "nbformat": 4,
  "nbformat_minor": 0
}
