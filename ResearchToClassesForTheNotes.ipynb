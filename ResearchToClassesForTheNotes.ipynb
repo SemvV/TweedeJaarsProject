{
  "cells": [
    {
      "cell_type": "code",
      "execution_count": 1,
      "metadata": {
        "colab": {
          "base_uri": "https://localhost:8080/"
        },
        "id": "Ea5WVY0CA2Vz",
        "outputId": "8e45fbfc-a9f4-4b28-b44f-dc4d592d1af5"
      },
      "outputs": [],
      "source": [
        "import pandas as pd"
      ]
    },
    {
      "cell_type": "code",
      "execution_count": 2,
      "metadata": {
        "id": "LF3A846SBDWg"
      },
      "outputs": [],
      "source": [
        "# datafile aanmaken met classes\n",
        "df = pd.read_csv('../data/filtered_events.csv')\n",
        "df[\"class\"] = \"NoN\"\n",
        "df.head()\n",
        "df.to_csv('../data/filtered_events_class.csv', index=False)"
      ]
    },
    {
      "cell_type": "markdown",
      "metadata": {
        "id": "Sy8p1cFOaze6"
      },
      "source": [
        "### Adding classes column"
      ]
    },
    {
      "cell_type": "code",
      "execution_count": 3,
      "metadata": {
        "colab": {
          "base_uri": "https://localhost:8080/",
          "height": 440
        },
        "id": "vJk5OVzRar-I",
        "outputId": "babf010a-dbd6-4516-d5f9-3faa41177545"
      },
      "outputs": [],
      "source": [
        "df = pd.read_csv('../data/filtered_events_class.csv')"
      ]
    },
    {
      "cell_type": "code",
      "execution_count": 4,
      "metadata": {},
      "outputs": [
        {
          "name": "stdout",
          "output_type": "stream",
          "text": [
            "class\n",
            "NoN    204564\n",
            "Name: count, dtype: int64\n"
          ]
        }
      ],
      "source": [
        "print(df[\"class\"].value_counts())"
      ]
    },
    {
      "cell_type": "code",
      "execution_count": 5,
      "metadata": {
        "id": "Pb-QcxI4ZC0_"
      },
      "outputs": [],
      "source": [
        "Classes_dic = {\n",
        "    \"women rights\": [\"women's rights\"],\n",
        "    \"environment\": [\"environment\", \"pfas\", \"nitrogen\", \"planned felling\"],\n",
        "    \"labor rights\": [\"labor rights\", \"labor\", \"higher salaries\", \"workers\", \"working conditions\", \"employee\"],\n",
        "    \"infrastructure\": [\"traffic accidents\", \"emergency break\", \"railway station\", \"bike lanes\", \"road connection\"],\n",
        "    \"palestine-israel conflict\": [\"gaza\", \"pro-palestinian\", \"palestine\", \"israel\", \"hamas\"],\n",
        "    \"climate\": [\"climate change\", \"fossil fuels\"],\n",
        "    \"anti right wing\": [\"far-right\"],\n",
        "    \"immigration\": [\"immigration\"],\n",
        "    \"eviction\": [\"eviction\", \"evict\"],\n",
        "    \"youth violence\": [\"youth violence\"],\n",
        "    \"skip\": [\"maladie\", \"luttenbach\", \"resignation of the president\"],\n",
        "    \"education\": [\"education\", \"school\", \"teacher\", \"academic\", \"education\", \"professor\", \"university\", \"student loan\"],\n",
        "    \"anti crime\": [\"end to criminality\", \"organized crime\"],\n",
        "    \"tourism\": [\"tourism\"],\n",
        "    \"health care\": [\"health care\", \"healthcare\", \"hospital\"],\n",
        "    \"police violence\": [\"police violence\", \"police intervention\"],\n",
        "    \"democracy\": [\"democracy\", \"democratic\"],\n",
        "}"
      ]
    },
    {
      "cell_type": "code",
      "execution_count": 6,
      "metadata": {},
      "outputs": [
        {
          "name": "stdout",
          "output_type": "stream",
          "text": [
            "On 23 May 2025, in the afternoon, at the call of Green West-Flanders (Groen West-Vlaanderen) and Green Diksmuide (Groen Diksmuide), several activists, including a Green MP, gathered outside the company TWZ in Diksmuide (Vlaanderen), to protest a provincial permit allowing the discharge of PFAS-contaminated water, denouncing it as dangerous for human health.\n",
            "NoN\n"
          ]
        }
      ],
      "source": [
        "# print first note\n",
        "print(df.iloc[0]['notes'])\n",
        "# first class\n",
        "print(df.iloc[0]['class'])"
      ]
    },
    {
      "cell_type": "code",
      "execution_count": 7,
      "metadata": {
        "id": "68xW1PQveMeo"
      },
      "outputs": [],
      "source": [
        "def classify(df, classes_dic):\n",
        "  for index, row in df.iterrows():\n",
        "    if row[\"class\"] == \"NoN\":\n",
        "      for class_name, words in classes_dic.items():\n",
        "        for word in words:\n",
        "          if word in row[\"notes\"].lower():\n",
        "            df.at[index, \"class\"] = class_name\n",
        "            break\n",
        "classify(df, Classes_dic)"
      ]
    },
    {
      "cell_type": "code",
      "execution_count": 8,
      "metadata": {},
      "outputs": [
        {
          "name": "stdout",
          "output_type": "stream",
          "text": [
            "class\n",
            "NoN                          114938\n",
            "labor rights                  28817\n",
            "education                     19424\n",
            "health care                    8508\n",
            "palestine-israel conflict      7197\n",
            "environment                    6515\n",
            "climate                        5379\n",
            "democracy                      3339\n",
            "anti right wing                3329\n",
            "police violence                2026\n",
            "women rights                   1492\n",
            "eviction                       1049\n",
            "infrastructure                  927\n",
            "immigration                     845\n",
            "tourism                         506\n",
            "skip                            145\n",
            "anti crime                      119\n",
            "youth violence                    9\n",
            "Name: count, dtype: int64\n"
          ]
        }
      ],
      "source": [
        "print(df[\"class\"].value_counts())"
      ]
    },
    {
      "cell_type": "code",
      "execution_count": 9,
      "metadata": {},
      "outputs": [
        {
          "name": "stdout",
          "output_type": "stream",
          "text": [
            "On 23 May 2025, 150 taxi drivers drove at a slow pace to protest before gathering at the train station in Pau (Nouvelle-Aquitaine) to demonstrate. The event was part of a nationwide demonstration movement led by FNAT and FNDT to demonstrate against the new Assurance Maladie (France's national health insurance system) convention cutting medical-transport fees, and against growing competition with VTC (vehicle-for-hire) drivers.\n",
            "skip\n",
            "Protests\n"
          ]
        }
      ],
      "source": [
        "n=23\n",
        "print(df.iloc[n]['notes'])\n",
        "print(df.iloc[n]['class'])\n",
        "print(df.iloc[n]['event_type'])"
      ]
    },
    {
      "cell_type": "code",
      "execution_count": 10,
      "metadata": {
        "id": "v0ucpjEjZ6d6"
      },
      "outputs": [
        {
          "data": {
            "text/plain": [
              "114"
            ]
          },
          "execution_count": 10,
          "metadata": {},
          "output_type": "execute_result"
        }
      ],
      "source": [
        "def getNonClassIndex(df):\n",
        "  for index, row in df.iterrows():\n",
        "    if row[\"class\"] == \"NoN\":\n",
        "      return index\n",
        "  return -1\n",
        "\n",
        "getNonClassIndex(df)"
      ]
    },
    {
      "cell_type": "code",
      "execution_count": 11,
      "metadata": {},
      "outputs": [
        {
          "name": "stdout",
          "output_type": "stream",
          "text": [
            "On 22 May 2025, at the call of Nation and Corsican associations, such as Patriots (Patriotti), around 60 people gathered outside the Court of Justice in Bastia (Corse) to express solidarity with 10 Corsican nationalist activists arrested the previous day in Paris on suspicion of carrying out terrorist attacks in Corsica between 2021 and 2025. The gathering, which began peacefully, escalated into clashes with police, during which demonstrators set fire to trash cans and lit flares. Participants condemned the arrests as politically motivated and opposed to Corsican autonomy, and denounced what they described as police brutality during the operation.\n"
          ]
        }
      ],
      "source": [
        "while True:\n",
        "    index = getNonClassIndex(df)\n",
        "    if index == -1:\n",
        "        break\n",
        "    else:\n",
        "        print(df.iloc[index]['notes'])\n",
        "        break"
      ]
    },
    {
      "cell_type": "code",
      "execution_count": null,
      "metadata": {},
      "outputs": [],
      "source": []
    }
  ],
  "metadata": {
    "colab": {
      "provenance": []
    },
    "kernelspec": {
      "display_name": "base",
      "language": "python",
      "name": "python3"
    },
    "language_info": {
      "codemirror_mode": {
        "name": "ipython",
        "version": 3
      },
      "file_extension": ".py",
      "mimetype": "text/x-python",
      "name": "python",
      "nbconvert_exporter": "python",
      "pygments_lexer": "ipython3",
      "version": "3.12.2"
    }
  },
  "nbformat": 4,
  "nbformat_minor": 0
}
