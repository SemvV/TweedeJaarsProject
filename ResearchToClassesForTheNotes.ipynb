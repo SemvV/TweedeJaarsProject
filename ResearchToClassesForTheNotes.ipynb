{
  "cells": [
    {
      "cell_type": "code",
      "execution_count": 222,
      "metadata": {
        "colab": {
          "base_uri": "https://localhost:8080/"
        },
        "id": "Ea5WVY0CA2Vz",
        "outputId": "8e45fbfc-a9f4-4b28-b44f-dc4d592d1af5"
      },
      "outputs": [],
      "source": [
        "import pandas as pd"
      ]
    },
    {
      "cell_type": "code",
      "execution_count": 223,
      "metadata": {
        "id": "LF3A846SBDWg"
      },
      "outputs": [],
      "source": [
        "# datafile aanmaken met classes\n",
        "df = pd.read_csv('../data/filtered_events_country_code.csv')\n",
        "df[\"class\"] = \"unknown\"\n",
        "df.head()\n",
        "df.to_csv('../data/filtered_events_class.csv', index=False)"
      ]
    },
    {
      "cell_type": "markdown",
      "metadata": {
        "id": "Sy8p1cFOaze6"
      },
      "source": [
        "### Adding classes column"
      ]
    },
    {
      "cell_type": "code",
      "execution_count": 224,
      "metadata": {
        "colab": {
          "base_uri": "https://localhost:8080/",
          "height": 440
        },
        "id": "vJk5OVzRar-I",
        "outputId": "babf010a-dbd6-4516-d5f9-3faa41177545"
      },
      "outputs": [
        {
          "name": "stdout",
          "output_type": "stream",
          "text": [
            "class\n",
            "unknown    183080\n",
            "Name: count, dtype: int64\n"
          ]
        },
        {
          "name": "stderr",
          "output_type": "stream",
          "text": [
            "/tmp/ipykernel_3782/1811023806.py:1: DtypeWarning: Columns (11) have mixed types. Specify dtype option on import or set low_memory=False.\n",
            "  df = pd.read_csv('../data/filtered_events_class.csv')\n"
          ]
        }
      ],
      "source": [
        "df = pd.read_csv('../data/filtered_events_class.csv')\n",
        "print(df[\"class\"].value_counts())"
      ]
    },
    {
      "cell_type": "code",
      "execution_count": 225,
      "metadata": {},
      "outputs": [
        {
          "data": {
            "text/plain": [
              "'\\nsentence = \"On 26 December 2024, approximately 40 campaigners from the Action Against Animal Cruelty group protested outside the Buttercross in Bungay (England) against the annual Boxing Day hunt parade. The protesters criticized trail hunting, arguing it often served as a cover for illegal fox hunting, banned since 2005 in England. Protesters carried signs and spoke with the public about the harm trail hunting caused to wildlife. The event, featuring the Waveney and Norfolk Harriers and the Dunston Harriers, became tense when some hunt supporters verbally insulted the protesters and coffee was thrown at one protester.\"\\n\\nfor word in Classes_dic[\"lgbtq\"]:\\n    if word in sentence.lower():\\n        print(\"Found word:\", word)\\n        index = sentence.lower().index(word)\\n        print(\"Index of word:\", index)\\n        start_index = max(0, index - 5)\\n        end_index = min(len(sentence), index + len(word) + 5)\\n        print(\"Context:\", sentence[start_index:end_index])\\n        break\\n'"
            ]
          },
          "execution_count": 225,
          "metadata": {},
          "output_type": "execute_result"
        }
      ],
      "source": [
        "'''\n",
        "sentence = \"On 26 December 2024, approximately 40 campaigners from the Action Against Animal Cruelty group protested outside the Buttercross in Bungay (England) against the annual Boxing Day hunt parade. The protesters criticized trail hunting, arguing it often served as a cover for illegal fox hunting, banned since 2005 in England. Protesters carried signs and spoke with the public about the harm trail hunting caused to wildlife. The event, featuring the Waveney and Norfolk Harriers and the Dunston Harriers, became tense when some hunt supporters verbally insulted the protesters and coffee was thrown at one protester.\"\n",
        "\n",
        "for word in Classes_dic[\"lgbtq\"]:\n",
        "    if word in sentence.lower():\n",
        "        print(\"Found word:\", word)\n",
        "        index = sentence.lower().index(word)\n",
        "        print(\"Index of word:\", index)\n",
        "        start_index = max(0, index - 5)\n",
        "        end_index = min(len(sentence), index + len(word) + 5)\n",
        "        print(\"Context:\", sentence[start_index:end_index])\n",
        "        break\n",
        "'''"
      ]
    },
    {
      "cell_type": "code",
      "execution_count": 239,
      "metadata": {},
      "outputs": [
        {
          "name": "stdout",
          "output_type": "stream",
          "text": [
            "c_counter: 88\n",
            "i_counter: 2\n",
            "s_counter: 10\n"
          ]
        }
      ],
      "source": [
        "i_counter = 0\n",
        "c_counter = 0\n",
        "s_counter = 0\n",
        "for i in \"cccccccccccccccccciccccccccccccccccsccccccccscsccccccccccsccsccccccccccccccsiccsccccsccccscscccccccc\":\n",
        "    if i == \"c\":\n",
        "        c_counter += 1\n",
        "    elif i == \"i\":\n",
        "        i_counter += 1\n",
        "    elif i == \"s\":\n",
        "        s_counter += 1\n",
        "    else:\n",
        "        print(\"Unknown character:\", i)\n",
        "print(\"c_counter:\", c_counter)\n",
        "print(\"i_counter:\", i_counter)\n",
        "print(\"s_counter:\", s_counter)"
      ]
    },
    {
      "cell_type": "code",
      "execution_count": 226,
      "metadata": {
        "id": "Pb-QcxI4ZC0_"
      },
      "outputs": [],
      "source": [
        "Classes_dic = {\n",
        "    \"blm\": [\"black lives matter\"],\n",
        "    \"lgbtq\": [\"lgb\", \"lesbian\", \"gay\", \"homosexual\", \"transsexual\", \"queer\", \"homophobia\", \"transphobia\", \"biphobia\", \"trans rights\"],\n",
        "    \"women rights\": [\"women's rights\", \"feminism\", \"feminist\", \"against women\", \"women protested\", \"abortion\", \"sexual violence\", \"sexual assault\", \"sexual harassment\", \"sexual abuse\"],\n",
        "    \"immigration\": [\"migrants\", \"immigration\", \"against migration\", \"deportation detention\"],\n",
        "    \"unjust law enforcement\": [\"police brutality\", \"criminalize protests\", \"criminalize demonstrations\", \"police misconduct\", \"police repression\"],\n",
        "    \"discrimination\": [\"discrimination\", \"racism\"],\n",
        "    \"climate\": [\"climate change\", \"fossil fuels\", \"greenwashing\", \"climate agenda\", \"global warming\"],\n",
        "    \"palestine-israel conflict\": [\"gaza\", \"palestine\", \"israel\", \"hamas\", \"palestinian\"],\n",
        "    \"animal welfare\": [\"species extinction\", \"animal welfare\", \"animal rights\", \"labour conditions\", \"animal protection\", \"bullfighting\", \"animals locked\", \"wildlife\", \"cruel\"],\n",
        "    \"farmers\": [\"farmers\", \"agriculture\", \"agricultural\", \"intensive farming\"],\n",
        "    \"labor rights\": [\"labor agreement\", \" wages\", \"rights of workers\", \"labor rights\", \"higher salaries\", \"working conditions\",  \"commission fees\", \"pension\", \"salary equalization\", \"unfairly dismissed\"],\n",
        "    \"health care\": [\"healthcare\", \"hospital \", \"hospitals\", \"nurseries\", \"emergency clinics\", \"emergency care\"],\n",
        "    \"environment\": [\"environment\", \"pfas\", \"nitrogen\", \"planned felling\", \"biodiversity\", \"park project\"],\n",
        "    \"public services\": [\"collapse of a concrete canopy\", \"canopy collapse\", \" bus \", \"traffic accidents\", \"railway station\", \"bike lanes\", \"road connection\", \"public service\", \"pedestrianization\", \"child-safe intersections\", \"bike street\", \"play street\", \"reasonable mobility\", \"cycling conditions\", \"urban development\", \"free transport\"],\n",
        "    \"ukraine-russia war\": [\" russia\", \"ukrain\"],\n",
        "    \"housing\": [\"residential complex\", \"dignified housing\", \"evict\"],\n",
        "    \"culture\": [\"tourism\", \"tourists\", \"cultural sector\"],\n",
        "    \"policies & politics\": [\"social welfare\", \"social services\", \"social assistance\", \"economic justice\", \"economic sovereignty\", \"economic independence\", \"adoption of the euro\", \"euro adoption\", \"council's plan\", \"nightlife noise\", \"municipality\", \"regional government\", \"political criticism\", \"political opposition\", \"against the pm\", \"resignation of the president\", \"political rights\", \"political prisoners\", \"anti-eu\", \"pro-eu\", \"democratic\", \"referendums\", \"urgent elections\", \"distinct autonomy\"],\n",
        "    \"pandemic\": [\"pandemic\", \"covid\", \"coronavirus\",],\n",
        "    \"education\": [\"education\", \"teacher\", \"academic\", \"education\", \"professor\", \"university\", \"student loan\"]\n",
        "}"
      ]
    },
    {
      "cell_type": "code",
      "execution_count": 227,
      "metadata": {},
      "outputs": [
        {
          "data": {
            "text/plain": [
              "'\\nfor index, row in df.iterrows():\\n    if \"culture and entertainment \" in row[\"notes\"].lower():\\n        print(row[\"notes\"])\\n        print(row[\"class\"])\\n'"
            ]
          },
          "execution_count": 227,
          "metadata": {},
          "output_type": "execute_result"
        }
      ],
      "source": [
        "'''\n",
        "for index, row in df.iterrows():\n",
        "    if \"culture and entertainment \" in row[\"notes\"].lower():\n",
        "        print(row[\"notes\"])\n",
        "        print(row[\"class\"])\n",
        "'''"
      ]
    },
    {
      "cell_type": "code",
      "execution_count": 228,
      "metadata": {},
      "outputs": [
        {
          "data": {
            "text/plain": [
              "'\\nindexes = []\\nfor index, row in df.iterrows():\\n    if row[\"class\"] == \\'unjust law enforcement\\':\\n        indexes.append(index)\\nprint(indexes)\\n'"
            ]
          },
          "execution_count": 228,
          "metadata": {},
          "output_type": "execute_result"
        }
      ],
      "source": [
        "'''\n",
        "indexes = []\n",
        "for index, row in df.iterrows():\n",
        "    if row[\"class\"] == 'unjust law enforcement':\n",
        "        indexes.append(index)\n",
        "print(indexes)\n",
        "'''"
      ]
    },
    {
      "cell_type": "code",
      "execution_count": 229,
      "metadata": {},
      "outputs": [
        {
          "data": {
            "text/plain": [
              "'\\nfor word in Classes_dic[\\'environment\\']:\\n    if word in \"On 19 May 2025, taxi drivers gathered in Nice (Provence-Alpes-Cote d\\'Azur) to demonstrate. The event was part of a nationwide demonstration movement led by FNAT and FNDT to demonstrate against the new Assurance Maladie (France\\'s national health insurance system) convention cutting medical-transport fees, and against growing competition with VTC (vehicle-for-hire) drivers.\":\\n        print(word)\\n'"
            ]
          },
          "execution_count": 229,
          "metadata": {},
          "output_type": "execute_result"
        }
      ],
      "source": [
        "'''\n",
        "for word in Classes_dic['environment']:\n",
        "    if word in \"On 19 May 2025, taxi drivers gathered in Nice (Provence-Alpes-Cote d'Azur) to demonstrate. The event was part of a nationwide demonstration movement led by FNAT and FNDT to demonstrate against the new Assurance Maladie (France's national health insurance system) convention cutting medical-transport fees, and against growing competition with VTC (vehicle-for-hire) drivers.\":\n",
        "        print(word)\n",
        "'''"
      ]
    },
    {
      "cell_type": "code",
      "execution_count": 230,
      "metadata": {},
      "outputs": [
        {
          "data": {
            "text/plain": [
              "\"\\nindexes = [101, 239, 280, 4589, 12696, 12811, 12812, 12970, 12974, 23398, 29069, 33460, 34309, 46110, 55185, 59451, 59514, 59653, 73002, 75000, 77364, 83030, 83031, 83032, 83033, 83489, 90272, 95852, 100723, 118655, 120215, 122118, 122283, 122887, 124018, 124761, 124803, 128869, 135238, 135407, 135728, 136032, 136644, 136870, 136979, 137579, 139075, 139861, 140753, 141757, 143498, 145267, 145268, 145269, 145272, 145304, 145384, 145386, 145401, 145404, 145420, 145444, 145559, 145782, 145791, 145795, 145854, 145860, 145907, 145908, 145912, 145913, 145915, 145916, 145918, 145941, 145968, 145991, 146058, 146059, 146061, 146062, 146071, 146196, 146197, 146273, 146446, 146447, 146449, 146450, 146451, 146452, 146453, 146454, 146464, 146465, 146469, 146479, 146482, 146484, 146488, 146491, 146492, 146493, 146552, 146553, 146554, 146558, 146559, 146561, 146562, 146568, 146569, 146570, 146571, 146573, 146575, 146577, 146579, 146581, 146582, 146583, 146584, 146587, 146588, 146589, 146590, 146591, 146596, 146598, 146605, 146607, 146608, 146609, 146612, 146613, 146617, 146648, 146653, 146654, 146655, 146656, 146657, 146658, 146659, 146660, 146664, 146665, 146666, 146667, 146668, 146669, 146673, 146677, 146678, 146736, 146899, 147630, 147815, 147817, 147818, 147840, 147845, 147846, 147847, 147848, 147934, 148253, 148577, 148641, 148659, 148663, 148705, 148716, 148717, 148718, 148720, 148723, 148724, 148734, 148742, 148745, 148829, 150918, 152363, 152451, 152656, 152797, 153284, 153357, 155394, 157261, 158216, 158525, 159259, 159311, 159328, 159376, 159410, 159425, 159427, 159434, 159476, 159603, 159999, 160292, 160386, 160557, 160558, 160565, 160798, 160817, 160839, 160862, 160883, 160918, 160920, 161083, 161113, 161122, 161167, 161348, 161354, 161383, 161423, 161430, 161434, 161435, 161438, 161439, 161506, 161508, 161529, 161645, 161714, 161715, 161716, 161925, 161927, 161928, 161937, 161996, 162028, 162029, 162098, 162099, 162110, 162155, 162185, 162310, 162311, 162312, 162315, 162328, 162344, 162574, 162609, 162612, 162659, 162660, 162661, 162714, 162791, 162792, 162818, 162822, 162863, 162993, 162994, 162995, 163067, 163124, 163125, 163126, 163127, 163128, 163144, 163145, 163147, 163154, 163158, 163159, 163160, 163208, 163209, 163216, 163229, 163281, 163282, 163284, 163286, 163338, 163342, 163382, 163383, 163410, 163419, 163423, 163506, 163508, 163555, 163556, 163558, 163560, 163561, 163562, 163563, 163564, 163566, 163567, 163568, 163571, 163582, 163587, 163620, 163623, 163658, 163662, 163679, 163680, 163933, 163934, 163935, 163936, 163937, 163938, 163939, 163941, 163943, 163945, 163947, 163950, 163951, 163952, 163953, 163955, 163956, 163957, 163958, 163959, 163965, 163969, 163995, 163996, 163999, 164009, 164010, 164011, 164012, 164014, 164078, 164082, 164103, 164121, 164122, 164169, 164182, 164183, 164205, 164259, 164285, 164315, 164330, 164377, 164378, 164392, 164407, 164415, 164416, 164422, 164425, 164426, 164427, 164467, 164469, 164470, 164471, 164472, 164474, 164476, 164477, 164479, 164495, 164496, 164497, 164498, 164501, 164502, 164504, 164507, 164508, 164509, 164511, 164512, 164513, 164516, 164517, 164520, 164528, 164529, 164534, 164536, 164537, 164542, 164545, 164562, 164564, 164565, 164567, 164568, 164569, 164571, 164572, 164574, 164575, 164631, 164632, 164665, 164666, 164667, 164668, 164669, 164670, 164671, 164672, 164673, 164675, 164676, 164677, 164680, 164694, 164695, 164700, 164704, 164718, 164725, 164730, 164733, 164736, 164737, 164739, 164740, 164777, 164778, 164779, 164780, 164781, 164782, 164783, 164784, 164785, 164786, 164801, 164802, 164803, 164805, 164807, 164808, 164818, 164836, 164837, 164838, 164839, 164840, 164841, 164849, 164861, 164865, 164867, 164868, 164869, 164888, 164890, 164891, 164892, 164893, 164894, 164895, 164896, 164897, 164898, 164899, 164902, 164905, 164907, 164918, 164935, 164936, 164937, 164938, 164939, 164940, 164945, 164946, 164947, 164948, 164958, 164963, 164966, 164967, 165004, 165006, 165011, 165012, 165057, 165082, 165093, 165094, 165095, 165099, 165102, 165127, 165147, 165148, 165149, 165150, 165151, 165152, 165153, 165154, 165163, 165164, 165169, 165171, 165172, 165176, 165180, 165210, 165305, 165306, 165307, 165308, 165310, 165311, 165324, 165326, 165330, 165331, 165332, 165333, 165335, 165336, 165337, 165339, 165342, 165343, 165344, 165346, 165347, 165348, 165349, 165350, 165351, 165352, 165360, 165362, 165363, 165391, 165397, 165418, 165420, 165421, 165422, 165423, 165424, 165425, 165426, 165427, 165428, 165429, 165430, 165431, 165432, 165433, 165434, 165435, 165436, 165443, 165451, 165452, 165453, 165454, 165455, 165456, 165459, 165467, 165468, 165473, 165474, 165488, 165489, 165490, 165491, 165495, 165496, 165497, 165498, 165551, 165557, 165559, 165594, 165595, 165632, 165633, 165635, 165636, 165637, 165638, 165639, 165640, 165641, 165648, 165649, 165650, 165651, 165652, 165653, 165654, 165655, 165656, 165657, 165658, 165659, 165670, 165674, 165713, 165714, 165715, 165716, 165717, 165718, 165719, 165720, 165721, 165722, 165723, 165724, 165726, 165727, 165728, 165729, 165730, 165731, 165732, 165733, 165734, 165735, 165736, 165737, 165738, 165739, 165740, 165742, 165743, 165744, 165745, 165747, 165753, 165754, 165757, 165760, 165774, 165803, 165813, 165860, 165861, 165862, 165868, 165869, 165871, 165872, 165877, 165879, 165890, 165891, 165892, 165893, 165895, 165931, 165942, 165950, 165951, 165955, 165962, 165963, 166014, 166022, 166023, 166024, 166025, 166035, 166036, 166037, 166038, 166039, 166040, 166041, 166043, 166044, 166045, 166046, 166047, 166052, 166061, 166070, 166071, 166074, 166075, 166082, 166083, 166084, 166085, 166086, 166087, 166088, 166089, 166090, 166095, 166097, 166099, 166100, 166105, 166107, 166108, 166109, 166136, 166137, 166146, 166148, 166149, 166150, 166186, 166187, 166188, 166189, 166252, 166253, 166262, 166263, 166265, 166274, 166276, 166278, 166282, 166336, 166337, 166341, 166359, 168219, 169164, 169300, 169332, 169417, 169418, 169419, 169420, 169421, 169464, 169465, 169466, 169493, 169494, 169495, 169496, 169497, 169500, 169501, 169502, 169503, 169518, 169539, 169540, 169541, 169542, 169543, 169544, 169549, 169555, 169562, 171866, 174588, 175081, 177084, 177631, 177980, 177981, 177985, 177986, 177987, 177988, 177991, 180850, 181341, 181346, 181357, 181358, 181361, 181367, 181380, 181385, 181394, 181398, 181405, 181412, 181417, 181422, 181429, 181437, 181438, 181442, 181455, 181461, 181470, 181474, 181485, 181506, 181510, 181517, 181526, 181531, 181537, 181540, 181545, 181556, 181564, 181573, 181668, 181700, 182583]\\nfor index, row in df.iterrows():\\n    if index in indexes:\\n        print(row['notes'])\\n        print(row['class'])\\n\""
            ]
          },
          "execution_count": 230,
          "metadata": {},
          "output_type": "execute_result"
        }
      ],
      "source": [
        "'''\n",
        "indexes = [101, 239, 280, 4589, 12696, 12811, 12812, 12970, 12974, 23398, 29069, 33460, 34309, 46110, 55185, 59451, 59514, 59653, 73002, 75000, 77364, 83030, 83031, 83032, 83033, 83489, 90272, 95852, 100723, 118655, 120215, 122118, 122283, 122887, 124018, 124761, 124803, 128869, 135238, 135407, 135728, 136032, 136644, 136870, 136979, 137579, 139075, 139861, 140753, 141757, 143498, 145267, 145268, 145269, 145272, 145304, 145384, 145386, 145401, 145404, 145420, 145444, 145559, 145782, 145791, 145795, 145854, 145860, 145907, 145908, 145912, 145913, 145915, 145916, 145918, 145941, 145968, 145991, 146058, 146059, 146061, 146062, 146071, 146196, 146197, 146273, 146446, 146447, 146449, 146450, 146451, 146452, 146453, 146454, 146464, 146465, 146469, 146479, 146482, 146484, 146488, 146491, 146492, 146493, 146552, 146553, 146554, 146558, 146559, 146561, 146562, 146568, 146569, 146570, 146571, 146573, 146575, 146577, 146579, 146581, 146582, 146583, 146584, 146587, 146588, 146589, 146590, 146591, 146596, 146598, 146605, 146607, 146608, 146609, 146612, 146613, 146617, 146648, 146653, 146654, 146655, 146656, 146657, 146658, 146659, 146660, 146664, 146665, 146666, 146667, 146668, 146669, 146673, 146677, 146678, 146736, 146899, 147630, 147815, 147817, 147818, 147840, 147845, 147846, 147847, 147848, 147934, 148253, 148577, 148641, 148659, 148663, 148705, 148716, 148717, 148718, 148720, 148723, 148724, 148734, 148742, 148745, 148829, 150918, 152363, 152451, 152656, 152797, 153284, 153357, 155394, 157261, 158216, 158525, 159259, 159311, 159328, 159376, 159410, 159425, 159427, 159434, 159476, 159603, 159999, 160292, 160386, 160557, 160558, 160565, 160798, 160817, 160839, 160862, 160883, 160918, 160920, 161083, 161113, 161122, 161167, 161348, 161354, 161383, 161423, 161430, 161434, 161435, 161438, 161439, 161506, 161508, 161529, 161645, 161714, 161715, 161716, 161925, 161927, 161928, 161937, 161996, 162028, 162029, 162098, 162099, 162110, 162155, 162185, 162310, 162311, 162312, 162315, 162328, 162344, 162574, 162609, 162612, 162659, 162660, 162661, 162714, 162791, 162792, 162818, 162822, 162863, 162993, 162994, 162995, 163067, 163124, 163125, 163126, 163127, 163128, 163144, 163145, 163147, 163154, 163158, 163159, 163160, 163208, 163209, 163216, 163229, 163281, 163282, 163284, 163286, 163338, 163342, 163382, 163383, 163410, 163419, 163423, 163506, 163508, 163555, 163556, 163558, 163560, 163561, 163562, 163563, 163564, 163566, 163567, 163568, 163571, 163582, 163587, 163620, 163623, 163658, 163662, 163679, 163680, 163933, 163934, 163935, 163936, 163937, 163938, 163939, 163941, 163943, 163945, 163947, 163950, 163951, 163952, 163953, 163955, 163956, 163957, 163958, 163959, 163965, 163969, 163995, 163996, 163999, 164009, 164010, 164011, 164012, 164014, 164078, 164082, 164103, 164121, 164122, 164169, 164182, 164183, 164205, 164259, 164285, 164315, 164330, 164377, 164378, 164392, 164407, 164415, 164416, 164422, 164425, 164426, 164427, 164467, 164469, 164470, 164471, 164472, 164474, 164476, 164477, 164479, 164495, 164496, 164497, 164498, 164501, 164502, 164504, 164507, 164508, 164509, 164511, 164512, 164513, 164516, 164517, 164520, 164528, 164529, 164534, 164536, 164537, 164542, 164545, 164562, 164564, 164565, 164567, 164568, 164569, 164571, 164572, 164574, 164575, 164631, 164632, 164665, 164666, 164667, 164668, 164669, 164670, 164671, 164672, 164673, 164675, 164676, 164677, 164680, 164694, 164695, 164700, 164704, 164718, 164725, 164730, 164733, 164736, 164737, 164739, 164740, 164777, 164778, 164779, 164780, 164781, 164782, 164783, 164784, 164785, 164786, 164801, 164802, 164803, 164805, 164807, 164808, 164818, 164836, 164837, 164838, 164839, 164840, 164841, 164849, 164861, 164865, 164867, 164868, 164869, 164888, 164890, 164891, 164892, 164893, 164894, 164895, 164896, 164897, 164898, 164899, 164902, 164905, 164907, 164918, 164935, 164936, 164937, 164938, 164939, 164940, 164945, 164946, 164947, 164948, 164958, 164963, 164966, 164967, 165004, 165006, 165011, 165012, 165057, 165082, 165093, 165094, 165095, 165099, 165102, 165127, 165147, 165148, 165149, 165150, 165151, 165152, 165153, 165154, 165163, 165164, 165169, 165171, 165172, 165176, 165180, 165210, 165305, 165306, 165307, 165308, 165310, 165311, 165324, 165326, 165330, 165331, 165332, 165333, 165335, 165336, 165337, 165339, 165342, 165343, 165344, 165346, 165347, 165348, 165349, 165350, 165351, 165352, 165360, 165362, 165363, 165391, 165397, 165418, 165420, 165421, 165422, 165423, 165424, 165425, 165426, 165427, 165428, 165429, 165430, 165431, 165432, 165433, 165434, 165435, 165436, 165443, 165451, 165452, 165453, 165454, 165455, 165456, 165459, 165467, 165468, 165473, 165474, 165488, 165489, 165490, 165491, 165495, 165496, 165497, 165498, 165551, 165557, 165559, 165594, 165595, 165632, 165633, 165635, 165636, 165637, 165638, 165639, 165640, 165641, 165648, 165649, 165650, 165651, 165652, 165653, 165654, 165655, 165656, 165657, 165658, 165659, 165670, 165674, 165713, 165714, 165715, 165716, 165717, 165718, 165719, 165720, 165721, 165722, 165723, 165724, 165726, 165727, 165728, 165729, 165730, 165731, 165732, 165733, 165734, 165735, 165736, 165737, 165738, 165739, 165740, 165742, 165743, 165744, 165745, 165747, 165753, 165754, 165757, 165760, 165774, 165803, 165813, 165860, 165861, 165862, 165868, 165869, 165871, 165872, 165877, 165879, 165890, 165891, 165892, 165893, 165895, 165931, 165942, 165950, 165951, 165955, 165962, 165963, 166014, 166022, 166023, 166024, 166025, 166035, 166036, 166037, 166038, 166039, 166040, 166041, 166043, 166044, 166045, 166046, 166047, 166052, 166061, 166070, 166071, 166074, 166075, 166082, 166083, 166084, 166085, 166086, 166087, 166088, 166089, 166090, 166095, 166097, 166099, 166100, 166105, 166107, 166108, 166109, 166136, 166137, 166146, 166148, 166149, 166150, 166186, 166187, 166188, 166189, 166252, 166253, 166262, 166263, 166265, 166274, 166276, 166278, 166282, 166336, 166337, 166341, 166359, 168219, 169164, 169300, 169332, 169417, 169418, 169419, 169420, 169421, 169464, 169465, 169466, 169493, 169494, 169495, 169496, 169497, 169500, 169501, 169502, 169503, 169518, 169539, 169540, 169541, 169542, 169543, 169544, 169549, 169555, 169562, 171866, 174588, 175081, 177084, 177631, 177980, 177981, 177985, 177986, 177987, 177988, 177991, 180850, 181341, 181346, 181357, 181358, 181361, 181367, 181380, 181385, 181394, 181398, 181405, 181412, 181417, 181422, 181429, 181437, 181438, 181442, 181455, 181461, 181470, 181474, 181485, 181506, 181510, 181517, 181526, 181531, 181537, 181540, 181545, 181556, 181564, 181573, 181668, 181700, 182583]\n",
        "for index, row in df.iterrows():\n",
        "    if index in indexes:\n",
        "        print(row['notes'])\n",
        "        print(row['class'])\n",
        "'''"
      ]
    },
    {
      "cell_type": "code",
      "execution_count": 231,
      "metadata": {},
      "outputs": [
        {
          "name": "stdout",
          "output_type": "stream",
          "text": [
            "On 23 May 2025, in the afternoon, at the call of Green West-Flanders (Groen West-Vlaanderen) and Green Diksmuide (Groen Diksmuide), several activists, including a Green MP, gathered outside the company TWZ in Diksmuide (Vlaanderen), to protest a provincial permit allowing the discharge of PFAS-contaminated water, denouncing it as dangerous for human health.\n",
            "unknown\n"
          ]
        }
      ],
      "source": [
        "# print first note\n",
        "print(df.iloc[0]['notes'])\n",
        "# first class\n",
        "print(df.iloc[0]['class'])"
      ]
    },
    {
      "cell_type": "code",
      "execution_count": 232,
      "metadata": {
        "id": "68xW1PQveMeo"
      },
      "outputs": [],
      "source": [
        "def classify(df, classes_dic):\n",
        "  for index, row in df.iterrows():\n",
        "    if row[\"class\"] == \"unknown\":\n",
        "            notes_lower = row[\"notes\"].lower()\n",
        "            classified = False\n",
        "            for class_name, words in classes_dic.items():\n",
        "                for word in words:\n",
        "                    if word in notes_lower:\n",
        "                        df.at[index, \"class\"] = class_name\n",
        "                        classified = True\n",
        "                        break \n",
        "                if classified:\n",
        "                    break\n",
        "classify(df, Classes_dic)"
      ]
    },
    {
      "cell_type": "code",
      "execution_count": 233,
      "metadata": {},
      "outputs": [
        {
          "name": "stdout",
          "output_type": "stream",
          "text": [
            "class\n",
            "unknown                      72984\n",
            "pandemic                     20684\n",
            "labor rights                 19357\n",
            "farmers                      10047\n",
            "palestine-israel conflict     7632\n",
            "education                     7445\n",
            "women rights                  6514\n",
            "ukraine-russia war            6074\n",
            "climate                       5551\n",
            "environment                   4742\n",
            "health care                   3965\n",
            "policies & politics           3633\n",
            "lgbtq                         2814\n",
            "public services               2620\n",
            "immigration                   2113\n",
            "discrimination                2094\n",
            "animal welfare                1749\n",
            "blm                            924\n",
            "housing                        868\n",
            "culture                        716\n",
            "unjust law enforcement         554\n",
            "Name: count, dtype: int64\n"
          ]
        }
      ],
      "source": [
        "print(df[\"class\"].value_counts())\n"
      ]
    },
    {
      "cell_type": "code",
      "execution_count": 234,
      "metadata": {},
      "outputs": [
        {
          "name": "stdout",
          "output_type": "stream",
          "text": [
            "On 19 May 2025, around 150 people, including Reich Citizens, gathered in front of the Kulturpalast in Dresden (Sachsen) for the regular Monday demonstration, promoting far-right ideologies. Around 50 people staged a counter-protest against far-right ideologies. During the event, protesters displayed a flag and clothing with symbols of the recently banned Reich Citizens group 'Kingdom of Germany' (Konigreich Deutschland) leading the authorities to seize the items and initiate an investigation for the use of unconstitutional symbols. Physical altercations and insults also occurred but the report does not provide details on what happened.\n",
            "unknown\n",
            "Protests\n"
          ]
        }
      ],
      "source": [
        "n=301\n",
        "print(df.iloc[n]['notes'])\n",
        "print(df.iloc[n]['class'])\n",
        "print(df.iloc[n]['event_type'])"
      ]
    },
    {
      "cell_type": "code",
      "execution_count": 235,
      "metadata": {
        "id": "v0ucpjEjZ6d6"
      },
      "outputs": [
        {
          "data": {
            "text/plain": [
              "11"
            ]
          },
          "execution_count": 235,
          "metadata": {},
          "output_type": "execute_result"
        }
      ],
      "source": [
        "def getNonClassIndex(df):\n",
        "  for index, row in df.iterrows():\n",
        "    if row[\"class\"] == \"unknown\":\n",
        "      return index\n",
        "  return -1\n",
        "\n",
        "getNonClassIndex(df)"
      ]
    },
    {
      "cell_type": "code",
      "execution_count": 236,
      "metadata": {},
      "outputs": [
        {
          "name": "stdout",
          "output_type": "stream",
          "text": [
            "0.0\n"
          ]
        }
      ],
      "source": [
        "# Zoveel procent nog\n",
        "print((df[\"class\"] == \"NoN\").mean() * 100)"
      ]
    },
    {
      "cell_type": "code",
      "execution_count": 237,
      "metadata": {},
      "outputs": [
        {
          "name": "stdout",
          "output_type": "stream",
          "text": [
            "On 23 May 2025, at the call of the Food, Beverages and Catering Union (Gewerkschaft Nahrung-Genuss-Gaststatten - NGG), around 60 employees, supported by workers from the Reissdorf brewery in Koln-Rodenkirchen, gathered for a warning strike protest rally at the Gaffel brewery in Porz in Koln (Nordrhein-Westfalen), demanding recognition, appreciation, and fair wage increases and pushing for a new collective bargaining agreement.\n"
          ]
        }
      ],
      "source": [
        "while True:\n",
        "    index = getNonClassIndex(df)\n",
        "    if index == -1:\n",
        "        break\n",
        "    else:\n",
        "        print(df.iloc[index]['notes'])\n",
        "        break"
      ]
    },
    {
      "cell_type": "code",
      "execution_count": 238,
      "metadata": {},
      "outputs": [
        {
          "name": "stdout",
          "output_type": "stream",
          "text": [
            "110096\n",
            "                                                    notes           class  \\\n",
            "163078  On 25 June 2020, teachers, parents, students, ...        pandemic   \n",
            "156649  On 17 September 2020, between 300 and 400 pers...    labor rights   \n",
            "72646   On 20 January 2023, Fridays for Future activis...         climate   \n",
            "41668   On 20 January 2024, at the call of the Collect...     immigration   \n",
            "86170   On 4 July 2022, dozens of farmers staged a pro...         farmers   \n",
            "...                                                   ...             ...   \n",
            "142675  On 25 January 2021, about 25 people violently ...        pandemic   \n",
            "152898  On 21 October 2020, an unknown number of activ...         climate   \n",
            "25625   On 15 June 2024, at the call of PS, PCF, LFI, ...  discrimination   \n",
            "119272  On 26 August 2021, San Carlo Hospital bar work...    labor rights   \n",
            "169005  On 1 May 2020, storekeepers gathered in a park...        pandemic   \n",
            "\n",
            "       real class  \n",
            "163078    unknown  \n",
            "156649    unknown  \n",
            "72646     unknown  \n",
            "41668     unknown  \n",
            "86170     unknown  \n",
            "...           ...  \n",
            "142675    unknown  \n",
            "152898    unknown  \n",
            "25625     unknown  \n",
            "119272    unknown  \n",
            "169005    unknown  \n",
            "\n",
            "[683 rows x 3 columns]\n",
            "20\n",
            "['pandemic' 'labor rights' 'climate' 'immigration' 'farmers'\n",
            " 'ukraine-russia war' 'health care' 'education' 'women rights'\n",
            " 'discrimination' 'palestine-israel conflict' 'lgbtq' 'culture' 'housing'\n",
            " 'policies & politics' 'public services' 'blm' 'environment'\n",
            " 'unjust law enforcement' 'animal welfare']\n"
          ]
        }
      ],
      "source": [
        "import random\n",
        "non_nan_df = df[df['class'] != 'unknown']\n",
        "print(len(non_nan_df))\n",
        "random_indices = random.sample(range(len(non_nan_df)), 683)\n",
        "random_notes = non_nan_df.iloc[random_indices]\n",
        "topics_eval_df = pd.DataFrame({\n",
        "    'notes': random_notes['notes'],\n",
        "    'class': random_notes['class'],\n",
        "})\n",
        "topics_eval_df[\"real class\"] = \"unknown\"\n",
        "topics_eval_df.to_csv('../data/topics_evaluation.csv', index=False)\n",
        "print(topics_eval_df)\n",
        "print(len(topics_eval_df[\"class\"].unique()))\n",
        "print(topics_eval_df[\"class\"].unique())"
      ]
    },
    {
      "cell_type": "code",
      "execution_count": null,
      "metadata": {},
      "outputs": [],
      "source": []
    }
  ],
  "metadata": {
    "colab": {
      "provenance": []
    },
    "kernelspec": {
      "display_name": "base",
      "language": "python",
      "name": "python3"
    },
    "language_info": {
      "codemirror_mode": {
        "name": "ipython",
        "version": 3
      },
      "file_extension": ".py",
      "mimetype": "text/x-python",
      "name": "python",
      "nbconvert_exporter": "python",
      "pygments_lexer": "ipython3",
      "version": "3.12.2"
    }
  },
  "nbformat": 4,
  "nbformat_minor": 0
}
