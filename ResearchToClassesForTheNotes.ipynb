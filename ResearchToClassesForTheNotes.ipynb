{
  "cells": [
    {
      "cell_type": "code",
      "execution_count": 184,
      "metadata": {
        "colab": {
          "base_uri": "https://localhost:8080/"
        },
        "id": "Ea5WVY0CA2Vz",
        "outputId": "8e45fbfc-a9f4-4b28-b44f-dc4d592d1af5"
      },
      "outputs": [],
      "source": [
        "import pandas as pd"
      ]
    },
    {
      "cell_type": "code",
      "execution_count": 185,
      "metadata": {
        "id": "LF3A846SBDWg"
      },
      "outputs": [],
      "source": [
        "# datafile aanmaken met classes\n",
        "df = pd.read_csv('../data/filtered_events_country_code.csv')\n",
        "df[\"class\"] = \"unknown\"\n",
        "df.head()\n",
        "df.to_csv('../data/filtered_events_class.csv', index=False)"
      ]
    },
    {
      "cell_type": "markdown",
      "metadata": {
        "id": "Sy8p1cFOaze6"
      },
      "source": [
        "### Adding classes column"
      ]
    },
    {
      "cell_type": "code",
      "execution_count": 186,
      "metadata": {
        "colab": {
          "base_uri": "https://localhost:8080/",
          "height": 440
        },
        "id": "vJk5OVzRar-I",
        "outputId": "babf010a-dbd6-4516-d5f9-3faa41177545"
      },
      "outputs": [
        {
          "name": "stdout",
          "output_type": "stream",
          "text": [
            "class\n",
            "unknown    183080\n",
            "Name: count, dtype: int64\n"
          ]
        },
        {
          "name": "stderr",
          "output_type": "stream",
          "text": [
            "/tmp/ipykernel_7473/1811023806.py:1: DtypeWarning: Columns (11) have mixed types. Specify dtype option on import or set low_memory=False.\n",
            "  df = pd.read_csv('../data/filtered_events_class.csv')\n"
          ]
        }
      ],
      "source": [
        "df = pd.read_csv('../data/filtered_events_class.csv')\n",
        "print(df[\"class\"].value_counts())"
      ]
    },
    {
      "cell_type": "code",
      "execution_count": null,
      "metadata": {},
      "outputs": [
        {
          "name": "stdout",
          "output_type": "stream",
          "text": [
            "Found word: gay\n",
            "Index of word: 135\n",
            "Context: n Bungay (Eng\n"
          ]
        }
      ],
      "source": [
        "'''\n",
        "sentence = \"On 26 December 2024, approximately 40 campaigners from the Action Against Animal Cruelty group protested outside the Buttercross in Bungay (England) against the annual Boxing Day hunt parade. The protesters criticized trail hunting, arguing it often served as a cover for illegal fox hunting, banned since 2005 in England. Protesters carried signs and spoke with the public about the harm trail hunting caused to wildlife. The event, featuring the Waveney and Norfolk Harriers and the Dunston Harriers, became tense when some hunt supporters verbally insulted the protesters and coffee was thrown at one protester.\"\n",
        "\n",
        "for word in Classes_dic[\"lgbtq\"]:\n",
        "    if word in sentence.lower():\n",
        "        print(\"Found word:\", word)\n",
        "        index = sentence.lower().index(word)\n",
        "        print(\"Index of word:\", index)\n",
        "        start_index = max(0, index - 5)\n",
        "        end_index = min(len(sentence), index + len(word) + 5)\n",
        "        print(\"Context:\", sentence[start_index:end_index])\n",
        "        break\n",
        "'''"
      ]
    },
    {
      "cell_type": "code",
      "execution_count": null,
      "metadata": {
        "id": "Pb-QcxI4ZC0_"
      },
      "outputs": [],
      "source": [
        "Classes_dic = {\n",
        "    \"blm\": [\"black lives matter\"],\n",
        "    \"lgbtq\": [\"lgb\", \"lesbian\", \"gay\", \"homosexual\", \"transsexual\", \"queer\", \"homophobia\", \"transphobia\", \"biphobia\", \"trans rights\"],\n",
        "    \"women rights\": [\"women's rights\", \"feminism\", \"feminist\", \"against women\", \"women protested\", \"abortion\", \"sexual violence\", \"sexual assault\", \"sexual harassment\", \"sexual abuse\"],\n",
        "    \"climate\": [\"climate change\", \"fossil fuels\", \"greenwashing\", \"climate agenda\", \"global warming\"],\n",
        "    \"labor rights\": [\"labor rights\", \"higher salaries\", \"working conditions\", \"employee\",  \"commission fees\", \"pension\", \"salary equalization\", \"unfairly dismissed\"],\n",
        "    \"animal welfare\": [\"animal welfare\", \"animal rights\", \"animal protection\", \"bullfighting\", \"animals locked\", \"wildlife\", \"cruel\"],\n",
        "    \"farmers\": [\"farmers\", \"agriculture\", \"agricultural\", \"intensive farming\"],\n",
        "    \"health care\": [\"health\", \"healthcare\", \"hospital \", \"hospitals\", \"nurseries\", \"emergency clinics\", \"emergency care\"],\n",
        "    \"environment\": [\"environment\", \"pfas\", \"nitrogen\", \"planned felling\", \"biodiversity\", \"park project\"],\n",
        "    \"public services\": [\" bus \", \"traffic accidents\", \"railway station\", \"bike lanes\", \"road connection\", \"public service\", \"rail\", \"railroad\", \"pedestrianization\", \"child-safe intersections\", \"bike street\", \"play street\", \"reasonable mobility\", \"cycling conditions\", \"urban development\", \"free transport\"],\n",
        "    \"palestine-israel conflict\": [\"gaza\", \"palestine\", \"israel\", \"hamas\", \"palestinian\"],\n",
        "    \"immigration\": [\"immigration\", \"against migration\", \"deportation detention\"],\n",
        "    \"unjust law enforcement\": [\"police brutality\", \"criminalize protests\", \"criminalize demonstrations\", \"police misconduct\", \"police repression\"],\n",
        "    \"ukraine-russia war\": [\"russia\", \"ukrain\"],\n",
        "    \"discrimination\": [\"discrimination\", \"racism\"],\n",
        "    \"education\": [\"education\", \"teacher\", \"academic\", \"education\", \"professor\", \"university\", \"student loan\"],\n",
        "    \"housing\": [\"residential complex\", \"dignified housing\", \"evict\"],\n",
        "    \"culture\": [\"tourism\", \"tourists\", \"culture\", \"cultural\"],\n",
        "    \"policies\": [\"social welfare\", \"social services\", \"social assistance\", \"economic justice\", \"economic sovereignty\", \"economic independence\", \"adoption of the euro\", \"euro adoption\", \"council's plan\", \"nightlife noise\", \"municipality\", \"regional government\", \"political criticism\", \"political opposition\", \"against the pm\", \"resignation of the president\", \"political rights\", \"political prisoners\", \"far-right\", \"far-left\", \"anti-eu\", \"pro-eu\", \"democratic\", \"referendums\", \"urgent elections\", \"distinct autonomy\"],\n",
        "    \"pandemic\": [\"pandemic\", \"covid\", \"coronavirus\",]\n",
        "}"
      ]
    },
    {
      "cell_type": "code",
      "execution_count": null,
      "metadata": {},
      "outputs": [
        {
          "name": "stdout",
          "output_type": "stream",
          "text": [
            "On 17 May 2025, around 10 PAZ activists staged a protest at the entrance of the medieval festival in Vincennes at the castle in Vincennes (Ile-de-France) to denounce bird of prey shows as cruel spectacles involving animals locked up for life.\n",
            "unknown\n",
            "On 17 May 2025, at the call of the League Against Cruel Sport campaign group, animal rights activists staged a demonstration by being in a cage outside the Parliament in Cardiff (Wales) against the low welfare standards in breeding birds for sport and to highlight the cruelty of caged breeding. Protesters called for a ban on cage-based farming systems.\n",
            "unknown\n",
            "On 15 May 2025, in the afternoon, on the occasion of World Day of Underground Hunting, between 150 and 700 hunters, as well as the president of the Chamber of Agriculture and local elected officials from UPR and RN, marched in Limoges (Nouvelle-Aquitaine) to defend traditional underground badger hunting. The protest began at the hunting lodge near Lake Uzurat and proceeded through the city center. Demonstrators held banners citing road collisions and agricultural damage, and called for the reinstatement of the early hunting season. At the same time, at the call of One Voice, animal rights activists gathered in De la Motte Square to protest against badger culling, denouncing it as cruel and unnecessary. Activists displayed posters and images highlighting the brutality of badger digging and called for an end to this type of hunting.\n",
            "unknown\n",
            "On 12 May 2025, three PETA activists, including one American influencer, gathered outside the Louis Vuitton store in Paris (Ile-de-France) to protest against the use of crocodile skin by the brand, which the activists deemed cruel.\n",
            "unknown\n",
            "On 2 May 2025, animal rights activists gathered at the Louis Vuitton store in Antwerpen (Vlaanderen) to protest the fur industry and voice their concerns about the brand's cruelty to animals.\n",
            "unknown\n",
            "On 19 April 2025, at the call of 269 LA, around 20 people gathered on Kleber Square in Strasbourg (Grand Est) to protest against the killing of calves for Easter and animal cruelty at slaughterhouses.\n",
            "unknown\n",
            "On 18 April 2025, animal rights activists and members of Animal Space (Spazio Animale) gathered in Dante Square in Napoli (Campania) to protest against animal cruelty and the traditional Easter lamb-based dishes. Activists noted how 300,000 lambs are butchered around Easter and exposed banners reading 'your tradition is a death sentence'.\n",
            "unknown\n",
            "On 16 April 2025, protesters gathered against animal cruelty in Varna, provoked by the case of a man and woman who were charged by the Pernik District Prosecutor's Office for causing the death of stray animals for the purpose of obtaining material gain which has shocked the country. Protesters across the country demanded more serious punishments for animal abusers, and they have been gathering regularly for weeks.\n",
            "unknown\n",
            "On 14 April 2025, protesters gathered against animal cruelty in Ruse, provoked by the case of a man and woman who were charged by the Pernik District Prosecutor's Office for causing the death of stray animals for the purpose of obtaining material gain which has shocked the country. Protesters across the country demanded more serious punishments for animal abusers, and they have been gathering regularly for weeks.\n",
            "unknown\n",
            "On 14 April 2025, protesters gathered against animal cruelty in Silistra, provoked by the case of a man and woman who were charged by the Pernik District Prosecutor's Office for causing the death of stray animals for the purpose of obtaining material gain which has shocked the country. Protesters across the country demanded more serious punishments for animal abusers, and they have been gathering regularly for weeks.\n",
            "unknown\n",
            "On 14 April 2025, protesters gathered against animal cruelty in Sofia, provoked by the case of a man and woman who were charged by the Pernik District Prosecutor's Office for causing the death of stray animals for the purpose of obtaining material gain which has shocked the country. Protesters across the country demanded more serious punishments for animal abusers, and they have been gathering regularly for weeks.\n",
            "unknown\n",
            "On 14 April 2025, protesters gathered against animal cruelty in Veliko Tarnovo, provoked by the case of a man and woman who were charged by the Pernik District Prosecutor's Office for causing the death of stray animals for the purpose of obtaining material gain which has shocked the country. Protesters across the country demanded more serious punishments for animal abusers, and they have been gathering regularly for weeks.\n",
            "unknown\n",
            "On 13 April 2025, protesters gathered against animal cruelty in Kyustendil, provoked by the case of a man and woman who were charged by the Pernik District Prosecutor's Office for causing the death of stray animals for the purpose of obtaining material gain which has shocked the country. Protesters across the country demanded more serious punishments for animal abusers, and they have been gathering regularly for weeks.\n",
            "unknown\n",
            "On 12 April 2025, around 15 L214 affiliates gathered outside the Leclerc supermarket in Dole (Bourgogne-Franche-Comte) to protest against animal cruelty at pig slaughterhouses.\n",
            "unknown\n",
            "On 12 April 2025, L214 affiliates gathered outside a Leclerc supermarket in Migennes (Bourgogne-Franche-Comte) to protest against animal cruelty at pig slaughterhouses.\n",
            "unknown\n",
            "On 12 April 2025, L214 affiliates gathered outside a Leclerc supermarket in Orvault (Pays de la Loire) to protest against animal cruelty at pig slaughterhouses.\n",
            "unknown\n",
            "On 12 April 2025, L214 affiliates gathered outside a Leclerc supermarket in Paris (Ile-de-France) to protest against animal cruelty at pig slaughterhouses.\n",
            "unknown\n",
            "On 12 April 2025, L214 affiliates gathered outside a Leclerc supermarket in Rennes (Bretagne) to protest against animal cruelty at pig slaughterhouses.\n",
            "unknown\n",
            "On 5 April 2025, at the call of Animal Justice Project (AJP), more than 50 animal rights activists gathered outside the Lowfields Farm in Northallerton (England) to protest against animal cruelty in the dairy industry. The demonstration was sparked by an AJP investigation that revealed cows being punched and kicked, as well as calves being forcibly separated from their mothers at the farm, which supplies milk to Arla, a major dairy producer.\n",
            "unknown\n",
            "On 4 April 2025, protesters gathered against animal cruelty in Montana, provoked by the case of a man and woman who were charged by the Pernik District Prosecutor's Office for causing the death of stray animals for the purpose of obtaining material gain which has shocked the country. Protesters across the country demanded more serious punishments for animal abusers.\n",
            "unknown\n",
            "On 29 March 2025, a protest against animal cruelty took place in Blagoevgrad and several cities across the country, sparked by the arrest of a man and woman who killed animals and distributed videos of them online for a fee. The protesters' demands include changes to the penal code, tougher penalties for abusers and the creation of a zoo police force.\n",
            "unknown\n",
            "On 29 March 2025, nearly 200 residents gathered at a protest against animal cruelty took place in Burgas and several cities across the country, sparked by the arrest of a man and woman who killed animals and distributed videos of them online for a fee. The protesters' demands include changes to the penal code, tougher penalties for abusers and the creation of a zoo police force.\n",
            "unknown\n",
            "On 29 March 2025, a protest against animal cruelty took place in Haskovo and several cities across the country, sparked by the arrest of a man and woman who killed animals and distributed videos of them online for a fee. The protesters' demands include changes to the penal code, tougher penalties for abusers and the creation of a zoo police force.\n",
            "unknown\n",
            "On 29 March 2025, a protest against animal cruelty took place in Kazanlak and several cities across the country, sparked by the arrest of a man and woman who killed animals and distributed videos of them online for a fee. The protesters' demands include changes to the penal code, tougher penalties for abusers and the creation of a zoo police force.\n",
            "unknown\n",
            "On 29 March 2025, a protest against animal cruelty took place in Kyustendil and several cities across the country, sparked by the arrest of a man and woman who killed animals and distributed videos of them online for a fee. The protesters' demands include changes to the penal code, tougher penalties for abusers and the creation of a zoo police force.\n",
            "unknown\n",
            "On 29 March 2025, a protest against animal cruelty took place in Pazardzhik and several cities across the country, sparked by the arrest of a man and woman who killed animals and distributed videos of them online for a fee. The protesters' demands include changes to the penal code, tougher penalties for abusers and the creation of a zoo police force.\n",
            "unknown\n",
            "On 29 March 2025, a protest against animal cruelty took place in Razgrad and several cities across the country, sparked by the arrest of a man and woman who killed animals and distributed videos of them online for a fee. The protesters' demands include changes to the penal code, tougher penalties for abusers and the creation of a zoo police force.\n",
            "unknown\n",
            "On 29 March 2025, a protest against animal cruelty took place in Samokov and several cities across the country, sparked by the arrest of a man and woman who killed animals and distributed videos of them online for a fee. The protesters' demands include changes to the penal code, tougher penalties for abusers and the creation of a zoo police force.\n",
            "unknown\n",
            "On 29 March 2025, a protest against animal cruelty took place in Silistra and several cities across the country, sparked by the arrest of a man and woman who killed animals and distributed videos of them online for a fee. The protesters' demands include changes to the penal code, tougher penalties for abusers and the creation of a zoo police force.\n",
            "unknown\n",
            "On 29 March 2025, a protest against animal cruelty took place in Sofia and several cities across the country, sparked by the arrest of a man and woman who killed animals and distributed videos of them online for a fee. The protesters' demands include changes to the penal code, tougher penalties for abusers and the creation of a zoo police force.\n",
            "unknown\n",
            "On 27 March 2025, in the afternoon, at the call of PETA, around 30 people, including animal rights activists and concerned residents, gathered at the Alte Fahrt in Potsdam (Brandenburg) to protest against fishing practices in the area. Demonstrators staged a symbolic action featuring a grim reaper and fake blood to denounce fishing as animal cruelty and demanded a complete ban on angling along the popular promenade. The protest drew attention to reports of banned techniques being used despite reinforced regulations and inspections by local authorities.\n",
            "unknown\n",
            "On 27 March 2025, people gathered outside the Prefecture in Charleville-Mezieres (Grand Est) to protest against the construction of a large chicken farm in Sarry, citing the project's potential impact on the environment, while some denounced animal cruelty.\n",
            "unknown\n",
            "On 26 March 2025, protesters gathered against animal cruelty in Stara Zagora, provoked by the case of a man and woman who were charged by the Pernik District Prosecutor's Office for causing the death of stray animals for the purpose of obtaining material gain which has shocked the country. Protesters across the country demanded more serious punishments for animal abusers.\n",
            "unknown\n",
            "On 23 March 2025, hundreds of protesters gathered against animal cruelty in Plovdiv, provoked by the case of a man and woman who were charged by the Pernik District Prosecutor's Office for causing the death of stray animals for the purpose of obtaining material gain which has shocked the country. Protesters across the country demanded more serious punishments for animal abusers.\n",
            "unknown\n",
            "On 23 March 2025, dozens of protesters gathered against animal cruelty in Sliven, provoked by the case of a man and woman who were charged by the Pernik District Prosecutor's Office for causing the death of stray animals for the purpose of obtaining material gain which has shocked the country. Protesters across the country demanded more serious punishments for animal abusers.\n",
            "unknown\n",
            "On 23 March 2025, protesters gathered against animal cruelty in Sofia, provoked by the case of a man and woman who were charged by the Pernik District Prosecutor's Office for causing the death of stray animals for the purpose of obtaining material gain which has shocked the country. Protesters across the country demanded more serious punishments for animal abusers.\n",
            "unknown\n",
            "On 22 March 2025, protesters gathered against animal cruelty in Haskovo, provoked by the case of a man and woman who were charged by the Pernik District Prosecutor's Office for causing the death of stray animals for the purpose of obtaining material gain which has shocked the country. Protesters across the country demanded more serious punishments for animal abusers.\n",
            "unknown\n",
            "On 22 March 2025, protesters gathered against animal cruelty in Varna, provoked by the case of a man and woman who were charged by the Pernik District Prosecutor's Office for causing the death of stray animals for the purpose of obtaining material gain which has shocked the country. Protesters across the country demanded more serious punishments for animal abusers.\n",
            "unknown\n",
            "On 22 March 2025, about 10 animal rights activists gathered outside the Circo Madagascar's tents in Imola (Emilia-Romagna) to protest animal cruelty and the exploitation of wild animals.\n",
            "unknown\n",
            "On 21 March 2025, protesters gathered against animal cruelty in Shumen, provoked by the case of a man and woman who were charged by the Pernik District Prosecutor's Office for causing the death of stray animals for the purpose of obtaining material gain which has shocked the country. Protesters across the country demanded more serious punishments for animal abusers.\n",
            "unknown\n",
            "On 21 March 2025, protesters gathered against animal cruelty in Varna, provoked by the case of a man and woman who were charged by the Pernik District Prosecutor's Office for causing the death of stray animals for the purpose of obtaining material gain which has shocked the country. Protesters across the country demanded more serious punishments for animal abusers.\n",
            "unknown\n",
            "On 21 March 2025, at the call of 'Soko Animal Protection' (Soko Tierschutz), around 650 people staged a protest in Bad Gronenbach (Bayern) against alleged severe animal cruelty at a local dairy farm, forming a human chain around the farm.\n",
            "unknown\n",
            "On 20 March 2025, protesters gathered against animal cruelty in Gotse Delchev, provoked by the case of a man and woman who were charged by the Pernik District Prosecutor's Office for causing the death of stray animals for the purpose of obtaining material gain which has shocked the country. Protesters across the country demanded more serious punishments for animal abusers.\n",
            "unknown\n",
            "On 20 March 2025, protesters gathered against animal cruelty in Lom, provoked by the case of a man and woman who were charged by the Pernik District Prosecutor's Office for causing the death of stray animals for the purpose of obtaining material gain which has shocked the country. Protesters across the country demanded more serious punishments for animal abusers.\n",
            "unknown\n",
            "On 20 March 2025, at the call of Animal Equality, animal rights activists gathered outside the seat of jewelry store chain Pandora in Milano - Municipio 9 (Lombardia) and then staged several flashmobs outside many Pandora shops all across the city to protest against the Pandora board member Jan Zijderveld, who is also part of the board of the company Ahold Delhaize, accused of animal cruelty. Activists asked Pandora to take a stance against animal abuse.\n",
            "unknown\n",
            "On 19 March 2025, protesters gathered against animal cruelty in Dobrich, provoked by the case of a man and woman who were charged by the Pernik District Prosecutor's Office for causing the death of stray animals for the purpose of obtaining material gain which has shocked the country. Protesters across the country demanded more serious punishments for animal abusers.\n",
            "unknown\n",
            "On 19 March 2025, protesters gathered against animal cruelty in Ruse, provoked by the case of a man and woman who were charged by the Pernik District Prosecutor's Office for causing the death of stray animals for the purpose of obtaining material gain which has shocked the country. Protesters across the country demanded more serious punishments for animal abusers.\n",
            "unknown\n",
            "On 19 March 2025, protesters gathered against animal cruelty in Sofia, provoked by the case of a man and woman who were charged by the Pernik District Prosecutor's Office for causing the death of stray animals for the purpose of obtaining material gain which has shocked the country. Protesters across the country demanded more serious punishments for animal abusers.\n",
            "unknown\n",
            "On 18 March 2025, protesters gathered against animal cruelty in Pleven, provoked by the case of a man and woman who were charged by the Pernik District Prosecutor's Office for causing the death of stray animals for the purpose of obtaining material gain which has shocked the country. Protesters across the country demanded more serious punishments for animal abusers.\n",
            "unknown\n",
            "On 17 March 2025, protesters gathered against animal cruelty in Pernik, provoked by the case of a man and woman who were charged by the Pernik District Prosecutor's Office for causing the death of stray animals for the purpose of obtaining material gain which has shocked the country. Protesters across the country demanded more serious punishments for animal abusers.\n",
            "unknown\n",
            "On 17 March 2025, protesters gathered against animal cruelty in Pleven, provoked by the case of a man and woman who were charged by the Pernik District Prosecutor's Office for causing the death of stray animals for the purpose of obtaining material gain which has shocked the country. Protesters across the country demanded more serious punishments for animal abusers.\n",
            "unknown\n",
            "On 17 March 2025, more than 200 protesters gathered against animal cruelty in Veliko Tarnovo, provoked by the case of a man and woman who were charged by the Pernik District Prosecutor's Office for causing the death of stray animals for the purpose of obtaining material gain which has shocked the country. Protesters across the country demanded more serious punishments for animal abusers.\n",
            "unknown\n",
            "On 16 March 2025, protesters gathered against animal cruelty in Burgas, provoked by the case of a man and woman who were charged by the Pernik District Prosecutor's Office for causing the death of stray animals for the purpose of obtaining material gain which has shocked the country. Protesters across the country demanded more serious punishments for animal abusers.\n",
            "unknown\n",
            "On 15 March 2025, nine L214 affiliates gathered outside a Leclerc supermarket in the Querqueville neighborhood in Cherbourg-en-Cotentin (Normandie) to protest against animal cruelty at pig slaughterhouses delivering meat to Leclerc.\n",
            "unknown\n",
            "On 15 March 2025, around 10 L214 affiliates gathered outside a Leclerc supermarket in Limoges (Nouvelle-Aquitaine) to protest against animal cruelty at pig slaughterhouses delivering meat to Leclerc.\n",
            "unknown\n",
            "On 15 March 2025, in the afternoon, six L214 activists gathered outside a Leclerc supermarket in Marly (Grand Est) to denounce animal cruelty at pig farms supplying the retailer. The protest was part of a nationwide campaign targeting 38 Leclerc stores and followed the group's complaint against eight pig farms in Brittany accused of mistreatment. Activists distributed flyers, hung posters on trolleys, and collected signatures for a petition urging Leclerc to adopt the Pig Minimum Standards.\n",
            "unknown\n",
            "On 15 March 2025, 11 L214 affiliates gathered outside a Leclerc supermarket in Pau (Nouvelle-Aquitaine) to protest against animal cruelty at pig slaughterhouses delivering meat to Leclerc.\n",
            "unknown\n",
            "On 15 March 2025, a few L214 affiliates gathered outside a Leclerc supermarket in Toulouse (Occitanie) to protest against animal cruelty at pig slaughterhouses delivering meat to Leclerc.\n",
            "unknown\n",
            "On 15 March 2025, at the call of the Biterrois Liaison Committee for the Abolition of Corrida (Comite de Liaison Biterrois pour l'Abolition de la Corrida - COLBAC), around 30 people gathered in Beziers (Occitanie) to demand a ban on Spanish-style bull-fighting (corrida), which they deemed cruel to bulls.\n",
            "unknown\n",
            "On 12 February 2025, people, including members of the association Friends of Balto of Cerignola (Amici di Balto di Cerignola), gathered in Manfredonia (Puglia) to honor Noir, a stray dog brutally killed and discarded in the trash, calling for an end to animal cruelty and raise awareness about the importance of protecting animals.\n",
            "unknown\n",
            "On 8 February 2025, at the call of the PA and One Voice, around 40 people staged a protest in front of the animal park Wild Planet (Planete Sauvage) in Port-Saint-Pere (Pays de la Loire) to protest against the captivity of 11 dolphins. They considered the situation cruel to the animals.\n",
            "unknown\n",
            "On 8 February 2025, at the call of 100% Animalisti, people staged a demonstration in Verona (Veneto) outside the pavilion hosting the European Outdoor Show (EOS), namely a national event dedicated to hunting, sport shooting, fishing, and other outdoor activities. Animal activists denounced hunting and fishing as cruel and dangerous activities, criticized the weapons exhibitors present at the fair, and protested against animal cruelty. Representatives of other associations, including 'Hungarian Animalists' (Animalisti Ungheresi), META, and 'Italian Animalists' (Animalisti Italiani), participated in the protest.\n",
            "unknown\n",
            "On 7 February 2025, around 30 L214 activists gathered in front of the Prefecture in Lyon (Auvergne-Rhone-Alpes) to demand the closure of the Saint-Romain-de-Popey slaughterhouse, where cases of animal cruelty were reported, and demand a meeting with the prefect. Protesters held banners with slogans and shocking photos of ill-treated animals.\n",
            "unknown\n",
            "On 1 February 2025, around 2,000 people and 4,000 dogs participated in the tenth Galgo March in Koln (Nordrhein-Westfalen), starting at Burgerhaus Stollwerck and ending at Heumarkt. The protest aimed to raise awareness about the suffering of Spanish hunting dogs, such as Galgos, Podencos, and Setters, who are kept under cruel conditions and often killed when no longer useful for hunting.\n",
            "unknown\n",
            "On 18 January 2025, at the call of LFI, around 100 people, including One Voice, L214, PS, LE, and PCF affiliates, as well as local elected officials and MEP Anthony Smith (LFI), gathered in Sarry (Grand Est) to protest against the construction of a large chicken farm in the locality, citing the project's potential impact on the environment, while some denounced animal cruelty.\n",
            "unknown\n",
            "On 18 January 2025, animal rights campaigners from the Animal Rising group staged a sit-in protest, blocking the meat aisle of M&S supermarket in Birmingham (England). The protest was part of a national day of action against the RSPCA's Assured animal welfare and food labeling scheme, which they criticized for cruelty against animals.\n",
            "unknown\n",
            "On 18 January 2025, animal rights campaigners from the Animal Rising group staged a sit-in protest, blocking the meat aisle of M&S supermarket in Chelmsford (England). The protest was part of a national day of action against the RSPCA's Assured animal welfare and food labeling scheme, which they criticized for cruelty against animals.\n",
            "unknown\n",
            "On 18 January 2025, animal rights campaigners from the Animal Rising group staged a sit-in protest, blocking the meat aisle of M&S supermarket in Eastbourne (England). The protest was part of a national day of action against the RSPCA's Assured animal welfare and food labeling scheme, which they criticized for cruelty against animals.\n",
            "unknown\n",
            "On 18 January 2025, animal rights campaigners from the Animal Rising group staged a sit-in protest, blocking the meat aisle of M&S supermarket in Gloucester (England). The protest was part of a national day of action against the RSPCA's Assured animal welfare and food labeling scheme, which they criticized for cruelty against animals.\n",
            "unknown\n",
            "On 18 January 2025, animal rights campaigners from the Animal Rising group staged a sit-in protest, blocking the meat aisle of M&S supermarket in Manchester (England). The protest was part of a national day of action against the RSPCA's Assured animal welfare and food labeling scheme, which they criticized for cruelty against animals.\n",
            "unknown\n",
            "On 18 January 2025, animal rights campaigners from the Animal Rising group staged a sit-in protest, blocking the meat aisle of M&S supermarket in Nottingham (England). The protest was part of a national day of action against the RSPCA's Assured animal welfare and food labeling scheme, which they criticized for cruelty against animals.\n",
            "unknown\n",
            "On 18 January 2025, animal rights campaigners from the Animal Rising group staged a sit-in protest, blocking the meat aisle of M&S supermarket in Southampton (England). The protest was part of a national day of action against the RSPCA's Assured animal welfare and food labeling scheme, which they criticized for cruelty against animals.\n",
            "unknown\n",
            "On 18 January 2025, seven animal rights campaigners from the Animal Rising group staged a sit-in protest, blocking the meat aisle of a supermarket in Stoke-on-Trent (England). The protest was part of a national day of action against the RSPCA's Assured animal welfare and food labeling scheme, which they criticized for cruelty against animals.\n",
            "unknown\n",
            "On 26 December 2024, approximately 40 campaigners from the Action Against Animal Cruelty group protested outside the Buttercross in Bungay (England) against the annual Boxing Day hunt parade. The protesters criticized trail hunting, arguing it often served as a cover for illegal fox hunting, banned since 2005 in England. Protesters carried signs and spoke with the public about the harm trail hunting caused to wildlife. The event, featuring the Waveney and Norfolk Harriers and the Dunston Harriers, became tense when some hunt supporters verbally insulted the protesters and coffee was thrown at one protester.\n",
            "unknown\n",
            "On 14 December 2024, at the call of COLBAC - Biterrois Liaison Committee for the Abolition of Corrida (Comite de Liaison Biterrois pour l'Abolition de la Corrida), people gathered in Beziers (Occitanie) to demand a ban on Spanish-style bull-fighting (corrida), which they deemed cruel to bulls. The protest followed International Animal Rights Day on 10 December.\n",
            "unknown\n",
            "On 14 December 2024, L214 affiliates gathered on Massena Square in Nice (Provence-Alpes-Cote d'Azur) to condemn the practice of force-feeding geese to produce foie gras, a traditional French Christmas dish. The protest highlighted the cruelty involved in the production process, including force-feeding geese over an extended period to fatten their livers.\n",
            "unknown\n",
            "On 14 December 2024, PETA organized a protest at Monckebergbrunnen in the old town of Hamburg - Hamburg-Mitte (Hamburg), with activists dressing as bloodthirsty geese to symbolically consume a scantily clad woman on a table. The demonstration, titled 'Would you like to be eaten? - Animals don't either!', aimed to raise awareness about animal cruelty and meat consumption during the holiday season.\n",
            "unknown\n",
            "On 11 December 2024, people, including animal rights activists and members of the local association 'Kittens of Brindisi' (Micetti di Brindisi), took to the streets of Brindisi (Puglia) to protest against cruelty against animals and the mistreatment of cats after several stray cats were killed in the city. Protesters also demanded harsher sanctions against people harming stray animals.\n",
            "unknown\n",
            "On 9 November 2024, at least 4 PETA members gathered in front of the restaurant 'Neue Mohr'sche Anlage' in Saarbrucken (Saarland) against the sale of frog legs, which they claimed involved animal cruelty.\n",
            "unknown\n",
            "On 26 October 2024, at the call of PA, PACCT - For the Abolition of Hound Hunting and Traditional Hunting (Pour l'Abolition des Chasses a Courre et Traditionnelle), AOC - Alliance of Opponents to Hunting (Alliance des Opposants de la Chasse), and ASPAS - Association for the Safeguard and Protection of wild animals (Association pour la Sauvegarde et la Protection des Animaux Sauvages), around 40 people gathered outside the Castle of Fontainebleau in Fontainebleau (Ile-de-France) to protest against hound hunting, a traditional method they deemed cruel to animals and damaging to biodiversity. The event occurred during a local hunting fair.\n",
            "unknown\n",
            "On 18 October 2024, protesters gathered in Shengjin to protest the official opening of the Italian camp for refugees and migrants headed to Italy. They claim the project is cruel and criticize the Albanian government for agreeing to it.\n",
            "unknown\n",
            "On 5 October 2024, around 30 activists from the animal rights organization Peta staged a protest, with participants positioning themselves as a mountain of 'skinned' bodies, to emphasize their message under the slogan 'Leather kills,' in the city center of Koln (Nordrhein-Westfalen), highlighting the cruelty against animals involved in the production and consumption of leather products.\n",
            "unknown\n",
            "On 25 September 2024, around 10 affiliates of the Animal Liberation 269 (Liberation Animale 269) association gathered outside the LDC slaughterhouse in Bazas (Nouvelle-Aquitaine) to protest against animal cruelty. At the call of CR, around 100 farmers and local elected officials staged a counter-demonstration and threw eggs at the demonstrators, who eventually left the scene.\n",
            "unknown\n",
            "On 25 September 2024, around 20 affiliates of the 269 Animal Liberation (269 Liberation Animale) association gathered outside the local slaughterhouse in La Talaudiere (Auvergne-Rhone-Alpes) to protest against animal cruelty.\n",
            "unknown\n",
            "On 25 September 2024, around 10 affiliates of the Animal Liberation 269 (Liberation Animale 269) association gathered outside the Kermene slaughterhouse in the Le Mene area of Saint-Jacut-du-Mene (Bretagne) to protest against animal cruelty. A few farmers staged a counter-demonstration.\n",
            "unknown\n",
            "On 25 September 2024, around 30 affiliates of the Animal Liberation 269 (Liberation Animale 269) association gathered outside the Guy Harang slaughterhouse in Houdan (Ile-de-France) to protest against animal cruelty. At the call of FNSEA, around 200 farmers and local elected officials staged a counter-demonstration.\n",
            "unknown\n",
            "On 23 September 2024, animal rights activists from the Action Against Animal Cruelty group staged a protest outside Yarmouth Stadium in Caister-on-Sea (England), calling for a ban on greyhound racing due to its 'inherent cruelty' and the 'significant risks' it poses to the dogs involved.\n",
            "unknown\n",
            "On 22 September 2024, about 50 residents of Teplice gathered in front of a private house, accusing his owner of cruel treatment of his dog and demanding police intervention.\n",
            "unknown\n",
            "On 20 September 2024, residents of Varna protested demanding that the municipality set up patrols to prevent cruelty against animals, in particular violence against stray and street dogs and cats.\n",
            "unknown\n",
            "On 14 September 2024, a few L214 affiliates gathered outside an E. Leclerc supermarket in the Montimaran neighborhood in Beziers (Occitanie) to condemn intensive pig farming and urge the supermarket chain to enforce the Pig Minimum Standards, a set of farming practices intended to be less cruel to pigs.\n",
            "unknown\n",
            "On 14 September 2024, 7 L214 activists gathered outside an E. Leclerc supermarket in Rivery (Hauts-de-France) to condemn intensive pig farming and urge the supermarket chain to enforce the Pig Minimum Standards, a set of farming practices intended to be less cruel to pigs.\n",
            "unknown\n",
            "On 14 September 2024, 7 L214 activists gathered outside an E. Leclerc supermarket in Salouel (Hauts-de-France) to condemn intensive pig farming and urge the supermarket chain to enforce the Pig Minimum Standards, a set of farming practices intended to be less cruel to pigs.\n",
            "unknown\n",
            "On 31 August 2024, a few L214 activists gathered outside a bakery in Pau (Nouvelle-Aquitaine) to protest against its use of eggs and meat from intensive farming, which the activists claimed was cruel to hens and chickens.\n",
            "unknown\n",
            "On 31 August 2024, a few L214 activists gathered outside a bakery in Toulouse (Occitanie) to protest against its use of eggs and meat from intensive farming, which the activists claimed was cruel to hens and chickens.\n",
            "unknown\n",
            "On 17 August 2024, at the call of COLBAC - Biterrois Liaison Committee for the Abolition of Corrida (Comite de Liaison Biterrois pour l'Abolition de la Corrida), around 100 people, including national deputies Sandra Regol (The Ecologists) and Beatrice Roullaud (RN), demonstrated in Beziers (Occitanie) to demand a ban on Spanish-style bull-fighting (corrida), which they deemed cruel to bulls.\n",
            "unknown\n",
            "On 15 August 2024, at the call of COLBAC - Biterrois Liaison Committee for the Abolition of Corrida (Comite de Liaison Biterrois pour l'Abolition de la Corrida), people demonstrated in Dax (Nouvelle-Aquitaine) to demand a ban on Spanish-style bull-fighting (corrida), which they deemed cruel to bulls.\n",
            "unknown\n",
            "On 27 July 2024, One Voice and PAZ activists gathered in front of the Martyrs de la Resistance Square in Antibes (Provence-Alpes-Cote d'Azur) to demonstrate against the municipality's methods for controlling the pigeon population which they consider to be cruel and inhumane techniques used to reduce the number of pigeons in urban areas.\n",
            "unknown\n",
            "On 27 July 2024, around 10 people gathered at the Voorschoten Horse Days in Voorschoten (Zuid-Holland), to protest against animal cruelty associated with the event. They aimed to raise awareness about the suffering of horses being traded and to call for an end to such practices.\n",
            "unknown\n",
            "On 22 July 2024, around 13 AV activists staged a protest in Freising (Bayern) to raise awareness about animal cruelty in meat production, displaying graphic images on the street.\n",
            "unknown\n",
            "On 20 July 2024, four PETA activists gathered in Memmingen (Bayern) to protest against the traditional Fishermen's Day event, criticizing it as cruel to animals. The protest involved one activist taking the stage, while three others displayed banners with messages like 'Fishing is murder'.\n",
            "unknown\n",
            "On 13 July 2024, at the call of One Voice, people gathered outside the Marineland water park in Antibes (Provence-Alpes-Cote d'Azur) to protest against animal cruelty.\n",
            "unknown\n",
            "On 10 June 2024, at the call of NT and Little Invincibles (Petits Invincibles), around 30 people gathered outside the Court of Justice in Nice (Provence-Alpes-Cote d'Azur) to express solidarity with a woman whose son was placed in a foster home, a step the protesters considered unfair and cruel.\n",
            "unknown\n",
            "On 10 June 2024, PETA activists gathered outside the Gucci Store in Ingolstadt (Bayern) to protest against the use of exotic leather, highlighting revelations of animal cruelty in Python farms in Thailand.\n",
            "unknown\n",
            "On 5 June 2024, at the call of L214, SLT, Greenpeace, The Ecologists, PA, RAFU - Resistance to Industrial Farms (Resistance aux Fermes Usines), Health Nature Environment (Sante Nature Environnement), and FRAPNA - Rhone-Alpes Federation for the Protection of Nature (Federation Rhone-Alpes de Protection de la Nature), more than 100 people gathered outside the Prefecture in Valence (Auvergne-Rhone-Alpes) to protest against the construction of a 'giant hen coop' in Peyrins. The protesters deemed the project cruel to hens and damaging to the environment.\n",
            "unknown\n",
            "On 13 April 2024, animal rights activists staged a protest outside the global headquarters of bet365 in Stoke-on-Trent (England), as the 2024 Grand National race was taking place, against the cruelty to animals involved in the racecourses. Stoke-on-Trent Animal Rights organized the protest.\n",
            "unknown\n",
            "On 10 April 2024, activists gathered for a rally in in Prague, protesting against animal cruelty - especially regarding chickens and egg production - in the supply chains of local markets.\n",
            "unknown\n",
            "On 7 April 2024, at the call of PAZ - Paris Animals Paris Animaux Zoopolis (Paris Animaux Paris Animaux Zoopolis) and Animal Collective (Collectif Animalier), around 20 people gathered in Biot (Provence-Alpes-Cote d'Azur) to protest against raptor shows during the locality's medieval fair, which they deemed cruel to the birds of prey.\n",
            "unknown\n",
            "On 6 April 2024, at the call of COLBAC - Biterrois Liaison Committee for the Abolition of Corrida (Comite de Liaison Biterrois pour l'Abolition de la Corrida), around 20 people gathered in Beziers (Occitanie) to demand a ban on Spanish-style bull-fighting (corrida), which they deemed cruel to bulls.\n",
            "unknown\n",
            "On 23 March 2024, around 140 people gathered on Capitole Square in Toulouse (Occitanie) to protest against animal cruelty in a local animal shelter.\n",
            "unknown\n",
            "On 2 March 2024, PA affiliates gathered in Beuvry-la-Foret (Hauts-de-France) to protest against cockfights staged in the locality, which they deemed cruel to the roosters.\n",
            "unknown\n",
            "On 12 February 2024, hundreds of people, including residents and animal rights activists, demonstrated in Palermo (Sicilia) against animal cruelty and commemorated a dog killed by its owner a month prior. Protesters also demanded harsher penalties for those who mistreat or kill animals. MP Francesco Borrelli (Green Europe) and Vice President of the Regional Anti-Mafia Commission Ismaele La Vardera were present.\n",
            "unknown\n",
            "On 27 January 2024, animal cruelty activists gathered outside the Armagh City Hotel in Armagh (Northern Ireland) to protest a fox hunting event being held inside the hotel. South Ulster Hunt Sabs and Northern Ireland Says No to Animal Cruelty organized the protest.\n",
            "unknown\n",
            "On 13 January 2024, at the call of several animal rights associations, people, including residents, took to the streets of Palermo (Sicilia) to raise awareness about the death of a pitbull who died after being set on fire by his owner on a public road and demonstrate against cruelty against animals. Protesters also demanded the implementation of stricter rules and harsher legal sanctions against those who mistreat animals.\n",
            "unknown\n",
            "On 13 January 2024, people and animal rights activists staged a demonstration in Novegro (Lombardia), a fraction of the Segrate municipality, against the Madagascar circus and cruelty against animals. Representatives of several animal rights associations, including Animalist Front (Fronte Animalista), Animal Protection Action (Azione Protezione Animali), and Meta were present. Protesters demanded a law banning the use of animals as part of circus shows.\n",
            "unknown\n",
            "On 9 January 2024, around 30 One Voice affiliates gathered outside the Marineland wildlife park in Antibes (Provence-Alpes-Cote d'Azur) to protest against the transfer of 6 orcas to Japan, which they considered animal cruelty.\n",
            "unknown\n",
            "On 12 December 2023, animal rights activists gathered for a rally in Prague, protesting against the traditional sell-outs of living fish to customers, voicing animal cruelty.\n",
            "unknown\n",
            "On 10 December 2023, hundreds of protesters rallied at Syntagma square in Athens - Central Athens demanding justice and a stop to animal cruelty, following the abuse and killing of a Siberian Husky in Arachova.\n",
            "unknown\n",
            "On 22 November 2023, protesters gathered in front of the district court in Sofia to raise their voice against animal cruelty, as a case is underway involving a local man kicking and ultimately killing a stray dog. The video of the attack went viral and launched a widespread campaign for the protection of animal rights.\n",
            "unknown\n",
            "On 29 October 2023, around 50 people gathered in Fontainebleau (Ile-de-France) against traditional hunting (with hounds), which the protesters deemed too cruel.\n",
            "unknown\n",
            "On 15 October 2023, people staged a protest rally in Skals, Viborg, to denounce the local stud farm owner who was accused of animal cruelty and severe animal rights violations.\n",
            "unknown\n",
            "On 14 October 2023, a dozen animal rights activists from Hull Animal Rights Team (HART) gathered outside a fur clothing store in Kingston upon Hull (England) condemning the fur trade and animal cruelty.\n",
            "unknown\n",
            "On 13 October 2023, people demonstrated in Skals, Viborg, to denounce the local stud farm owner who was accused of animal cruelty and severe animal rights violations. The demonstration occurred in the wake of the discovery of an illegal mass horse burial in the area. Later, one of the protesters was rammed by a car owned by a person associated with the farm. The perpetrator was charged with intentional damage and was arrested. As the result of the incident, one person was taken to a hospital with non-life-threatening injury.\n",
            "unknown\n",
            "On 12 October 2023, members of PETA protested in front of the Kuhnle butcher shop in Backnang against the planned reopening of the slaughterhouse. They denounced the context of climate catastrophe and massive species extinction and urged to stop the animal industry to focus on sustainable economic agriculture that is cruel-free and purely plant-based.\n",
            "unknown\n",
            "On 8 October 2023, about 70 activists gathered with pickets at a diary production plant in Dolany (Pardubice district), protesting against alleged animal cruelty within the facility. They peacefully left the building when police ordered them to do so.\n",
            "unknown\n",
            "On 7 October 2023, around 70 Animal Rebellion activists protested in Backnang (Rems-Murr-Kreis, Baden-Wurttemberg) against the planned resumption of the slaughterhouse of the butchery Kuhnle and generally against the slaughter of animals especially in small and medium-sized slaughterhouses. The slaughterhouse closed about a year ago due to suspected animal cruelty violations.\n",
            "unknown\n",
            "On 23 September 2023, almost 20 people of the group Animal Rebellion, protested in Backnang (Rems-Murr-Kreis, Baden-Wurttemberg) against the planned reopening of the slaughterhouse of the butcher shop Kuhnle. The slaughterhouse closed about a year ago due to suspected animal cruelty violations.\n",
            "unknown\n",
            "On 23 August 2023, around 150 people held a torchlight procession near Skals, Viborg, to denounce the local stud farm owner who was accused of animal cruelty and severe animal rights violations. The demonstration occurred in the wake of the discovery of a mass horse burial in the area.\n",
            "unknown\n",
            "On 13 August 2023, 150 to 200 protesters and members of the Colbac Movement rallied in the park in front of Gare du Nord in Beziers on the third day of the local Feria 2023 to demonstrate against Spanish-style bull-fighting (corrida), as well as to demand its abolition due to animal cruelty. Deputy of the National Assembly Aymeric Caron (LFI) participated in the rally.\n",
            "unknown\n",
            "On 7 August 2023, people demonstrated outside of a stud farm in Skals, Viborg, accusing the farm owner of animal cruelty and severe animal rights violations. Police personnel were present to ensure the security of the event.\n",
            "unknown\n",
            "On 28 July 2023, residents of Blagoevgrad gathered in front of the municipality to protest against the cruel treatment of animals by a municipal shelter. They demand that the local officials responsible for this resign.\n",
            "unknown\n",
            "On 21 July 2023, more than 100 people demonstrated outside of a stud farm near Skals, Viborg, accusing the farm owner of animal cruelty and severe animal rights violations. Police personnel were present to ensure the security of the event.\n",
            "unknown\n",
            "Around 21 July 2023 (as reported), at the call of PETA, people staged a protest at Munsterplatz in Ulm to denounce animal tethering as animal cruelty.\n",
            "unknown\n",
            "On 20 July 2023, at the call of PETA, a handful of people staged a protest in front of the Seeforum in Rottach-Egern to denounce animal tethering as animal cruelty. Farmers, accompanied by the chairwoman of the Animal Welfare association, gathered for a counter-protest.\n",
            "unknown\n",
            "On 15 July 2023, around 80 people demonstrated outside of a stud farm near Skals, Viborg, accusing the farm owner of animal cruelty and severe animal rights violations. Police personnel were present to ensure the security of the event. Later, one of the activists attempted to breach the police fence and enter the farm premises but was stopped and detained by the police.\n",
            "unknown\n",
            "On 2 July 2023, several activists gathered with pickets in Hamburg - Hamburg-Mitte during horse racing event, protesting against animal cruelty and abuse.\n",
            "unknown\n",
            "On 1 July 2023, three animal rights activists from the Animal Rising group scaled a large scaffold in the center of the Towcester Racecourse in Towcester to protest the cruelty of the event and prevent the English Greyhound Derby Final from taking place.\n",
            "unknown\n",
            "On 28 June 2023, several members of VGT demonstrated in front of Circus Safari in Vienna - Margareten against animal cruelty. They denounced poor husbandry, animal suffering during the show, brutal violence against animals and violations of animal transport regulations. Demonstrators demanded a ban on keeping animals in the circus.\n",
            "unknown\n",
            "On 13 June 2023, animal rights activists gathered outside the Court of Velletri (Lazio, Roma) to demand justice for murdered animals and protest against brothers Marco and Gabriele Bianchi, facing trial on charges of animal cruelty after having been convicted for the murder of 21-year-old Willy Monteiro Duarte.\n",
            "unknown\n",
            "On 21 May 2023, several hundred activists gathered for a march in Tomaszow Mazowiecki, protesting against animal cruelty.\n",
            "unknown\n",
            "On 13 May 2023, at the call of Venus, SPA (Society for the Protection of Animals), One Voice, and Brigitte Bardot Foundation, about 60 people demonstrated with their dogs on the Quais in Bordeaux (Nouvelle-Aquitaine) to protest against animal cruelty.\n",
            "unknown\n",
            "On 3 May 2023, animal rights activists held a protest outside the Dail (lower house) in Dublin against animal cruelty after three horses died in separate incidents in Dublin this week. The protestors also called for laws around puppy farms and minimum sentencing for stealing animals.\n",
            "unknown\n",
            "On 3 May 2023, around 50 people demonstrated at the district council chamber in Celle against the planned construction of two chicken fattening facilities in Beedenbostel, denouncing animal cruelty.\n",
            "unknown\n",
            "On 26 April 2023, several members of VGT gathered in front of a courthouse in Sankt Polten to call for an end to animal cruelty. They denounced a failure of the inspection system concerning the treatment of animals by farmers.\n",
            "unknown\n",
            "On 26 January 2023, at the call of Paris Animals Zoopolis (PAZ), people gathered on the Arnaud-Bernard Square in Toulouse (Occitanie) to protest against the sterilization of pigeons by municipal offices, which they considered animal cruelty.\n",
            "unknown\n",
            "On 26 December 2022, animal rights activists from Action Against Animal Cruelty staged a protest in Bungay during the town's annual Boxing Day hunt parade to denounce the violence of the tradition.\n",
            "unknown\n",
            "On 17 December 2022, activists gathered in Poznan, protesting against engaging horses in entertainment and competitions because of alleged animal cruelty.\n",
            "unknown\n",
            "On 19 November 2022, dozens of animal rights activists, including Moviment Graffitti, Animal Liberation Malta and Real Animal Rights Foundation affiliates, gathered in Bahar ic-Caghaq and marched to the Mediterraneo Marine Park. Protesters demonstrated against cruelty to animals and called for the closure of the marine park.\n",
            "unknown\n",
            "On 17 October 2022, citizens gathered in Smederevska Palanka to protest and raise awareness about the cruelty against animals following the recent incidents of killing dogs within their municipality.\n",
            "unknown\n",
            "On 15 October 2022, over 200 dog-owners gathered for a rally and walking in Poznan, protesting against cruelty against pets and other animals.\n",
            "unknown\n",
            "On 15 October 2022, citizens gathered in Smederevska Palanka to protest and raise awareness about the cruelty against animals following the recent incidents of killing dogs within their municipality.\n",
            "unknown\n",
            "On 27 August 2022, activists gathered for a rally in Krakow, protesting against slaughtering animals according to the Muslim and Jewish traditions, pointing to animal cruelty.\n",
            "unknown\n",
            "Around 19 June 2022, animal cruelty activists gathered outside Worcester Racecourse to protest against the use of animals for racing. Activists displayed placards criticizing the practice.\n",
            "unknown\n",
            "On 14 June 2022, environmental activists gathered for a rally in Poznan, protesting against transports of living animals to long distances, claiming it is a cruel behavior.\n",
            "unknown\n",
            "On 11 June 2022, around 20 people demonstrated in Toulouse to call for the end of the corrida tradition and denounce its cruel practices toward animals.\n",
            "unknown\n",
            "On 4 June 2022, 6 women ran onto the track at the Epsom Derby in Epsom to protest animal abuse and cruelty in the horseracing industry. The police removed the demonstrators from the track. The protest was organized by Animal Rebellion.\n",
            "unknown\n",
            "On 30 May 2022, activists gathered for a rally in Hrabetice, protesting against alleged cruelty against animals at a local slaughter house.\n",
            "unknown\n",
            "On 28 May 2022, around 20 persons demonstrated Beziers at the call of the Colbac organization. They called for the end of the corrida tradition and denounced its cruel practices toward animals.\n",
            "unknown\n",
            "On 27 May 2022, animal rights activists belonging to the League Against Cruel Sports and Action Against Fox Hunting gathered outside County Hall in Taunton to protest against Fox Hunting and deer hunting with dogs. Amongst the protesters were Liberal Democrat councilors Sarah Dyke and Tessa Munt.\n",
            "unknown\n",
            "On 14 May 2022, citizens have protested in Madrid - Centro (Madrid), gathered in Callao square to ask to ban the 'cruel' forced feeding of ducks and geese in the production of foie gras.\n",
            "unknown\n",
            "On 14 April 2022, at least 3 members of VGT demonstrated in Klagenfurt to denounce animal cruelty in pig farming. 3 demonstrators were arrested, one of them is said to have been slapped but the police denied the incident.\n",
            "unknown\n",
            "On 6 February 2022, animal rights activists protested in Almeria against the hunting lobby groups. They demanded a higher level of penalties for animal cruelty cases. Not to Hunt platform called the protest.\n",
            "unknown\n",
            "On 6 February 2022, animal rights activists protested in Cadiz against the hunting lobby groups. They demanded a higher level of penalties for animal cruelty cases. Not to Hunt platform called the protest.\n",
            "unknown\n",
            "On 6 February 2022, animal rights activists protested in Cordoba against the hunting lobby groups. They demanded a higher level of penalties for animal cruelty cases. Not to Hunt platform called the protest.\n",
            "unknown\n",
            "On 6 February 2022, animal rights activists protested in Granada against the hunting lobby groups. They demanded a higher level of penalties for animal cruelty cases. Not to Hunt platform called the protest.\n",
            "unknown\n",
            "On 6 February 2022, animal rights activists protested in Malaga against the hunting lobby groups. They demanded a higher level of penalties for animal cruelty cases. Not to Hunt platform called the protest.\n",
            "unknown\n",
            "On 6 February 2022, animal rights activists protested in Sevilla against the hunting lobby groups. They demanded a higher level of penalties for animal cruelty cases. Not to Hunt platform called the protest.\n",
            "unknown\n",
            "On 6 February 2022, animal rights activists protested in Santa Cruz de Tenerife (Canary Islands) against the hunting lobby groups. They demanded a higher level of penalties for animal cruelty cases. Not to Hunt platform called the protest.\n",
            "unknown\n",
            "On 6 February 2022, animal rights activists protested in Leon against the hunting lobby groups. They demanded a higher level of penalties for animal cruelty cases. Not to Hunt platform called the protest.\n",
            "unknown\n",
            "On 6 February 2022, animal rights activists protested in Valladolid against the hunting lobby groups. They demanded a higher level of penalties for animal cruelty cases. Not to Hunt platform called the protest.\n",
            "unknown\n",
            "On 6 February 2022, animal rights activists protested in Barcelona against the hunting lobby groups. They demanded a higher level of penalties for animal cruelty cases. Not to Hunt platform called the protest.\n",
            "unknown\n",
            "On 6 February 2022, animal rights activists protested in A Coruna against the hunting lobby groups. They demanded a higher level of penalties for animal cruelty cases.\n",
            "unknown\n",
            "On 6 February 2022, animal rights activists protested in Vigo against the hunting lobby groups. They demanded a higher level of penalties for animal cruelty cases.\n",
            "unknown\n",
            "On 6 February 2022, animal rights activists protested in Pamplona against the hunting lobby groups. They demanded a higher level of penalties for animal cruelty cases. Not to Hunt platform called the protest.\n",
            "unknown\n",
            "On 6 February 2022, animal rights activists protested in Castello de la Plana against the hunting lobby groups. They demanded a higher level of penalties for animal cruelty cases.\n",
            "unknown\n",
            "On 6 February 2022, animal rights activists protested in Logrono against hunting lobby groups. They demanded a higher level of penalties for animal cruelty cases. Not to Hunt platform and Ecologists in Action called the protest.\n",
            "unknown\n",
            "On 6 February 2022, animal rights activists protested in Zaragoza against the hunting lobby groups. They demanded a higher level of penalties for animal cruelty cases. Not to Hunt platform called the protest.\n",
            "unknown\n",
            "On 6 February 2022, animal rights activists protested in Valencia against the hunting lobby groups. They demanded a higher level of penalties for animal cruelty cases. Not to Hunt platform called the protest.\n",
            "unknown\n",
            "On 24 December 2021, members of the Animalist Party (PACMA) protested in Oviedo (Asturias), demanding holidays without animal cruelty. They protested against the usage of Santa Claus's reindeer for the Christmas parade.\n",
            "unknown\n",
            "On 29 November 2021, animal campaigners belonging to Oxford Vegan Action, League Against Cruel Sports and PETA gathered outside the Town Hall in Oxford to protest against the reintroduction of greyhound racing to Oxford Stadium.\n",
            "unknown\n",
            "On 20 November 2021, activists gathered for a rally in Wroclaw, protesting against industrial production of meat, claiming cruelty against animals.\n",
            "unknown\n",
            "On 19 November 2021, activists gathered near a botanical and zoo facility in Legnica. They were demanding an immediate inspection, claiming alleged cases of cruelty against animals. Law enforcers later arrived and asked them to leave; activists refused and were taken out by the policemen.\n",
            "unknown\n",
            "On 8 October 2021, activists affiliated with Women's Strike gathered for a rally in Czestochowa, protesting against allegedly cruel and unfair attitude of the government to the migrants stranded at the border with Belarus and demanding higher solidarity with them.\n",
            "unknown\n",
            "On 8 October 2021, activists affiliated with Women's Strike gathered for a rally in Krakow, protesting against allegedly cruel and unfair attitude of the government to the migrants stranded at the border with Belarus and demanding higher solidarity with them.\n",
            "unknown\n",
            "On 8 October 2021, about 20 activists rushed into to the building of the parliament in Warsaw and spilled fake blood on the walls. They were protesting against allegedly cruel and unfair attitude of the government to the migrants stranded at the border with Belarus. Several of them were arrested.\n",
            "unknown\n",
            "On 7 October 2021, activists gathered for a rally in Krakow, protesting against allegedly cruel and unfair attitude of the government to the migrants stranded at the border with Belarus and demanding higher solidarity with them.\n",
            "unknown\n",
            "On 3 October 2021, activists affiliated with KOD gathered for a rally in Zakopane, protesting against allegedly cruel and unfair attitude of the government to the migrants stranded at the border with Belarus and demanding higher solidarity with them.\n",
            "unknown\n",
            "On 3 October 2021, activists affiliated with Women's Strike and ORP gathered for a rally in Naklo nad Notecia, protesting against allegedly cruel and unfair attitude of the government to the migrants stranded at the border with Belarus and demanding higher solidarity with them.\n",
            "unknown\n",
            "On 25 September 2021, around 350 people protested in Bremen against monkey experiments at the city's university which they described as cruel and unnecessary.\n",
            "unknown\n",
            "On 11 September 2021, around 100 VGT animal rights activists protested in Bregenz against calf transportation and animal cruelty.\n",
            "unknown\n",
            "On 4 September 2021, about 2000 activists gathered for a rally in Warsaw, protesting against cruelty towards animals, especially for leather and fur productions.\n",
            "unknown\n",
            "On 31 August 2021, about 20 activists chained themselves to a gate of a local farm in Mirovice, protesting against alleged cruelty to animals committed at the facility. Law enforcers removed them from the spot.\n",
            "unknown\n",
            "On 15 August 2021, animal welfare activists belonging to Oxford Vegan Action gathered on Cornwall Street in Oxford to demand that the Oxford Greyhound Stadium, a venue that hosts greyhound racing, is not allowed to reopen in March 2022 as planned. Activists denounced the practice as 'cruel'. Sitting councillors belonging to the Labour and Green parties were also present.\n",
            "unknown\n",
            "On 11 August 2021, an unknown number of Animal Save Movement staged an action in front of the slaughterhouse in Dedemsvaart (Overijssel) and along a road nearby, holding signs, to protest against animal cruelty.\n",
            "unknown\n",
            "On 31 July 2021, animal rights defenders staged a performance protest in Plaza de Callao, Madrid - Centro demanding to stop animal testing. They also called to release the animals from a lab owned by Vivotecnia biotechnology company after footage of the ill-treatment was leaked by Cruelty-Free International.\n",
            "unknown\n",
            "On 1 July 2021, animal welfare activists belonging to the League Against Cruel Sports gathered in Peterborough town center to demonstrate against a planned fox hunt on 21 July.\n",
            "unknown\n",
            "Around 7 June 2021 (as reported), around 50 animal rights activists gathered in Plebiscito square in Napoli to mark National Animal Rights day. They wanted to make people aware of animal rights and a cruel free lifestyle.\n",
            "unknown\n",
            "On 29 May 2021, animal rights defenders protested in Madrid - Centro (Madrid), marching from Mayor Street towards the headquarters of the Community of Madrid in Puerta del Sol demanding to stop animal testing. They also called to release the animals from a lab owned by Vivotecnia biotechnology company after footage of the ill-treatment was leaked by Cruelty-Free International.\n",
            "unknown\n",
            "On 24 April 2021, animal rights defenders called by AnimaNaturalis protested in Sevilla demanding to stop animal testing. They also called to release the animals from a lab owned by Vivotecnia biotechnology company after footage of the ill-treatment was leaked by Cruelty-Free International.\n",
            "unknown\n",
            "On 24 April 2021, around 300 animal rights defenders protested in Barcelona - Ciutat Vella demanding to stop animal testing. They also called to release the animals from a lab owned by Vivotecnia biotechnology company after footage of the ill-treatment was leaked by Cruelty-Free International.\n",
            "unknown\n",
            "On 24 April 2021, around 200 animal rights defenders protested in Madrid - Centro (Madrid), at Jacinto Benavente square demanding to stop animal testing. They also called to release the animals from a lab owned by Vivotecnia biotechnology company after footage of the ill-treatment was leaked by Cruelty-Free International.\n",
            "unknown\n",
            "On 24 April 2021, around 100 animal rights defenders protested in Malaga demanding to stop animal testing. They also called to release the animals from a lab owned by Vivotecnia biotechnology company after footage of the ill-treatment was leaked by Cruelty-Free International.\n",
            "unknown\n",
            "On 24 April 2021, around 30 animal rights defenders protested in Figueres (Girona) demanding to stop animal testing. They also called to release the animals from a lab owned by Vivotecnia biotechnology company after footage of the ill-treatment was leaked by Cruelty-Free International.\n",
            "unknown\n",
            "On 24 April 2021, dozens of animal rights defenders protested in Girona demanding to stop animal testing. They also called to release the animals from a lab owned by Vivotecnia biotechnology company after footage of the ill-treatment was leaked by Cruelty-Free International.\n",
            "unknown\n",
            "On 24 April 2021, around 200 animal rights defenders protested in Bilbao demanding to stop animal testing. They also called to release the animals from a lab owned by Vivotecnia biotechnology company after footage of the ill-treatment was leaked by Cruelty-Free International.\n",
            "unknown\n",
            "On 24 April 2021, animal rights defenders protested in Vigo demanding to stop animal testing. They also called to release the animals from a lab owned by Vivotecnia biotechnology company after footage of the ill-treatment was leaked by Cruelty-Free International.\n",
            "unknown\n",
            "On 24 April 2021, animal rights defenders protested in Almeria demanding to stop animal testing. They also called to release the animals from a lab owned by Vivotecnia biotechnology company after footage of the ill-treatment was leaked by Cruelty-Free International.\n",
            "unknown\n",
            "On 24 April 2021, animal rights defenders protested in Cadiz demanding to stop animal testing. They also called to release the animals from a lab owned by Vivotecnia biotechnology company after footage of the ill-treatment was leaked by Cruelty-Free International.\n",
            "unknown\n",
            "On 24 April 2021, animal rights defenders protested in Cordoba demanding to stop animal testing. They also called to release the animals from a lab owned by Vivotecnia biotechnology company after footage of the ill-treatment was leaked by Cruelty-Free International.\n",
            "unknown\n",
            "On 20 April 2021, activists gathered for a rally near a local parish office in Rekownica, criticizing a local church official over an alleged cover up of cruelt treatment of animals committed by a local politician.\n",
            "unknown\n",
            "On 18 April 2021, around 50 animal rights defenders protested in Barcelona, demanding to release the animals from a lab owned by Vivotecnia biotechnology company. They complained about cruelty against animals after footage of the ill-treatment was leaked by Cruelty-Free International.\n",
            "unknown\n",
            "On 18 April 2021, dozens of animal rights defenders protested in Santiago de Compostela, demanding to release the animals from a lab owned by Vivotecnia biotechnology company. They complained about cruelty against animals after footage of the ill-treatment was leaked by Cruelty-Free International.\n",
            "unknown\n",
            "On 18 April 2021, several dozen animal rights defenders protested in Bilbao, demanding to release the animals from a lab owned by Vivotecnia biotechnology company. They complained about cruelty against animals after footage of the ill-treatment was leaked by Cruelty-Free International.\n",
            "unknown\n",
            "On 18 April 2021, several dozen animal rights defenders protested in San Sebastian, demanding to release the animals from a lab owned by Vivotecnia biotechnology company. They complained about cruelty against animals after footage of the ill-treatment was leaked by Cruelty-Free International.\n",
            "unknown\n",
            "On 17 April 2021, dozens of animal rights defenders protested in Madrid - Centro (Madrid), in front of one of the offices of the Ministry of the Environment of the Community of Madrid, demanding to release the animals from a lab owned by Vivotecnia biotechnology company. They complained about cruelty against animals after footage of the ill-treatment was leaked by Cruelty-Free International.\n",
            "unknown\n",
            "On 15 April 2021, animal rights defenders protested in front of Colmenar Viejo Courts around Colmenar Viejo (Madrid), demanding to release the animals from a lab owned by Vivotecnia biotechnology company. They complained about cruelty against animals after footage of the ill-treatment was leaked by Cruelty-Free International.\n",
            "unknown\n",
            "On 12 April 2021, animal rights defenders protested around Madrid against animal testing in the lab owned by Vivotecnia biotechnology company. They complained about cruelty against animals after footage of the ill-treatment was leaked by Cruelty-Free International.\n",
            "unknown\n",
            "On 11 April 2021, animal rights defenders protested around Tres Cantos (Madrid) against animal testing in the lab owned by Vivotecnia biotechnology company. They complained over the animal cruelty after footage of the ill treatment was leaked.\n",
            "unknown\n",
            "On 16 January 2021, around two dozen people from the left protested in Graz against fascism, cruelty to animals, social inequality, climate change and coronavirus deniers.\n",
            "unknown\n",
            "On 11 September 2020, around 100 people protested in front of the Lithuanian parliament in Vilnius, demanding stricter legislation on the prevention of cruelty to animals.\n",
            "unknown\n",
            "On 22 August 2020, 50 animal rights activists protested at Far Marsh Farm in Ottringham against reports of cruelty against goats.\n",
            "unknown\n",
            "On 20 February 2020, SOKO animal protection activists protested in Ulm against the 'mild' punishment in form of probation for a farmer accused of animal cruelty.\n",
            "unknown\n",
            "On 1 December 2019, several young people protested in Iasi, raising awareness about the fur-related animal cruelty and asking people to switch to animal-friendly materials.\n",
            "unknown\n",
            "On 30 March 2019, tens of citizens organized a protest on violence against animals in Sofia, demanding more effective zoo police presence and stricter punishment for cases of violence and cruelty over animals.\n",
            "unknown\n",
            "On 25 March 2019, a protest of dozens of people was held outside Chisinau's City Hall. The protesters rallied against cruel treatment of dogs.\n",
            "unknown\n",
            "On 12 January 2019, a peaceful, artistic demonstration on veganism and animal cruelty organised by the newly created Cyprus-based team of global street activists Anonymous for the Voiceless (AV) took place in Nicosia. The demonstration, called A Cube of Truth, aims to trigger public interest through a combination of local standard-practice animal exploitation footage and conversation. This is one of the simultaneous events taking place in Melbourne, Seoul, Darmstadt, Bangkok and other international cities.\n",
            "unknown\n"
          ]
        }
      ],
      "source": [
        "'''\n",
        "for index, row in df.iterrows():\n",
        "    if \"cruel\" in row[\"notes\"].lower():\n",
        "        print(row[\"notes\"])\n",
        "        print(row[\"class\"])\n",
        "'''"
      ]
    },
    {
      "cell_type": "code",
      "execution_count": 190,
      "metadata": {},
      "outputs": [
        {
          "data": {
            "text/plain": [
              "'\\nindexes = []\\nfor index, row in df.iterrows():\\n    if row[\"class\"] == \\'unjust law enforcement\\':\\n        indexes.append(index)\\nprint(indexes)\\n'"
            ]
          },
          "execution_count": 190,
          "metadata": {},
          "output_type": "execute_result"
        }
      ],
      "source": [
        "'''\n",
        "indexes = []\n",
        "for index, row in df.iterrows():\n",
        "    if row[\"class\"] == 'unjust law enforcement':\n",
        "        indexes.append(index)\n",
        "print(indexes)\n",
        "'''"
      ]
    },
    {
      "cell_type": "code",
      "execution_count": 191,
      "metadata": {},
      "outputs": [
        {
          "data": {
            "text/plain": [
              "'\\nfor word in Classes_dic[\\'environment\\']:\\n    if word in \"On 19 May 2025, taxi drivers gathered in Nice (Provence-Alpes-Cote d\\'Azur) to demonstrate. The event was part of a nationwide demonstration movement led by FNAT and FNDT to demonstrate against the new Assurance Maladie (France\\'s national health insurance system) convention cutting medical-transport fees, and against growing competition with VTC (vehicle-for-hire) drivers.\":\\n        print(word)\\n'"
            ]
          },
          "execution_count": 191,
          "metadata": {},
          "output_type": "execute_result"
        }
      ],
      "source": [
        "'''\n",
        "for word in Classes_dic['environment']:\n",
        "    if word in \"On 19 May 2025, taxi drivers gathered in Nice (Provence-Alpes-Cote d'Azur) to demonstrate. The event was part of a nationwide demonstration movement led by FNAT and FNDT to demonstrate against the new Assurance Maladie (France's national health insurance system) convention cutting medical-transport fees, and against growing competition with VTC (vehicle-for-hire) drivers.\":\n",
        "        print(word)\n",
        "'''"
      ]
    },
    {
      "cell_type": "code",
      "execution_count": 192,
      "metadata": {},
      "outputs": [
        {
          "data": {
            "text/plain": [
              "\"\\nindexes = [101, 239, 280, 4589, 12696, 12811, 12812, 12970, 12974, 23398, 29069, 33460, 34309, 46110, 55185, 59451, 59514, 59653, 73002, 75000, 77364, 83030, 83031, 83032, 83033, 83489, 90272, 95852, 100723, 118655, 120215, 122118, 122283, 122887, 124018, 124761, 124803, 128869, 135238, 135407, 135728, 136032, 136644, 136870, 136979, 137579, 139075, 139861, 140753, 141757, 143498, 145267, 145268, 145269, 145272, 145304, 145384, 145386, 145401, 145404, 145420, 145444, 145559, 145782, 145791, 145795, 145854, 145860, 145907, 145908, 145912, 145913, 145915, 145916, 145918, 145941, 145968, 145991, 146058, 146059, 146061, 146062, 146071, 146196, 146197, 146273, 146446, 146447, 146449, 146450, 146451, 146452, 146453, 146454, 146464, 146465, 146469, 146479, 146482, 146484, 146488, 146491, 146492, 146493, 146552, 146553, 146554, 146558, 146559, 146561, 146562, 146568, 146569, 146570, 146571, 146573, 146575, 146577, 146579, 146581, 146582, 146583, 146584, 146587, 146588, 146589, 146590, 146591, 146596, 146598, 146605, 146607, 146608, 146609, 146612, 146613, 146617, 146648, 146653, 146654, 146655, 146656, 146657, 146658, 146659, 146660, 146664, 146665, 146666, 146667, 146668, 146669, 146673, 146677, 146678, 146736, 146899, 147630, 147815, 147817, 147818, 147840, 147845, 147846, 147847, 147848, 147934, 148253, 148577, 148641, 148659, 148663, 148705, 148716, 148717, 148718, 148720, 148723, 148724, 148734, 148742, 148745, 148829, 150918, 152363, 152451, 152656, 152797, 153284, 153357, 155394, 157261, 158216, 158525, 159259, 159311, 159328, 159376, 159410, 159425, 159427, 159434, 159476, 159603, 159999, 160292, 160386, 160557, 160558, 160565, 160798, 160817, 160839, 160862, 160883, 160918, 160920, 161083, 161113, 161122, 161167, 161348, 161354, 161383, 161423, 161430, 161434, 161435, 161438, 161439, 161506, 161508, 161529, 161645, 161714, 161715, 161716, 161925, 161927, 161928, 161937, 161996, 162028, 162029, 162098, 162099, 162110, 162155, 162185, 162310, 162311, 162312, 162315, 162328, 162344, 162574, 162609, 162612, 162659, 162660, 162661, 162714, 162791, 162792, 162818, 162822, 162863, 162993, 162994, 162995, 163067, 163124, 163125, 163126, 163127, 163128, 163144, 163145, 163147, 163154, 163158, 163159, 163160, 163208, 163209, 163216, 163229, 163281, 163282, 163284, 163286, 163338, 163342, 163382, 163383, 163410, 163419, 163423, 163506, 163508, 163555, 163556, 163558, 163560, 163561, 163562, 163563, 163564, 163566, 163567, 163568, 163571, 163582, 163587, 163620, 163623, 163658, 163662, 163679, 163680, 163933, 163934, 163935, 163936, 163937, 163938, 163939, 163941, 163943, 163945, 163947, 163950, 163951, 163952, 163953, 163955, 163956, 163957, 163958, 163959, 163965, 163969, 163995, 163996, 163999, 164009, 164010, 164011, 164012, 164014, 164078, 164082, 164103, 164121, 164122, 164169, 164182, 164183, 164205, 164259, 164285, 164315, 164330, 164377, 164378, 164392, 164407, 164415, 164416, 164422, 164425, 164426, 164427, 164467, 164469, 164470, 164471, 164472, 164474, 164476, 164477, 164479, 164495, 164496, 164497, 164498, 164501, 164502, 164504, 164507, 164508, 164509, 164511, 164512, 164513, 164516, 164517, 164520, 164528, 164529, 164534, 164536, 164537, 164542, 164545, 164562, 164564, 164565, 164567, 164568, 164569, 164571, 164572, 164574, 164575, 164631, 164632, 164665, 164666, 164667, 164668, 164669, 164670, 164671, 164672, 164673, 164675, 164676, 164677, 164680, 164694, 164695, 164700, 164704, 164718, 164725, 164730, 164733, 164736, 164737, 164739, 164740, 164777, 164778, 164779, 164780, 164781, 164782, 164783, 164784, 164785, 164786, 164801, 164802, 164803, 164805, 164807, 164808, 164818, 164836, 164837, 164838, 164839, 164840, 164841, 164849, 164861, 164865, 164867, 164868, 164869, 164888, 164890, 164891, 164892, 164893, 164894, 164895, 164896, 164897, 164898, 164899, 164902, 164905, 164907, 164918, 164935, 164936, 164937, 164938, 164939, 164940, 164945, 164946, 164947, 164948, 164958, 164963, 164966, 164967, 165004, 165006, 165011, 165012, 165057, 165082, 165093, 165094, 165095, 165099, 165102, 165127, 165147, 165148, 165149, 165150, 165151, 165152, 165153, 165154, 165163, 165164, 165169, 165171, 165172, 165176, 165180, 165210, 165305, 165306, 165307, 165308, 165310, 165311, 165324, 165326, 165330, 165331, 165332, 165333, 165335, 165336, 165337, 165339, 165342, 165343, 165344, 165346, 165347, 165348, 165349, 165350, 165351, 165352, 165360, 165362, 165363, 165391, 165397, 165418, 165420, 165421, 165422, 165423, 165424, 165425, 165426, 165427, 165428, 165429, 165430, 165431, 165432, 165433, 165434, 165435, 165436, 165443, 165451, 165452, 165453, 165454, 165455, 165456, 165459, 165467, 165468, 165473, 165474, 165488, 165489, 165490, 165491, 165495, 165496, 165497, 165498, 165551, 165557, 165559, 165594, 165595, 165632, 165633, 165635, 165636, 165637, 165638, 165639, 165640, 165641, 165648, 165649, 165650, 165651, 165652, 165653, 165654, 165655, 165656, 165657, 165658, 165659, 165670, 165674, 165713, 165714, 165715, 165716, 165717, 165718, 165719, 165720, 165721, 165722, 165723, 165724, 165726, 165727, 165728, 165729, 165730, 165731, 165732, 165733, 165734, 165735, 165736, 165737, 165738, 165739, 165740, 165742, 165743, 165744, 165745, 165747, 165753, 165754, 165757, 165760, 165774, 165803, 165813, 165860, 165861, 165862, 165868, 165869, 165871, 165872, 165877, 165879, 165890, 165891, 165892, 165893, 165895, 165931, 165942, 165950, 165951, 165955, 165962, 165963, 166014, 166022, 166023, 166024, 166025, 166035, 166036, 166037, 166038, 166039, 166040, 166041, 166043, 166044, 166045, 166046, 166047, 166052, 166061, 166070, 166071, 166074, 166075, 166082, 166083, 166084, 166085, 166086, 166087, 166088, 166089, 166090, 166095, 166097, 166099, 166100, 166105, 166107, 166108, 166109, 166136, 166137, 166146, 166148, 166149, 166150, 166186, 166187, 166188, 166189, 166252, 166253, 166262, 166263, 166265, 166274, 166276, 166278, 166282, 166336, 166337, 166341, 166359, 168219, 169164, 169300, 169332, 169417, 169418, 169419, 169420, 169421, 169464, 169465, 169466, 169493, 169494, 169495, 169496, 169497, 169500, 169501, 169502, 169503, 169518, 169539, 169540, 169541, 169542, 169543, 169544, 169549, 169555, 169562, 171866, 174588, 175081, 177084, 177631, 177980, 177981, 177985, 177986, 177987, 177988, 177991, 180850, 181341, 181346, 181357, 181358, 181361, 181367, 181380, 181385, 181394, 181398, 181405, 181412, 181417, 181422, 181429, 181437, 181438, 181442, 181455, 181461, 181470, 181474, 181485, 181506, 181510, 181517, 181526, 181531, 181537, 181540, 181545, 181556, 181564, 181573, 181668, 181700, 182583]\\nfor index, row in df.iterrows():\\n    if index in indexes:\\n        print(row['notes'])\\n        print(row['class'])\\n\""
            ]
          },
          "execution_count": 192,
          "metadata": {},
          "output_type": "execute_result"
        }
      ],
      "source": [
        "'''\n",
        "indexes = [101, 239, 280, 4589, 12696, 12811, 12812, 12970, 12974, 23398, 29069, 33460, 34309, 46110, 55185, 59451, 59514, 59653, 73002, 75000, 77364, 83030, 83031, 83032, 83033, 83489, 90272, 95852, 100723, 118655, 120215, 122118, 122283, 122887, 124018, 124761, 124803, 128869, 135238, 135407, 135728, 136032, 136644, 136870, 136979, 137579, 139075, 139861, 140753, 141757, 143498, 145267, 145268, 145269, 145272, 145304, 145384, 145386, 145401, 145404, 145420, 145444, 145559, 145782, 145791, 145795, 145854, 145860, 145907, 145908, 145912, 145913, 145915, 145916, 145918, 145941, 145968, 145991, 146058, 146059, 146061, 146062, 146071, 146196, 146197, 146273, 146446, 146447, 146449, 146450, 146451, 146452, 146453, 146454, 146464, 146465, 146469, 146479, 146482, 146484, 146488, 146491, 146492, 146493, 146552, 146553, 146554, 146558, 146559, 146561, 146562, 146568, 146569, 146570, 146571, 146573, 146575, 146577, 146579, 146581, 146582, 146583, 146584, 146587, 146588, 146589, 146590, 146591, 146596, 146598, 146605, 146607, 146608, 146609, 146612, 146613, 146617, 146648, 146653, 146654, 146655, 146656, 146657, 146658, 146659, 146660, 146664, 146665, 146666, 146667, 146668, 146669, 146673, 146677, 146678, 146736, 146899, 147630, 147815, 147817, 147818, 147840, 147845, 147846, 147847, 147848, 147934, 148253, 148577, 148641, 148659, 148663, 148705, 148716, 148717, 148718, 148720, 148723, 148724, 148734, 148742, 148745, 148829, 150918, 152363, 152451, 152656, 152797, 153284, 153357, 155394, 157261, 158216, 158525, 159259, 159311, 159328, 159376, 159410, 159425, 159427, 159434, 159476, 159603, 159999, 160292, 160386, 160557, 160558, 160565, 160798, 160817, 160839, 160862, 160883, 160918, 160920, 161083, 161113, 161122, 161167, 161348, 161354, 161383, 161423, 161430, 161434, 161435, 161438, 161439, 161506, 161508, 161529, 161645, 161714, 161715, 161716, 161925, 161927, 161928, 161937, 161996, 162028, 162029, 162098, 162099, 162110, 162155, 162185, 162310, 162311, 162312, 162315, 162328, 162344, 162574, 162609, 162612, 162659, 162660, 162661, 162714, 162791, 162792, 162818, 162822, 162863, 162993, 162994, 162995, 163067, 163124, 163125, 163126, 163127, 163128, 163144, 163145, 163147, 163154, 163158, 163159, 163160, 163208, 163209, 163216, 163229, 163281, 163282, 163284, 163286, 163338, 163342, 163382, 163383, 163410, 163419, 163423, 163506, 163508, 163555, 163556, 163558, 163560, 163561, 163562, 163563, 163564, 163566, 163567, 163568, 163571, 163582, 163587, 163620, 163623, 163658, 163662, 163679, 163680, 163933, 163934, 163935, 163936, 163937, 163938, 163939, 163941, 163943, 163945, 163947, 163950, 163951, 163952, 163953, 163955, 163956, 163957, 163958, 163959, 163965, 163969, 163995, 163996, 163999, 164009, 164010, 164011, 164012, 164014, 164078, 164082, 164103, 164121, 164122, 164169, 164182, 164183, 164205, 164259, 164285, 164315, 164330, 164377, 164378, 164392, 164407, 164415, 164416, 164422, 164425, 164426, 164427, 164467, 164469, 164470, 164471, 164472, 164474, 164476, 164477, 164479, 164495, 164496, 164497, 164498, 164501, 164502, 164504, 164507, 164508, 164509, 164511, 164512, 164513, 164516, 164517, 164520, 164528, 164529, 164534, 164536, 164537, 164542, 164545, 164562, 164564, 164565, 164567, 164568, 164569, 164571, 164572, 164574, 164575, 164631, 164632, 164665, 164666, 164667, 164668, 164669, 164670, 164671, 164672, 164673, 164675, 164676, 164677, 164680, 164694, 164695, 164700, 164704, 164718, 164725, 164730, 164733, 164736, 164737, 164739, 164740, 164777, 164778, 164779, 164780, 164781, 164782, 164783, 164784, 164785, 164786, 164801, 164802, 164803, 164805, 164807, 164808, 164818, 164836, 164837, 164838, 164839, 164840, 164841, 164849, 164861, 164865, 164867, 164868, 164869, 164888, 164890, 164891, 164892, 164893, 164894, 164895, 164896, 164897, 164898, 164899, 164902, 164905, 164907, 164918, 164935, 164936, 164937, 164938, 164939, 164940, 164945, 164946, 164947, 164948, 164958, 164963, 164966, 164967, 165004, 165006, 165011, 165012, 165057, 165082, 165093, 165094, 165095, 165099, 165102, 165127, 165147, 165148, 165149, 165150, 165151, 165152, 165153, 165154, 165163, 165164, 165169, 165171, 165172, 165176, 165180, 165210, 165305, 165306, 165307, 165308, 165310, 165311, 165324, 165326, 165330, 165331, 165332, 165333, 165335, 165336, 165337, 165339, 165342, 165343, 165344, 165346, 165347, 165348, 165349, 165350, 165351, 165352, 165360, 165362, 165363, 165391, 165397, 165418, 165420, 165421, 165422, 165423, 165424, 165425, 165426, 165427, 165428, 165429, 165430, 165431, 165432, 165433, 165434, 165435, 165436, 165443, 165451, 165452, 165453, 165454, 165455, 165456, 165459, 165467, 165468, 165473, 165474, 165488, 165489, 165490, 165491, 165495, 165496, 165497, 165498, 165551, 165557, 165559, 165594, 165595, 165632, 165633, 165635, 165636, 165637, 165638, 165639, 165640, 165641, 165648, 165649, 165650, 165651, 165652, 165653, 165654, 165655, 165656, 165657, 165658, 165659, 165670, 165674, 165713, 165714, 165715, 165716, 165717, 165718, 165719, 165720, 165721, 165722, 165723, 165724, 165726, 165727, 165728, 165729, 165730, 165731, 165732, 165733, 165734, 165735, 165736, 165737, 165738, 165739, 165740, 165742, 165743, 165744, 165745, 165747, 165753, 165754, 165757, 165760, 165774, 165803, 165813, 165860, 165861, 165862, 165868, 165869, 165871, 165872, 165877, 165879, 165890, 165891, 165892, 165893, 165895, 165931, 165942, 165950, 165951, 165955, 165962, 165963, 166014, 166022, 166023, 166024, 166025, 166035, 166036, 166037, 166038, 166039, 166040, 166041, 166043, 166044, 166045, 166046, 166047, 166052, 166061, 166070, 166071, 166074, 166075, 166082, 166083, 166084, 166085, 166086, 166087, 166088, 166089, 166090, 166095, 166097, 166099, 166100, 166105, 166107, 166108, 166109, 166136, 166137, 166146, 166148, 166149, 166150, 166186, 166187, 166188, 166189, 166252, 166253, 166262, 166263, 166265, 166274, 166276, 166278, 166282, 166336, 166337, 166341, 166359, 168219, 169164, 169300, 169332, 169417, 169418, 169419, 169420, 169421, 169464, 169465, 169466, 169493, 169494, 169495, 169496, 169497, 169500, 169501, 169502, 169503, 169518, 169539, 169540, 169541, 169542, 169543, 169544, 169549, 169555, 169562, 171866, 174588, 175081, 177084, 177631, 177980, 177981, 177985, 177986, 177987, 177988, 177991, 180850, 181341, 181346, 181357, 181358, 181361, 181367, 181380, 181385, 181394, 181398, 181405, 181412, 181417, 181422, 181429, 181437, 181438, 181442, 181455, 181461, 181470, 181474, 181485, 181506, 181510, 181517, 181526, 181531, 181537, 181540, 181545, 181556, 181564, 181573, 181668, 181700, 182583]\n",
        "for index, row in df.iterrows():\n",
        "    if index in indexes:\n",
        "        print(row['notes'])\n",
        "        print(row['class'])\n",
        "'''"
      ]
    },
    {
      "cell_type": "code",
      "execution_count": 193,
      "metadata": {},
      "outputs": [
        {
          "name": "stdout",
          "output_type": "stream",
          "text": [
            "On 23 May 2025, in the afternoon, at the call of Green West-Flanders (Groen West-Vlaanderen) and Green Diksmuide (Groen Diksmuide), several activists, including a Green MP, gathered outside the company TWZ in Diksmuide (Vlaanderen), to protest a provincial permit allowing the discharge of PFAS-contaminated water, denouncing it as dangerous for human health.\n",
            "unknown\n"
          ]
        }
      ],
      "source": [
        "# print first note\n",
        "print(df.iloc[0]['notes'])\n",
        "# first class\n",
        "print(df.iloc[0]['class'])"
      ]
    },
    {
      "cell_type": "code",
      "execution_count": 194,
      "metadata": {
        "id": "68xW1PQveMeo"
      },
      "outputs": [],
      "source": [
        "def classify(df, classes_dic):\n",
        "  for index, row in df.iterrows():\n",
        "    if row[\"class\"] == \"unknown\":\n",
        "            notes_lower = row[\"notes\"].lower()\n",
        "            classified = False\n",
        "            for class_name, words in classes_dic.items():\n",
        "                for word in words:\n",
        "                    if word in notes_lower:\n",
        "                        df.at[index, \"class\"] = class_name\n",
        "                        classified = True\n",
        "                        break \n",
        "                if classified:\n",
        "                    break\n",
        "classify(df, Classes_dic)"
      ]
    },
    {
      "cell_type": "code",
      "execution_count": 195,
      "metadata": {},
      "outputs": [
        {
          "name": "stdout",
          "output_type": "stream",
          "text": [
            "class\n",
            "unknown                      64480\n",
            "labor rights                 23721\n",
            "pandemic                     16286\n",
            "farmers                       9863\n",
            "health care                   9676\n",
            "education                     8598\n",
            "palestine-israel conflict     7442\n",
            "women rights                  6526\n",
            "ukraine-russia war            6191\n",
            "climate                       5561\n",
            "policies                      5414\n",
            "environment                   4549\n",
            "public services               3451\n",
            "lgbtq                         2714\n",
            "discrimination                1992\n",
            "culture                       1894\n",
            "animal welfare                1704\n",
            "blm                            924\n",
            "housing                        845\n",
            "immigration                    733\n",
            "unjust law enforcement         516\n",
            "Name: count, dtype: int64\n"
          ]
        }
      ],
      "source": [
        "print(df[\"class\"].value_counts())\n"
      ]
    },
    {
      "cell_type": "code",
      "execution_count": 196,
      "metadata": {},
      "outputs": [
        {
          "name": "stdout",
          "output_type": "stream",
          "text": [
            "On 19 May 2025, around 150 people, including Reich Citizens, gathered in front of the Kulturpalast in Dresden (Sachsen) for the regular Monday demonstration, promoting far-right ideologies. Around 50 people staged a counter-protest against far-right ideologies. During the event, protesters displayed a flag and clothing with symbols of the recently banned Reich Citizens group 'Kingdom of Germany' (Konigreich Deutschland) leading the authorities to seize the items and initiate an investigation for the use of unconstitutional symbols. Physical altercations and insults also occurred but the report does not provide details on what happened.\n",
            "policies\n",
            "Protests\n"
          ]
        }
      ],
      "source": [
        "n=301\n",
        "print(df.iloc[n]['notes'])\n",
        "print(df.iloc[n]['class'])\n",
        "print(df.iloc[n]['event_type'])"
      ]
    },
    {
      "cell_type": "code",
      "execution_count": 197,
      "metadata": {
        "id": "v0ucpjEjZ6d6"
      },
      "outputs": [
        {
          "data": {
            "text/plain": [
              "-1"
            ]
          },
          "execution_count": 197,
          "metadata": {},
          "output_type": "execute_result"
        }
      ],
      "source": [
        "def getNonClassIndex(df):\n",
        "  for index, row in df.iterrows():\n",
        "    if row[\"class\"] == \"NoN\":\n",
        "      return index\n",
        "  return -1\n",
        "\n",
        "getNonClassIndex(df)"
      ]
    },
    {
      "cell_type": "code",
      "execution_count": 198,
      "metadata": {},
      "outputs": [
        {
          "name": "stdout",
          "output_type": "stream",
          "text": [
            "0.0\n"
          ]
        }
      ],
      "source": [
        "# Zoveel procent nog\n",
        "print((df[\"class\"] == \"NoN\").mean() * 100)"
      ]
    },
    {
      "cell_type": "code",
      "execution_count": 199,
      "metadata": {},
      "outputs": [],
      "source": [
        "while True:\n",
        "    index = getNonClassIndex(df)\n",
        "    if index == -1:\n",
        "        break\n",
        "    else:\n",
        "        print(df.iloc[index]['notes'])\n",
        "        break"
      ]
    },
    {
      "cell_type": "code",
      "execution_count": 200,
      "metadata": {},
      "outputs": [
        {
          "name": "stdout",
          "output_type": "stream",
          "text": [
            "118600\n",
            "                                                    notes  \\\n",
            "105921  On 5 January 2022, about 50 people marched in ...   \n",
            "60125   On 13 May 2023, as part of the national mobili...   \n",
            "53093   On 5 September 2023, at the call of municipal ...   \n",
            "22819   On 7 August 2024, about 10 far-right anti-immi...   \n",
            "63219   On 10 April 2023, around 45 people staged a pr...   \n",
            "...                                                   ...   \n",
            "176398  On 7 January 2020, a group of shepherds and me...   \n",
            "73448   On 8 January 2023, around 100 members of the D...   \n",
            "44937   On 9 December 2023, at the call of AFD, around...   \n",
            "12815   On 11 January 2025, about 1,000 people, includ...   \n",
            "71793   On 31 January 2023, between 1,200 (according t...   \n",
            "\n",
            "                            class real class  \n",
            "105921                   pandemic    unknown  \n",
            "60125                   education    unknown  \n",
            "53093                     culture    unknown  \n",
            "22819                 immigration    unknown  \n",
            "63219          ukraine-russia war    unknown  \n",
            "...                           ...        ...  \n",
            "176398                    farmers    unknown  \n",
            "73448                    policies    unknown  \n",
            "44937                 health care    unknown  \n",
            "12815   palestine-israel conflict    unknown  \n",
            "71793                labor rights    unknown  \n",
            "\n",
            "[683 rows x 3 columns]\n",
            "20\n",
            "['pandemic' 'education' 'culture' 'immigration' 'ukraine-russia war'\n",
            " 'public services' 'palestine-israel conflict' 'labor rights' 'farmers'\n",
            " 'women rights' 'policies' 'climate' 'health care'\n",
            " 'unjust law enforcement' 'lgbtq' 'environment' 'animal welfare'\n",
            " 'discrimination' 'blm' 'housing']\n"
          ]
        }
      ],
      "source": [
        "import random\n",
        "non_nan_df = df[df['class'] != 'unknown']\n",
        "print(len(non_nan_df))\n",
        "random_indices = random.sample(range(len(non_nan_df)), 683)\n",
        "random_notes = non_nan_df.iloc[random_indices]\n",
        "topics_eval_df = pd.DataFrame({\n",
        "    'notes': random_notes['notes'],\n",
        "    'class': random_notes['class'],\n",
        "})\n",
        "topics_eval_df[\"real class\"] = \"unknown\"\n",
        "topics_eval_df.to_csv('../data/topics_evaluation.csv', index=False)\n",
        "print(topics_eval_df)\n",
        "print(len(topics_eval_df[\"class\"].unique()))\n",
        "print(topics_eval_df[\"class\"].unique())"
      ]
    },
    {
      "cell_type": "code",
      "execution_count": null,
      "metadata": {},
      "outputs": [],
      "source": []
    }
  ],
  "metadata": {
    "colab": {
      "provenance": []
    },
    "kernelspec": {
      "display_name": "base",
      "language": "python",
      "name": "python3"
    },
    "language_info": {
      "codemirror_mode": {
        "name": "ipython",
        "version": 3
      },
      "file_extension": ".py",
      "mimetype": "text/x-python",
      "name": "python",
      "nbconvert_exporter": "python",
      "pygments_lexer": "ipython3",
      "version": "3.12.2"
    }
  },
  "nbformat": 4,
  "nbformat_minor": 0
}
