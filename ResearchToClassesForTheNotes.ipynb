{
  "cells": [
    {
      "cell_type": "code",
      "execution_count": 1,
      "metadata": {
        "colab": {
          "base_uri": "https://localhost:8080/"
        },
        "id": "Ea5WVY0CA2Vz",
        "outputId": "8e45fbfc-a9f4-4b28-b44f-dc4d592d1af5"
      },
      "outputs": [],
      "source": [
        "import pandas as pd"
      ]
    },
    {
      "cell_type": "code",
      "execution_count": 2,
      "metadata": {
        "id": "LF3A846SBDWg"
      },
      "outputs": [],
      "source": [
        "# datafile aanmaken met classes\n",
        "df = pd.read_csv('../data/filtered_events_country_code.csv')\n",
        "df[\"class\"] = \"NoN\"\n",
        "df.head()\n",
        "df.to_csv('../data/filtered_events_class.csv', index=False)"
      ]
    },
    {
      "cell_type": "markdown",
      "metadata": {
        "id": "Sy8p1cFOaze6"
      },
      "source": [
        "### Adding classes column"
      ]
    },
    {
      "cell_type": "code",
      "execution_count": 3,
      "metadata": {
        "colab": {
          "base_uri": "https://localhost:8080/",
          "height": 440
        },
        "id": "vJk5OVzRar-I",
        "outputId": "babf010a-dbd6-4516-d5f9-3faa41177545"
      },
      "outputs": [
        {
          "name": "stdout",
          "output_type": "stream",
          "text": [
            "class\n",
            "NoN    183080\n",
            "Name: count, dtype: int64\n"
          ]
        },
        {
          "name": "stderr",
          "output_type": "stream",
          "text": [
            "/tmp/ipykernel_5060/1811023806.py:1: DtypeWarning: Columns (11) have mixed types. Specify dtype option on import or set low_memory=False.\n",
            "  df = pd.read_csv('../data/filtered_events_class.csv')\n"
          ]
        }
      ],
      "source": [
        "df = pd.read_csv('../data/filtered_events_class.csv')\n",
        "print(df[\"class\"].value_counts())"
      ]
    },
    {
      "cell_type": "code",
      "execution_count": null,
      "metadata": {
        "id": "Pb-QcxI4ZC0_"
      },
      "outputs": [],
      "source": [
        "Classes_dic = {\n",
        "    \"women rights\": [\"women's rights\", \"feminism\", \"feminist\", \"against women\", \"women protested\", \"abortion\", \"sexual violence\", \"sexual assault\", \"sexual harassment\", \"sexual abuse\"],\n",
        "    \"climate\": [\"climate change\", \"fossil fuels\", \"greenwashing\", \"climate agenda\", \"global warming\"],\n",
        "    \"health care\": [\"health\", \"healthcare\", \"hospital\", \"nurseries\", \"emergency clinics\", \"emergency care\"],\n",
        "    \"farmers\": [\"farmers\", \"agriculture\", \"agricultural\", \"intensive farming\"],\n",
        "    \"environment\": [\"environment\", \"pfas\", \"nitrogen\", \"planned felling\", \"biodiversity\", \"park project\"],\n",
        "    \"labor rights\": [\"labor rights\", \"labor\", \"higher salaries\", \"workers\", \"working conditions\", \"employee\",  \"commission fees\", \"pension reform\", \"salary equalization\", \"unfairly dismissed\"],\n",
        "    \"public services\": [\" bus \", \"traffic accidents\", \"railway station\", \"bike lanes\", \"road connection\", \"public service\", \"rail\", \"railroad\", \"pedestrianization\", \"child-safe intersections\", \"bike street\", \"play street\", \"reasonable mobility\", \"cycling conditions\", \"urban development\", \"free transport\"],\n",
        "    \"palestine-israel conflict\": [\"gaza\", \"palestine\", \"israel\", \"hamas\", \"palestinian\"],\n",
        "    \"immigration\": [\"immigration\", \"against migration\", \"deportation detention\"],\n",
        "    \"unjust law enforcement\": [\"police violence\", \"police intervention\", \"police brutality\", \"criminalize protests\", \"criminalize demonstrations\"],\n",
        "    \"ukraine-russia war\": [\"russia\", \"ukrain\"],\n",
        "    \"discrimination\": [\"discrimination\"],\n",
        "    \"education\": [\"education\", \"teacher\", \"academic\", \"education\", \"professor\", \"university\", \"student loan\"],\n",
        "    \"housing\": [\"residential complex\", \"dignified housing\", \"eviction\", \"evict\"],\n",
        "    \"culture\": [\"tourism\", \"tourists\", \"culture\", \"cultural\"],\n",
        "    \"policies\": [\"social welfare\", \"social services\", \"social assistance\", \"economic justice\", \"economic sovereignty\", \"economic independence\", \"adoption of the euro\", \"euro adoption\", \"council's plan\", \"nightlife noise\", \"municipality\", \"regional government\", \"political criticism\", \"political opposition\", \"against the pm\", \"resignation of the president\", \"political rights\", \"political prisoners\", \"far-right\", \"fidesz\", \"anti-eu\", \"democracy\", \"democratic\", \"referendums\", \"all levels of government\", \"urgent elections\", \"distinct autonomy\"],\n",
        "    \"animal welfare\": [\"animal welfare\", \"animal rights\", \"animal protection\", \"bullfighting\", \"animals locked\", \"wildlife\"],\n",
        "    \"pandemic\": [\"pandemic\", \"covid-19\", \"coronavirus\",],\n",
        "    \"lgbtq\": [\"lgbtq\", \"queer\", \"homophobia\", \"transphobia\", \"biphobia\", \"lgbti\", \"trans rights\"]\n",
        "}"
      ]
    },
    {
      "cell_type": "code",
      "execution_count": 14,
      "metadata": {},
      "outputs": [
        {
          "name": "stdout",
          "output_type": "stream",
          "text": [
            "On 18 May 2025, about 40 people took part in a silent march in Grasse (Provence-Alpes-Cote d'Azur) to pay tribute to a toddler who died after falling from the eighth floor of a building and to call for the prevention of similar accidents.\n",
            "public services\n",
            "On 30 November 2024, at the call of the community collective of the El Toscal area, several dozen people protested in Santa Cruz de Tenerife (Canarias) against the death of a dog who died electrocuted after stepping on a cover of the electrical network as well as to demand the prevention of similar accidents and measures to guarantee safety on public roads.\n",
            "public services\n"
          ]
        }
      ],
      "source": [
        "for index, row in df.iterrows():\n",
        "    if \"prevention of similar accidents\" in row[\"notes\"].lower():\n",
        "        print(row[\"notes\"])\n",
        "        print(row[\"class\"])"
      ]
    },
    {
      "cell_type": "code",
      "execution_count": 6,
      "metadata": {},
      "outputs": [
        {
          "data": {
            "text/plain": [
              "'\\nindexes = []\\nfor index, row in df.iterrows():\\n    if row[\"class\"] == \\'skip\\':\\n        indexes.append(index)\\nprint(indexes)\\n'"
            ]
          },
          "execution_count": 6,
          "metadata": {},
          "output_type": "execute_result"
        }
      ],
      "source": [
        "'''\n",
        "indexes = []\n",
        "for index, row in df.iterrows():\n",
        "    if row[\"class\"] == 'skip':\n",
        "        indexes.append(index)\n",
        "print(indexes)\n",
        "'''"
      ]
    },
    {
      "cell_type": "code",
      "execution_count": 7,
      "metadata": {},
      "outputs": [
        {
          "data": {
            "text/plain": [
              "'\\nfor word in Classes_dic[\\'environment\\']:\\n    if word in \"On 19 May 2025, taxi drivers gathered in Nice (Provence-Alpes-Cote d\\'Azur) to demonstrate. The event was part of a nationwide demonstration movement led by FNAT and FNDT to demonstrate against the new Assurance Maladie (France\\'s national health insurance system) convention cutting medical-transport fees, and against growing competition with VTC (vehicle-for-hire) drivers.\":\\n        print(word)\\n'"
            ]
          },
          "execution_count": 7,
          "metadata": {},
          "output_type": "execute_result"
        }
      ],
      "source": [
        "'''\n",
        "for word in Classes_dic['environment']:\n",
        "    if word in \"On 19 May 2025, taxi drivers gathered in Nice (Provence-Alpes-Cote d'Azur) to demonstrate. The event was part of a nationwide demonstration movement led by FNAT and FNDT to demonstrate against the new Assurance Maladie (France's national health insurance system) convention cutting medical-transport fees, and against growing competition with VTC (vehicle-for-hire) drivers.\":\n",
        "        print(word)\n",
        "'''"
      ]
    },
    {
      "cell_type": "code",
      "execution_count": 8,
      "metadata": {},
      "outputs": [
        {
          "data": {
            "text/plain": [
              "\"\\nindexes = [20, 21, 22, 23, 24, 25, 102, 105, 111, 112, 114, 117, 118, 119, 120, 178, 179, 181, 182, 185, 186, 248, 251, 256, 257, 261, 262, 263, 264, 265, 266, 267, 311, 312, 313, 314, 316, 317, 318, 319, 320, 321, 322, 324, 325, 326, 327, 328, 329, 330, 331, 333, 335, 336, 337, 338, 340, 341, 342, 343, 344, 345, 346, 347, 348, 349, 350, 353, 355, 356, 357, 358, 359, 360, 361, 362, 363, 364, 365, 366, 367, 373, 526, 547, 557, 2633, 23990, 40051, 80732, 92493]\\nfor index, row in df.iterrows():\\n    if index in indexes:\\n        print(row['notes'])\\n        print(row['class'])\\n\""
            ]
          },
          "execution_count": 8,
          "metadata": {},
          "output_type": "execute_result"
        }
      ],
      "source": [
        "'''\n",
        "indexes = [20, 21, 22, 23, 24, 25, 102, 105, 111, 112, 114, 117, 118, 119, 120, 178, 179, 181, 182, 185, 186, 248, 251, 256, 257, 261, 262, 263, 264, 265, 266, 267, 311, 312, 313, 314, 316, 317, 318, 319, 320, 321, 322, 324, 325, 326, 327, 328, 329, 330, 331, 333, 335, 336, 337, 338, 340, 341, 342, 343, 344, 345, 346, 347, 348, 349, 350, 353, 355, 356, 357, 358, 359, 360, 361, 362, 363, 364, 365, 366, 367, 373, 526, 547, 557, 2633, 23990, 40051, 80732, 92493]\n",
        "for index, row in df.iterrows():\n",
        "    if index in indexes:\n",
        "        print(row['notes'])\n",
        "        print(row['class'])\n",
        "'''"
      ]
    },
    {
      "cell_type": "code",
      "execution_count": 9,
      "metadata": {},
      "outputs": [
        {
          "name": "stdout",
          "output_type": "stream",
          "text": [
            "On 23 May 2025, in the afternoon, at the call of Green West-Flanders (Groen West-Vlaanderen) and Green Diksmuide (Groen Diksmuide), several activists, including a Green MP, gathered outside the company TWZ in Diksmuide (Vlaanderen), to protest a provincial permit allowing the discharge of PFAS-contaminated water, denouncing it as dangerous for human health.\n",
            "NoN\n"
          ]
        }
      ],
      "source": [
        "# print first note\n",
        "print(df.iloc[0]['notes'])\n",
        "# first class\n",
        "print(df.iloc[0]['class'])"
      ]
    },
    {
      "cell_type": "code",
      "execution_count": 10,
      "metadata": {
        "id": "68xW1PQveMeo"
      },
      "outputs": [],
      "source": [
        "def classify(df, classes_dic):\n",
        "  for index, row in df.iterrows():\n",
        "    if row[\"class\"] == \"NoN\":\n",
        "      for class_name, words in classes_dic.items():\n",
        "        for word in words:\n",
        "          if word in row[\"notes\"].lower():\n",
        "            df.at[index, \"class\"] = class_name\n",
        "            break\n",
        "classify(df, Classes_dic)"
      ]
    },
    {
      "cell_type": "code",
      "execution_count": 11,
      "metadata": {},
      "outputs": [
        {
          "name": "stdout",
          "output_type": "stream",
          "text": [
            "class\n",
            "NoN                          60298\n",
            "labor rights                 27198\n",
            "pandemic                     24264\n",
            "education                    11111\n",
            "policies                      8567\n",
            "environment                   8183\n",
            "culture                       6672\n",
            "palestine-israel conflict     6450\n",
            "women rights                  5397\n",
            "ukraine-russia war            5370\n",
            "public services               3574\n",
            "farmers                       3284\n",
            "health care                   3051\n",
            "climate                       2281\n",
            "unjust law enforcement        2183\n",
            "lgbtq                         1510\n",
            "animal welfare                1488\n",
            "housing                        842\n",
            "discrimination                 733\n",
            "immigration                    624\n",
            "Name: count, dtype: int64\n"
          ]
        }
      ],
      "source": [
        "print(df[\"class\"].value_counts())\n"
      ]
    },
    {
      "cell_type": "code",
      "execution_count": 60,
      "metadata": {},
      "outputs": [
        {
          "name": "stdout",
          "output_type": "stream",
          "text": [
            "On 19 May 2025, around 150 people, including Reich Citizens, gathered in front of the Kulturpalast in Dresden (Sachsen) for the regular Monday demonstration, promoting far-right ideologies. Around 50 people staged a counter-protest against far-right ideologies. During the event, protesters displayed a flag and clothing with symbols of the recently banned Reich Citizens group 'Kingdom of Germany' (Konigreich Deutschland) leading the authorities to seize the items and initiate an investigation for the use of unconstitutional symbols. Physical altercations and insults also occurred but the report does not provide details on what happened.\n",
            "policies\n",
            "Protests\n"
          ]
        }
      ],
      "source": [
        "n=301\n",
        "print(df.iloc[n]['notes'])\n",
        "print(df.iloc[n]['class'])\n",
        "print(df.iloc[n]['event_type'])"
      ]
    },
    {
      "cell_type": "code",
      "execution_count": 61,
      "metadata": {
        "id": "v0ucpjEjZ6d6"
      },
      "outputs": [
        {
          "data": {
            "text/plain": [
              "19"
            ]
          },
          "execution_count": 61,
          "metadata": {},
          "output_type": "execute_result"
        }
      ],
      "source": [
        "def getNonClassIndex(df):\n",
        "  for index, row in df.iterrows():\n",
        "    if row[\"class\"] == \"NoN\":\n",
        "      return index\n",
        "  return -1\n",
        "\n",
        "getNonClassIndex(df)"
      ]
    },
    {
      "cell_type": "code",
      "execution_count": 62,
      "metadata": {},
      "outputs": [
        {
          "name": "stdout",
          "output_type": "stream",
          "text": [
            "32.90856456194013\n"
          ]
        }
      ],
      "source": [
        "# Zoveel procent nog\n",
        "print((df[\"class\"] == \"NoN\").mean() * 100)"
      ]
    },
    {
      "cell_type": "code",
      "execution_count": 63,
      "metadata": {},
      "outputs": [
        {
          "name": "stdout",
          "output_type": "stream",
          "text": [
            "On 23 May 2025, in the evening, at the call of relatives and local associations, around 3,000 people, including members of the Kurdish community, staged a silent march from Creil to Nogent-sur-Oise (Ile-de-France) to demand justice for a 17-year-old boy killed with a machete outside a Lidl supermarket on 20 May 2025. Participants called for calm and denounced youth violence. Organizers stressed the need for justice and rejected any communal interpretation of the incident.\n"
          ]
        }
      ],
      "source": [
        "while True:\n",
        "    index = getNonClassIndex(df)\n",
        "    if index == -1:\n",
        "        break\n",
        "    else:\n",
        "        print(df.iloc[index]['notes'])\n",
        "        break"
      ]
    },
    {
      "cell_type": "code",
      "execution_count": null,
      "metadata": {},
      "outputs": [],
      "source": []
    },
    {
      "cell_type": "code",
      "execution_count": null,
      "metadata": {},
      "outputs": [],
      "source": []
    }
  ],
  "metadata": {
    "colab": {
      "provenance": []
    },
    "kernelspec": {
      "display_name": "base",
      "language": "python",
      "name": "python3"
    },
    "language_info": {
      "codemirror_mode": {
        "name": "ipython",
        "version": 3
      },
      "file_extension": ".py",
      "mimetype": "text/x-python",
      "name": "python",
      "nbconvert_exporter": "python",
      "pygments_lexer": "ipython3",
      "version": "3.12.2"
    }
  },
  "nbformat": 4,
  "nbformat_minor": 0
}
