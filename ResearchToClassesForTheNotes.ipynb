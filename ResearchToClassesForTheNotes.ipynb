{
  "cells": [
    {
      "cell_type": "code",
      "execution_count": 38,
      "metadata": {
        "colab": {
          "base_uri": "https://localhost:8080/"
        },
        "id": "Ea5WVY0CA2Vz",
        "outputId": "8e45fbfc-a9f4-4b28-b44f-dc4d592d1af5"
      },
      "outputs": [],
      "source": [
        "import pandas as pd"
      ]
    },
    {
      "cell_type": "code",
      "execution_count": 39,
      "metadata": {
        "id": "LF3A846SBDWg"
      },
      "outputs": [],
      "source": [
        "# datafile aanmaken met classes\n",
        "df = pd.read_csv('../data/filtered_events_country_code.csv')\n",
        "df[\"class\"] = \"NoN\"\n",
        "df.head()\n",
        "df.to_csv('../data/filtered_events_class.csv', index=False)"
      ]
    },
    {
      "cell_type": "markdown",
      "metadata": {
        "id": "Sy8p1cFOaze6"
      },
      "source": [
        "### Adding classes column"
      ]
    },
    {
      "cell_type": "code",
      "execution_count": 40,
      "metadata": {
        "colab": {
          "base_uri": "https://localhost:8080/",
          "height": 440
        },
        "id": "vJk5OVzRar-I",
        "outputId": "babf010a-dbd6-4516-d5f9-3faa41177545"
      },
      "outputs": [
        {
          "name": "stdout",
          "output_type": "stream",
          "text": [
            "class\n",
            "NoN    185823\n",
            "Name: count, dtype: int64\n"
          ]
        }
      ],
      "source": [
        "df = pd.read_csv('../data/filtered_events_class.csv')\n",
        "print(df[\"class\"].value_counts())"
      ]
    },
    {
      "cell_type": "code",
      "execution_count": 283,
      "metadata": {
        "id": "Pb-QcxI4ZC0_"
      },
      "outputs": [],
      "source": [
        "Classes_dic = {\n",
        "    \"women rights\": [\"women's rights\", \"feminism\", \"feminist\", \"against women\", \"women protested\"],\n",
        "    \"health care\": [\"health\", \"healthcare\", \"hospital\", \"nurseries\"],\n",
        "    \"farmers\": [\"farmers\", \"agriculture\", \"agricultural\"],\n",
        "    \"environment\": [\"environment\", \"pfas\", \"nitrogen\", \"planned felling\", \"biodiversity\", \"river\"],\n",
        "    \"labor rights\": [\"labor rights\", \"labor\", \"higher salaries\", \"workers\", \"working conditions\", \"employee\", \"demand increased security\", \"commission fees\", \"pension reform\", \"salary equalization\", \"jobs\"],\n",
        "    \"infrastructure\": [\"traffic accidents\", \"emergency break\", \"railway station\", \"bike lanes\", \"road connection\", \"bus\", \"rail\", \"railroad\", \"canopy collapse\"],\n",
        "    \"palestine-israel conflict\": [\"gaza\", \"pro-palestinian\", \"palestine\", \"israel\", \"hamas\"],\n",
        "    \"climate\": [\"climate change\", \"fossil fuels\", \"greenwashing\"],\n",
        "    \"anti right wing\": [\"far-right\"],\n",
        "    \"immigration\": [\"immigration\"],\n",
        "    \"eviction\": [\"eviction\", \"evict\"],\n",
        "    \"youth violence\": [\"youth violence\"],\n",
        "    \"skip\": [\"maladie\", \"luttenbach\"],\n",
        "    \"anti crime\": [\"end to criminality\", \"organized crime\", \"security measures\"],\n",
        "    \"tourism\": [\"tourism\"],\n",
        "    \"unjust law enforcement\": [\"police violence\", \"police intervention\", \"police brutality\", \"criminalize protests\", \"use of force\", \"criminalize demonstrations\"],\n",
        "    \"democracy\": [\"democracy\", \"democratic\", \"referendums\"],\n",
        "    \"ukraine-russia war\": [\"ukraine refugees\", \"ukrainian people\", \"russian attacks\", \"ukraine\"],\n",
        "    \"discrimination\": [\"discrimination\"],\n",
        "    \"education\": [\"education\", \"school\", \"teacher\", \"academic\", \"education\", \"professor\", \"university\", \"student loan\", \"students\"],\n",
        "    \"housing\": [\"residential complex\"],\n",
        "    \"culture\": [\"culture\", \"cultural\", \"national glass center\"],\n",
        "    \"social welfare\": [\"social welfare\", \"social services\", \"social assistance\", \"unemployed people\"],\n",
        "    \"political rights\": [\"political rights\", \"political prisoners\"],\n",
        "    \"public services\": [\"public services\", \"public service\"],\n",
        "    \"policital criticism\": [\"political criticism\", \"political opposition\", \"against the pm\", \"resignation of the president\", \"fidesz\"],\n",
        "    \"animal welfare\": [\"animal welfare\", \"animal rights\", \"animal protection\"],\n",
        "}"
      ]
    },
    {
      "cell_type": "code",
      "execution_count": 284,
      "metadata": {},
      "outputs": [
        {
          "name": "stdout",
          "output_type": "stream",
          "text": [
            "On 23 May 2025, in the afternoon, at the call of Green West-Flanders (Groen West-Vlaanderen) and Green Diksmuide (Groen Diksmuide), several activists, including a Green MP, gathered outside the company TWZ in Diksmuide (Vlaanderen), to protest a provincial permit allowing the discharge of PFAS-contaminated water, denouncing it as dangerous for human health.\n",
            "environment\n"
          ]
        }
      ],
      "source": [
        "# print first note\n",
        "print(df.iloc[0]['notes'])\n",
        "# first class\n",
        "print(df.iloc[0]['class'])"
      ]
    },
    {
      "cell_type": "code",
      "execution_count": 285,
      "metadata": {
        "id": "68xW1PQveMeo"
      },
      "outputs": [],
      "source": [
        "def classify(df, classes_dic):\n",
        "  for index, row in df.iterrows():\n",
        "    if row[\"class\"] == \"NoN\":\n",
        "      for class_name, words in classes_dic.items():\n",
        "        for word in words:\n",
        "          if word in row[\"notes\"].lower():\n",
        "            df.at[index, \"class\"] = class_name\n",
        "            break\n",
        "classify(df, Classes_dic)"
      ]
    },
    {
      "cell_type": "code",
      "execution_count": 286,
      "metadata": {},
      "outputs": [
        {
          "name": "stdout",
          "output_type": "stream",
          "text": [
            "class\n",
            "NoN                          72344\n",
            "labor rights                 29826\n",
            "education                    20736\n",
            "health care                   9144\n",
            "environment                   8024\n",
            "farmers                       7584\n",
            "palestine-israel conflict     6499\n",
            "climate                       5084\n",
            "ukraine-russia war            4387\n",
            "infrastructure                4205\n",
            "women rights                  3510\n",
            "democracy                     3022\n",
            "anti right wing               2700\n",
            "unjust law enforcement        2437\n",
            "culture                       1295\n",
            "animal welfare                1162\n",
            "eviction                       877\n",
            "discrimination                 746\n",
            "immigration                    729\n",
            "tourism                        474\n",
            "political rights               276\n",
            "public services                215\n",
            "social welfare                 170\n",
            "skip                           135\n",
            "anti crime                     133\n",
            "policital criticism             75\n",
            "housing                         25\n",
            "youth violence                   9\n",
            "Name: count, dtype: int64\n"
          ]
        }
      ],
      "source": [
        "print(df[\"class\"].value_counts())"
      ]
    },
    {
      "cell_type": "code",
      "execution_count": 287,
      "metadata": {},
      "outputs": [
        {
          "name": "stdout",
          "output_type": "stream",
          "text": [
            "On 23 May 2025, taxi drivers (among the 50 reported to have gathered overall in Metz and Thionville) gathered outside the Mercy Hospital and handed out leaflets in Metz (Grand Est) to demonstrate. The event was part of a nationwide demonstration movement led by FNAT and FNDT to demonstrate against the new Assurance Maladie (France's national health insurance system) convention cutting medical-transport fees, and against growing competition with VTC (vehicle-for-hire) drivers.\n",
            "health care\n",
            "Protests\n"
          ]
        }
      ],
      "source": [
        "n=23\n",
        "print(df.iloc[n]['notes'])\n",
        "print(df.iloc[n]['class'])\n",
        "print(df.iloc[n]['event_type'])"
      ]
    },
    {
      "cell_type": "code",
      "execution_count": 288,
      "metadata": {
        "id": "v0ucpjEjZ6d6"
      },
      "outputs": [
        {
          "data": {
            "text/plain": [
              "287"
            ]
          },
          "execution_count": 288,
          "metadata": {},
          "output_type": "execute_result"
        }
      ],
      "source": [
        "def getNonClassIndex(df):\n",
        "  for index, row in df.iterrows():\n",
        "    if row[\"class\"] == \"NoN\":\n",
        "      return index\n",
        "  return -1\n",
        "\n",
        "getNonClassIndex(df)"
      ]
    },
    {
      "cell_type": "code",
      "execution_count": 289,
      "metadata": {},
      "outputs": [
        {
          "name": "stdout",
          "output_type": "stream",
          "text": [
            "On 20 May 2025, citizens gathered in front of the municipality building in Kula, demanding accountability from all levels of government in Serbia for the state of society. A group of SNS supporters counter-protested and engaged in pushing, throwing objects, fireworks, and shouting at the protesting citizens. The police separated the cords and prevented more violent outcomes.\n"
          ]
        }
      ],
      "source": [
        "while True:\n",
        "    index = getNonClassIndex(df)\n",
        "    if index == -1:\n",
        "        break\n",
        "    else:\n",
        "        print(df.iloc[index]['notes'])\n",
        "        break"
      ]
    },
    {
      "cell_type": "code",
      "execution_count": null,
      "metadata": {},
      "outputs": [],
      "source": []
    },
    {
      "cell_type": "code",
      "execution_count": null,
      "metadata": {},
      "outputs": [],
      "source": []
    }
  ],
  "metadata": {
    "colab": {
      "provenance": []
    },
    "kernelspec": {
      "display_name": "base",
      "language": "python",
      "name": "python3"
    },
    "language_info": {
      "codemirror_mode": {
        "name": "ipython",
        "version": 3
      },
      "file_extension": ".py",
      "mimetype": "text/x-python",
      "name": "python",
      "nbconvert_exporter": "python",
      "pygments_lexer": "ipython3",
      "version": "3.12.2"
    }
  },
  "nbformat": 4,
  "nbformat_minor": 0
}
