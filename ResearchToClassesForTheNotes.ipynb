{
  "cells": [
    {
      "cell_type": "code",
      "execution_count": 1,
      "metadata": {
        "colab": {
          "base_uri": "https://localhost:8080/"
        },
        "id": "Ea5WVY0CA2Vz",
        "outputId": "8e45fbfc-a9f4-4b28-b44f-dc4d592d1af5"
      },
      "outputs": [],
      "source": [
        "import pandas as pd"
      ]
    },
    {
      "cell_type": "code",
      "execution_count": 2,
      "metadata": {
        "id": "LF3A846SBDWg"
      },
      "outputs": [],
      "source": [
        "# datafile aanmaken met classes\n",
        "df = pd.read_csv('../data/filtered_events_country_code.csv')\n",
        "df[\"class\"] = \"NoN\"\n",
        "df.head()\n",
        "df.to_csv('../data/filtered_events_class.csv', index=False)"
      ]
    },
    {
      "cell_type": "markdown",
      "metadata": {
        "id": "Sy8p1cFOaze6"
      },
      "source": [
        "### Adding classes column"
      ]
    },
    {
      "cell_type": "code",
      "execution_count": 3,
      "metadata": {
        "colab": {
          "base_uri": "https://localhost:8080/",
          "height": 440
        },
        "id": "vJk5OVzRar-I",
        "outputId": "babf010a-dbd6-4516-d5f9-3faa41177545"
      },
      "outputs": [
        {
          "name": "stdout",
          "output_type": "stream",
          "text": [
            "class\n",
            "NoN    185823\n",
            "Name: count, dtype: int64\n"
          ]
        }
      ],
      "source": [
        "df = pd.read_csv('../data/filtered_events_class.csv')\n",
        "print(df[\"class\"].value_counts())"
      ]
    },
    {
      "cell_type": "code",
      "execution_count": 4,
      "metadata": {
        "id": "Pb-QcxI4ZC0_"
      },
      "outputs": [],
      "source": [
        "Classes_dic = {\n",
        "    \"women rights\": [\"women's rights\", \"feminism\", \"feminist\", \"against women\", \"women protested\"],\n",
        "    \"health care\": [\"health\", \"healthcare\", \"hospital\", \"nurseries\"],\n",
        "    \"farmers\": [\"farmers\", \"agriculture\", \"agricultural\"],\n",
        "    \"environment\": [\"environment\", \"pfas\", \"nitrogen\", \"planned felling\", \"biodiversity\", \"river\"],\n",
        "    \"labor rights\": [\"labor rights\", \"labor\", \"higher salaries\", \"workers\", \"working conditions\", \"employee\", \"demand increased security\", \"commission fees\", \"pension reform\", \"salary equalization\", \"jobs\"],\n",
        "    \"infrastructure\": [\"traffic accidents\", \"emergency break\", \"railway station\", \"bike lanes\", \"road connection\", \"bus\", \"rail\", \"railroad\", \"canopy collapse\", \"pedestrianization\"],\n",
        "    \"palestine-israel conflict\": [\"gaza\", \"pro-palestinian\", \"palestine\", \"israel\", \"hamas\", \"palestinian\", \"palestinians\"],\n",
        "    \"climate\": [\"climate change\", \"fossil fuels\", \"greenwashing\"],\n",
        "    \"anti right wing\": [\"far-right\"],\n",
        "    \"immigration\": [\"immigration\"],\n",
        "    \"eviction\": [\"eviction\", \"evict\"],\n",
        "    \"youth violence\": [\"youth violence\"],\n",
        "    \"skip\": [\"maladie\", \"luttenbach\", \"that he was christian\"],\n",
        "    \"anti crime\": [\"end to criminality\", \"organized crime\", \"security measures\", \"over the mob attack\"],\n",
        "    \"tourism\": [\"tourism\"],\n",
        "    \"unjust law enforcement\": [\"police violence\", \"police intervention\", \"police brutality\", \"criminalize protests\", \"use of force\", \"criminalize demonstrations\"],\n",
        "    \"democracy\": [\"democracy\", \"democratic\", \"referendums\", \"all levels of government\", \"urgent elections\"],\n",
        "    \"ukraine-russia war\": [\"ukraine refugees\", \"ukrainian people\", \"russian attacks\", \"ukraine\"],\n",
        "    \"discrimination\": [\"discrimination\"],\n",
        "    \"education\": [\"education\", \"school\", \"teacher\", \"academic\", \"education\", \"professor\", \"university\", \"student loan\", \"students\"],\n",
        "    \"housing\": [\"residential complex\"],\n",
        "    \"culture\": [\"culture\", \"cultural\", \"national glass center\"],\n",
        "    \"social welfare\": [\"social welfare\", \"social services\", \"social assistance\", \"unemployed people\"],\n",
        "    \"political rights\": [\"political rights\", \"political prisoners\"],\n",
        "    \"public services\": [\"public services\", \"public service\"],\n",
        "    \"political criticism\": [\"political criticism\", \"political opposition\", \"against the pm\", \"resignation of the president\"],\n",
        "    \"animal welfare\": [\"animal welfare\", \"animal rights\", \"animal protection\"],\n",
        "    \"cyprus conflict\": [\"cyprus conflict\", \"turkish invasion\"],\n",
        "    \"military\": [\"anti military\", \"weapons production\"],\n",
        "    \"economic justice\": [\"tax breaks for multinational corporations\", \"economic justice\"],\n",
        "    \"local policy\": [\"council's plan\"],\n",
        "    \"sudan conflict\": [\"sudan conflict\", \"civil war in sudan\", \"sudan's ongoing war\", \"in sudan\"],\n",
        "}"
      ]
    },
    {
      "cell_type": "code",
      "execution_count": 5,
      "metadata": {},
      "outputs": [
        {
          "name": "stdout",
          "output_type": "stream",
          "text": [
            "On 20 May 2025, around 100 to 1,000 people participated in a protest organised by independent member of the parliament, Akos Hadhazy, from Fovam Square to Margaret Bridge, Budapest - III, in support of press freedom and Ukraine, and against the Fidesz leadership's election manipulation, state media control, restriction of opposition rights, laws enabling surveillance, political repression, and Orban's support for Russia. Momentum supporters also participated in the event. Event speakers included journalists, an entrepreneur, an engineer, a human rights activist, a theatre director, and a writer. Police prevented the movement of participants by blocking roads and escorting them off the route.\n",
            "On 20 May 2025, several hundred people protested in Pecs against the Fidesz leadership and Viktor Orban. The protest was organised by local civil society organizations, including Pecs Pride, the Foundation for the Power of Humanity, the Apollo Cinema, and community food networks.\n",
            "On 18 May 2025, tens of thousands - up to at least 42,000 people - protested in Kossuth Square, Budapest - V against the transparency law, which targets foreign-funded organizations and the Fidesz leadership. They demanded 'free press, an independent court, a constitution created for the people, free education, quality healthcare, housing for all, a strong social system, a clean, fair election, laws instead of regulations, public money in the public interest, protection of the law, and acceptance instead of incitement.' The event was organised by a university student and led by independent member of the parliament, Akos Hadhazy. Speakers also included a journalist and a former Catholic priest.\n",
            "On 16 May 2025, around 100 to 200 Momentum supporters protested in front of the Office for the Protection of Sovereignty building in Budapest - I, against the bill on the 'transparency of public life,' which targets foreign-funded organizations, as well as against Russia and the Fidesz leadership. A journalist, a Member of the National Assembly, and the leader of Momentum spoke at the event. Protesters also sprayed paint on the fence at the main entrance.\n",
            "On 13 May 2025, between one hundred and a few hundred people participated in a protest organized by independent Member of Parliament Akos Hadhazy, marching from Ferenciek Square to the Chain Bridge in Budapest - V. The protest was held against the law banning Pride, Russia, the government's campaign regarding Ukraine's EU accession, the MNB scandal, and Fidesz's support for the far-right Romanian presidential candidate.\n",
            "On 1 May 2025, 1,000 to 2,000 people participated in a protest organized by independent MP Akos Hadhazy, marching from Kossuth Square to the Ministry of the Interior in Budapest - V, against restrictions on the right to assemble, Fidesz leadership, the use of a Chinese facial recognition system against protesters, and in support of Pride. The Momentum party also participated in the event. Police checked and questioned protesters, and two individuals were arrested.\n",
            "On 24 April 2025, Tisza Party activists protested silently in Pecs against Member of Parliament Janos Lazar and the Fidesz government during his street forum event.\n",
            "On 14 April 2025, a few hundred people participated in a protest organized by Momentum, by attempting to block the entrance to the parliament in Budapest - V, and marching until the Buda Castle, Budapest - I, against the fifteenth amendment to the Basic Law, against the Pride Act, against the Fidesz government. The 15th amendment includes such references as 'a person can be a man or a woman', allows for the withdrawal of the citizenship from people suspected of posing a national security risk, and restricts the right to assemble. Police intervened in the protest by blocking exit of the Chain Bridge with minibuses, they trampled and arrested at least one participant, physically removed people from the trap tracks and the entrance of the Parliament garage. A member of the National Assembly of Hungary, the Mayor of Terezvaros, Mayor of Budapest students, participated in the event. Two law enforcement officers were injured.\n",
            "On 12 April 2025, people participated in a protest organized by the Two-Tail party starting in Heroes' Square and marching a penis shaped route back towards the starting point, in Budapest - IV, against Orban's support of Russia, the restrictions to the right of assembly and in support of Pride and marijuana legalization. Event was also attended by the mayor and deputy mayor of Ferencvaros, the president of the Dog Party. The event was meant to mock the Viktor Orban, the Fidesz leadership and their foreign and internal policies.\n",
            "On 12 April 2025, people participated in a protest organized by a journalist in Millenaris Park, in Budapest - II, against a speech made by a member of the Tisza Party, Tisza Party, and Peter Magyar. The event was also attended by the State Secretary and Minister heading the Prime Minister's Office, both members of Fidesz.\n",
            "On 3 April 2025, several thousand people participated in a protest organised by Peter Magyar, in Debrecen, against Viktor Orban and the Fidesz leadership, calling for a change of leadership. The chairman of the Tisza Party was also present at the event.\n",
            "On 29 March 2025, around 1,000 people protested in Szeged against legislation restricting the right to assemble, the ban on Pride, and the Fidesz leadership. The protesters also occupied the Belvaros Bridge in the city. An independent member of the parliament and Momentum representatives also participated in the protest.\n",
            "On 19 March 2025, over 200 people demonstrated in front of the Fidesz representative's office in Pecs, in support of the organization of Pride events and against the amendment to the Fundamental Law, restricting the right to assembly. The event was organized by the Emerseg Erejevel Foundation, Amnesty, and the Diverse Youth Network.\n",
            "On 18 March 2025, around 1,000-1,500 people protested from Kossuth Square to Margaret Bridge in Budapest - V, against Fidesz and the newly passed law banning the Pride march. They were not able to make it onto the bridge, as a line of police blocked their path. A different group led by the anarchist Student Movement held a separate demonstration at Szabadsag Square before marching to Jaszai Square, where they joined the main protest, increasing the crowd size. Several protesters pushed against police lines, leading to the arrest of three people. Momentum leader and an independent member of parliament spoke at the event.\n",
            "On 27 February 2025, supporters of the mayor of Gyor protested during the budget vote at the Gyor General Assembly meeting against Fidesz's budget amendments, which reduced the mayor's discretionary budget, increased spending on politically motivated projects, and redirected 150 million HUF to the Audi School while providing little support to other local schools. The protesters booed and heckled Fidesz politicians, demanding answers about city finances. Despite the tensions, a compromise budget was eventually passed late at night.\n",
            "On 1 February 2025, between 1,500 and 2,000 people participated in a protest in Debrecen, organized by Miako (Mikepercs Mothers for the Environment Association) together with the Tisza Islands, against the construction of battery factories and their supplier plants. Participants criticized the Fidesz government for bringing hazardous industrial activity to Debrecen, calling the policy 'exploitation' and 'treason.' The protesters demanded referendums, comprehensive impact studies, and compensation for residents affected by the negative consequences of these investments.\n",
            "On 24 September 2024, people protested during a city hall meeting in Gyor, condemning the approval by the Fidesz majority of a new regulation for city hall meetings.\n",
            "On 8 June 2024, around 12,000-17,000 supporters of Peter Magyar and the Tisza Party protested in Hosok Square, Budapest - IV, District 4, expressing dissatisfaction with the current Fidesz-led government. They cited issues such as corruption, economic mismanagement, and the erosion of democratic institutions. The protest, organized by the Tisza Party, advocated for political change, transparency, and alignment with European values.\n",
            "On 7 June 2024, Parbeszed supporters disrupted a mayoral candidate's press conference in Budapest with poster signs, calling the candidate a proxy of Fidesz.\n",
            "On 5 June 2024, thousands of Tisza Party supporters gathered in Dunakapu Square, in Gyor, demanding the resignation of the Fidesz city mayor following the Borkai sex scandal. Peter Magyar, who led the event, critiqued the Fidesz government's policies, particularly regarding healthcare and social welfare, while also advocating for alternative solutions to address these issues. Members of the Hungarian Socialist Party, including one MSZP local councilor, were also present at the event.\n",
            "On 1 June 2024, tens of thousands of Viktor Orban and Fidesz party supporters participated in the Peace March, organized by the Civil Unity Forum - Civil Unity Non-profit Foundation, from Chain Bridge to Margaret Island in Budapest - III, District 3, demanding an end to the war in Ukraine and opposing further escalation between the West and Russia. Orban also called for a massive mobilization effort, urging activists to engage with millions of voters to ensure a significant electoral victory.\n",
            "On 17 April 2024, 150-200 people, including the Mayor of Budapest's VIII district (independent), residents, and his supporters, protested in Ludovika Square, Budapest - VIII, against government plans to expropriate ten apartment buildings to construct the new teacher training course for the National University of Public Service, demanding the withdrawal of the expropriation law, and housing solutions for 210 affected families. The event featured speeches by the Mayor of Budapest (Parbeszed) and by a member of parliament (independent, affiliated to the Szikra Movement), while the mayoral candidate of Fidesz addressed the concerns of the crowd in favor of the government.\n",
            "On 6 April 2024, about 80 Tiszta supporters marched from Gyor City Hall to the local Fidesz office, in Gyor, protesting for the establishment of an independent Hungarian prosecutor's office, against the Fidesz party, and demanding an end to corruption and political interference. Bence Pinter, the joint mayoral candidate representing TSZV-Momentum-LMP, delivered the keynote address at the protest.\n",
            "On 10 March 2024, around 500-1,500 protesters from Szekely Land gathered in Targu Mures, adopting a petition for territorial autonomy for the region of Szeklerland and protesting against repeated attacks on Hungarian-language educational institutions, harassment of local authorities in Szeklerland, language limitations, and persecution of national symbols. Subsequently, they submitted the petition to the Prefect's Institution - Mures County and marched towards the city centre. An UDMR MP, a PNV Basque member of the Spanish Senate, as well as a former Fidesz MEP, took part in the rally.\n",
            "On 16 February 2024, around 50,000 people protested in Heroes' Square in Budapest - XIV, condemning the pardoning of a paedophile accomplice and condemning the actions of the Fidesz government, demanding its resignation. Budapest's mayor of Parbeszed, a Parbeszed MP, the former SZDSZ mayor of Budapest, MSZP MPs, DK MPs and one MEP, a Jobbik MP, two Momentum MPs, as well as two independent MPs, participated in the rally. A group of protesters scuffled with the police outside the Fidesz headquarters. Police arrested two people and identified a woman for using pyrotechnical means during a protest. A source estimated that 150 to 200 thousand people participated in the rally.\n",
            "On 14 February 2024, DK members protested outside the government building in Budapest - I, condemning the pardoning of a paedophile accomplice. Later, around 500 people, led by Momentum MPs, an MEP, and an independent MP, held a similar protest, demanding more resignations from the Fidesz government.\n",
            "On 9 February 2024, farmers protested in Zahony, demanding the return of agricultural VAT, more government support, and the banning of Ukrainian grain and honey imports. The farmers did not object to helping Ukraine, per se. A Fidesz MP joined the rally.\n",
            "On 21 November 2023, members of the Fidesz youth wing protested outside the office of a lawyer affiliated with the Lord Mayor of Budapest in Budapest - V, alleging that the lawyer is connected to the transfer of foreign funds to the Mayor's association.\n",
            "On 4 November 2023, Momentum members, including one local council member, protested outside a Fidesz office in Budapest - XVII, throwing red paint in protest of the government's tacit acceptance of Russia's interpretation over the Hungarian Revolution.\n",
            "On 23 October 2023, 4 Momentum MPs threw paint on the fence around the prime-minister's office in Budapest - I and protested against the misuse of the image of the Hungarian 1956 Uprising by the Fidesz government.\n",
            "On 13 October 2023, locals, including the independent mayor, a Fidesz MP and the government representative in the county, protested in Nyirbator against the smell coming from a nearby biogas producing plant.\n",
            "On 20 September 2023, several people protested outside the Grand Hotel in Esztergom during a Fidesz group meeting, complaining about the current system of bailiffs.\n",
            "On 17 September 2023, around 400 farmers blocked a national road near the border crossing point in Zahony, protesting against the European Commission's decision not to prolong the ban on the imports of Ukrainian grain. Two Fidesz MPs, the agriculture minister, and the county council president also attended the rally.\n",
            "On 14 July 2023, 10-20 Momentum activists, including MPs, but also students, protested outside the Karmelita government building in Budapest - I, tearing down the cordoning fence, demanding open governance practices from the Fidesz government and condemning the state of the education sector.\n",
            "On 1 July 2023, activists of the Fidelitas young wing of Fidesz protested outside the city hall in Budapest - V, alleging that the Budapest mayor illegally funded his campaigns from abroad.\n",
            "On 28 June 2023, activists of the Fidelitas youth wing of Fidesz gathered with pickets for a rally in Budapest, protesting against semi-illicit funding of political parties from abroad.\n",
            "On 22 June 2023, 150-200 locals, led by the independent mayor of the city, the independent mayor of Kubekhaza, and a local council member, protested in Hodmezovasarhely, condemning the statement of a major Fidesz MP who alleged the area would not receive money if the locals elected the same mayor in Hodmezovasarhely.\n",
            "On 24 May 2023, an unknown number of Central and Eastern European farmers rallied near EU institutions in Brussels - Ville de Bruxelles (Brussels) to demand a stop to the storage of Ukrainian grain in their countries, causing unfair competition with their sector. A Hungarian Fidesz MEP addressed the protesters.\n",
            "On 19 May 2023, around 1500 students, along with teachers, independent MPs, Momentum MPs, MSZP MPs, DK MPs, Budapest's 9th district mayor, and Parbeszed MPs, marched from Kossuth square to Lendvay street in Budapest - VI, condemning the plans to limit academic freedom for teachers and students in schools. The crowd shortly scuffled with the police outside the Fidesz party headquarters. The police claimed the protesters threw beer cans and water bottles at the police fence. The protest was also met by a counter-protest of the 5-6 members of the Identitarian Movement, who criticized the students for depicting themselves as victims of the regime.\n",
            "On 14 March 2023, Momentum members, including three MPs, as well as one independent MP, protested outside the prime minister's seat in Budapest - I, unbundling the fence surrounding the building in protest to the entrenching of the Fidesz-KDNP regime. The protesters demanded that the government take measures to ensure editorial independence in the state-owned media, the rule of law, fight high-level corruption, protect the environment, and respect the right to strike.\n",
            "On 10 March 2023, Szekely-Hungarian groups, as well as a Hungarian government official and a FIDESZ MEP, protested in Targu Mures for a Szekely autonomous unit within Romania.\n",
            "On 21 November 2022, LMP members and supporters, including two LMP MPs and an independent MP, protested outside the parliament building in Budapest - V, condemning the modification of the social welfare laws by the FIDESZ-KDNP majority.\n",
            "On 8 August 2022, 15-20 people, mostly Momentum MPs, members, and a vice-mayor, protested in Kossuth square in Budapest - V, condemning the refusal of the Fidesz government to change recent law amendments that imposed a new fiscal regime for small entrepreneurs.\n",
            "On 16 July 2022, 1,000-2,000 people, mostly self-employed people, led by the mayor of Hodmezovasarhely, an MSZP MP, a PDSZ leader, and another independent mayor, protested in Budapest - V against the new tax regime for small entrepreneurs and against the Fidesz government. Crowds of protesters marched through the city.\n",
            "On 15 March 2022, around 500,000 people marched from Budapest - II as part of the Peace March, led by Fidesz MPs and the COF-COKA coalition, against the war in Ukraine, without condemning the Russian aggression, and condemning the leftist opposition's statements and electoral program, as well as the European Union for violating the sovereignty of Hungary. Croatian Hungarians, as well as the UGL labour union from Italy, and other Hungarian trade unions, joined the rally.\n",
            "On 23 October 2021, hundreds of thousands of people, mostly bussed Fidesz supporters, held a commemorative Peacemarch organized by The Civic Unification Forum from the Budapest University of Technology and Economics to Deak square in Budapest - V. Fidesz members, MPs, and Prime-Minister Viktor Orban held speeches, condemning the left wing opposition's actions and the European Union for putting pressure on the Hungarian and Polish governments. UGL: General Labour Union from Italy, Szekely groups from Romania, as well as ethnic Hungarians from Ukraine, joined the rally.\n",
            "On 23 October 2021, people held a protest in Debrecen (Hajdu-Bihar county) in the memory of the victims of the 1956 revolution, but also the victims of police violence of the 2006 riots. The Fidesz mayor of Debrecen held a speech, criticizing the former PM Gyurcsany and blamed the united opposition and the European Union for fighting against Hungarian national interests.\n",
            "On 18 September 2021, around 3000 people marched in Pecs (Baranya county), demanding better protection of rights of LGBT people and Romani groups. Romani activists, Momentum politicians and one Momentum MEP joined the rally. Betyarsereg, Legio Hungaria, and MHM: Our Homeland Movement demonstrated against the protest with some 30 members, asking for the banning of disseminating so-called LGBT propaganda. Around 100 Fidesz supporters and a Fidesz MP also staged a counter-protest.\n",
            "On 15 September 2021, MHM members protested outside a Fidesz party office in Gyongyos, condemning the gambling income of a Fidesz mayor in Kompolt.\n",
            "On 4 September 2021, several protesters protested near a Fidesz picnic event in Kotcse, saying that they have had enough of the Fidesz 'dictatorship'.\n",
            "On 9 August 2021, around two dozen people, led by a Fidesz MP and a member of the Dominican Order, protested in Debrecen against the so-called 'early sexualization' of children and in support of the so-called child protection law targeting promotion of content showing LGBT group to minors.\n",
            "On 27 July 2021, several Fidesz voters protested in Budaors during a DK electoral meeting, condemning the former government led by the DK leader.\n",
            "On 26 July 2021, around 500 opposition supporters and politicians held a protest outside the Terror House Museum and the Fidesz headquarters in Budapest - VI, condemning the government surveillance program that targeted journalists, former and current politicians and businesspeople. A Momentum MEP, DK MPs, Jobbik, Parbeszed, MSZP, LMP, and MLP members, as well an independent MP and a journalist, took part in the rally.\n",
            "On 23 July 2021, around 300 locals, including MSZP, LMP and Parbeszed MPs and local members, held a rally for an LMP candidate MP in Szombathely, calling for support in the opposition primary elections and for a victory against the Fidesz regime.\n",
            "On 21 June 2021, Fidesz members protested in Barcs during a DK electoral meeting, denouncing the government formerly led by the DK leader.\n",
            "On 23 April 2021, at least two Momentum politicians, but also an independent MP, protested outside the Fidesz party headquarters in Budapest - VI, condemning the pro-Beijing foreign policy conducted by the Orban government.\n",
            "On 28 March 2021, activists protested outside the Fidesz headquarters in Budapest - VI, demanding the prolongation of the eviction moratorium during the coronavirus pandemic.\n",
            "On 25 June 2020, Fidesz and KDNP local councillors and supporters protested in Kapisztran ter of Budapest I against the district mayor's plan to install food pavilions in Szentharomsag ter.\n",
            "On 29 May 2020, a protest was held by Fidesz and KDNP local councillors in Budapest I against the construction of fast food kiosks near the Matyas cathedral.\n",
            "On 1 March 2020, several Fidesz and IG members protested outside the Democratic Coalition (DC) congress in Budapest XII Kongresszusi Kozpont, trying to disrupt the DC meeting.\n",
            "On 30 January 2020, thousands of people, including one Fidesz MP and other Fidesz members, one KDNP MP, government members, Betyarsereg members, and journalists, protested outside the Erzsebetvaros district council in Budapest VII, condemning the district mayor's statements on the 'white, Christian, heterosexual men'. The police had to intervene in a solitary incident where a protester hit a journalist and an operator.\n"
          ]
        }
      ],
      "source": [
        "for index, row in df.iterrows():\n",
        "    if \"fidesz\" in row[\"notes\"].lower():\n",
        "        print(row[\"notes\"])"
      ]
    },
    {
      "cell_type": "code",
      "execution_count": 6,
      "metadata": {},
      "outputs": [
        {
          "name": "stdout",
          "output_type": "stream",
          "text": [
            "On 23 May 2025, in the afternoon, at the call of Green West-Flanders (Groen West-Vlaanderen) and Green Diksmuide (Groen Diksmuide), several activists, including a Green MP, gathered outside the company TWZ in Diksmuide (Vlaanderen), to protest a provincial permit allowing the discharge of PFAS-contaminated water, denouncing it as dangerous for human health.\n",
            "NoN\n"
          ]
        }
      ],
      "source": [
        "# print first note\n",
        "print(df.iloc[0]['notes'])\n",
        "# first class\n",
        "print(df.iloc[0]['class'])"
      ]
    },
    {
      "cell_type": "code",
      "execution_count": 7,
      "metadata": {
        "id": "68xW1PQveMeo"
      },
      "outputs": [],
      "source": [
        "def classify(df, classes_dic):\n",
        "  for index, row in df.iterrows():\n",
        "    if row[\"class\"] == \"NoN\":\n",
        "      for class_name, words in classes_dic.items():\n",
        "        for word in words:\n",
        "          if word in row[\"notes\"].lower():\n",
        "            df.at[index, \"class\"] = class_name\n",
        "            break\n",
        "classify(df, Classes_dic)"
      ]
    },
    {
      "cell_type": "code",
      "execution_count": 8,
      "metadata": {},
      "outputs": [
        {
          "name": "stdout",
          "output_type": "stream",
          "text": [
            "class\n",
            "NoN                          72116\n",
            "labor rights                 29841\n",
            "education                    22958\n",
            "culture                       7818\n",
            "environment                   6881\n",
            "palestine-israel conflict     6147\n",
            "ukraine-russia war            5690\n",
            "infrastructure                5427\n",
            "climate                       4699\n",
            "health care                   4007\n",
            "women rights                  3408\n",
            "farmers                       3266\n",
            "anti right wing               2466\n",
            "democracy                     2350\n",
            "unjust law enforcement        2235\n",
            "animal welfare                1353\n",
            "public services               1070\n",
            "discrimination                1004\n",
            "eviction                       832\n",
            "immigration                    688\n",
            "tourism                        444\n",
            "social welfare                 331\n",
            "political rights               321\n",
            "political criticism            120\n",
            "anti crime                     117\n",
            "skip                            91\n",
            "local policy                    35\n",
            "housing                         33\n",
            "cyprus conflict                 31\n",
            "sudan conflict                  26\n",
            "youth violence                   8\n",
            "economic justice                 8\n",
            "military                         2\n",
            "Name: count, dtype: int64\n"
          ]
        }
      ],
      "source": [
        "print(df[\"class\"].value_counts())"
      ]
    },
    {
      "cell_type": "code",
      "execution_count": 9,
      "metadata": {},
      "outputs": [
        {
          "name": "stdout",
          "output_type": "stream",
          "text": [
            "On 19 May 2025, in the evening, five unknown individuals physically attacked a 24-year-old man in Berlin - Mitte (Berlin) after asking about his religion, hitting him on the head multiple times upon replying that he was Christian.\n",
            "skip\n",
            "Riots\n"
          ]
        }
      ],
      "source": [
        "n=301\n",
        "print(df.iloc[n]['notes'])\n",
        "print(df.iloc[n]['class'])\n",
        "print(df.iloc[n]['event_type'])"
      ]
    },
    {
      "cell_type": "code",
      "execution_count": 10,
      "metadata": {
        "id": "v0ucpjEjZ6d6"
      },
      "outputs": [
        {
          "data": {
            "text/plain": [
              "274"
            ]
          },
          "execution_count": 10,
          "metadata": {},
          "output_type": "execute_result"
        }
      ],
      "source": [
        "def getNonClassIndex(df):\n",
        "  for index, row in df.iterrows():\n",
        "    if row[\"class\"] == \"NoN\":\n",
        "      return index\n",
        "  return -1\n",
        "\n",
        "getNonClassIndex(df)"
      ]
    },
    {
      "cell_type": "code",
      "execution_count": 11,
      "metadata": {},
      "outputs": [
        {
          "name": "stdout",
          "output_type": "stream",
          "text": [
            "On 20 May 2025, several hundred people protested in Pecs against the Fidesz leadership and Viktor Orban. The protest was organised by local civil society organizations, including Pecs Pride, the Foundation for the Power of Humanity, the Apollo Cinema, and community food networks.\n"
          ]
        }
      ],
      "source": [
        "while True:\n",
        "    index = getNonClassIndex(df)\n",
        "    if index == -1:\n",
        "        break\n",
        "    else:\n",
        "        print(df.iloc[index]['notes'])\n",
        "        break"
      ]
    },
    {
      "cell_type": "code",
      "execution_count": null,
      "metadata": {},
      "outputs": [],
      "source": []
    },
    {
      "cell_type": "code",
      "execution_count": null,
      "metadata": {},
      "outputs": [],
      "source": []
    }
  ],
  "metadata": {
    "colab": {
      "provenance": []
    },
    "kernelspec": {
      "display_name": "base",
      "language": "python",
      "name": "python3"
    },
    "language_info": {
      "codemirror_mode": {
        "name": "ipython",
        "version": 3
      },
      "file_extension": ".py",
      "mimetype": "text/x-python",
      "name": "python",
      "nbconvert_exporter": "python",
      "pygments_lexer": "ipython3",
      "version": "3.12.2"
    }
  },
  "nbformat": 4,
  "nbformat_minor": 0
}
