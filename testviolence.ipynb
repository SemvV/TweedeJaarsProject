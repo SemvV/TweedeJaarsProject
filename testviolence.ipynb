{
  "cells": [
    {
      "cell_type": "code",
      "execution_count": 62,
      "metadata": {
        "colab": {
          "base_uri": "https://localhost:8080/"
        },
        "id": "Ea5WVY0CA2Vz",
        "outputId": "8e45fbfc-a9f4-4b28-b44f-dc4d592d1af5"
      },
      "outputs": [],
      "source": [
        "import pandas as pd"
      ]
    },
    {
      "cell_type": "code",
      "execution_count": 63,
      "metadata": {
        "id": "LF3A846SBDWg"
      },
      "outputs": [
        {
          "name": "stdout",
          "output_type": "stream",
          "text": [
            "['Protests' 'Riots']\n",
            "['Peaceful protest' 'Protest with intervention' 'Violent demonstration'\n",
            " 'Excessive force against protesters']\n",
            "['Demonstrations' 'Political violence; Demonstrations']\n"
          ]
        }
      ],
      "source": [
        "df = pd.read_csv('../data/filtered_events_country_code.csv')\n",
        "print(df['event_type'].unique())\n",
        "print(df['sub_event_type'].unique())\n",
        "print(df['disorder_type'].unique())"
      ]
    },
    {
      "cell_type": "code",
      "execution_count": 64,
      "metadata": {},
      "outputs": [],
      "source": [
        "df[\"violent\"] = \"NoN\"\n",
        "df.head()\n",
        "df.to_csv('../data/violent_bool.csv', index=False)"
      ]
    },
    {
      "cell_type": "code",
      "execution_count": 65,
      "metadata": {},
      "outputs": [
        {
          "name": "stdout",
          "output_type": "stream",
          "text": [
            "violent\n",
            "0    178686\n",
            "1      4394\n",
            "Name: count, dtype: int64\n"
          ]
        }
      ],
      "source": [
        "for index, row in df.iterrows():\n",
        "    if row[\"sub_event_type\"] == \"Peaceful protest\" or row[\"sub_event_type\"] == \"Protest with intervention\":\n",
        "        df.at[index, \"violent\"] = 0\n",
        "    elif row[\"sub_event_type\"] == \"Violent demonstration\" or row[\"sub_event_type\"] == \"Excessive force against protesters\":\n",
        "        df.at[index, \"violent\"] = 1\n",
        "df.to_csv('../data/violent_bool.csv', index=False)\n",
        "print(df['violent'].value_counts())"
      ]
    },
    {
      "cell_type": "code",
      "execution_count": 66,
      "metadata": {},
      "outputs": [],
      "source": [
        "df['country_code'] = df['event_id_cnty'].astype(str).str[:3]\n",
        "country_code_counts = df['country_code'].value_counts()\n",
        "\n",
        "violent_counts = df[df['violent'] == 1]['country_code'].value_counts()\n",
        "non_violent_counts = df[df['violent'] == 0]['country_code'].value_counts()\n",
        "total_counts = df['country_code'].value_counts()\n",
        "\n",
        "country_counts = pd.DataFrame({\n",
        "    'violent': violent_counts,\n",
        "    'non_violent': non_violent_counts,\n",
        "    'total': total_counts\n",
        "}).fillna(0)\n",
        "country_counts['violent_percentage'] = (country_counts['violent'] / (country_counts['violent'] + country_counts['non_violent'])) * 100\n",
        "country_counts.to_csv('../data/violent_per_country.csv')"
      ]
    },
    {
      "cell_type": "code",
      "execution_count": 67,
      "metadata": {},
      "outputs": [
        {
          "name": "stdout",
          "output_type": "stream",
          "text": [
            "              violent  non_violent  total  violent_percentage\n",
            "country_code                                                 \n",
            "GRC             588.0         4082   4670           12.591006\n",
            "ALB             135.0         1116   1251           10.791367\n",
            "FRA            1432.0        37342  38774            3.693196\n",
            "NLD             142.0         4238   4380            3.242009\n",
            "CHE              29.0         1012   1041            2.785783\n",
            "CYP              48.0         1736   1784            2.690583\n",
            "DEU             578.0        23214  23792            2.429388\n",
            "AUT              49.0         1984   2033            2.410231\n",
            "GBR             178.0         8032   8210            2.168088\n",
            "ESP             400.0        20364  20764            1.926411\n",
            "MDA              29.0         1676   1705            1.700880\n",
            "ITA             430.0        25006  25436            1.690517\n",
            "LUX               3.0          191    194            1.546392\n",
            "BEL              61.0         4002   4063            1.501354\n",
            "BIH              15.0         1109   1124            1.334520\n",
            "SVN               7.0          565    572            1.223776\n",
            "MLT               4.0          351    355            1.126761\n",
            "ROU              29.0         2839   2868            1.011158\n",
            "MNE              14.0         1416   1430            0.979021\n",
            "SRB              46.0         4688   4734            0.971694\n",
            "BGR              41.0         4207   4248            0.965160\n",
            "MKD              12.0         1245   1257            0.954654\n",
            "IRL              15.0         1637   1652            0.907990\n",
            "HRV               9.0         1177   1186            0.758853\n",
            "CZE              10.0         1311   1321            0.757002\n",
            "LVA               2.0          269    271            0.738007\n",
            "SVK               6.0          862    868            0.691244\n",
            "LTU               3.0          472    475            0.631579\n",
            "DNK              17.0         2772   2789            0.609537\n",
            "FIN               7.0         1605   1612            0.434243\n",
            "SWE              25.0         6646   6671            0.374756\n",
            "NOR               6.0         2083   2089            0.287219\n",
            "POL              21.0         7552   7573            0.277301\n",
            "EST               1.0          386    387            0.258398\n",
            "HUN               2.0         1164   1166            0.171527\n",
            "ISL               0.0          241    241            0.000000\n",
            "SMR               0.0           30     30            0.000000\n",
            "MCO               0.0           18     18            0.000000\n",
            "LIE               0.0           13     13            0.000000\n",
            "AND               0.0           26     26            0.000000\n",
            "VAT               0.0            7      7            0.000000\n"
          ]
        }
      ],
      "source": [
        "print(country_counts.sort_values(by='violent_percentage', ascending=False))\n"
      ]
    },
    {
      "cell_type": "code",
      "execution_count": 68,
      "metadata": {},
      "outputs": [
        {
          "name": "stdout",
          "output_type": "stream",
          "text": [
            "                               violent  non_violent  total  violent_percentage\n",
            "assoc_actor_1                                                                 \n",
            "1 of 5 Million                     1.0        678.0    679            0.147275\n",
            "100% Animalisti                    1.0         41.0     42            2.380952\n",
            "1030/0 Collective                  0.0          1.0      1            0.000000\n",
            "18 April Committee                 0.0          7.0      7            0.000000\n",
            "269 LA: 269 Animal Liberation      0.0          3.0      3            0.000000\n",
            "...                                ...          ...    ...                 ...\n",
            "Zero Waste Europe                  0.0          5.0      5            0.000000\n",
            "ZeroCovid                          0.0         10.0     10            0.000000\n",
            "Zimbabwean Group                   0.0          1.0      1            0.000000\n",
            "Zouaves Paris                      0.0          1.0      1            0.000000\n",
            "sp.a: Flemish Socialist Party      0.0          5.0      5            0.000000\n",
            "\n",
            "[2439 rows x 4 columns]\n"
          ]
        }
      ],
      "source": [
        "df = df.dropna(subset=['assoc_actor_1'])\n",
        "df['assoc_actor_1'] = df['assoc_actor_1'].str.split(';')\n",
        "df = df.explode('assoc_actor_1')\n",
        "df['assoc_actor_1'] = df['assoc_actor_1'].str.replace(r'\\(.*?\\)', '', regex=True).str.strip()\n",
        "\n",
        "violent_actor_counts = df[df['violent'] == 1]['assoc_actor_1'].value_counts()\n",
        "non_violent_actor_counts = df[df['violent'] == 0]['assoc_actor_1'].value_counts()\n",
        "total_actor_counts = df['assoc_actor_1'].value_counts()\n",
        "\n",
        "actor_counts = pd.DataFrame({\n",
        "    'violent': violent_actor_counts,\n",
        "    'non_violent': non_violent_actor_counts,\n",
        "    'total': total_actor_counts\n",
        "}).fillna(0)\n",
        "\n",
        "actor_counts['violent_percentage'] = (actor_counts['violent'] / (actor_counts['violent'] + actor_counts['non_violent'])) * 100\n",
        "actor_counts.to_csv('../data/violent_per_actor.csv')\n",
        "print(actor_counts)"
      ]
    },
    {
      "cell_type": "code",
      "execution_count": 69,
      "metadata": {},
      "outputs": [
        {
          "name": "stdout",
          "output_type": "stream",
          "text": [
            "                                  violent  non_violent  total  \\\n",
            "assoc_actor_1                                                   \n",
            "BNP: British National Party           2.0          0.0      2   \n",
            "Vigilante Group                       2.0          0.0      2   \n",
            "SLD: Democratic Left Alliance         1.0          0.0      1   \n",
            "Revolutionary Struggle                1.0          0.0      1   \n",
            "Will                                  1.0          0.0      1   \n",
            "...                                   ...          ...    ...   \n",
            "Government of the People APS          0.0          3.0      3   \n",
            "Government of the Czech Republic      0.0         42.0     42   \n",
            "Government of Ukraine                 0.0         65.0     65   \n",
            "Government of Turkey                  0.0          1.0      1   \n",
            "sp.a: Flemish Socialist Party         0.0          5.0      5   \n",
            "\n",
            "                                  violent_percentage  \n",
            "assoc_actor_1                                         \n",
            "BNP: British National Party                    100.0  \n",
            "Vigilante Group                                100.0  \n",
            "SLD: Democratic Left Alliance                  100.0  \n",
            "Revolutionary Struggle                         100.0  \n",
            "Will                                           100.0  \n",
            "...                                              ...  \n",
            "Government of the People APS                     0.0  \n",
            "Government of the Czech Republic                 0.0  \n",
            "Government of Ukraine                            0.0  \n",
            "Government of Turkey                             0.0  \n",
            "sp.a: Flemish Socialist Party                    0.0  \n",
            "\n",
            "[2439 rows x 4 columns]\n"
          ]
        }
      ],
      "source": [
        "print(actor_counts.sort_values(by='violent_percentage', ascending=False))"
      ]
    },
    {
      "cell_type": "code",
      "execution_count": 70,
      "metadata": {},
      "outputs": [
        {
          "name": "stdout",
          "output_type": "stream",
          "text": [
            "0.002258463566184467\n"
          ]
        }
      ],
      "source": [
        "# klopt nog niet denk ik\n",
        "def probability(country, actor):\n",
        "    p_country = country_counts['total'].get(country) / country_counts['total'].sum()\n",
        "    p_actor = actor_counts['total'].get(actor) / actor_counts['total'].sum()\n",
        "    p_violent = country_counts['violent'].get(country) / country_counts['total'].get(country)\n",
        "    p_country_given_actor = actor_counts['violent'].get(actor) / actor_counts['violent'].sum()\n",
        "    p_actor_given_country = actor_counts['violent'].get(actor) / actor_counts['total'].get(actor)\n",
        "    likelihood = p_country_given_actor * p_actor_given_country\n",
        "    prior = p_violent\n",
        "    marginal = p_country * p_actor\n",
        "    return (likelihood * prior) / marginal\n",
        "\n",
        "print(probability('NLD', 'XR: Extinction Rebellion'))\n"
      ]
    },
    {
      "cell_type": "code",
      "execution_count": 72,
      "metadata": {},
      "outputs": [
        {
          "name": "stdout",
          "output_type": "stream",
          "text": [
            "1.8993293700523293\n"
          ]
        }
      ],
      "source": [
        "# what is the violent percentage of XR: Extinction Rebellion?\n",
        "XR = actor_counts.loc['XR: Extinction Rebellion', 'violent_percentage']\n",
        "NLD = country_counts.loc['NLD', 'violent_percentage']\n",
        "print(XR * NLD)"
      ]
    },
    {
      "cell_type": "code",
      "execution_count": null,
      "metadata": {},
      "outputs": [],
      "source": []
    }
  ],
  "metadata": {
    "colab": {
      "provenance": []
    },
    "kernelspec": {
      "display_name": "base",
      "language": "python",
      "name": "python3"
    },
    "language_info": {
      "codemirror_mode": {
        "name": "ipython",
        "version": 3
      },
      "file_extension": ".py",
      "mimetype": "text/x-python",
      "name": "python",
      "nbconvert_exporter": "python",
      "pygments_lexer": "ipython3",
      "version": "3.12.2"
    }
  },
  "nbformat": 4,
  "nbformat_minor": 0
}
