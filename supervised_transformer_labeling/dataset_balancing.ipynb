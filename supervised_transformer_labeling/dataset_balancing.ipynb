{
 "cells": [
  {
   "cell_type": "code",
   "execution_count": null,
   "id": "1eb34bde",
   "metadata": {},
   "outputs": [],
   "source": [
    "import pandas as pd\n",
    "dataset = pd.read_csv('../data/filtered_events_class.csv')\n",
    "dataset = dataset[['class', 'clean_notes']]\n",
    "dataset = dataset[dataset['class'] != 'NoN']"
   ]
  },
  {
   "cell_type": "code",
   "execution_count": 37,
   "id": "c1bc4866",
   "metadata": {},
   "outputs": [
    {
     "data": {
      "text/plain": [
       "class\n",
       "labor rights                 29841\n",
       "education                    22662\n",
       "culture                       7754\n",
       "environment                   6881\n",
       "palestine-israel conflict     6147\n",
       "ukraine-russia war            5585\n",
       "infrastructure                5427\n",
       "climate                       4699\n",
       "health care                   4007\n",
       "political                     3952\n",
       "women rights                  3408\n",
       "farmers                       3266\n",
       "unjust law enforcement        2217\n",
       "democracy                     1924\n",
       "animal welfare                1353\n",
       "public services               1067\n",
       "discrimination                 962\n",
       "eviction                       828\n",
       "immigration                    603\n",
       "tourism                        444\n",
       "social welfare                 330\n",
       "anti crime                     116\n",
       "skip                            91\n",
       "local policy                    35\n",
       "housing                         33\n",
       "cyprus conflict                 31\n",
       "sudan conflict                  26\n",
       "youth violence                   8\n",
       "economic justice                 8\n",
       "military                         2\n",
       "Name: count, dtype: int64"
      ]
     },
     "execution_count": 37,
     "metadata": {},
     "output_type": "execute_result"
    }
   ],
   "source": [
    "dataset[\"class\"].value_counts()"
   ]
  },
  {
   "cell_type": "code",
   "execution_count": 38,
   "id": "1fba7ffd",
   "metadata": {},
   "outputs": [
    {
     "data": {
      "text/html": [
       "        <script type=\"text/javascript\">\n",
       "        window.PlotlyConfig = {MathJaxConfig: 'local'};\n",
       "        if (window.MathJax && window.MathJax.Hub && window.MathJax.Hub.Config) {window.MathJax.Hub.Config({SVG: {font: \"STIX-Web\"}});}\n",
       "        </script>\n",
       "        <script type=\"module\">import \"https://cdn.plot.ly/plotly-3.0.1.min\"</script>\n",
       "        "
      ]
     },
     "metadata": {},
     "output_type": "display_data"
    },
    {
     "data": {
      "application/vnd.plotly.v1+json": {
       "config": {
        "linkText": "Export to plot.ly",
        "plotlyServerURL": "https://plot.ly",
        "showLink": false
       },
       "data": [
        {
         "hovertemplate": "Category:'%{x}' Counted: %{y}",
         "legendgroup": "labor rights",
         "marker": {
          "color": "#636efa",
          "pattern": {
           "shape": ""
          }
         },
         "name": "labor rights",
         "orientation": "v",
         "showlegend": true,
         "text": {
          "bdata": "AAAAAEAk3UA=",
          "dtype": "f8"
         },
         "textposition": "auto",
         "type": "bar",
         "x": [
          "labor rights"
         ],
         "xaxis": "x",
         "y": {
          "bdata": "kXQ=",
          "dtype": "i2"
         },
         "yaxis": "y"
        },
        {
         "hovertemplate": "Category:'%{x}' Counted: %{y}",
         "legendgroup": "education",
         "marker": {
          "color": "#EF553B",
          "pattern": {
           "shape": ""
          }
         },
         "name": "education",
         "orientation": "v",
         "showlegend": true,
         "text": {
          "bdata": "AAAAAIAh1kA=",
          "dtype": "f8"
         },
         "textposition": "auto",
         "type": "bar",
         "x": [
          "education"
         ],
         "xaxis": "x",
         "y": {
          "bdata": "hlg=",
          "dtype": "i2"
         },
         "yaxis": "y"
        },
        {
         "hovertemplate": "Category:'%{x}' Counted: %{y}",
         "legendgroup": "culture",
         "marker": {
          "color": "#00cc96",
          "pattern": {
           "shape": ""
          }
         },
         "name": "culture",
         "orientation": "v",
         "showlegend": true,
         "text": {
          "bdata": "AAAAAABKvkA=",
          "dtype": "f8"
         },
         "textposition": "auto",
         "type": "bar",
         "x": [
          "culture"
         ],
         "xaxis": "x",
         "y": {
          "bdata": "Sh4=",
          "dtype": "i2"
         },
         "yaxis": "y"
        },
        {
         "hovertemplate": "Category:'%{x}' Counted: %{y}",
         "legendgroup": "environment",
         "marker": {
          "color": "#ab63fa",
          "pattern": {
           "shape": ""
          }
         },
         "name": "environment",
         "orientation": "v",
         "showlegend": true,
         "text": {
          "bdata": "AAAAAADhukA=",
          "dtype": "f8"
         },
         "textposition": "auto",
         "type": "bar",
         "x": [
          "environment"
         ],
         "xaxis": "x",
         "y": {
          "bdata": "4Ro=",
          "dtype": "i2"
         },
         "yaxis": "y"
        },
        {
         "hovertemplate": "Category:'%{x}' Counted: %{y}",
         "legendgroup": "palestine-israel conflict",
         "marker": {
          "color": "#FFA15A",
          "pattern": {
           "shape": ""
          }
         },
         "name": "palestine-israel conflict",
         "orientation": "v",
         "showlegend": true,
         "text": {
          "bdata": "AAAAAAADuEA=",
          "dtype": "f8"
         },
         "textposition": "auto",
         "type": "bar",
         "x": [
          "palestine-israel conflict"
         ],
         "xaxis": "x",
         "y": {
          "bdata": "Axg=",
          "dtype": "i2"
         },
         "yaxis": "y"
        },
        {
         "hovertemplate": "Category:'%{x}' Counted: %{y}",
         "legendgroup": "ukraine-russia war",
         "marker": {
          "color": "#19d3f3",
          "pattern": {
           "shape": ""
          }
         },
         "name": "ukraine-russia war",
         "orientation": "v",
         "showlegend": true,
         "text": {
          "bdata": "AAAAAADRtUA=",
          "dtype": "f8"
         },
         "textposition": "auto",
         "type": "bar",
         "x": [
          "ukraine-russia war"
         ],
         "xaxis": "x",
         "y": {
          "bdata": "0RU=",
          "dtype": "i2"
         },
         "yaxis": "y"
        },
        {
         "hovertemplate": "Category:'%{x}' Counted: %{y}",
         "legendgroup": "infrastructure",
         "marker": {
          "color": "#FF6692",
          "pattern": {
           "shape": ""
          }
         },
         "name": "infrastructure",
         "orientation": "v",
         "showlegend": true,
         "text": {
          "bdata": "AAAAAAAztUA=",
          "dtype": "f8"
         },
         "textposition": "auto",
         "type": "bar",
         "x": [
          "infrastructure"
         ],
         "xaxis": "x",
         "y": {
          "bdata": "MxU=",
          "dtype": "i2"
         },
         "yaxis": "y"
        },
        {
         "hovertemplate": "Category:'%{x}' Counted: %{y}",
         "legendgroup": "climate",
         "marker": {
          "color": "#B6E880",
          "pattern": {
           "shape": ""
          }
         },
         "name": "climate",
         "orientation": "v",
         "showlegend": true,
         "text": {
          "bdata": "AAAAAABbskA=",
          "dtype": "f8"
         },
         "textposition": "auto",
         "type": "bar",
         "x": [
          "climate"
         ],
         "xaxis": "x",
         "y": {
          "bdata": "WxI=",
          "dtype": "i2"
         },
         "yaxis": "y"
        },
        {
         "hovertemplate": "Category:'%{x}' Counted: %{y}",
         "legendgroup": "health care",
         "marker": {
          "color": "#FF97FF",
          "pattern": {
           "shape": ""
          }
         },
         "name": "health care",
         "orientation": "v",
         "showlegend": true,
         "text": {
          "bdata": "AAAAAABOr0A=",
          "dtype": "f8"
         },
         "textposition": "auto",
         "type": "bar",
         "x": [
          "health care"
         ],
         "xaxis": "x",
         "y": {
          "bdata": "pw8=",
          "dtype": "i2"
         },
         "yaxis": "y"
        },
        {
         "hovertemplate": "Category:'%{x}' Counted: %{y}",
         "legendgroup": "political",
         "marker": {
          "color": "#FECB52",
          "pattern": {
           "shape": ""
          }
         },
         "name": "political",
         "orientation": "v",
         "showlegend": true,
         "text": {
          "bdata": "AAAAAADgrkA=",
          "dtype": "f8"
         },
         "textposition": "auto",
         "type": "bar",
         "x": [
          "political"
         ],
         "xaxis": "x",
         "y": {
          "bdata": "cA8=",
          "dtype": "i2"
         },
         "yaxis": "y"
        },
        {
         "hovertemplate": "Category:'%{x}' Counted: %{y}",
         "legendgroup": "women rights",
         "marker": {
          "color": "#636efa",
          "pattern": {
           "shape": ""
          }
         },
         "name": "women rights",
         "orientation": "v",
         "showlegend": true,
         "text": {
          "bdata": "AAAAAACgqkA=",
          "dtype": "f8"
         },
         "textposition": "auto",
         "type": "bar",
         "x": [
          "women rights"
         ],
         "xaxis": "x",
         "y": {
          "bdata": "UA0=",
          "dtype": "i2"
         },
         "yaxis": "y"
        },
        {
         "hovertemplate": "Category:'%{x}' Counted: %{y}",
         "legendgroup": "farmers",
         "marker": {
          "color": "#EF553B",
          "pattern": {
           "shape": ""
          }
         },
         "name": "farmers",
         "orientation": "v",
         "showlegend": true,
         "text": {
          "bdata": "AAAAAACEqUA=",
          "dtype": "f8"
         },
         "textposition": "auto",
         "type": "bar",
         "x": [
          "farmers"
         ],
         "xaxis": "x",
         "y": {
          "bdata": "wgw=",
          "dtype": "i2"
         },
         "yaxis": "y"
        },
        {
         "hovertemplate": "Category:'%{x}' Counted: %{y}",
         "legendgroup": "unjust law enforcement",
         "marker": {
          "color": "#00cc96",
          "pattern": {
           "shape": ""
          }
         },
         "name": "unjust law enforcement",
         "orientation": "v",
         "showlegend": true,
         "text": {
          "bdata": "AAAAAABSoUA=",
          "dtype": "f8"
         },
         "textposition": "auto",
         "type": "bar",
         "x": [
          "unjust law enforcement"
         ],
         "xaxis": "x",
         "y": {
          "bdata": "qQg=",
          "dtype": "i2"
         },
         "yaxis": "y"
        },
        {
         "hovertemplate": "Category:'%{x}' Counted: %{y}",
         "legendgroup": "democracy",
         "marker": {
          "color": "#ab63fa",
          "pattern": {
           "shape": ""
          }
         },
         "name": "democracy",
         "orientation": "v",
         "showlegend": true,
         "text": {
          "bdata": "AAAAAAAQnkA=",
          "dtype": "f8"
         },
         "textposition": "auto",
         "type": "bar",
         "x": [
          "democracy"
         ],
         "xaxis": "x",
         "y": {
          "bdata": "hAc=",
          "dtype": "i2"
         },
         "yaxis": "y"
        },
        {
         "hovertemplate": "Category:'%{x}' Counted: %{y}",
         "legendgroup": "animal welfare",
         "marker": {
          "color": "#FFA15A",
          "pattern": {
           "shape": ""
          }
         },
         "name": "animal welfare",
         "orientation": "v",
         "showlegend": true,
         "text": {
          "bdata": "AAAAAAAklUA=",
          "dtype": "f8"
         },
         "textposition": "auto",
         "type": "bar",
         "x": [
          "animal welfare"
         ],
         "xaxis": "x",
         "y": {
          "bdata": "SQU=",
          "dtype": "i2"
         },
         "yaxis": "y"
        },
        {
         "hovertemplate": "Category:'%{x}' Counted: %{y}",
         "legendgroup": "public services",
         "marker": {
          "color": "#19d3f3",
          "pattern": {
           "shape": ""
          }
         },
         "name": "public services",
         "orientation": "v",
         "showlegend": true,
         "text": {
          "bdata": "AAAAAACskEA=",
          "dtype": "f8"
         },
         "textposition": "auto",
         "type": "bar",
         "x": [
          "public services"
         ],
         "xaxis": "x",
         "y": {
          "bdata": "KwQ=",
          "dtype": "i2"
         },
         "yaxis": "y"
        },
        {
         "hovertemplate": "Category:'%{x}' Counted: %{y}",
         "legendgroup": "discrimination",
         "marker": {
          "color": "#FF6692",
          "pattern": {
           "shape": ""
          }
         },
         "name": "discrimination",
         "orientation": "v",
         "showlegend": true,
         "text": {
          "bdata": "AAAAAAAQjkA=",
          "dtype": "f8"
         },
         "textposition": "auto",
         "type": "bar",
         "x": [
          "discrimination"
         ],
         "xaxis": "x",
         "y": {
          "bdata": "wgM=",
          "dtype": "i2"
         },
         "yaxis": "y"
        },
        {
         "hovertemplate": "Category:'%{x}' Counted: %{y}",
         "legendgroup": "eviction",
         "marker": {
          "color": "#B6E880",
          "pattern": {
           "shape": ""
          }
         },
         "name": "eviction",
         "orientation": "v",
         "showlegend": true,
         "text": {
          "bdata": "AAAAAADgiUA=",
          "dtype": "f8"
         },
         "textposition": "auto",
         "type": "bar",
         "x": [
          "eviction"
         ],
         "xaxis": "x",
         "y": {
          "bdata": "PAM=",
          "dtype": "i2"
         },
         "yaxis": "y"
        },
        {
         "hovertemplate": "Category:'%{x}' Counted: %{y}",
         "legendgroup": "immigration",
         "marker": {
          "color": "#FF97FF",
          "pattern": {
           "shape": ""
          }
         },
         "name": "immigration",
         "orientation": "v",
         "showlegend": true,
         "text": {
          "bdata": "AAAAAADYgkA=",
          "dtype": "f8"
         },
         "textposition": "auto",
         "type": "bar",
         "x": [
          "immigration"
         ],
         "xaxis": "x",
         "y": {
          "bdata": "WwI=",
          "dtype": "i2"
         },
         "yaxis": "y"
        },
        {
         "hovertemplate": "Category:'%{x}' Counted: %{y}",
         "legendgroup": "tourism",
         "marker": {
          "color": "#FECB52",
          "pattern": {
           "shape": ""
          }
         },
         "name": "tourism",
         "orientation": "v",
         "showlegend": true,
         "text": {
          "bdata": "AAAAAADAe0A=",
          "dtype": "f8"
         },
         "textposition": "auto",
         "type": "bar",
         "x": [
          "tourism"
         ],
         "xaxis": "x",
         "y": {
          "bdata": "vAE=",
          "dtype": "i2"
         },
         "yaxis": "y"
        },
        {
         "hovertemplate": "Category:'%{x}' Counted: %{y}",
         "legendgroup": "social welfare",
         "marker": {
          "color": "#636efa",
          "pattern": {
           "shape": ""
          }
         },
         "name": "social welfare",
         "orientation": "v",
         "showlegend": true,
         "text": {
          "bdata": "AAAAAACgdEA=",
          "dtype": "f8"
         },
         "textposition": "auto",
         "type": "bar",
         "x": [
          "social welfare"
         ],
         "xaxis": "x",
         "y": {
          "bdata": "SgE=",
          "dtype": "i2"
         },
         "yaxis": "y"
        },
        {
         "hovertemplate": "Category:'%{x}' Counted: %{y}",
         "legendgroup": "anti crime",
         "marker": {
          "color": "#EF553B",
          "pattern": {
           "shape": ""
          }
         },
         "name": "anti crime",
         "orientation": "v",
         "showlegend": true,
         "text": {
          "bdata": "AAAAAAAAXUA=",
          "dtype": "f8"
         },
         "textposition": "auto",
         "type": "bar",
         "x": [
          "anti crime"
         ],
         "xaxis": "x",
         "y": {
          "bdata": "dA==",
          "dtype": "i1"
         },
         "yaxis": "y"
        },
        {
         "hovertemplate": "Category:'%{x}' Counted: %{y}",
         "legendgroup": "skip",
         "marker": {
          "color": "#00cc96",
          "pattern": {
           "shape": ""
          }
         },
         "name": "skip",
         "orientation": "v",
         "showlegend": true,
         "text": {
          "bdata": "AAAAAADAVkA=",
          "dtype": "f8"
         },
         "textposition": "auto",
         "type": "bar",
         "x": [
          "skip"
         ],
         "xaxis": "x",
         "y": {
          "bdata": "Ww==",
          "dtype": "i1"
         },
         "yaxis": "y"
        },
        {
         "hovertemplate": "Category:'%{x}' Counted: %{y}",
         "legendgroup": "local policy",
         "marker": {
          "color": "#ab63fa",
          "pattern": {
           "shape": ""
          }
         },
         "name": "local policy",
         "orientation": "v",
         "showlegend": true,
         "text": {
          "bdata": "AAAAAACAQUA=",
          "dtype": "f8"
         },
         "textposition": "auto",
         "type": "bar",
         "x": [
          "local policy"
         ],
         "xaxis": "x",
         "y": {
          "bdata": "Iw==",
          "dtype": "i1"
         },
         "yaxis": "y"
        },
        {
         "hovertemplate": "Category:'%{x}' Counted: %{y}",
         "legendgroup": "housing",
         "marker": {
          "color": "#FFA15A",
          "pattern": {
           "shape": ""
          }
         },
         "name": "housing",
         "orientation": "v",
         "showlegend": true,
         "text": {
          "bdata": "AAAAAACAQEA=",
          "dtype": "f8"
         },
         "textposition": "auto",
         "type": "bar",
         "x": [
          "housing"
         ],
         "xaxis": "x",
         "y": {
          "bdata": "IQ==",
          "dtype": "i1"
         },
         "yaxis": "y"
        },
        {
         "hovertemplate": "Category:'%{x}' Counted: %{y}",
         "legendgroup": "cyprus conflict",
         "marker": {
          "color": "#19d3f3",
          "pattern": {
           "shape": ""
          }
         },
         "name": "cyprus conflict",
         "orientation": "v",
         "showlegend": true,
         "text": {
          "bdata": "AAAAAAAAP0A=",
          "dtype": "f8"
         },
         "textposition": "auto",
         "type": "bar",
         "x": [
          "cyprus conflict"
         ],
         "xaxis": "x",
         "y": {
          "bdata": "Hw==",
          "dtype": "i1"
         },
         "yaxis": "y"
        },
        {
         "hovertemplate": "Category:'%{x}' Counted: %{y}",
         "legendgroup": "sudan conflict",
         "marker": {
          "color": "#FF6692",
          "pattern": {
           "shape": ""
          }
         },
         "name": "sudan conflict",
         "orientation": "v",
         "showlegend": true,
         "text": {
          "bdata": "AAAAAAAAOkA=",
          "dtype": "f8"
         },
         "textposition": "auto",
         "type": "bar",
         "x": [
          "sudan conflict"
         ],
         "xaxis": "x",
         "y": {
          "bdata": "Gg==",
          "dtype": "i1"
         },
         "yaxis": "y"
        },
        {
         "hovertemplate": "Category:'%{x}' Counted: %{y}",
         "legendgroup": "youth violence",
         "marker": {
          "color": "#B6E880",
          "pattern": {
           "shape": ""
          }
         },
         "name": "youth violence",
         "orientation": "v",
         "showlegend": true,
         "text": {
          "bdata": "AAAAAAAAIEA=",
          "dtype": "f8"
         },
         "textposition": "auto",
         "type": "bar",
         "x": [
          "youth violence"
         ],
         "xaxis": "x",
         "y": {
          "bdata": "CA==",
          "dtype": "i1"
         },
         "yaxis": "y"
        },
        {
         "hovertemplate": "Category:'%{x}' Counted: %{y}",
         "legendgroup": "economic justice",
         "marker": {
          "color": "#FF97FF",
          "pattern": {
           "shape": ""
          }
         },
         "name": "economic justice",
         "orientation": "v",
         "showlegend": true,
         "text": {
          "bdata": "AAAAAAAAIEA=",
          "dtype": "f8"
         },
         "textposition": "auto",
         "type": "bar",
         "x": [
          "economic justice"
         ],
         "xaxis": "x",
         "y": {
          "bdata": "CA==",
          "dtype": "i1"
         },
         "yaxis": "y"
        },
        {
         "hovertemplate": "Category:'%{x}' Counted: %{y}",
         "legendgroup": "military",
         "marker": {
          "color": "#FECB52",
          "pattern": {
           "shape": ""
          }
         },
         "name": "military",
         "orientation": "v",
         "showlegend": true,
         "text": {
          "bdata": "AAAAAAAAAEA=",
          "dtype": "f8"
         },
         "textposition": "auto",
         "type": "bar",
         "x": [
          "military"
         ],
         "xaxis": "x",
         "y": {
          "bdata": "Ag==",
          "dtype": "i1"
         },
         "yaxis": "y"
        }
       ],
       "layout": {
        "barmode": "relative",
        "height": 500,
        "legend": {
         "title": {
          "text": "color"
         },
         "tracegroupgap": 0
        },
        "margin": {
         "t": 60
        },
        "plot_bgcolor": "white",
        "showlegend": false,
        "template": {
         "data": {
          "bar": [
           {
            "error_x": {
             "color": "#2a3f5f"
            },
            "error_y": {
             "color": "#2a3f5f"
            },
            "marker": {
             "line": {
              "color": "#E5ECF6",
              "width": 0.5
             },
             "pattern": {
              "fillmode": "overlay",
              "size": 10,
              "solidity": 0.2
             }
            },
            "type": "bar"
           }
          ],
          "barpolar": [
           {
            "marker": {
             "line": {
              "color": "#E5ECF6",
              "width": 0.5
             },
             "pattern": {
              "fillmode": "overlay",
              "size": 10,
              "solidity": 0.2
             }
            },
            "type": "barpolar"
           }
          ],
          "carpet": [
           {
            "aaxis": {
             "endlinecolor": "#2a3f5f",
             "gridcolor": "white",
             "linecolor": "white",
             "minorgridcolor": "white",
             "startlinecolor": "#2a3f5f"
            },
            "baxis": {
             "endlinecolor": "#2a3f5f",
             "gridcolor": "white",
             "linecolor": "white",
             "minorgridcolor": "white",
             "startlinecolor": "#2a3f5f"
            },
            "type": "carpet"
           }
          ],
          "choropleth": [
           {
            "colorbar": {
             "outlinewidth": 0,
             "ticks": ""
            },
            "type": "choropleth"
           }
          ],
          "contour": [
           {
            "colorbar": {
             "outlinewidth": 0,
             "ticks": ""
            },
            "colorscale": [
             [
              0,
              "#0d0887"
             ],
             [
              0.1111111111111111,
              "#46039f"
             ],
             [
              0.2222222222222222,
              "#7201a8"
             ],
             [
              0.3333333333333333,
              "#9c179e"
             ],
             [
              0.4444444444444444,
              "#bd3786"
             ],
             [
              0.5555555555555556,
              "#d8576b"
             ],
             [
              0.6666666666666666,
              "#ed7953"
             ],
             [
              0.7777777777777778,
              "#fb9f3a"
             ],
             [
              0.8888888888888888,
              "#fdca26"
             ],
             [
              1,
              "#f0f921"
             ]
            ],
            "type": "contour"
           }
          ],
          "contourcarpet": [
           {
            "colorbar": {
             "outlinewidth": 0,
             "ticks": ""
            },
            "type": "contourcarpet"
           }
          ],
          "heatmap": [
           {
            "colorbar": {
             "outlinewidth": 0,
             "ticks": ""
            },
            "colorscale": [
             [
              0,
              "#0d0887"
             ],
             [
              0.1111111111111111,
              "#46039f"
             ],
             [
              0.2222222222222222,
              "#7201a8"
             ],
             [
              0.3333333333333333,
              "#9c179e"
             ],
             [
              0.4444444444444444,
              "#bd3786"
             ],
             [
              0.5555555555555556,
              "#d8576b"
             ],
             [
              0.6666666666666666,
              "#ed7953"
             ],
             [
              0.7777777777777778,
              "#fb9f3a"
             ],
             [
              0.8888888888888888,
              "#fdca26"
             ],
             [
              1,
              "#f0f921"
             ]
            ],
            "type": "heatmap"
           }
          ],
          "histogram": [
           {
            "marker": {
             "pattern": {
              "fillmode": "overlay",
              "size": 10,
              "solidity": 0.2
             }
            },
            "type": "histogram"
           }
          ],
          "histogram2d": [
           {
            "colorbar": {
             "outlinewidth": 0,
             "ticks": ""
            },
            "colorscale": [
             [
              0,
              "#0d0887"
             ],
             [
              0.1111111111111111,
              "#46039f"
             ],
             [
              0.2222222222222222,
              "#7201a8"
             ],
             [
              0.3333333333333333,
              "#9c179e"
             ],
             [
              0.4444444444444444,
              "#bd3786"
             ],
             [
              0.5555555555555556,
              "#d8576b"
             ],
             [
              0.6666666666666666,
              "#ed7953"
             ],
             [
              0.7777777777777778,
              "#fb9f3a"
             ],
             [
              0.8888888888888888,
              "#fdca26"
             ],
             [
              1,
              "#f0f921"
             ]
            ],
            "type": "histogram2d"
           }
          ],
          "histogram2dcontour": [
           {
            "colorbar": {
             "outlinewidth": 0,
             "ticks": ""
            },
            "colorscale": [
             [
              0,
              "#0d0887"
             ],
             [
              0.1111111111111111,
              "#46039f"
             ],
             [
              0.2222222222222222,
              "#7201a8"
             ],
             [
              0.3333333333333333,
              "#9c179e"
             ],
             [
              0.4444444444444444,
              "#bd3786"
             ],
             [
              0.5555555555555556,
              "#d8576b"
             ],
             [
              0.6666666666666666,
              "#ed7953"
             ],
             [
              0.7777777777777778,
              "#fb9f3a"
             ],
             [
              0.8888888888888888,
              "#fdca26"
             ],
             [
              1,
              "#f0f921"
             ]
            ],
            "type": "histogram2dcontour"
           }
          ],
          "mesh3d": [
           {
            "colorbar": {
             "outlinewidth": 0,
             "ticks": ""
            },
            "type": "mesh3d"
           }
          ],
          "parcoords": [
           {
            "line": {
             "colorbar": {
              "outlinewidth": 0,
              "ticks": ""
             }
            },
            "type": "parcoords"
           }
          ],
          "pie": [
           {
            "automargin": true,
            "type": "pie"
           }
          ],
          "scatter": [
           {
            "fillpattern": {
             "fillmode": "overlay",
             "size": 10,
             "solidity": 0.2
            },
            "type": "scatter"
           }
          ],
          "scatter3d": [
           {
            "line": {
             "colorbar": {
              "outlinewidth": 0,
              "ticks": ""
             }
            },
            "marker": {
             "colorbar": {
              "outlinewidth": 0,
              "ticks": ""
             }
            },
            "type": "scatter3d"
           }
          ],
          "scattercarpet": [
           {
            "marker": {
             "colorbar": {
              "outlinewidth": 0,
              "ticks": ""
             }
            },
            "type": "scattercarpet"
           }
          ],
          "scattergeo": [
           {
            "marker": {
             "colorbar": {
              "outlinewidth": 0,
              "ticks": ""
             }
            },
            "type": "scattergeo"
           }
          ],
          "scattergl": [
           {
            "marker": {
             "colorbar": {
              "outlinewidth": 0,
              "ticks": ""
             }
            },
            "type": "scattergl"
           }
          ],
          "scattermap": [
           {
            "marker": {
             "colorbar": {
              "outlinewidth": 0,
              "ticks": ""
             }
            },
            "type": "scattermap"
           }
          ],
          "scattermapbox": [
           {
            "marker": {
             "colorbar": {
              "outlinewidth": 0,
              "ticks": ""
             }
            },
            "type": "scattermapbox"
           }
          ],
          "scatterpolar": [
           {
            "marker": {
             "colorbar": {
              "outlinewidth": 0,
              "ticks": ""
             }
            },
            "type": "scatterpolar"
           }
          ],
          "scatterpolargl": [
           {
            "marker": {
             "colorbar": {
              "outlinewidth": 0,
              "ticks": ""
             }
            },
            "type": "scatterpolargl"
           }
          ],
          "scatterternary": [
           {
            "marker": {
             "colorbar": {
              "outlinewidth": 0,
              "ticks": ""
             }
            },
            "type": "scatterternary"
           }
          ],
          "surface": [
           {
            "colorbar": {
             "outlinewidth": 0,
             "ticks": ""
            },
            "colorscale": [
             [
              0,
              "#0d0887"
             ],
             [
              0.1111111111111111,
              "#46039f"
             ],
             [
              0.2222222222222222,
              "#7201a8"
             ],
             [
              0.3333333333333333,
              "#9c179e"
             ],
             [
              0.4444444444444444,
              "#bd3786"
             ],
             [
              0.5555555555555556,
              "#d8576b"
             ],
             [
              0.6666666666666666,
              "#ed7953"
             ],
             [
              0.7777777777777778,
              "#fb9f3a"
             ],
             [
              0.8888888888888888,
              "#fdca26"
             ],
             [
              1,
              "#f0f921"
             ]
            ],
            "type": "surface"
           }
          ],
          "table": [
           {
            "cells": {
             "fill": {
              "color": "#EBF0F8"
             },
             "line": {
              "color": "white"
             }
            },
            "header": {
             "fill": {
              "color": "#C8D4E3"
             },
             "line": {
              "color": "white"
             }
            },
            "type": "table"
           }
          ]
         },
         "layout": {
          "annotationdefaults": {
           "arrowcolor": "#2a3f5f",
           "arrowhead": 0,
           "arrowwidth": 1
          },
          "autotypenumbers": "strict",
          "coloraxis": {
           "colorbar": {
            "outlinewidth": 0,
            "ticks": ""
           }
          },
          "colorscale": {
           "diverging": [
            [
             0,
             "#8e0152"
            ],
            [
             0.1,
             "#c51b7d"
            ],
            [
             0.2,
             "#de77ae"
            ],
            [
             0.3,
             "#f1b6da"
            ],
            [
             0.4,
             "#fde0ef"
            ],
            [
             0.5,
             "#f7f7f7"
            ],
            [
             0.6,
             "#e6f5d0"
            ],
            [
             0.7,
             "#b8e186"
            ],
            [
             0.8,
             "#7fbc41"
            ],
            [
             0.9,
             "#4d9221"
            ],
            [
             1,
             "#276419"
            ]
           ],
           "sequential": [
            [
             0,
             "#0d0887"
            ],
            [
             0.1111111111111111,
             "#46039f"
            ],
            [
             0.2222222222222222,
             "#7201a8"
            ],
            [
             0.3333333333333333,
             "#9c179e"
            ],
            [
             0.4444444444444444,
             "#bd3786"
            ],
            [
             0.5555555555555556,
             "#d8576b"
            ],
            [
             0.6666666666666666,
             "#ed7953"
            ],
            [
             0.7777777777777778,
             "#fb9f3a"
            ],
            [
             0.8888888888888888,
             "#fdca26"
            ],
            [
             1,
             "#f0f921"
            ]
           ],
           "sequentialminus": [
            [
             0,
             "#0d0887"
            ],
            [
             0.1111111111111111,
             "#46039f"
            ],
            [
             0.2222222222222222,
             "#7201a8"
            ],
            [
             0.3333333333333333,
             "#9c179e"
            ],
            [
             0.4444444444444444,
             "#bd3786"
            ],
            [
             0.5555555555555556,
             "#d8576b"
            ],
            [
             0.6666666666666666,
             "#ed7953"
            ],
            [
             0.7777777777777778,
             "#fb9f3a"
            ],
            [
             0.8888888888888888,
             "#fdca26"
            ],
            [
             1,
             "#f0f921"
            ]
           ]
          },
          "colorway": [
           "#636efa",
           "#EF553B",
           "#00cc96",
           "#ab63fa",
           "#FFA15A",
           "#19d3f3",
           "#FF6692",
           "#B6E880",
           "#FF97FF",
           "#FECB52"
          ],
          "font": {
           "color": "#2a3f5f"
          },
          "geo": {
           "bgcolor": "white",
           "lakecolor": "white",
           "landcolor": "#E5ECF6",
           "showlakes": true,
           "showland": true,
           "subunitcolor": "white"
          },
          "hoverlabel": {
           "align": "left"
          },
          "hovermode": "closest",
          "mapbox": {
           "style": "light"
          },
          "paper_bgcolor": "white",
          "plot_bgcolor": "#E5ECF6",
          "polar": {
           "angularaxis": {
            "gridcolor": "white",
            "linecolor": "white",
            "ticks": ""
           },
           "bgcolor": "#E5ECF6",
           "radialaxis": {
            "gridcolor": "white",
            "linecolor": "white",
            "ticks": ""
           }
          },
          "scene": {
           "xaxis": {
            "backgroundcolor": "#E5ECF6",
            "gridcolor": "white",
            "gridwidth": 2,
            "linecolor": "white",
            "showbackground": true,
            "ticks": "",
            "zerolinecolor": "white"
           },
           "yaxis": {
            "backgroundcolor": "#E5ECF6",
            "gridcolor": "white",
            "gridwidth": 2,
            "linecolor": "white",
            "showbackground": true,
            "ticks": "",
            "zerolinecolor": "white"
           },
           "zaxis": {
            "backgroundcolor": "#E5ECF6",
            "gridcolor": "white",
            "gridwidth": 2,
            "linecolor": "white",
            "showbackground": true,
            "ticks": "",
            "zerolinecolor": "white"
           }
          },
          "shapedefaults": {
           "line": {
            "color": "#2a3f5f"
           }
          },
          "ternary": {
           "aaxis": {
            "gridcolor": "white",
            "linecolor": "white",
            "ticks": ""
           },
           "baxis": {
            "gridcolor": "white",
            "linecolor": "white",
            "ticks": ""
           },
           "bgcolor": "#E5ECF6",
           "caxis": {
            "gridcolor": "white",
            "linecolor": "white",
            "ticks": ""
           }
          },
          "title": {
           "x": 0.05
          },
          "xaxis": {
           "automargin": true,
           "gridcolor": "white",
           "linecolor": "white",
           "ticks": "",
           "title": {
            "standoff": 15
           },
           "zerolinecolor": "white",
           "zerolinewidth": 2
          },
          "yaxis": {
           "automargin": true,
           "gridcolor": "white",
           "linecolor": "white",
           "ticks": "",
           "title": {
            "standoff": 15
           },
           "zerolinecolor": "white",
           "zerolinewidth": 2
          }
         }
        },
        "title": {
         "font": {
          "size": 35
         },
         "text": "Category Counts",
         "x": 0.5
        },
        "width": 800,
        "xaxis": {
         "anchor": "y",
         "domain": [
          0,
          1
         ],
         "showgrid": false,
         "title": {
          "text": "Category"
         }
        },
        "yaxis": {
         "anchor": "x",
         "domain": [
          0,
          1
         ],
         "showgrid": false,
         "title": {
          "text": "Value"
         }
        }
       }
      },
      "text/html": [
       "<div>            <script src=\"https://cdnjs.cloudflare.com/ajax/libs/mathjax/2.7.5/MathJax.js?config=TeX-AMS-MML_SVG\"></script><script type=\"text/javascript\">if (window.MathJax && window.MathJax.Hub && window.MathJax.Hub.Config) {window.MathJax.Hub.Config({SVG: {font: \"STIX-Web\"}});}</script>                <script type=\"text/javascript\">window.PlotlyConfig = {MathJaxConfig: 'local'};</script>\n",
       "        <script charset=\"utf-8\" src=\"https://cdn.plot.ly/plotly-3.0.1.min.js\"></script>                <div id=\"5da9c67c-46bc-481c-8774-c7ca08314054\" class=\"plotly-graph-div\" style=\"height:500px; width:800px;\"></div>            <script type=\"text/javascript\">                window.PLOTLYENV=window.PLOTLYENV || {};                                if (document.getElementById(\"5da9c67c-46bc-481c-8774-c7ca08314054\")) {                    Plotly.newPlot(                        \"5da9c67c-46bc-481c-8774-c7ca08314054\",                        [{\"hovertemplate\":\"Category:'%{x}' Counted: %{y}\",\"legendgroup\":\"labor rights\",\"marker\":{\"color\":\"#636efa\",\"pattern\":{\"shape\":\"\"}},\"name\":\"labor rights\",\"orientation\":\"v\",\"showlegend\":true,\"text\":{\"dtype\":\"f8\",\"bdata\":\"AAAAAEAk3UA=\"},\"textposition\":\"auto\",\"x\":[\"labor rights\"],\"xaxis\":\"x\",\"y\":{\"dtype\":\"i2\",\"bdata\":\"kXQ=\"},\"yaxis\":\"y\",\"type\":\"bar\"},{\"hovertemplate\":\"Category:'%{x}' Counted: %{y}\",\"legendgroup\":\"education\",\"marker\":{\"color\":\"#EF553B\",\"pattern\":{\"shape\":\"\"}},\"name\":\"education\",\"orientation\":\"v\",\"showlegend\":true,\"text\":{\"dtype\":\"f8\",\"bdata\":\"AAAAAIAh1kA=\"},\"textposition\":\"auto\",\"x\":[\"education\"],\"xaxis\":\"x\",\"y\":{\"dtype\":\"i2\",\"bdata\":\"hlg=\"},\"yaxis\":\"y\",\"type\":\"bar\"},{\"hovertemplate\":\"Category:'%{x}' Counted: %{y}\",\"legendgroup\":\"culture\",\"marker\":{\"color\":\"#00cc96\",\"pattern\":{\"shape\":\"\"}},\"name\":\"culture\",\"orientation\":\"v\",\"showlegend\":true,\"text\":{\"dtype\":\"f8\",\"bdata\":\"AAAAAABKvkA=\"},\"textposition\":\"auto\",\"x\":[\"culture\"],\"xaxis\":\"x\",\"y\":{\"dtype\":\"i2\",\"bdata\":\"Sh4=\"},\"yaxis\":\"y\",\"type\":\"bar\"},{\"hovertemplate\":\"Category:'%{x}' Counted: %{y}\",\"legendgroup\":\"environment\",\"marker\":{\"color\":\"#ab63fa\",\"pattern\":{\"shape\":\"\"}},\"name\":\"environment\",\"orientation\":\"v\",\"showlegend\":true,\"text\":{\"dtype\":\"f8\",\"bdata\":\"AAAAAADhukA=\"},\"textposition\":\"auto\",\"x\":[\"environment\"],\"xaxis\":\"x\",\"y\":{\"dtype\":\"i2\",\"bdata\":\"4Ro=\"},\"yaxis\":\"y\",\"type\":\"bar\"},{\"hovertemplate\":\"Category:'%{x}' Counted: %{y}\",\"legendgroup\":\"palestine-israel conflict\",\"marker\":{\"color\":\"#FFA15A\",\"pattern\":{\"shape\":\"\"}},\"name\":\"palestine-israel conflict\",\"orientation\":\"v\",\"showlegend\":true,\"text\":{\"dtype\":\"f8\",\"bdata\":\"AAAAAAADuEA=\"},\"textposition\":\"auto\",\"x\":[\"palestine-israel conflict\"],\"xaxis\":\"x\",\"y\":{\"dtype\":\"i2\",\"bdata\":\"Axg=\"},\"yaxis\":\"y\",\"type\":\"bar\"},{\"hovertemplate\":\"Category:'%{x}' Counted: %{y}\",\"legendgroup\":\"ukraine-russia war\",\"marker\":{\"color\":\"#19d3f3\",\"pattern\":{\"shape\":\"\"}},\"name\":\"ukraine-russia war\",\"orientation\":\"v\",\"showlegend\":true,\"text\":{\"dtype\":\"f8\",\"bdata\":\"AAAAAADRtUA=\"},\"textposition\":\"auto\",\"x\":[\"ukraine-russia war\"],\"xaxis\":\"x\",\"y\":{\"dtype\":\"i2\",\"bdata\":\"0RU=\"},\"yaxis\":\"y\",\"type\":\"bar\"},{\"hovertemplate\":\"Category:'%{x}' Counted: %{y}\",\"legendgroup\":\"infrastructure\",\"marker\":{\"color\":\"#FF6692\",\"pattern\":{\"shape\":\"\"}},\"name\":\"infrastructure\",\"orientation\":\"v\",\"showlegend\":true,\"text\":{\"dtype\":\"f8\",\"bdata\":\"AAAAAAAztUA=\"},\"textposition\":\"auto\",\"x\":[\"infrastructure\"],\"xaxis\":\"x\",\"y\":{\"dtype\":\"i2\",\"bdata\":\"MxU=\"},\"yaxis\":\"y\",\"type\":\"bar\"},{\"hovertemplate\":\"Category:'%{x}' Counted: %{y}\",\"legendgroup\":\"climate\",\"marker\":{\"color\":\"#B6E880\",\"pattern\":{\"shape\":\"\"}},\"name\":\"climate\",\"orientation\":\"v\",\"showlegend\":true,\"text\":{\"dtype\":\"f8\",\"bdata\":\"AAAAAABbskA=\"},\"textposition\":\"auto\",\"x\":[\"climate\"],\"xaxis\":\"x\",\"y\":{\"dtype\":\"i2\",\"bdata\":\"WxI=\"},\"yaxis\":\"y\",\"type\":\"bar\"},{\"hovertemplate\":\"Category:'%{x}' Counted: %{y}\",\"legendgroup\":\"health care\",\"marker\":{\"color\":\"#FF97FF\",\"pattern\":{\"shape\":\"\"}},\"name\":\"health care\",\"orientation\":\"v\",\"showlegend\":true,\"text\":{\"dtype\":\"f8\",\"bdata\":\"AAAAAABOr0A=\"},\"textposition\":\"auto\",\"x\":[\"health care\"],\"xaxis\":\"x\",\"y\":{\"dtype\":\"i2\",\"bdata\":\"pw8=\"},\"yaxis\":\"y\",\"type\":\"bar\"},{\"hovertemplate\":\"Category:'%{x}' Counted: %{y}\",\"legendgroup\":\"political\",\"marker\":{\"color\":\"#FECB52\",\"pattern\":{\"shape\":\"\"}},\"name\":\"political\",\"orientation\":\"v\",\"showlegend\":true,\"text\":{\"dtype\":\"f8\",\"bdata\":\"AAAAAADgrkA=\"},\"textposition\":\"auto\",\"x\":[\"political\"],\"xaxis\":\"x\",\"y\":{\"dtype\":\"i2\",\"bdata\":\"cA8=\"},\"yaxis\":\"y\",\"type\":\"bar\"},{\"hovertemplate\":\"Category:'%{x}' Counted: %{y}\",\"legendgroup\":\"women rights\",\"marker\":{\"color\":\"#636efa\",\"pattern\":{\"shape\":\"\"}},\"name\":\"women rights\",\"orientation\":\"v\",\"showlegend\":true,\"text\":{\"dtype\":\"f8\",\"bdata\":\"AAAAAACgqkA=\"},\"textposition\":\"auto\",\"x\":[\"women rights\"],\"xaxis\":\"x\",\"y\":{\"dtype\":\"i2\",\"bdata\":\"UA0=\"},\"yaxis\":\"y\",\"type\":\"bar\"},{\"hovertemplate\":\"Category:'%{x}' Counted: %{y}\",\"legendgroup\":\"farmers\",\"marker\":{\"color\":\"#EF553B\",\"pattern\":{\"shape\":\"\"}},\"name\":\"farmers\",\"orientation\":\"v\",\"showlegend\":true,\"text\":{\"dtype\":\"f8\",\"bdata\":\"AAAAAACEqUA=\"},\"textposition\":\"auto\",\"x\":[\"farmers\"],\"xaxis\":\"x\",\"y\":{\"dtype\":\"i2\",\"bdata\":\"wgw=\"},\"yaxis\":\"y\",\"type\":\"bar\"},{\"hovertemplate\":\"Category:'%{x}' Counted: %{y}\",\"legendgroup\":\"unjust law enforcement\",\"marker\":{\"color\":\"#00cc96\",\"pattern\":{\"shape\":\"\"}},\"name\":\"unjust law enforcement\",\"orientation\":\"v\",\"showlegend\":true,\"text\":{\"dtype\":\"f8\",\"bdata\":\"AAAAAABSoUA=\"},\"textposition\":\"auto\",\"x\":[\"unjust law enforcement\"],\"xaxis\":\"x\",\"y\":{\"dtype\":\"i2\",\"bdata\":\"qQg=\"},\"yaxis\":\"y\",\"type\":\"bar\"},{\"hovertemplate\":\"Category:'%{x}' Counted: %{y}\",\"legendgroup\":\"democracy\",\"marker\":{\"color\":\"#ab63fa\",\"pattern\":{\"shape\":\"\"}},\"name\":\"democracy\",\"orientation\":\"v\",\"showlegend\":true,\"text\":{\"dtype\":\"f8\",\"bdata\":\"AAAAAAAQnkA=\"},\"textposition\":\"auto\",\"x\":[\"democracy\"],\"xaxis\":\"x\",\"y\":{\"dtype\":\"i2\",\"bdata\":\"hAc=\"},\"yaxis\":\"y\",\"type\":\"bar\"},{\"hovertemplate\":\"Category:'%{x}' Counted: %{y}\",\"legendgroup\":\"animal welfare\",\"marker\":{\"color\":\"#FFA15A\",\"pattern\":{\"shape\":\"\"}},\"name\":\"animal welfare\",\"orientation\":\"v\",\"showlegend\":true,\"text\":{\"dtype\":\"f8\",\"bdata\":\"AAAAAAAklUA=\"},\"textposition\":\"auto\",\"x\":[\"animal welfare\"],\"xaxis\":\"x\",\"y\":{\"dtype\":\"i2\",\"bdata\":\"SQU=\"},\"yaxis\":\"y\",\"type\":\"bar\"},{\"hovertemplate\":\"Category:'%{x}' Counted: %{y}\",\"legendgroup\":\"public services\",\"marker\":{\"color\":\"#19d3f3\",\"pattern\":{\"shape\":\"\"}},\"name\":\"public services\",\"orientation\":\"v\",\"showlegend\":true,\"text\":{\"dtype\":\"f8\",\"bdata\":\"AAAAAACskEA=\"},\"textposition\":\"auto\",\"x\":[\"public services\"],\"xaxis\":\"x\",\"y\":{\"dtype\":\"i2\",\"bdata\":\"KwQ=\"},\"yaxis\":\"y\",\"type\":\"bar\"},{\"hovertemplate\":\"Category:'%{x}' Counted: %{y}\",\"legendgroup\":\"discrimination\",\"marker\":{\"color\":\"#FF6692\",\"pattern\":{\"shape\":\"\"}},\"name\":\"discrimination\",\"orientation\":\"v\",\"showlegend\":true,\"text\":{\"dtype\":\"f8\",\"bdata\":\"AAAAAAAQjkA=\"},\"textposition\":\"auto\",\"x\":[\"discrimination\"],\"xaxis\":\"x\",\"y\":{\"dtype\":\"i2\",\"bdata\":\"wgM=\"},\"yaxis\":\"y\",\"type\":\"bar\"},{\"hovertemplate\":\"Category:'%{x}' Counted: %{y}\",\"legendgroup\":\"eviction\",\"marker\":{\"color\":\"#B6E880\",\"pattern\":{\"shape\":\"\"}},\"name\":\"eviction\",\"orientation\":\"v\",\"showlegend\":true,\"text\":{\"dtype\":\"f8\",\"bdata\":\"AAAAAADgiUA=\"},\"textposition\":\"auto\",\"x\":[\"eviction\"],\"xaxis\":\"x\",\"y\":{\"dtype\":\"i2\",\"bdata\":\"PAM=\"},\"yaxis\":\"y\",\"type\":\"bar\"},{\"hovertemplate\":\"Category:'%{x}' Counted: %{y}\",\"legendgroup\":\"immigration\",\"marker\":{\"color\":\"#FF97FF\",\"pattern\":{\"shape\":\"\"}},\"name\":\"immigration\",\"orientation\":\"v\",\"showlegend\":true,\"text\":{\"dtype\":\"f8\",\"bdata\":\"AAAAAADYgkA=\"},\"textposition\":\"auto\",\"x\":[\"immigration\"],\"xaxis\":\"x\",\"y\":{\"dtype\":\"i2\",\"bdata\":\"WwI=\"},\"yaxis\":\"y\",\"type\":\"bar\"},{\"hovertemplate\":\"Category:'%{x}' Counted: %{y}\",\"legendgroup\":\"tourism\",\"marker\":{\"color\":\"#FECB52\",\"pattern\":{\"shape\":\"\"}},\"name\":\"tourism\",\"orientation\":\"v\",\"showlegend\":true,\"text\":{\"dtype\":\"f8\",\"bdata\":\"AAAAAADAe0A=\"},\"textposition\":\"auto\",\"x\":[\"tourism\"],\"xaxis\":\"x\",\"y\":{\"dtype\":\"i2\",\"bdata\":\"vAE=\"},\"yaxis\":\"y\",\"type\":\"bar\"},{\"hovertemplate\":\"Category:'%{x}' Counted: %{y}\",\"legendgroup\":\"social welfare\",\"marker\":{\"color\":\"#636efa\",\"pattern\":{\"shape\":\"\"}},\"name\":\"social welfare\",\"orientation\":\"v\",\"showlegend\":true,\"text\":{\"dtype\":\"f8\",\"bdata\":\"AAAAAACgdEA=\"},\"textposition\":\"auto\",\"x\":[\"social welfare\"],\"xaxis\":\"x\",\"y\":{\"dtype\":\"i2\",\"bdata\":\"SgE=\"},\"yaxis\":\"y\",\"type\":\"bar\"},{\"hovertemplate\":\"Category:'%{x}' Counted: %{y}\",\"legendgroup\":\"anti crime\",\"marker\":{\"color\":\"#EF553B\",\"pattern\":{\"shape\":\"\"}},\"name\":\"anti crime\",\"orientation\":\"v\",\"showlegend\":true,\"text\":{\"dtype\":\"f8\",\"bdata\":\"AAAAAAAAXUA=\"},\"textposition\":\"auto\",\"x\":[\"anti crime\"],\"xaxis\":\"x\",\"y\":{\"dtype\":\"i1\",\"bdata\":\"dA==\"},\"yaxis\":\"y\",\"type\":\"bar\"},{\"hovertemplate\":\"Category:'%{x}' Counted: %{y}\",\"legendgroup\":\"skip\",\"marker\":{\"color\":\"#00cc96\",\"pattern\":{\"shape\":\"\"}},\"name\":\"skip\",\"orientation\":\"v\",\"showlegend\":true,\"text\":{\"dtype\":\"f8\",\"bdata\":\"AAAAAADAVkA=\"},\"textposition\":\"auto\",\"x\":[\"skip\"],\"xaxis\":\"x\",\"y\":{\"dtype\":\"i1\",\"bdata\":\"Ww==\"},\"yaxis\":\"y\",\"type\":\"bar\"},{\"hovertemplate\":\"Category:'%{x}' Counted: %{y}\",\"legendgroup\":\"local policy\",\"marker\":{\"color\":\"#ab63fa\",\"pattern\":{\"shape\":\"\"}},\"name\":\"local policy\",\"orientation\":\"v\",\"showlegend\":true,\"text\":{\"dtype\":\"f8\",\"bdata\":\"AAAAAACAQUA=\"},\"textposition\":\"auto\",\"x\":[\"local policy\"],\"xaxis\":\"x\",\"y\":{\"dtype\":\"i1\",\"bdata\":\"Iw==\"},\"yaxis\":\"y\",\"type\":\"bar\"},{\"hovertemplate\":\"Category:'%{x}' Counted: %{y}\",\"legendgroup\":\"housing\",\"marker\":{\"color\":\"#FFA15A\",\"pattern\":{\"shape\":\"\"}},\"name\":\"housing\",\"orientation\":\"v\",\"showlegend\":true,\"text\":{\"dtype\":\"f8\",\"bdata\":\"AAAAAACAQEA=\"},\"textposition\":\"auto\",\"x\":[\"housing\"],\"xaxis\":\"x\",\"y\":{\"dtype\":\"i1\",\"bdata\":\"IQ==\"},\"yaxis\":\"y\",\"type\":\"bar\"},{\"hovertemplate\":\"Category:'%{x}' Counted: %{y}\",\"legendgroup\":\"cyprus conflict\",\"marker\":{\"color\":\"#19d3f3\",\"pattern\":{\"shape\":\"\"}},\"name\":\"cyprus conflict\",\"orientation\":\"v\",\"showlegend\":true,\"text\":{\"dtype\":\"f8\",\"bdata\":\"AAAAAAAAP0A=\"},\"textposition\":\"auto\",\"x\":[\"cyprus conflict\"],\"xaxis\":\"x\",\"y\":{\"dtype\":\"i1\",\"bdata\":\"Hw==\"},\"yaxis\":\"y\",\"type\":\"bar\"},{\"hovertemplate\":\"Category:'%{x}' Counted: %{y}\",\"legendgroup\":\"sudan conflict\",\"marker\":{\"color\":\"#FF6692\",\"pattern\":{\"shape\":\"\"}},\"name\":\"sudan conflict\",\"orientation\":\"v\",\"showlegend\":true,\"text\":{\"dtype\":\"f8\",\"bdata\":\"AAAAAAAAOkA=\"},\"textposition\":\"auto\",\"x\":[\"sudan conflict\"],\"xaxis\":\"x\",\"y\":{\"dtype\":\"i1\",\"bdata\":\"Gg==\"},\"yaxis\":\"y\",\"type\":\"bar\"},{\"hovertemplate\":\"Category:'%{x}' Counted: %{y}\",\"legendgroup\":\"youth violence\",\"marker\":{\"color\":\"#B6E880\",\"pattern\":{\"shape\":\"\"}},\"name\":\"youth violence\",\"orientation\":\"v\",\"showlegend\":true,\"text\":{\"dtype\":\"f8\",\"bdata\":\"AAAAAAAAIEA=\"},\"textposition\":\"auto\",\"x\":[\"youth violence\"],\"xaxis\":\"x\",\"y\":{\"dtype\":\"i1\",\"bdata\":\"CA==\"},\"yaxis\":\"y\",\"type\":\"bar\"},{\"hovertemplate\":\"Category:'%{x}' Counted: %{y}\",\"legendgroup\":\"economic justice\",\"marker\":{\"color\":\"#FF97FF\",\"pattern\":{\"shape\":\"\"}},\"name\":\"economic justice\",\"orientation\":\"v\",\"showlegend\":true,\"text\":{\"dtype\":\"f8\",\"bdata\":\"AAAAAAAAIEA=\"},\"textposition\":\"auto\",\"x\":[\"economic justice\"],\"xaxis\":\"x\",\"y\":{\"dtype\":\"i1\",\"bdata\":\"CA==\"},\"yaxis\":\"y\",\"type\":\"bar\"},{\"hovertemplate\":\"Category:'%{x}' Counted: %{y}\",\"legendgroup\":\"military\",\"marker\":{\"color\":\"#FECB52\",\"pattern\":{\"shape\":\"\"}},\"name\":\"military\",\"orientation\":\"v\",\"showlegend\":true,\"text\":{\"dtype\":\"f8\",\"bdata\":\"AAAAAAAAAEA=\"},\"textposition\":\"auto\",\"x\":[\"military\"],\"xaxis\":\"x\",\"y\":{\"dtype\":\"i1\",\"bdata\":\"Ag==\"},\"yaxis\":\"y\",\"type\":\"bar\"}],                        {\"barmode\":\"relative\",\"height\":500,\"legend\":{\"title\":{\"text\":\"color\"},\"tracegroupgap\":0},\"margin\":{\"t\":60},\"plot_bgcolor\":\"white\",\"showlegend\":false,\"template\":{\"data\":{\"barpolar\":[{\"marker\":{\"line\":{\"color\":\"#E5ECF6\",\"width\":0.5},\"pattern\":{\"fillmode\":\"overlay\",\"size\":10,\"solidity\":0.2}},\"type\":\"barpolar\"}],\"bar\":[{\"error_x\":{\"color\":\"#2a3f5f\"},\"error_y\":{\"color\":\"#2a3f5f\"},\"marker\":{\"line\":{\"color\":\"#E5ECF6\",\"width\":0.5},\"pattern\":{\"fillmode\":\"overlay\",\"size\":10,\"solidity\":0.2}},\"type\":\"bar\"}],\"carpet\":[{\"aaxis\":{\"endlinecolor\":\"#2a3f5f\",\"gridcolor\":\"white\",\"linecolor\":\"white\",\"minorgridcolor\":\"white\",\"startlinecolor\":\"#2a3f5f\"},\"baxis\":{\"endlinecolor\":\"#2a3f5f\",\"gridcolor\":\"white\",\"linecolor\":\"white\",\"minorgridcolor\":\"white\",\"startlinecolor\":\"#2a3f5f\"},\"type\":\"carpet\"}],\"choropleth\":[{\"colorbar\":{\"outlinewidth\":0,\"ticks\":\"\"},\"type\":\"choropleth\"}],\"contourcarpet\":[{\"colorbar\":{\"outlinewidth\":0,\"ticks\":\"\"},\"type\":\"contourcarpet\"}],\"contour\":[{\"colorbar\":{\"outlinewidth\":0,\"ticks\":\"\"},\"colorscale\":[[0.0,\"#0d0887\"],[0.1111111111111111,\"#46039f\"],[0.2222222222222222,\"#7201a8\"],[0.3333333333333333,\"#9c179e\"],[0.4444444444444444,\"#bd3786\"],[0.5555555555555556,\"#d8576b\"],[0.6666666666666666,\"#ed7953\"],[0.7777777777777778,\"#fb9f3a\"],[0.8888888888888888,\"#fdca26\"],[1.0,\"#f0f921\"]],\"type\":\"contour\"}],\"heatmap\":[{\"colorbar\":{\"outlinewidth\":0,\"ticks\":\"\"},\"colorscale\":[[0.0,\"#0d0887\"],[0.1111111111111111,\"#46039f\"],[0.2222222222222222,\"#7201a8\"],[0.3333333333333333,\"#9c179e\"],[0.4444444444444444,\"#bd3786\"],[0.5555555555555556,\"#d8576b\"],[0.6666666666666666,\"#ed7953\"],[0.7777777777777778,\"#fb9f3a\"],[0.8888888888888888,\"#fdca26\"],[1.0,\"#f0f921\"]],\"type\":\"heatmap\"}],\"histogram2dcontour\":[{\"colorbar\":{\"outlinewidth\":0,\"ticks\":\"\"},\"colorscale\":[[0.0,\"#0d0887\"],[0.1111111111111111,\"#46039f\"],[0.2222222222222222,\"#7201a8\"],[0.3333333333333333,\"#9c179e\"],[0.4444444444444444,\"#bd3786\"],[0.5555555555555556,\"#d8576b\"],[0.6666666666666666,\"#ed7953\"],[0.7777777777777778,\"#fb9f3a\"],[0.8888888888888888,\"#fdca26\"],[1.0,\"#f0f921\"]],\"type\":\"histogram2dcontour\"}],\"histogram2d\":[{\"colorbar\":{\"outlinewidth\":0,\"ticks\":\"\"},\"colorscale\":[[0.0,\"#0d0887\"],[0.1111111111111111,\"#46039f\"],[0.2222222222222222,\"#7201a8\"],[0.3333333333333333,\"#9c179e\"],[0.4444444444444444,\"#bd3786\"],[0.5555555555555556,\"#d8576b\"],[0.6666666666666666,\"#ed7953\"],[0.7777777777777778,\"#fb9f3a\"],[0.8888888888888888,\"#fdca26\"],[1.0,\"#f0f921\"]],\"type\":\"histogram2d\"}],\"histogram\":[{\"marker\":{\"pattern\":{\"fillmode\":\"overlay\",\"size\":10,\"solidity\":0.2}},\"type\":\"histogram\"}],\"mesh3d\":[{\"colorbar\":{\"outlinewidth\":0,\"ticks\":\"\"},\"type\":\"mesh3d\"}],\"parcoords\":[{\"line\":{\"colorbar\":{\"outlinewidth\":0,\"ticks\":\"\"}},\"type\":\"parcoords\"}],\"pie\":[{\"automargin\":true,\"type\":\"pie\"}],\"scatter3d\":[{\"line\":{\"colorbar\":{\"outlinewidth\":0,\"ticks\":\"\"}},\"marker\":{\"colorbar\":{\"outlinewidth\":0,\"ticks\":\"\"}},\"type\":\"scatter3d\"}],\"scattercarpet\":[{\"marker\":{\"colorbar\":{\"outlinewidth\":0,\"ticks\":\"\"}},\"type\":\"scattercarpet\"}],\"scattergeo\":[{\"marker\":{\"colorbar\":{\"outlinewidth\":0,\"ticks\":\"\"}},\"type\":\"scattergeo\"}],\"scattergl\":[{\"marker\":{\"colorbar\":{\"outlinewidth\":0,\"ticks\":\"\"}},\"type\":\"scattergl\"}],\"scattermapbox\":[{\"marker\":{\"colorbar\":{\"outlinewidth\":0,\"ticks\":\"\"}},\"type\":\"scattermapbox\"}],\"scattermap\":[{\"marker\":{\"colorbar\":{\"outlinewidth\":0,\"ticks\":\"\"}},\"type\":\"scattermap\"}],\"scatterpolargl\":[{\"marker\":{\"colorbar\":{\"outlinewidth\":0,\"ticks\":\"\"}},\"type\":\"scatterpolargl\"}],\"scatterpolar\":[{\"marker\":{\"colorbar\":{\"outlinewidth\":0,\"ticks\":\"\"}},\"type\":\"scatterpolar\"}],\"scatter\":[{\"fillpattern\":{\"fillmode\":\"overlay\",\"size\":10,\"solidity\":0.2},\"type\":\"scatter\"}],\"scatterternary\":[{\"marker\":{\"colorbar\":{\"outlinewidth\":0,\"ticks\":\"\"}},\"type\":\"scatterternary\"}],\"surface\":[{\"colorbar\":{\"outlinewidth\":0,\"ticks\":\"\"},\"colorscale\":[[0.0,\"#0d0887\"],[0.1111111111111111,\"#46039f\"],[0.2222222222222222,\"#7201a8\"],[0.3333333333333333,\"#9c179e\"],[0.4444444444444444,\"#bd3786\"],[0.5555555555555556,\"#d8576b\"],[0.6666666666666666,\"#ed7953\"],[0.7777777777777778,\"#fb9f3a\"],[0.8888888888888888,\"#fdca26\"],[1.0,\"#f0f921\"]],\"type\":\"surface\"}],\"table\":[{\"cells\":{\"fill\":{\"color\":\"#EBF0F8\"},\"line\":{\"color\":\"white\"}},\"header\":{\"fill\":{\"color\":\"#C8D4E3\"},\"line\":{\"color\":\"white\"}},\"type\":\"table\"}]},\"layout\":{\"annotationdefaults\":{\"arrowcolor\":\"#2a3f5f\",\"arrowhead\":0,\"arrowwidth\":1},\"autotypenumbers\":\"strict\",\"coloraxis\":{\"colorbar\":{\"outlinewidth\":0,\"ticks\":\"\"}},\"colorscale\":{\"diverging\":[[0,\"#8e0152\"],[0.1,\"#c51b7d\"],[0.2,\"#de77ae\"],[0.3,\"#f1b6da\"],[0.4,\"#fde0ef\"],[0.5,\"#f7f7f7\"],[0.6,\"#e6f5d0\"],[0.7,\"#b8e186\"],[0.8,\"#7fbc41\"],[0.9,\"#4d9221\"],[1,\"#276419\"]],\"sequential\":[[0.0,\"#0d0887\"],[0.1111111111111111,\"#46039f\"],[0.2222222222222222,\"#7201a8\"],[0.3333333333333333,\"#9c179e\"],[0.4444444444444444,\"#bd3786\"],[0.5555555555555556,\"#d8576b\"],[0.6666666666666666,\"#ed7953\"],[0.7777777777777778,\"#fb9f3a\"],[0.8888888888888888,\"#fdca26\"],[1.0,\"#f0f921\"]],\"sequentialminus\":[[0.0,\"#0d0887\"],[0.1111111111111111,\"#46039f\"],[0.2222222222222222,\"#7201a8\"],[0.3333333333333333,\"#9c179e\"],[0.4444444444444444,\"#bd3786\"],[0.5555555555555556,\"#d8576b\"],[0.6666666666666666,\"#ed7953\"],[0.7777777777777778,\"#fb9f3a\"],[0.8888888888888888,\"#fdca26\"],[1.0,\"#f0f921\"]]},\"colorway\":[\"#636efa\",\"#EF553B\",\"#00cc96\",\"#ab63fa\",\"#FFA15A\",\"#19d3f3\",\"#FF6692\",\"#B6E880\",\"#FF97FF\",\"#FECB52\"],\"font\":{\"color\":\"#2a3f5f\"},\"geo\":{\"bgcolor\":\"white\",\"lakecolor\":\"white\",\"landcolor\":\"#E5ECF6\",\"showlakes\":true,\"showland\":true,\"subunitcolor\":\"white\"},\"hoverlabel\":{\"align\":\"left\"},\"hovermode\":\"closest\",\"mapbox\":{\"style\":\"light\"},\"paper_bgcolor\":\"white\",\"plot_bgcolor\":\"#E5ECF6\",\"polar\":{\"angularaxis\":{\"gridcolor\":\"white\",\"linecolor\":\"white\",\"ticks\":\"\"},\"bgcolor\":\"#E5ECF6\",\"radialaxis\":{\"gridcolor\":\"white\",\"linecolor\":\"white\",\"ticks\":\"\"}},\"scene\":{\"xaxis\":{\"backgroundcolor\":\"#E5ECF6\",\"gridcolor\":\"white\",\"gridwidth\":2,\"linecolor\":\"white\",\"showbackground\":true,\"ticks\":\"\",\"zerolinecolor\":\"white\"},\"yaxis\":{\"backgroundcolor\":\"#E5ECF6\",\"gridcolor\":\"white\",\"gridwidth\":2,\"linecolor\":\"white\",\"showbackground\":true,\"ticks\":\"\",\"zerolinecolor\":\"white\"},\"zaxis\":{\"backgroundcolor\":\"#E5ECF6\",\"gridcolor\":\"white\",\"gridwidth\":2,\"linecolor\":\"white\",\"showbackground\":true,\"ticks\":\"\",\"zerolinecolor\":\"white\"}},\"shapedefaults\":{\"line\":{\"color\":\"#2a3f5f\"}},\"ternary\":{\"aaxis\":{\"gridcolor\":\"white\",\"linecolor\":\"white\",\"ticks\":\"\"},\"baxis\":{\"gridcolor\":\"white\",\"linecolor\":\"white\",\"ticks\":\"\"},\"bgcolor\":\"#E5ECF6\",\"caxis\":{\"gridcolor\":\"white\",\"linecolor\":\"white\",\"ticks\":\"\"}},\"title\":{\"x\":0.05},\"xaxis\":{\"automargin\":true,\"gridcolor\":\"white\",\"linecolor\":\"white\",\"ticks\":\"\",\"title\":{\"standoff\":15},\"zerolinecolor\":\"white\",\"zerolinewidth\":2},\"yaxis\":{\"automargin\":true,\"gridcolor\":\"white\",\"linecolor\":\"white\",\"ticks\":\"\",\"title\":{\"standoff\":15},\"zerolinecolor\":\"white\",\"zerolinewidth\":2}}},\"title\":{\"font\":{\"size\":35},\"text\":\"Category Counts\",\"x\":0.5},\"width\":800,\"xaxis\":{\"anchor\":\"y\",\"domain\":[0.0,1.0],\"showgrid\":false,\"title\":{\"text\":\"Category\"}},\"yaxis\":{\"anchor\":\"x\",\"domain\":[0.0,1.0],\"showgrid\":false,\"title\":{\"text\":\"Value\"}}},                        {\"responsive\": true}                    ).then(function(){\n",
       "                            \n",
       "var gd = document.getElementById('5da9c67c-46bc-481c-8774-c7ca08314054');\n",
       "var x = new MutationObserver(function (mutations, observer) {{\n",
       "        var display = window.getComputedStyle(gd).display;\n",
       "        if (!display || display === 'none') {{\n",
       "            console.log([gd, 'removed!']);\n",
       "            Plotly.purge(gd);\n",
       "            observer.disconnect();\n",
       "        }}\n",
       "}});\n",
       "\n",
       "// Listen for the removal of the full notebook cells\n",
       "var notebookContainer = gd.closest('#notebook-container');\n",
       "if (notebookContainer) {{\n",
       "    x.observe(notebookContainer, {childList: true});\n",
       "}}\n",
       "\n",
       "// Listen for the clearing of the current output cell\n",
       "var outputEl = gd.closest('.output');\n",
       "if (outputEl) {{\n",
       "    x.observe(outputEl, {childList: true});\n",
       "}}\n",
       "\n",
       "                        })                };            </script>        </div>"
      ]
     },
     "metadata": {},
     "output_type": "display_data"
    }
   ],
   "source": [
    "import plotly.graph_objects as go\n",
    "from plotly.offline import iplot, init_notebook_mode\n",
    "import plotly.express as px\n",
    "import plotly.io as pio\n",
    "\n",
    "init_notebook_mode(True)\n",
    "\n",
    "fig = px.bar(x=dataset[\"class\"].value_counts().index,y=dataset[\"class\"].value_counts(),color=dataset[\"class\"].value_counts().index,text=dataset[\"class\"].value_counts())\n",
    "fig.update_traces(hovertemplate=\"Category:'%{x}' Counted: %{y}\")\n",
    "fig.update_layout(title={\"text\":\"Category Counts\",\"x\":0.5,\"font\":{\"size\":35}},xaxis={\"title\":\"Category\",\"showgrid\":False},yaxis={\"title\":\"Value\",\"showgrid\":False},plot_bgcolor=\"white\",width=800,height=500,showlegend=False)\n",
    "iplot(fig)"
   ]
  },
  {
   "cell_type": "code",
   "execution_count": null,
   "id": "8847ecc1",
   "metadata": {},
   "outputs": [],
   "source": []
  },
  {
   "cell_type": "code",
   "execution_count": 39,
   "id": "8b065c05",
   "metadata": {},
   "outputs": [
    {
     "data": {
      "application/vnd.plotly.v1+json": {
       "config": {
        "linkText": "Export to plot.ly",
        "plotlyServerURL": "https://plot.ly",
        "showLink": false
       },
       "data": [
        {
         "hovertemplate": "Category:'%{x}' Counted: %{y}",
         "legendgroup": "labor rights",
         "marker": {
          "color": "#636efa",
          "pattern": {
           "shape": ""
          }
         },
         "name": "labor rights",
         "orientation": "v",
         "showlegend": true,
         "text": {
          "bdata": "AAAAAEAk3UA=",
          "dtype": "f8"
         },
         "textposition": "auto",
         "type": "bar",
         "x": [
          "labor rights"
         ],
         "xaxis": "x",
         "y": {
          "bdata": "kXQ=",
          "dtype": "i2"
         },
         "yaxis": "y"
        },
        {
         "hovertemplate": "Category:'%{x}' Counted: %{y}",
         "legendgroup": "education",
         "marker": {
          "color": "#EF553B",
          "pattern": {
           "shape": ""
          }
         },
         "name": "education",
         "orientation": "v",
         "showlegend": true,
         "text": {
          "bdata": "AAAAAIAh1kA=",
          "dtype": "f8"
         },
         "textposition": "auto",
         "type": "bar",
         "x": [
          "education"
         ],
         "xaxis": "x",
         "y": {
          "bdata": "hlg=",
          "dtype": "i2"
         },
         "yaxis": "y"
        },
        {
         "hovertemplate": "Category:'%{x}' Counted: %{y}",
         "legendgroup": "culture",
         "marker": {
          "color": "#00cc96",
          "pattern": {
           "shape": ""
          }
         },
         "name": "culture",
         "orientation": "v",
         "showlegend": true,
         "text": {
          "bdata": "AAAAAABKvkA=",
          "dtype": "f8"
         },
         "textposition": "auto",
         "type": "bar",
         "x": [
          "culture"
         ],
         "xaxis": "x",
         "y": {
          "bdata": "Sh4=",
          "dtype": "i2"
         },
         "yaxis": "y"
        },
        {
         "hovertemplate": "Category:'%{x}' Counted: %{y}",
         "legendgroup": "environment",
         "marker": {
          "color": "#ab63fa",
          "pattern": {
           "shape": ""
          }
         },
         "name": "environment",
         "orientation": "v",
         "showlegend": true,
         "text": {
          "bdata": "AAAAAADhukA=",
          "dtype": "f8"
         },
         "textposition": "auto",
         "type": "bar",
         "x": [
          "environment"
         ],
         "xaxis": "x",
         "y": {
          "bdata": "4Ro=",
          "dtype": "i2"
         },
         "yaxis": "y"
        },
        {
         "hovertemplate": "Category:'%{x}' Counted: %{y}",
         "legendgroup": "palestine-israel conflict",
         "marker": {
          "color": "#FFA15A",
          "pattern": {
           "shape": ""
          }
         },
         "name": "palestine-israel conflict",
         "orientation": "v",
         "showlegend": true,
         "text": {
          "bdata": "AAAAAAADuEA=",
          "dtype": "f8"
         },
         "textposition": "auto",
         "type": "bar",
         "x": [
          "palestine-israel conflict"
         ],
         "xaxis": "x",
         "y": {
          "bdata": "Axg=",
          "dtype": "i2"
         },
         "yaxis": "y"
        },
        {
         "hovertemplate": "Category:'%{x}' Counted: %{y}",
         "legendgroup": "ukraine-russia war",
         "marker": {
          "color": "#19d3f3",
          "pattern": {
           "shape": ""
          }
         },
         "name": "ukraine-russia war",
         "orientation": "v",
         "showlegend": true,
         "text": {
          "bdata": "AAAAAADRtUA=",
          "dtype": "f8"
         },
         "textposition": "auto",
         "type": "bar",
         "x": [
          "ukraine-russia war"
         ],
         "xaxis": "x",
         "y": {
          "bdata": "0RU=",
          "dtype": "i2"
         },
         "yaxis": "y"
        },
        {
         "hovertemplate": "Category:'%{x}' Counted: %{y}",
         "legendgroup": "infrastructure",
         "marker": {
          "color": "#FF6692",
          "pattern": {
           "shape": ""
          }
         },
         "name": "infrastructure",
         "orientation": "v",
         "showlegend": true,
         "text": {
          "bdata": "AAAAAAAztUA=",
          "dtype": "f8"
         },
         "textposition": "auto",
         "type": "bar",
         "x": [
          "infrastructure"
         ],
         "xaxis": "x",
         "y": {
          "bdata": "MxU=",
          "dtype": "i2"
         },
         "yaxis": "y"
        },
        {
         "hovertemplate": "Category:'%{x}' Counted: %{y}",
         "legendgroup": "climate",
         "marker": {
          "color": "#B6E880",
          "pattern": {
           "shape": ""
          }
         },
         "name": "climate",
         "orientation": "v",
         "showlegend": true,
         "text": {
          "bdata": "AAAAAABbskA=",
          "dtype": "f8"
         },
         "textposition": "auto",
         "type": "bar",
         "x": [
          "climate"
         ],
         "xaxis": "x",
         "y": {
          "bdata": "WxI=",
          "dtype": "i2"
         },
         "yaxis": "y"
        },
        {
         "hovertemplate": "Category:'%{x}' Counted: %{y}",
         "legendgroup": "health care",
         "marker": {
          "color": "#FF97FF",
          "pattern": {
           "shape": ""
          }
         },
         "name": "health care",
         "orientation": "v",
         "showlegend": true,
         "text": {
          "bdata": "AAAAAABOr0A=",
          "dtype": "f8"
         },
         "textposition": "auto",
         "type": "bar",
         "x": [
          "health care"
         ],
         "xaxis": "x",
         "y": {
          "bdata": "pw8=",
          "dtype": "i2"
         },
         "yaxis": "y"
        },
        {
         "hovertemplate": "Category:'%{x}' Counted: %{y}",
         "legendgroup": "political",
         "marker": {
          "color": "#FECB52",
          "pattern": {
           "shape": ""
          }
         },
         "name": "political",
         "orientation": "v",
         "showlegend": true,
         "text": {
          "bdata": "AAAAAADgrkA=",
          "dtype": "f8"
         },
         "textposition": "auto",
         "type": "bar",
         "x": [
          "political"
         ],
         "xaxis": "x",
         "y": {
          "bdata": "cA8=",
          "dtype": "i2"
         },
         "yaxis": "y"
        },
        {
         "hovertemplate": "Category:'%{x}' Counted: %{y}",
         "legendgroup": "women rights",
         "marker": {
          "color": "#636efa",
          "pattern": {
           "shape": ""
          }
         },
         "name": "women rights",
         "orientation": "v",
         "showlegend": true,
         "text": {
          "bdata": "AAAAAACgqkA=",
          "dtype": "f8"
         },
         "textposition": "auto",
         "type": "bar",
         "x": [
          "women rights"
         ],
         "xaxis": "x",
         "y": {
          "bdata": "UA0=",
          "dtype": "i2"
         },
         "yaxis": "y"
        },
        {
         "hovertemplate": "Category:'%{x}' Counted: %{y}",
         "legendgroup": "farmers",
         "marker": {
          "color": "#EF553B",
          "pattern": {
           "shape": ""
          }
         },
         "name": "farmers",
         "orientation": "v",
         "showlegend": true,
         "text": {
          "bdata": "AAAAAACEqUA=",
          "dtype": "f8"
         },
         "textposition": "auto",
         "type": "bar",
         "x": [
          "farmers"
         ],
         "xaxis": "x",
         "y": {
          "bdata": "wgw=",
          "dtype": "i2"
         },
         "yaxis": "y"
        },
        {
         "hovertemplate": "Category:'%{x}' Counted: %{y}",
         "legendgroup": "unjust law enforcement",
         "marker": {
          "color": "#00cc96",
          "pattern": {
           "shape": ""
          }
         },
         "name": "unjust law enforcement",
         "orientation": "v",
         "showlegend": true,
         "text": {
          "bdata": "AAAAAABSoUA=",
          "dtype": "f8"
         },
         "textposition": "auto",
         "type": "bar",
         "x": [
          "unjust law enforcement"
         ],
         "xaxis": "x",
         "y": {
          "bdata": "qQg=",
          "dtype": "i2"
         },
         "yaxis": "y"
        },
        {
         "hovertemplate": "Category:'%{x}' Counted: %{y}",
         "legendgroup": "democracy",
         "marker": {
          "color": "#ab63fa",
          "pattern": {
           "shape": ""
          }
         },
         "name": "democracy",
         "orientation": "v",
         "showlegend": true,
         "text": {
          "bdata": "AAAAAAAQnkA=",
          "dtype": "f8"
         },
         "textposition": "auto",
         "type": "bar",
         "x": [
          "democracy"
         ],
         "xaxis": "x",
         "y": {
          "bdata": "hAc=",
          "dtype": "i2"
         },
         "yaxis": "y"
        },
        {
         "hovertemplate": "Category:'%{x}' Counted: %{y}",
         "legendgroup": "animal welfare",
         "marker": {
          "color": "#FFA15A",
          "pattern": {
           "shape": ""
          }
         },
         "name": "animal welfare",
         "orientation": "v",
         "showlegend": true,
         "text": {
          "bdata": "AAAAAAAklUA=",
          "dtype": "f8"
         },
         "textposition": "auto",
         "type": "bar",
         "x": [
          "animal welfare"
         ],
         "xaxis": "x",
         "y": {
          "bdata": "SQU=",
          "dtype": "i2"
         },
         "yaxis": "y"
        },
        {
         "hovertemplate": "Category:'%{x}' Counted: %{y}",
         "legendgroup": "public services",
         "marker": {
          "color": "#19d3f3",
          "pattern": {
           "shape": ""
          }
         },
         "name": "public services",
         "orientation": "v",
         "showlegend": true,
         "text": {
          "bdata": "AAAAAACskEA=",
          "dtype": "f8"
         },
         "textposition": "auto",
         "type": "bar",
         "x": [
          "public services"
         ],
         "xaxis": "x",
         "y": {
          "bdata": "KwQ=",
          "dtype": "i2"
         },
         "yaxis": "y"
        },
        {
         "hovertemplate": "Category:'%{x}' Counted: %{y}",
         "legendgroup": "discrimination",
         "marker": {
          "color": "#FF6692",
          "pattern": {
           "shape": ""
          }
         },
         "name": "discrimination",
         "orientation": "v",
         "showlegend": true,
         "text": {
          "bdata": "AAAAAAAQjkA=",
          "dtype": "f8"
         },
         "textposition": "auto",
         "type": "bar",
         "x": [
          "discrimination"
         ],
         "xaxis": "x",
         "y": {
          "bdata": "wgM=",
          "dtype": "i2"
         },
         "yaxis": "y"
        },
        {
         "hovertemplate": "Category:'%{x}' Counted: %{y}",
         "legendgroup": "eviction",
         "marker": {
          "color": "#B6E880",
          "pattern": {
           "shape": ""
          }
         },
         "name": "eviction",
         "orientation": "v",
         "showlegend": true,
         "text": {
          "bdata": "AAAAAADgiUA=",
          "dtype": "f8"
         },
         "textposition": "auto",
         "type": "bar",
         "x": [
          "eviction"
         ],
         "xaxis": "x",
         "y": {
          "bdata": "PAM=",
          "dtype": "i2"
         },
         "yaxis": "y"
        },
        {
         "hovertemplate": "Category:'%{x}' Counted: %{y}",
         "legendgroup": "immigration",
         "marker": {
          "color": "#FF97FF",
          "pattern": {
           "shape": ""
          }
         },
         "name": "immigration",
         "orientation": "v",
         "showlegend": true,
         "text": {
          "bdata": "AAAAAADYgkA=",
          "dtype": "f8"
         },
         "textposition": "auto",
         "type": "bar",
         "x": [
          "immigration"
         ],
         "xaxis": "x",
         "y": {
          "bdata": "WwI=",
          "dtype": "i2"
         },
         "yaxis": "y"
        },
        {
         "hovertemplate": "Category:'%{x}' Counted: %{y}",
         "legendgroup": "tourism",
         "marker": {
          "color": "#FECB52",
          "pattern": {
           "shape": ""
          }
         },
         "name": "tourism",
         "orientation": "v",
         "showlegend": true,
         "text": {
          "bdata": "AAAAAADAe0A=",
          "dtype": "f8"
         },
         "textposition": "auto",
         "type": "bar",
         "x": [
          "tourism"
         ],
         "xaxis": "x",
         "y": {
          "bdata": "vAE=",
          "dtype": "i2"
         },
         "yaxis": "y"
        },
        {
         "hovertemplate": "Category:'%{x}' Counted: %{y}",
         "legendgroup": "social welfare",
         "marker": {
          "color": "#636efa",
          "pattern": {
           "shape": ""
          }
         },
         "name": "social welfare",
         "orientation": "v",
         "showlegend": true,
         "text": {
          "bdata": "AAAAAACgdEA=",
          "dtype": "f8"
         },
         "textposition": "auto",
         "type": "bar",
         "x": [
          "social welfare"
         ],
         "xaxis": "x",
         "y": {
          "bdata": "SgE=",
          "dtype": "i2"
         },
         "yaxis": "y"
        },
        {
         "hovertemplate": "Category:'%{x}' Counted: %{y}",
         "legendgroup": "anti crime",
         "marker": {
          "color": "#EF553B",
          "pattern": {
           "shape": ""
          }
         },
         "name": "anti crime",
         "orientation": "v",
         "showlegend": true,
         "text": {
          "bdata": "AAAAAAAAXUA=",
          "dtype": "f8"
         },
         "textposition": "auto",
         "type": "bar",
         "x": [
          "anti crime"
         ],
         "xaxis": "x",
         "y": {
          "bdata": "dA==",
          "dtype": "i1"
         },
         "yaxis": "y"
        },
        {
         "hovertemplate": "Category:'%{x}' Counted: %{y}",
         "legendgroup": "skip",
         "marker": {
          "color": "#00cc96",
          "pattern": {
           "shape": ""
          }
         },
         "name": "skip",
         "orientation": "v",
         "showlegend": true,
         "text": {
          "bdata": "AAAAAADAVkA=",
          "dtype": "f8"
         },
         "textposition": "auto",
         "type": "bar",
         "x": [
          "skip"
         ],
         "xaxis": "x",
         "y": {
          "bdata": "Ww==",
          "dtype": "i1"
         },
         "yaxis": "y"
        },
        {
         "hovertemplate": "Category:'%{x}' Counted: %{y}",
         "legendgroup": "local policy",
         "marker": {
          "color": "#ab63fa",
          "pattern": {
           "shape": ""
          }
         },
         "name": "local policy",
         "orientation": "v",
         "showlegend": true,
         "text": {
          "bdata": "AAAAAACAQUA=",
          "dtype": "f8"
         },
         "textposition": "auto",
         "type": "bar",
         "x": [
          "local policy"
         ],
         "xaxis": "x",
         "y": {
          "bdata": "Iw==",
          "dtype": "i1"
         },
         "yaxis": "y"
        },
        {
         "hovertemplate": "Category:'%{x}' Counted: %{y}",
         "legendgroup": "housing",
         "marker": {
          "color": "#FFA15A",
          "pattern": {
           "shape": ""
          }
         },
         "name": "housing",
         "orientation": "v",
         "showlegend": true,
         "text": {
          "bdata": "AAAAAACAQEA=",
          "dtype": "f8"
         },
         "textposition": "auto",
         "type": "bar",
         "x": [
          "housing"
         ],
         "xaxis": "x",
         "y": {
          "bdata": "IQ==",
          "dtype": "i1"
         },
         "yaxis": "y"
        },
        {
         "hovertemplate": "Category:'%{x}' Counted: %{y}",
         "legendgroup": "cyprus conflict",
         "marker": {
          "color": "#19d3f3",
          "pattern": {
           "shape": ""
          }
         },
         "name": "cyprus conflict",
         "orientation": "v",
         "showlegend": true,
         "text": {
          "bdata": "AAAAAAAAP0A=",
          "dtype": "f8"
         },
         "textposition": "auto",
         "type": "bar",
         "x": [
          "cyprus conflict"
         ],
         "xaxis": "x",
         "y": {
          "bdata": "Hw==",
          "dtype": "i1"
         },
         "yaxis": "y"
        },
        {
         "hovertemplate": "Category:'%{x}' Counted: %{y}",
         "legendgroup": "sudan conflict",
         "marker": {
          "color": "#FF6692",
          "pattern": {
           "shape": ""
          }
         },
         "name": "sudan conflict",
         "orientation": "v",
         "showlegend": true,
         "text": {
          "bdata": "AAAAAAAAOkA=",
          "dtype": "f8"
         },
         "textposition": "auto",
         "type": "bar",
         "x": [
          "sudan conflict"
         ],
         "xaxis": "x",
         "y": {
          "bdata": "Gg==",
          "dtype": "i1"
         },
         "yaxis": "y"
        },
        {
         "hovertemplate": "Category:'%{x}' Counted: %{y}",
         "legendgroup": "youth violence",
         "marker": {
          "color": "#B6E880",
          "pattern": {
           "shape": ""
          }
         },
         "name": "youth violence",
         "orientation": "v",
         "showlegend": true,
         "text": {
          "bdata": "AAAAAAAAIEA=",
          "dtype": "f8"
         },
         "textposition": "auto",
         "type": "bar",
         "x": [
          "youth violence"
         ],
         "xaxis": "x",
         "y": {
          "bdata": "CA==",
          "dtype": "i1"
         },
         "yaxis": "y"
        },
        {
         "hovertemplate": "Category:'%{x}' Counted: %{y}",
         "legendgroup": "economic justice",
         "marker": {
          "color": "#FF97FF",
          "pattern": {
           "shape": ""
          }
         },
         "name": "economic justice",
         "orientation": "v",
         "showlegend": true,
         "text": {
          "bdata": "AAAAAAAAIEA=",
          "dtype": "f8"
         },
         "textposition": "auto",
         "type": "bar",
         "x": [
          "economic justice"
         ],
         "xaxis": "x",
         "y": {
          "bdata": "CA==",
          "dtype": "i1"
         },
         "yaxis": "y"
        },
        {
         "hovertemplate": "Category:'%{x}' Counted: %{y}",
         "legendgroup": "military",
         "marker": {
          "color": "#FECB52",
          "pattern": {
           "shape": ""
          }
         },
         "name": "military",
         "orientation": "v",
         "showlegend": true,
         "text": {
          "bdata": "AAAAAAAAAEA=",
          "dtype": "f8"
         },
         "textposition": "auto",
         "type": "bar",
         "x": [
          "military"
         ],
         "xaxis": "x",
         "y": {
          "bdata": "Ag==",
          "dtype": "i1"
         },
         "yaxis": "y"
        }
       ],
       "layout": {
        "barmode": "relative",
        "height": 500,
        "legend": {
         "title": {
          "text": "color"
         },
         "tracegroupgap": 0
        },
        "margin": {
         "t": 60
        },
        "plot_bgcolor": "white",
        "showlegend": false,
        "template": {
         "data": {
          "bar": [
           {
            "error_x": {
             "color": "#2a3f5f"
            },
            "error_y": {
             "color": "#2a3f5f"
            },
            "marker": {
             "line": {
              "color": "#E5ECF6",
              "width": 0.5
             },
             "pattern": {
              "fillmode": "overlay",
              "size": 10,
              "solidity": 0.2
             }
            },
            "type": "bar"
           }
          ],
          "barpolar": [
           {
            "marker": {
             "line": {
              "color": "#E5ECF6",
              "width": 0.5
             },
             "pattern": {
              "fillmode": "overlay",
              "size": 10,
              "solidity": 0.2
             }
            },
            "type": "barpolar"
           }
          ],
          "carpet": [
           {
            "aaxis": {
             "endlinecolor": "#2a3f5f",
             "gridcolor": "white",
             "linecolor": "white",
             "minorgridcolor": "white",
             "startlinecolor": "#2a3f5f"
            },
            "baxis": {
             "endlinecolor": "#2a3f5f",
             "gridcolor": "white",
             "linecolor": "white",
             "minorgridcolor": "white",
             "startlinecolor": "#2a3f5f"
            },
            "type": "carpet"
           }
          ],
          "choropleth": [
           {
            "colorbar": {
             "outlinewidth": 0,
             "ticks": ""
            },
            "type": "choropleth"
           }
          ],
          "contour": [
           {
            "colorbar": {
             "outlinewidth": 0,
             "ticks": ""
            },
            "colorscale": [
             [
              0,
              "#0d0887"
             ],
             [
              0.1111111111111111,
              "#46039f"
             ],
             [
              0.2222222222222222,
              "#7201a8"
             ],
             [
              0.3333333333333333,
              "#9c179e"
             ],
             [
              0.4444444444444444,
              "#bd3786"
             ],
             [
              0.5555555555555556,
              "#d8576b"
             ],
             [
              0.6666666666666666,
              "#ed7953"
             ],
             [
              0.7777777777777778,
              "#fb9f3a"
             ],
             [
              0.8888888888888888,
              "#fdca26"
             ],
             [
              1,
              "#f0f921"
             ]
            ],
            "type": "contour"
           }
          ],
          "contourcarpet": [
           {
            "colorbar": {
             "outlinewidth": 0,
             "ticks": ""
            },
            "type": "contourcarpet"
           }
          ],
          "heatmap": [
           {
            "colorbar": {
             "outlinewidth": 0,
             "ticks": ""
            },
            "colorscale": [
             [
              0,
              "#0d0887"
             ],
             [
              0.1111111111111111,
              "#46039f"
             ],
             [
              0.2222222222222222,
              "#7201a8"
             ],
             [
              0.3333333333333333,
              "#9c179e"
             ],
             [
              0.4444444444444444,
              "#bd3786"
             ],
             [
              0.5555555555555556,
              "#d8576b"
             ],
             [
              0.6666666666666666,
              "#ed7953"
             ],
             [
              0.7777777777777778,
              "#fb9f3a"
             ],
             [
              0.8888888888888888,
              "#fdca26"
             ],
             [
              1,
              "#f0f921"
             ]
            ],
            "type": "heatmap"
           }
          ],
          "histogram": [
           {
            "marker": {
             "pattern": {
              "fillmode": "overlay",
              "size": 10,
              "solidity": 0.2
             }
            },
            "type": "histogram"
           }
          ],
          "histogram2d": [
           {
            "colorbar": {
             "outlinewidth": 0,
             "ticks": ""
            },
            "colorscale": [
             [
              0,
              "#0d0887"
             ],
             [
              0.1111111111111111,
              "#46039f"
             ],
             [
              0.2222222222222222,
              "#7201a8"
             ],
             [
              0.3333333333333333,
              "#9c179e"
             ],
             [
              0.4444444444444444,
              "#bd3786"
             ],
             [
              0.5555555555555556,
              "#d8576b"
             ],
             [
              0.6666666666666666,
              "#ed7953"
             ],
             [
              0.7777777777777778,
              "#fb9f3a"
             ],
             [
              0.8888888888888888,
              "#fdca26"
             ],
             [
              1,
              "#f0f921"
             ]
            ],
            "type": "histogram2d"
           }
          ],
          "histogram2dcontour": [
           {
            "colorbar": {
             "outlinewidth": 0,
             "ticks": ""
            },
            "colorscale": [
             [
              0,
              "#0d0887"
             ],
             [
              0.1111111111111111,
              "#46039f"
             ],
             [
              0.2222222222222222,
              "#7201a8"
             ],
             [
              0.3333333333333333,
              "#9c179e"
             ],
             [
              0.4444444444444444,
              "#bd3786"
             ],
             [
              0.5555555555555556,
              "#d8576b"
             ],
             [
              0.6666666666666666,
              "#ed7953"
             ],
             [
              0.7777777777777778,
              "#fb9f3a"
             ],
             [
              0.8888888888888888,
              "#fdca26"
             ],
             [
              1,
              "#f0f921"
             ]
            ],
            "type": "histogram2dcontour"
           }
          ],
          "mesh3d": [
           {
            "colorbar": {
             "outlinewidth": 0,
             "ticks": ""
            },
            "type": "mesh3d"
           }
          ],
          "parcoords": [
           {
            "line": {
             "colorbar": {
              "outlinewidth": 0,
              "ticks": ""
             }
            },
            "type": "parcoords"
           }
          ],
          "pie": [
           {
            "automargin": true,
            "type": "pie"
           }
          ],
          "scatter": [
           {
            "fillpattern": {
             "fillmode": "overlay",
             "size": 10,
             "solidity": 0.2
            },
            "type": "scatter"
           }
          ],
          "scatter3d": [
           {
            "line": {
             "colorbar": {
              "outlinewidth": 0,
              "ticks": ""
             }
            },
            "marker": {
             "colorbar": {
              "outlinewidth": 0,
              "ticks": ""
             }
            },
            "type": "scatter3d"
           }
          ],
          "scattercarpet": [
           {
            "marker": {
             "colorbar": {
              "outlinewidth": 0,
              "ticks": ""
             }
            },
            "type": "scattercarpet"
           }
          ],
          "scattergeo": [
           {
            "marker": {
             "colorbar": {
              "outlinewidth": 0,
              "ticks": ""
             }
            },
            "type": "scattergeo"
           }
          ],
          "scattergl": [
           {
            "marker": {
             "colorbar": {
              "outlinewidth": 0,
              "ticks": ""
             }
            },
            "type": "scattergl"
           }
          ],
          "scattermap": [
           {
            "marker": {
             "colorbar": {
              "outlinewidth": 0,
              "ticks": ""
             }
            },
            "type": "scattermap"
           }
          ],
          "scattermapbox": [
           {
            "marker": {
             "colorbar": {
              "outlinewidth": 0,
              "ticks": ""
             }
            },
            "type": "scattermapbox"
           }
          ],
          "scatterpolar": [
           {
            "marker": {
             "colorbar": {
              "outlinewidth": 0,
              "ticks": ""
             }
            },
            "type": "scatterpolar"
           }
          ],
          "scatterpolargl": [
           {
            "marker": {
             "colorbar": {
              "outlinewidth": 0,
              "ticks": ""
             }
            },
            "type": "scatterpolargl"
           }
          ],
          "scatterternary": [
           {
            "marker": {
             "colorbar": {
              "outlinewidth": 0,
              "ticks": ""
             }
            },
            "type": "scatterternary"
           }
          ],
          "surface": [
           {
            "colorbar": {
             "outlinewidth": 0,
             "ticks": ""
            },
            "colorscale": [
             [
              0,
              "#0d0887"
             ],
             [
              0.1111111111111111,
              "#46039f"
             ],
             [
              0.2222222222222222,
              "#7201a8"
             ],
             [
              0.3333333333333333,
              "#9c179e"
             ],
             [
              0.4444444444444444,
              "#bd3786"
             ],
             [
              0.5555555555555556,
              "#d8576b"
             ],
             [
              0.6666666666666666,
              "#ed7953"
             ],
             [
              0.7777777777777778,
              "#fb9f3a"
             ],
             [
              0.8888888888888888,
              "#fdca26"
             ],
             [
              1,
              "#f0f921"
             ]
            ],
            "type": "surface"
           }
          ],
          "table": [
           {
            "cells": {
             "fill": {
              "color": "#EBF0F8"
             },
             "line": {
              "color": "white"
             }
            },
            "header": {
             "fill": {
              "color": "#C8D4E3"
             },
             "line": {
              "color": "white"
             }
            },
            "type": "table"
           }
          ]
         },
         "layout": {
          "annotationdefaults": {
           "arrowcolor": "#2a3f5f",
           "arrowhead": 0,
           "arrowwidth": 1
          },
          "autotypenumbers": "strict",
          "coloraxis": {
           "colorbar": {
            "outlinewidth": 0,
            "ticks": ""
           }
          },
          "colorscale": {
           "diverging": [
            [
             0,
             "#8e0152"
            ],
            [
             0.1,
             "#c51b7d"
            ],
            [
             0.2,
             "#de77ae"
            ],
            [
             0.3,
             "#f1b6da"
            ],
            [
             0.4,
             "#fde0ef"
            ],
            [
             0.5,
             "#f7f7f7"
            ],
            [
             0.6,
             "#e6f5d0"
            ],
            [
             0.7,
             "#b8e186"
            ],
            [
             0.8,
             "#7fbc41"
            ],
            [
             0.9,
             "#4d9221"
            ],
            [
             1,
             "#276419"
            ]
           ],
           "sequential": [
            [
             0,
             "#0d0887"
            ],
            [
             0.1111111111111111,
             "#46039f"
            ],
            [
             0.2222222222222222,
             "#7201a8"
            ],
            [
             0.3333333333333333,
             "#9c179e"
            ],
            [
             0.4444444444444444,
             "#bd3786"
            ],
            [
             0.5555555555555556,
             "#d8576b"
            ],
            [
             0.6666666666666666,
             "#ed7953"
            ],
            [
             0.7777777777777778,
             "#fb9f3a"
            ],
            [
             0.8888888888888888,
             "#fdca26"
            ],
            [
             1,
             "#f0f921"
            ]
           ],
           "sequentialminus": [
            [
             0,
             "#0d0887"
            ],
            [
             0.1111111111111111,
             "#46039f"
            ],
            [
             0.2222222222222222,
             "#7201a8"
            ],
            [
             0.3333333333333333,
             "#9c179e"
            ],
            [
             0.4444444444444444,
             "#bd3786"
            ],
            [
             0.5555555555555556,
             "#d8576b"
            ],
            [
             0.6666666666666666,
             "#ed7953"
            ],
            [
             0.7777777777777778,
             "#fb9f3a"
            ],
            [
             0.8888888888888888,
             "#fdca26"
            ],
            [
             1,
             "#f0f921"
            ]
           ]
          },
          "colorway": [
           "#636efa",
           "#EF553B",
           "#00cc96",
           "#ab63fa",
           "#FFA15A",
           "#19d3f3",
           "#FF6692",
           "#B6E880",
           "#FF97FF",
           "#FECB52"
          ],
          "font": {
           "color": "#2a3f5f"
          },
          "geo": {
           "bgcolor": "white",
           "lakecolor": "white",
           "landcolor": "#E5ECF6",
           "showlakes": true,
           "showland": true,
           "subunitcolor": "white"
          },
          "hoverlabel": {
           "align": "left"
          },
          "hovermode": "closest",
          "mapbox": {
           "style": "light"
          },
          "paper_bgcolor": "white",
          "plot_bgcolor": "#E5ECF6",
          "polar": {
           "angularaxis": {
            "gridcolor": "white",
            "linecolor": "white",
            "ticks": ""
           },
           "bgcolor": "#E5ECF6",
           "radialaxis": {
            "gridcolor": "white",
            "linecolor": "white",
            "ticks": ""
           }
          },
          "scene": {
           "xaxis": {
            "backgroundcolor": "#E5ECF6",
            "gridcolor": "white",
            "gridwidth": 2,
            "linecolor": "white",
            "showbackground": true,
            "ticks": "",
            "zerolinecolor": "white"
           },
           "yaxis": {
            "backgroundcolor": "#E5ECF6",
            "gridcolor": "white",
            "gridwidth": 2,
            "linecolor": "white",
            "showbackground": true,
            "ticks": "",
            "zerolinecolor": "white"
           },
           "zaxis": {
            "backgroundcolor": "#E5ECF6",
            "gridcolor": "white",
            "gridwidth": 2,
            "linecolor": "white",
            "showbackground": true,
            "ticks": "",
            "zerolinecolor": "white"
           }
          },
          "shapedefaults": {
           "line": {
            "color": "#2a3f5f"
           }
          },
          "ternary": {
           "aaxis": {
            "gridcolor": "white",
            "linecolor": "white",
            "ticks": ""
           },
           "baxis": {
            "gridcolor": "white",
            "linecolor": "white",
            "ticks": ""
           },
           "bgcolor": "#E5ECF6",
           "caxis": {
            "gridcolor": "white",
            "linecolor": "white",
            "ticks": ""
           }
          },
          "title": {
           "x": 0.05
          },
          "xaxis": {
           "automargin": true,
           "gridcolor": "white",
           "linecolor": "white",
           "ticks": "",
           "title": {
            "standoff": 15
           },
           "zerolinecolor": "white",
           "zerolinewidth": 2
          },
          "yaxis": {
           "automargin": true,
           "gridcolor": "white",
           "linecolor": "white",
           "ticks": "",
           "title": {
            "standoff": 15
           },
           "zerolinecolor": "white",
           "zerolinewidth": 2
          }
         }
        },
        "title": {
         "font": {
          "size": 35
         },
         "text": "Category Counts",
         "x": 0.5
        },
        "width": 800,
        "xaxis": {
         "anchor": "y",
         "domain": [
          0,
          1
         ],
         "showgrid": false,
         "title": {
          "text": "Category"
         }
        },
        "yaxis": {
         "anchor": "x",
         "domain": [
          0,
          1
         ],
         "showgrid": false,
         "title": {
          "text": "Value"
         }
        }
       }
      },
      "text/html": [
       "<div>            <script src=\"https://cdnjs.cloudflare.com/ajax/libs/mathjax/2.7.5/MathJax.js?config=TeX-AMS-MML_SVG\"></script><script type=\"text/javascript\">if (window.MathJax && window.MathJax.Hub && window.MathJax.Hub.Config) {window.MathJax.Hub.Config({SVG: {font: \"STIX-Web\"}});}</script>                <script type=\"text/javascript\">window.PlotlyConfig = {MathJaxConfig: 'local'};</script>\n",
       "        <script charset=\"utf-8\" src=\"https://cdn.plot.ly/plotly-3.0.1.min.js\"></script>                <div id=\"37a48f68-0464-4867-89ef-ae82d76d61ac\" class=\"plotly-graph-div\" style=\"height:500px; width:800px;\"></div>            <script type=\"text/javascript\">                window.PLOTLYENV=window.PLOTLYENV || {};                                if (document.getElementById(\"37a48f68-0464-4867-89ef-ae82d76d61ac\")) {                    Plotly.newPlot(                        \"37a48f68-0464-4867-89ef-ae82d76d61ac\",                        [{\"hovertemplate\":\"Category:'%{x}' Counted: %{y}\",\"legendgroup\":\"labor rights\",\"marker\":{\"color\":\"#636efa\",\"pattern\":{\"shape\":\"\"}},\"name\":\"labor rights\",\"orientation\":\"v\",\"showlegend\":true,\"text\":{\"dtype\":\"f8\",\"bdata\":\"AAAAAEAk3UA=\"},\"textposition\":\"auto\",\"x\":[\"labor rights\"],\"xaxis\":\"x\",\"y\":{\"dtype\":\"i2\",\"bdata\":\"kXQ=\"},\"yaxis\":\"y\",\"type\":\"bar\"},{\"hovertemplate\":\"Category:'%{x}' Counted: %{y}\",\"legendgroup\":\"education\",\"marker\":{\"color\":\"#EF553B\",\"pattern\":{\"shape\":\"\"}},\"name\":\"education\",\"orientation\":\"v\",\"showlegend\":true,\"text\":{\"dtype\":\"f8\",\"bdata\":\"AAAAAIAh1kA=\"},\"textposition\":\"auto\",\"x\":[\"education\"],\"xaxis\":\"x\",\"y\":{\"dtype\":\"i2\",\"bdata\":\"hlg=\"},\"yaxis\":\"y\",\"type\":\"bar\"},{\"hovertemplate\":\"Category:'%{x}' Counted: %{y}\",\"legendgroup\":\"culture\",\"marker\":{\"color\":\"#00cc96\",\"pattern\":{\"shape\":\"\"}},\"name\":\"culture\",\"orientation\":\"v\",\"showlegend\":true,\"text\":{\"dtype\":\"f8\",\"bdata\":\"AAAAAABKvkA=\"},\"textposition\":\"auto\",\"x\":[\"culture\"],\"xaxis\":\"x\",\"y\":{\"dtype\":\"i2\",\"bdata\":\"Sh4=\"},\"yaxis\":\"y\",\"type\":\"bar\"},{\"hovertemplate\":\"Category:'%{x}' Counted: %{y}\",\"legendgroup\":\"environment\",\"marker\":{\"color\":\"#ab63fa\",\"pattern\":{\"shape\":\"\"}},\"name\":\"environment\",\"orientation\":\"v\",\"showlegend\":true,\"text\":{\"dtype\":\"f8\",\"bdata\":\"AAAAAADhukA=\"},\"textposition\":\"auto\",\"x\":[\"environment\"],\"xaxis\":\"x\",\"y\":{\"dtype\":\"i2\",\"bdata\":\"4Ro=\"},\"yaxis\":\"y\",\"type\":\"bar\"},{\"hovertemplate\":\"Category:'%{x}' Counted: %{y}\",\"legendgroup\":\"palestine-israel conflict\",\"marker\":{\"color\":\"#FFA15A\",\"pattern\":{\"shape\":\"\"}},\"name\":\"palestine-israel conflict\",\"orientation\":\"v\",\"showlegend\":true,\"text\":{\"dtype\":\"f8\",\"bdata\":\"AAAAAAADuEA=\"},\"textposition\":\"auto\",\"x\":[\"palestine-israel conflict\"],\"xaxis\":\"x\",\"y\":{\"dtype\":\"i2\",\"bdata\":\"Axg=\"},\"yaxis\":\"y\",\"type\":\"bar\"},{\"hovertemplate\":\"Category:'%{x}' Counted: %{y}\",\"legendgroup\":\"ukraine-russia war\",\"marker\":{\"color\":\"#19d3f3\",\"pattern\":{\"shape\":\"\"}},\"name\":\"ukraine-russia war\",\"orientation\":\"v\",\"showlegend\":true,\"text\":{\"dtype\":\"f8\",\"bdata\":\"AAAAAADRtUA=\"},\"textposition\":\"auto\",\"x\":[\"ukraine-russia war\"],\"xaxis\":\"x\",\"y\":{\"dtype\":\"i2\",\"bdata\":\"0RU=\"},\"yaxis\":\"y\",\"type\":\"bar\"},{\"hovertemplate\":\"Category:'%{x}' Counted: %{y}\",\"legendgroup\":\"infrastructure\",\"marker\":{\"color\":\"#FF6692\",\"pattern\":{\"shape\":\"\"}},\"name\":\"infrastructure\",\"orientation\":\"v\",\"showlegend\":true,\"text\":{\"dtype\":\"f8\",\"bdata\":\"AAAAAAAztUA=\"},\"textposition\":\"auto\",\"x\":[\"infrastructure\"],\"xaxis\":\"x\",\"y\":{\"dtype\":\"i2\",\"bdata\":\"MxU=\"},\"yaxis\":\"y\",\"type\":\"bar\"},{\"hovertemplate\":\"Category:'%{x}' Counted: %{y}\",\"legendgroup\":\"climate\",\"marker\":{\"color\":\"#B6E880\",\"pattern\":{\"shape\":\"\"}},\"name\":\"climate\",\"orientation\":\"v\",\"showlegend\":true,\"text\":{\"dtype\":\"f8\",\"bdata\":\"AAAAAABbskA=\"},\"textposition\":\"auto\",\"x\":[\"climate\"],\"xaxis\":\"x\",\"y\":{\"dtype\":\"i2\",\"bdata\":\"WxI=\"},\"yaxis\":\"y\",\"type\":\"bar\"},{\"hovertemplate\":\"Category:'%{x}' Counted: %{y}\",\"legendgroup\":\"health care\",\"marker\":{\"color\":\"#FF97FF\",\"pattern\":{\"shape\":\"\"}},\"name\":\"health care\",\"orientation\":\"v\",\"showlegend\":true,\"text\":{\"dtype\":\"f8\",\"bdata\":\"AAAAAABOr0A=\"},\"textposition\":\"auto\",\"x\":[\"health care\"],\"xaxis\":\"x\",\"y\":{\"dtype\":\"i2\",\"bdata\":\"pw8=\"},\"yaxis\":\"y\",\"type\":\"bar\"},{\"hovertemplate\":\"Category:'%{x}' Counted: %{y}\",\"legendgroup\":\"political\",\"marker\":{\"color\":\"#FECB52\",\"pattern\":{\"shape\":\"\"}},\"name\":\"political\",\"orientation\":\"v\",\"showlegend\":true,\"text\":{\"dtype\":\"f8\",\"bdata\":\"AAAAAADgrkA=\"},\"textposition\":\"auto\",\"x\":[\"political\"],\"xaxis\":\"x\",\"y\":{\"dtype\":\"i2\",\"bdata\":\"cA8=\"},\"yaxis\":\"y\",\"type\":\"bar\"},{\"hovertemplate\":\"Category:'%{x}' Counted: %{y}\",\"legendgroup\":\"women rights\",\"marker\":{\"color\":\"#636efa\",\"pattern\":{\"shape\":\"\"}},\"name\":\"women rights\",\"orientation\":\"v\",\"showlegend\":true,\"text\":{\"dtype\":\"f8\",\"bdata\":\"AAAAAACgqkA=\"},\"textposition\":\"auto\",\"x\":[\"women rights\"],\"xaxis\":\"x\",\"y\":{\"dtype\":\"i2\",\"bdata\":\"UA0=\"},\"yaxis\":\"y\",\"type\":\"bar\"},{\"hovertemplate\":\"Category:'%{x}' Counted: %{y}\",\"legendgroup\":\"farmers\",\"marker\":{\"color\":\"#EF553B\",\"pattern\":{\"shape\":\"\"}},\"name\":\"farmers\",\"orientation\":\"v\",\"showlegend\":true,\"text\":{\"dtype\":\"f8\",\"bdata\":\"AAAAAACEqUA=\"},\"textposition\":\"auto\",\"x\":[\"farmers\"],\"xaxis\":\"x\",\"y\":{\"dtype\":\"i2\",\"bdata\":\"wgw=\"},\"yaxis\":\"y\",\"type\":\"bar\"},{\"hovertemplate\":\"Category:'%{x}' Counted: %{y}\",\"legendgroup\":\"unjust law enforcement\",\"marker\":{\"color\":\"#00cc96\",\"pattern\":{\"shape\":\"\"}},\"name\":\"unjust law enforcement\",\"orientation\":\"v\",\"showlegend\":true,\"text\":{\"dtype\":\"f8\",\"bdata\":\"AAAAAABSoUA=\"},\"textposition\":\"auto\",\"x\":[\"unjust law enforcement\"],\"xaxis\":\"x\",\"y\":{\"dtype\":\"i2\",\"bdata\":\"qQg=\"},\"yaxis\":\"y\",\"type\":\"bar\"},{\"hovertemplate\":\"Category:'%{x}' Counted: %{y}\",\"legendgroup\":\"democracy\",\"marker\":{\"color\":\"#ab63fa\",\"pattern\":{\"shape\":\"\"}},\"name\":\"democracy\",\"orientation\":\"v\",\"showlegend\":true,\"text\":{\"dtype\":\"f8\",\"bdata\":\"AAAAAAAQnkA=\"},\"textposition\":\"auto\",\"x\":[\"democracy\"],\"xaxis\":\"x\",\"y\":{\"dtype\":\"i2\",\"bdata\":\"hAc=\"},\"yaxis\":\"y\",\"type\":\"bar\"},{\"hovertemplate\":\"Category:'%{x}' Counted: %{y}\",\"legendgroup\":\"animal welfare\",\"marker\":{\"color\":\"#FFA15A\",\"pattern\":{\"shape\":\"\"}},\"name\":\"animal welfare\",\"orientation\":\"v\",\"showlegend\":true,\"text\":{\"dtype\":\"f8\",\"bdata\":\"AAAAAAAklUA=\"},\"textposition\":\"auto\",\"x\":[\"animal welfare\"],\"xaxis\":\"x\",\"y\":{\"dtype\":\"i2\",\"bdata\":\"SQU=\"},\"yaxis\":\"y\",\"type\":\"bar\"},{\"hovertemplate\":\"Category:'%{x}' Counted: %{y}\",\"legendgroup\":\"public services\",\"marker\":{\"color\":\"#19d3f3\",\"pattern\":{\"shape\":\"\"}},\"name\":\"public services\",\"orientation\":\"v\",\"showlegend\":true,\"text\":{\"dtype\":\"f8\",\"bdata\":\"AAAAAACskEA=\"},\"textposition\":\"auto\",\"x\":[\"public services\"],\"xaxis\":\"x\",\"y\":{\"dtype\":\"i2\",\"bdata\":\"KwQ=\"},\"yaxis\":\"y\",\"type\":\"bar\"},{\"hovertemplate\":\"Category:'%{x}' Counted: %{y}\",\"legendgroup\":\"discrimination\",\"marker\":{\"color\":\"#FF6692\",\"pattern\":{\"shape\":\"\"}},\"name\":\"discrimination\",\"orientation\":\"v\",\"showlegend\":true,\"text\":{\"dtype\":\"f8\",\"bdata\":\"AAAAAAAQjkA=\"},\"textposition\":\"auto\",\"x\":[\"discrimination\"],\"xaxis\":\"x\",\"y\":{\"dtype\":\"i2\",\"bdata\":\"wgM=\"},\"yaxis\":\"y\",\"type\":\"bar\"},{\"hovertemplate\":\"Category:'%{x}' Counted: %{y}\",\"legendgroup\":\"eviction\",\"marker\":{\"color\":\"#B6E880\",\"pattern\":{\"shape\":\"\"}},\"name\":\"eviction\",\"orientation\":\"v\",\"showlegend\":true,\"text\":{\"dtype\":\"f8\",\"bdata\":\"AAAAAADgiUA=\"},\"textposition\":\"auto\",\"x\":[\"eviction\"],\"xaxis\":\"x\",\"y\":{\"dtype\":\"i2\",\"bdata\":\"PAM=\"},\"yaxis\":\"y\",\"type\":\"bar\"},{\"hovertemplate\":\"Category:'%{x}' Counted: %{y}\",\"legendgroup\":\"immigration\",\"marker\":{\"color\":\"#FF97FF\",\"pattern\":{\"shape\":\"\"}},\"name\":\"immigration\",\"orientation\":\"v\",\"showlegend\":true,\"text\":{\"dtype\":\"f8\",\"bdata\":\"AAAAAADYgkA=\"},\"textposition\":\"auto\",\"x\":[\"immigration\"],\"xaxis\":\"x\",\"y\":{\"dtype\":\"i2\",\"bdata\":\"WwI=\"},\"yaxis\":\"y\",\"type\":\"bar\"},{\"hovertemplate\":\"Category:'%{x}' Counted: %{y}\",\"legendgroup\":\"tourism\",\"marker\":{\"color\":\"#FECB52\",\"pattern\":{\"shape\":\"\"}},\"name\":\"tourism\",\"orientation\":\"v\",\"showlegend\":true,\"text\":{\"dtype\":\"f8\",\"bdata\":\"AAAAAADAe0A=\"},\"textposition\":\"auto\",\"x\":[\"tourism\"],\"xaxis\":\"x\",\"y\":{\"dtype\":\"i2\",\"bdata\":\"vAE=\"},\"yaxis\":\"y\",\"type\":\"bar\"},{\"hovertemplate\":\"Category:'%{x}' Counted: %{y}\",\"legendgroup\":\"social welfare\",\"marker\":{\"color\":\"#636efa\",\"pattern\":{\"shape\":\"\"}},\"name\":\"social welfare\",\"orientation\":\"v\",\"showlegend\":true,\"text\":{\"dtype\":\"f8\",\"bdata\":\"AAAAAACgdEA=\"},\"textposition\":\"auto\",\"x\":[\"social welfare\"],\"xaxis\":\"x\",\"y\":{\"dtype\":\"i2\",\"bdata\":\"SgE=\"},\"yaxis\":\"y\",\"type\":\"bar\"},{\"hovertemplate\":\"Category:'%{x}' Counted: %{y}\",\"legendgroup\":\"anti crime\",\"marker\":{\"color\":\"#EF553B\",\"pattern\":{\"shape\":\"\"}},\"name\":\"anti crime\",\"orientation\":\"v\",\"showlegend\":true,\"text\":{\"dtype\":\"f8\",\"bdata\":\"AAAAAAAAXUA=\"},\"textposition\":\"auto\",\"x\":[\"anti crime\"],\"xaxis\":\"x\",\"y\":{\"dtype\":\"i1\",\"bdata\":\"dA==\"},\"yaxis\":\"y\",\"type\":\"bar\"},{\"hovertemplate\":\"Category:'%{x}' Counted: %{y}\",\"legendgroup\":\"skip\",\"marker\":{\"color\":\"#00cc96\",\"pattern\":{\"shape\":\"\"}},\"name\":\"skip\",\"orientation\":\"v\",\"showlegend\":true,\"text\":{\"dtype\":\"f8\",\"bdata\":\"AAAAAADAVkA=\"},\"textposition\":\"auto\",\"x\":[\"skip\"],\"xaxis\":\"x\",\"y\":{\"dtype\":\"i1\",\"bdata\":\"Ww==\"},\"yaxis\":\"y\",\"type\":\"bar\"},{\"hovertemplate\":\"Category:'%{x}' Counted: %{y}\",\"legendgroup\":\"local policy\",\"marker\":{\"color\":\"#ab63fa\",\"pattern\":{\"shape\":\"\"}},\"name\":\"local policy\",\"orientation\":\"v\",\"showlegend\":true,\"text\":{\"dtype\":\"f8\",\"bdata\":\"AAAAAACAQUA=\"},\"textposition\":\"auto\",\"x\":[\"local policy\"],\"xaxis\":\"x\",\"y\":{\"dtype\":\"i1\",\"bdata\":\"Iw==\"},\"yaxis\":\"y\",\"type\":\"bar\"},{\"hovertemplate\":\"Category:'%{x}' Counted: %{y}\",\"legendgroup\":\"housing\",\"marker\":{\"color\":\"#FFA15A\",\"pattern\":{\"shape\":\"\"}},\"name\":\"housing\",\"orientation\":\"v\",\"showlegend\":true,\"text\":{\"dtype\":\"f8\",\"bdata\":\"AAAAAACAQEA=\"},\"textposition\":\"auto\",\"x\":[\"housing\"],\"xaxis\":\"x\",\"y\":{\"dtype\":\"i1\",\"bdata\":\"IQ==\"},\"yaxis\":\"y\",\"type\":\"bar\"},{\"hovertemplate\":\"Category:'%{x}' Counted: %{y}\",\"legendgroup\":\"cyprus conflict\",\"marker\":{\"color\":\"#19d3f3\",\"pattern\":{\"shape\":\"\"}},\"name\":\"cyprus conflict\",\"orientation\":\"v\",\"showlegend\":true,\"text\":{\"dtype\":\"f8\",\"bdata\":\"AAAAAAAAP0A=\"},\"textposition\":\"auto\",\"x\":[\"cyprus conflict\"],\"xaxis\":\"x\",\"y\":{\"dtype\":\"i1\",\"bdata\":\"Hw==\"},\"yaxis\":\"y\",\"type\":\"bar\"},{\"hovertemplate\":\"Category:'%{x}' Counted: %{y}\",\"legendgroup\":\"sudan conflict\",\"marker\":{\"color\":\"#FF6692\",\"pattern\":{\"shape\":\"\"}},\"name\":\"sudan conflict\",\"orientation\":\"v\",\"showlegend\":true,\"text\":{\"dtype\":\"f8\",\"bdata\":\"AAAAAAAAOkA=\"},\"textposition\":\"auto\",\"x\":[\"sudan conflict\"],\"xaxis\":\"x\",\"y\":{\"dtype\":\"i1\",\"bdata\":\"Gg==\"},\"yaxis\":\"y\",\"type\":\"bar\"},{\"hovertemplate\":\"Category:'%{x}' Counted: %{y}\",\"legendgroup\":\"youth violence\",\"marker\":{\"color\":\"#B6E880\",\"pattern\":{\"shape\":\"\"}},\"name\":\"youth violence\",\"orientation\":\"v\",\"showlegend\":true,\"text\":{\"dtype\":\"f8\",\"bdata\":\"AAAAAAAAIEA=\"},\"textposition\":\"auto\",\"x\":[\"youth violence\"],\"xaxis\":\"x\",\"y\":{\"dtype\":\"i1\",\"bdata\":\"CA==\"},\"yaxis\":\"y\",\"type\":\"bar\"},{\"hovertemplate\":\"Category:'%{x}' Counted: %{y}\",\"legendgroup\":\"economic justice\",\"marker\":{\"color\":\"#FF97FF\",\"pattern\":{\"shape\":\"\"}},\"name\":\"economic justice\",\"orientation\":\"v\",\"showlegend\":true,\"text\":{\"dtype\":\"f8\",\"bdata\":\"AAAAAAAAIEA=\"},\"textposition\":\"auto\",\"x\":[\"economic justice\"],\"xaxis\":\"x\",\"y\":{\"dtype\":\"i1\",\"bdata\":\"CA==\"},\"yaxis\":\"y\",\"type\":\"bar\"},{\"hovertemplate\":\"Category:'%{x}' Counted: %{y}\",\"legendgroup\":\"military\",\"marker\":{\"color\":\"#FECB52\",\"pattern\":{\"shape\":\"\"}},\"name\":\"military\",\"orientation\":\"v\",\"showlegend\":true,\"text\":{\"dtype\":\"f8\",\"bdata\":\"AAAAAAAAAEA=\"},\"textposition\":\"auto\",\"x\":[\"military\"],\"xaxis\":\"x\",\"y\":{\"dtype\":\"i1\",\"bdata\":\"Ag==\"},\"yaxis\":\"y\",\"type\":\"bar\"}],                        {\"barmode\":\"relative\",\"height\":500,\"legend\":{\"title\":{\"text\":\"color\"},\"tracegroupgap\":0},\"margin\":{\"t\":60},\"plot_bgcolor\":\"white\",\"showlegend\":false,\"template\":{\"data\":{\"barpolar\":[{\"marker\":{\"line\":{\"color\":\"#E5ECF6\",\"width\":0.5},\"pattern\":{\"fillmode\":\"overlay\",\"size\":10,\"solidity\":0.2}},\"type\":\"barpolar\"}],\"bar\":[{\"error_x\":{\"color\":\"#2a3f5f\"},\"error_y\":{\"color\":\"#2a3f5f\"},\"marker\":{\"line\":{\"color\":\"#E5ECF6\",\"width\":0.5},\"pattern\":{\"fillmode\":\"overlay\",\"size\":10,\"solidity\":0.2}},\"type\":\"bar\"}],\"carpet\":[{\"aaxis\":{\"endlinecolor\":\"#2a3f5f\",\"gridcolor\":\"white\",\"linecolor\":\"white\",\"minorgridcolor\":\"white\",\"startlinecolor\":\"#2a3f5f\"},\"baxis\":{\"endlinecolor\":\"#2a3f5f\",\"gridcolor\":\"white\",\"linecolor\":\"white\",\"minorgridcolor\":\"white\",\"startlinecolor\":\"#2a3f5f\"},\"type\":\"carpet\"}],\"choropleth\":[{\"colorbar\":{\"outlinewidth\":0,\"ticks\":\"\"},\"type\":\"choropleth\"}],\"contourcarpet\":[{\"colorbar\":{\"outlinewidth\":0,\"ticks\":\"\"},\"type\":\"contourcarpet\"}],\"contour\":[{\"colorbar\":{\"outlinewidth\":0,\"ticks\":\"\"},\"colorscale\":[[0.0,\"#0d0887\"],[0.1111111111111111,\"#46039f\"],[0.2222222222222222,\"#7201a8\"],[0.3333333333333333,\"#9c179e\"],[0.4444444444444444,\"#bd3786\"],[0.5555555555555556,\"#d8576b\"],[0.6666666666666666,\"#ed7953\"],[0.7777777777777778,\"#fb9f3a\"],[0.8888888888888888,\"#fdca26\"],[1.0,\"#f0f921\"]],\"type\":\"contour\"}],\"heatmap\":[{\"colorbar\":{\"outlinewidth\":0,\"ticks\":\"\"},\"colorscale\":[[0.0,\"#0d0887\"],[0.1111111111111111,\"#46039f\"],[0.2222222222222222,\"#7201a8\"],[0.3333333333333333,\"#9c179e\"],[0.4444444444444444,\"#bd3786\"],[0.5555555555555556,\"#d8576b\"],[0.6666666666666666,\"#ed7953\"],[0.7777777777777778,\"#fb9f3a\"],[0.8888888888888888,\"#fdca26\"],[1.0,\"#f0f921\"]],\"type\":\"heatmap\"}],\"histogram2dcontour\":[{\"colorbar\":{\"outlinewidth\":0,\"ticks\":\"\"},\"colorscale\":[[0.0,\"#0d0887\"],[0.1111111111111111,\"#46039f\"],[0.2222222222222222,\"#7201a8\"],[0.3333333333333333,\"#9c179e\"],[0.4444444444444444,\"#bd3786\"],[0.5555555555555556,\"#d8576b\"],[0.6666666666666666,\"#ed7953\"],[0.7777777777777778,\"#fb9f3a\"],[0.8888888888888888,\"#fdca26\"],[1.0,\"#f0f921\"]],\"type\":\"histogram2dcontour\"}],\"histogram2d\":[{\"colorbar\":{\"outlinewidth\":0,\"ticks\":\"\"},\"colorscale\":[[0.0,\"#0d0887\"],[0.1111111111111111,\"#46039f\"],[0.2222222222222222,\"#7201a8\"],[0.3333333333333333,\"#9c179e\"],[0.4444444444444444,\"#bd3786\"],[0.5555555555555556,\"#d8576b\"],[0.6666666666666666,\"#ed7953\"],[0.7777777777777778,\"#fb9f3a\"],[0.8888888888888888,\"#fdca26\"],[1.0,\"#f0f921\"]],\"type\":\"histogram2d\"}],\"histogram\":[{\"marker\":{\"pattern\":{\"fillmode\":\"overlay\",\"size\":10,\"solidity\":0.2}},\"type\":\"histogram\"}],\"mesh3d\":[{\"colorbar\":{\"outlinewidth\":0,\"ticks\":\"\"},\"type\":\"mesh3d\"}],\"parcoords\":[{\"line\":{\"colorbar\":{\"outlinewidth\":0,\"ticks\":\"\"}},\"type\":\"parcoords\"}],\"pie\":[{\"automargin\":true,\"type\":\"pie\"}],\"scatter3d\":[{\"line\":{\"colorbar\":{\"outlinewidth\":0,\"ticks\":\"\"}},\"marker\":{\"colorbar\":{\"outlinewidth\":0,\"ticks\":\"\"}},\"type\":\"scatter3d\"}],\"scattercarpet\":[{\"marker\":{\"colorbar\":{\"outlinewidth\":0,\"ticks\":\"\"}},\"type\":\"scattercarpet\"}],\"scattergeo\":[{\"marker\":{\"colorbar\":{\"outlinewidth\":0,\"ticks\":\"\"}},\"type\":\"scattergeo\"}],\"scattergl\":[{\"marker\":{\"colorbar\":{\"outlinewidth\":0,\"ticks\":\"\"}},\"type\":\"scattergl\"}],\"scattermapbox\":[{\"marker\":{\"colorbar\":{\"outlinewidth\":0,\"ticks\":\"\"}},\"type\":\"scattermapbox\"}],\"scattermap\":[{\"marker\":{\"colorbar\":{\"outlinewidth\":0,\"ticks\":\"\"}},\"type\":\"scattermap\"}],\"scatterpolargl\":[{\"marker\":{\"colorbar\":{\"outlinewidth\":0,\"ticks\":\"\"}},\"type\":\"scatterpolargl\"}],\"scatterpolar\":[{\"marker\":{\"colorbar\":{\"outlinewidth\":0,\"ticks\":\"\"}},\"type\":\"scatterpolar\"}],\"scatter\":[{\"fillpattern\":{\"fillmode\":\"overlay\",\"size\":10,\"solidity\":0.2},\"type\":\"scatter\"}],\"scatterternary\":[{\"marker\":{\"colorbar\":{\"outlinewidth\":0,\"ticks\":\"\"}},\"type\":\"scatterternary\"}],\"surface\":[{\"colorbar\":{\"outlinewidth\":0,\"ticks\":\"\"},\"colorscale\":[[0.0,\"#0d0887\"],[0.1111111111111111,\"#46039f\"],[0.2222222222222222,\"#7201a8\"],[0.3333333333333333,\"#9c179e\"],[0.4444444444444444,\"#bd3786\"],[0.5555555555555556,\"#d8576b\"],[0.6666666666666666,\"#ed7953\"],[0.7777777777777778,\"#fb9f3a\"],[0.8888888888888888,\"#fdca26\"],[1.0,\"#f0f921\"]],\"type\":\"surface\"}],\"table\":[{\"cells\":{\"fill\":{\"color\":\"#EBF0F8\"},\"line\":{\"color\":\"white\"}},\"header\":{\"fill\":{\"color\":\"#C8D4E3\"},\"line\":{\"color\":\"white\"}},\"type\":\"table\"}]},\"layout\":{\"annotationdefaults\":{\"arrowcolor\":\"#2a3f5f\",\"arrowhead\":0,\"arrowwidth\":1},\"autotypenumbers\":\"strict\",\"coloraxis\":{\"colorbar\":{\"outlinewidth\":0,\"ticks\":\"\"}},\"colorscale\":{\"diverging\":[[0,\"#8e0152\"],[0.1,\"#c51b7d\"],[0.2,\"#de77ae\"],[0.3,\"#f1b6da\"],[0.4,\"#fde0ef\"],[0.5,\"#f7f7f7\"],[0.6,\"#e6f5d0\"],[0.7,\"#b8e186\"],[0.8,\"#7fbc41\"],[0.9,\"#4d9221\"],[1,\"#276419\"]],\"sequential\":[[0.0,\"#0d0887\"],[0.1111111111111111,\"#46039f\"],[0.2222222222222222,\"#7201a8\"],[0.3333333333333333,\"#9c179e\"],[0.4444444444444444,\"#bd3786\"],[0.5555555555555556,\"#d8576b\"],[0.6666666666666666,\"#ed7953\"],[0.7777777777777778,\"#fb9f3a\"],[0.8888888888888888,\"#fdca26\"],[1.0,\"#f0f921\"]],\"sequentialminus\":[[0.0,\"#0d0887\"],[0.1111111111111111,\"#46039f\"],[0.2222222222222222,\"#7201a8\"],[0.3333333333333333,\"#9c179e\"],[0.4444444444444444,\"#bd3786\"],[0.5555555555555556,\"#d8576b\"],[0.6666666666666666,\"#ed7953\"],[0.7777777777777778,\"#fb9f3a\"],[0.8888888888888888,\"#fdca26\"],[1.0,\"#f0f921\"]]},\"colorway\":[\"#636efa\",\"#EF553B\",\"#00cc96\",\"#ab63fa\",\"#FFA15A\",\"#19d3f3\",\"#FF6692\",\"#B6E880\",\"#FF97FF\",\"#FECB52\"],\"font\":{\"color\":\"#2a3f5f\"},\"geo\":{\"bgcolor\":\"white\",\"lakecolor\":\"white\",\"landcolor\":\"#E5ECF6\",\"showlakes\":true,\"showland\":true,\"subunitcolor\":\"white\"},\"hoverlabel\":{\"align\":\"left\"},\"hovermode\":\"closest\",\"mapbox\":{\"style\":\"light\"},\"paper_bgcolor\":\"white\",\"plot_bgcolor\":\"#E5ECF6\",\"polar\":{\"angularaxis\":{\"gridcolor\":\"white\",\"linecolor\":\"white\",\"ticks\":\"\"},\"bgcolor\":\"#E5ECF6\",\"radialaxis\":{\"gridcolor\":\"white\",\"linecolor\":\"white\",\"ticks\":\"\"}},\"scene\":{\"xaxis\":{\"backgroundcolor\":\"#E5ECF6\",\"gridcolor\":\"white\",\"gridwidth\":2,\"linecolor\":\"white\",\"showbackground\":true,\"ticks\":\"\",\"zerolinecolor\":\"white\"},\"yaxis\":{\"backgroundcolor\":\"#E5ECF6\",\"gridcolor\":\"white\",\"gridwidth\":2,\"linecolor\":\"white\",\"showbackground\":true,\"ticks\":\"\",\"zerolinecolor\":\"white\"},\"zaxis\":{\"backgroundcolor\":\"#E5ECF6\",\"gridcolor\":\"white\",\"gridwidth\":2,\"linecolor\":\"white\",\"showbackground\":true,\"ticks\":\"\",\"zerolinecolor\":\"white\"}},\"shapedefaults\":{\"line\":{\"color\":\"#2a3f5f\"}},\"ternary\":{\"aaxis\":{\"gridcolor\":\"white\",\"linecolor\":\"white\",\"ticks\":\"\"},\"baxis\":{\"gridcolor\":\"white\",\"linecolor\":\"white\",\"ticks\":\"\"},\"bgcolor\":\"#E5ECF6\",\"caxis\":{\"gridcolor\":\"white\",\"linecolor\":\"white\",\"ticks\":\"\"}},\"title\":{\"x\":0.05},\"xaxis\":{\"automargin\":true,\"gridcolor\":\"white\",\"linecolor\":\"white\",\"ticks\":\"\",\"title\":{\"standoff\":15},\"zerolinecolor\":\"white\",\"zerolinewidth\":2},\"yaxis\":{\"automargin\":true,\"gridcolor\":\"white\",\"linecolor\":\"white\",\"ticks\":\"\",\"title\":{\"standoff\":15},\"zerolinecolor\":\"white\",\"zerolinewidth\":2}}},\"title\":{\"font\":{\"size\":35},\"text\":\"Category Counts\",\"x\":0.5},\"width\":800,\"xaxis\":{\"anchor\":\"y\",\"domain\":[0.0,1.0],\"showgrid\":false,\"title\":{\"text\":\"Category\"}},\"yaxis\":{\"anchor\":\"x\",\"domain\":[0.0,1.0],\"showgrid\":false,\"title\":{\"text\":\"Value\"}}},                        {\"responsive\": true}                    ).then(function(){\n",
       "                            \n",
       "var gd = document.getElementById('37a48f68-0464-4867-89ef-ae82d76d61ac');\n",
       "var x = new MutationObserver(function (mutations, observer) {{\n",
       "        var display = window.getComputedStyle(gd).display;\n",
       "        if (!display || display === 'none') {{\n",
       "            console.log([gd, 'removed!']);\n",
       "            Plotly.purge(gd);\n",
       "            observer.disconnect();\n",
       "        }}\n",
       "}});\n",
       "\n",
       "// Listen for the removal of the full notebook cells\n",
       "var notebookContainer = gd.closest('#notebook-container');\n",
       "if (notebookContainer) {{\n",
       "    x.observe(notebookContainer, {childList: true});\n",
       "}}\n",
       "\n",
       "// Listen for the clearing of the current output cell\n",
       "var outputEl = gd.closest('.output');\n",
       "if (outputEl) {{\n",
       "    x.observe(outputEl, {childList: true});\n",
       "}}\n",
       "\n",
       "                        })                };            </script>        </div>"
      ]
     },
     "metadata": {},
     "output_type": "display_data"
    }
   ],
   "source": [
    "fig = px.bar(x=dataset[\"class\"].value_counts().index,y=dataset[\"class\"].value_counts(),color=dataset[\"class\"].value_counts().index,text=dataset[\"class\"].value_counts())\n",
    "fig.update_traces(hovertemplate=\"Category:'%{x}' Counted: %{y}\")\n",
    "fig.update_layout(title={\"text\":\"Category Counts\",\"x\":0.5,\"font\":{\"size\":35}},xaxis={\"title\":\"Category\",\"showgrid\":False},yaxis={\"title\":\"Value\",\"showgrid\":False},plot_bgcolor=\"white\",width=800,height=500,showlegend=False)\n",
    "iplot(fig)"
   ]
  },
  {
   "cell_type": "code",
   "execution_count": null,
   "id": "229e9c9b",
   "metadata": {},
   "outputs": [],
   "source": [
    "class_mapping = {\n",
    "    'labor rights': 'Labor Rights',\n",
    "    'education': 'Education',\n",
    "    'culture': 'Culture',\n",
    "    'Environment': 'Environment',\n",
    "    'palestine-israel conflict': 'Palestine-Israel Conflict',\n",
    "    'cyprus conflict': 'Palestine-Israel Conflict',\n",
    "    'sudan conflict': 'Palestine-Israel Conflict',\n",
    "    'ukraine-russia war': 'Ukraine-Russia War',\n",
    "    \"military\": \"Ukraine-Russia War\",\n",
    "    'infrastructure': 'Infrastructure',\n",
    "    'political rights': 'Political & Democratic Governance',\n",
    "    'political': 'Political & Democratic Governance',\n",
    "    'political criticism': 'Political & Democratic Governance',\n",
    "    'anti right wing': 'Political & Democratic Governance',\n",
    "    'democracy': 'Political & Democratic Governance',\n",
    "    'local policy': 'Political & Democratic Governance',\n",
    "    'health care': 'Public Services & Social Welfare',\n",
    "    'public services': 'Public Services & Social Welfare',\n",
    "    'social welfare': 'Public Services & Social Welfare',\n",
    "    'housing': 'Public Services & Social Welfare',\n",
    "    'eviction': 'Public Services & Social Welfare',\n",
    "    'women rights': 'Justice & Civil Rights',\n",
    "    'discrimination': 'Justice & Civil Rights',\n",
    "    'unjust law enforcement': 'Justice & Civil Rights',\n",
    "    'economic justice': 'Justice & Civil Rights',\n",
    "    'anti crime': 'Justice & Civil Rights',\n",
    "    'youth violence': 'Justice & Civil Rights',\n",
    "    'climate': 'Climate Action & Animal Welfare',\n",
    "    'animal welfare': 'Climate Action & Animal Welfare',\n",
    "    'farmers': 'Climate Action & Resource Management',\n",
    "    'immigration': 'Climate Action & Resource Management',\n",
    "    'tourism': 'Climate Action & Resource Management',\n",
    "    'skip': 'Climate Action & Resource Management',\n",
    "    'M': 'M',\n",
    "}\n",
    "\n",
    "def merge_classes(df, class_mapping):\n",
    "    df['class'] = df['class'].replace(class_mapping)\n",
    "    return df"
   ]
  },
  {
   "cell_type": "code",
   "execution_count": 41,
   "id": "4eb6a9a7",
   "metadata": {},
   "outputs": [],
   "source": [
    "dataset = merge_classes(dataset, class_mapping)\n",
    "\n",
    "def keep_first_n(df, n):\n",
    "    return df.groupby('class').head(n)\n",
    "dataset = keep_first_n(dataset, 6000)\n"
   ]
  },
  {
   "cell_type": "code",
   "execution_count": 42,
   "id": "fb43ce6a",
   "metadata": {},
   "outputs": [
    {
     "data": {
      "application/vnd.plotly.v1+json": {
       "config": {
        "linkText": "Export to plot.ly",
        "plotlyServerURL": "https://plot.ly",
        "showLink": false
       },
       "data": [
        {
         "hovertemplate": "Category:'%{x}' Counted: %{y}",
         "legendgroup": "environment",
         "marker": {
          "color": "#636efa",
          "pattern": {
           "shape": ""
          }
         },
         "name": "environment",
         "orientation": "v",
         "showlegend": true,
         "text": {
          "bdata": "AAAAAABwt0A=",
          "dtype": "f8"
         },
         "textposition": "auto",
         "type": "bar",
         "x": [
          "environment"
         ],
         "xaxis": "x",
         "y": {
          "bdata": "cBc=",
          "dtype": "i2"
         },
         "yaxis": "y"
        },
        {
         "hovertemplate": "Category:'%{x}' Counted: %{y}",
         "legendgroup": "Culture",
         "marker": {
          "color": "#EF553B",
          "pattern": {
           "shape": ""
          }
         },
         "name": "Culture",
         "orientation": "v",
         "showlegend": true,
         "text": {
          "bdata": "AAAAAABwt0A=",
          "dtype": "f8"
         },
         "textposition": "auto",
         "type": "bar",
         "x": [
          "Culture"
         ],
         "xaxis": "x",
         "y": {
          "bdata": "cBc=",
          "dtype": "i2"
         },
         "yaxis": "y"
        },
        {
         "hovertemplate": "Category:'%{x}' Counted: %{y}",
         "legendgroup": "Education",
         "marker": {
          "color": "#00cc96",
          "pattern": {
           "shape": ""
          }
         },
         "name": "Education",
         "orientation": "v",
         "showlegend": true,
         "text": {
          "bdata": "AAAAAABwt0A=",
          "dtype": "f8"
         },
         "textposition": "auto",
         "type": "bar",
         "x": [
          "Education"
         ],
         "xaxis": "x",
         "y": {
          "bdata": "cBc=",
          "dtype": "i2"
         },
         "yaxis": "y"
        },
        {
         "hovertemplate": "Category:'%{x}' Counted: %{y}",
         "legendgroup": "Palestine-Israel Conflict",
         "marker": {
          "color": "#ab63fa",
          "pattern": {
           "shape": ""
          }
         },
         "name": "Palestine-Israel Conflict",
         "orientation": "v",
         "showlegend": true,
         "text": {
          "bdata": "AAAAAABwt0A=",
          "dtype": "f8"
         },
         "textposition": "auto",
         "type": "bar",
         "x": [
          "Palestine-Israel Conflict"
         ],
         "xaxis": "x",
         "y": {
          "bdata": "cBc=",
          "dtype": "i2"
         },
         "yaxis": "y"
        },
        {
         "hovertemplate": "Category:'%{x}' Counted: %{y}",
         "legendgroup": "Labor Rights",
         "marker": {
          "color": "#FFA15A",
          "pattern": {
           "shape": ""
          }
         },
         "name": "Labor Rights",
         "orientation": "v",
         "showlegend": true,
         "text": {
          "bdata": "AAAAAABwt0A=",
          "dtype": "f8"
         },
         "textposition": "auto",
         "type": "bar",
         "x": [
          "Labor Rights"
         ],
         "xaxis": "x",
         "y": {
          "bdata": "cBc=",
          "dtype": "i2"
         },
         "yaxis": "y"
        },
        {
         "hovertemplate": "Category:'%{x}' Counted: %{y}",
         "legendgroup": "Public Services & Social Welfare",
         "marker": {
          "color": "#19d3f3",
          "pattern": {
           "shape": ""
          }
         },
         "name": "Public Services & Social Welfare",
         "orientation": "v",
         "showlegend": true,
         "text": {
          "bdata": "AAAAAABwt0A=",
          "dtype": "f8"
         },
         "textposition": "auto",
         "type": "bar",
         "x": [
          "Public Services & Social Welfare"
         ],
         "xaxis": "x",
         "y": {
          "bdata": "cBc=",
          "dtype": "i2"
         },
         "yaxis": "y"
        },
        {
         "hovertemplate": "Category:'%{x}' Counted: %{y}",
         "legendgroup": "Justice & Civil Rights",
         "marker": {
          "color": "#FF6692",
          "pattern": {
           "shape": ""
          }
         },
         "name": "Justice & Civil Rights",
         "orientation": "v",
         "showlegend": true,
         "text": {
          "bdata": "AAAAAABwt0A=",
          "dtype": "f8"
         },
         "textposition": "auto",
         "type": "bar",
         "x": [
          "Justice & Civil Rights"
         ],
         "xaxis": "x",
         "y": {
          "bdata": "cBc=",
          "dtype": "i2"
         },
         "yaxis": "y"
        },
        {
         "hovertemplate": "Category:'%{x}' Counted: %{y}",
         "legendgroup": "Climate Action & Animal Welfare",
         "marker": {
          "color": "#B6E880",
          "pattern": {
           "shape": ""
          }
         },
         "name": "Climate Action & Animal Welfare",
         "orientation": "v",
         "showlegend": true,
         "text": {
          "bdata": "AAAAAABwt0A=",
          "dtype": "f8"
         },
         "textposition": "auto",
         "type": "bar",
         "x": [
          "Climate Action & Animal Welfare"
         ],
         "xaxis": "x",
         "y": {
          "bdata": "cBc=",
          "dtype": "i2"
         },
         "yaxis": "y"
        },
        {
         "hovertemplate": "Category:'%{x}' Counted: %{y}",
         "legendgroup": "Political & Democratic Governance",
         "marker": {
          "color": "#FF97FF",
          "pattern": {
           "shape": ""
          }
         },
         "name": "Political & Democratic Governance",
         "orientation": "v",
         "showlegend": true,
         "text": {
          "bdata": "AAAAAAAXt0A=",
          "dtype": "f8"
         },
         "textposition": "auto",
         "type": "bar",
         "x": [
          "Political & Democratic Governance"
         ],
         "xaxis": "x",
         "y": {
          "bdata": "Fxc=",
          "dtype": "i2"
         },
         "yaxis": "y"
        },
        {
         "hovertemplate": "Category:'%{x}' Counted: %{y}",
         "legendgroup": "Ukraine-Russia War",
         "marker": {
          "color": "#FECB52",
          "pattern": {
           "shape": ""
          }
         },
         "name": "Ukraine-Russia War",
         "orientation": "v",
         "showlegend": true,
         "text": {
          "bdata": "AAAAAADTtUA=",
          "dtype": "f8"
         },
         "textposition": "auto",
         "type": "bar",
         "x": [
          "Ukraine-Russia War"
         ],
         "xaxis": "x",
         "y": {
          "bdata": "0xU=",
          "dtype": "i2"
         },
         "yaxis": "y"
        },
        {
         "hovertemplate": "Category:'%{x}' Counted: %{y}",
         "legendgroup": "Infrastructure",
         "marker": {
          "color": "#636efa",
          "pattern": {
           "shape": ""
          }
         },
         "name": "Infrastructure",
         "orientation": "v",
         "showlegend": true,
         "text": {
          "bdata": "AAAAAAAztUA=",
          "dtype": "f8"
         },
         "textposition": "auto",
         "type": "bar",
         "x": [
          "Infrastructure"
         ],
         "xaxis": "x",
         "y": {
          "bdata": "MxU=",
          "dtype": "i2"
         },
         "yaxis": "y"
        },
        {
         "hovertemplate": "Category:'%{x}' Counted: %{y}",
         "legendgroup": "Climate Action & Resource Management",
         "marker": {
          "color": "#EF553B",
          "pattern": {
           "shape": ""
          }
         },
         "name": "Climate Action & Resource Management",
         "orientation": "v",
         "showlegend": true,
         "text": {
          "bdata": "AAAAAAA0sUA=",
          "dtype": "f8"
         },
         "textposition": "auto",
         "type": "bar",
         "x": [
          "Climate Action & Resource Management"
         ],
         "xaxis": "x",
         "y": {
          "bdata": "NBE=",
          "dtype": "i2"
         },
         "yaxis": "y"
        }
       ],
       "layout": {
        "barmode": "relative",
        "height": 500,
        "legend": {
         "title": {
          "text": "color"
         },
         "tracegroupgap": 0
        },
        "margin": {
         "t": 60
        },
        "plot_bgcolor": "white",
        "showlegend": false,
        "template": {
         "data": {
          "bar": [
           {
            "error_x": {
             "color": "#2a3f5f"
            },
            "error_y": {
             "color": "#2a3f5f"
            },
            "marker": {
             "line": {
              "color": "#E5ECF6",
              "width": 0.5
             },
             "pattern": {
              "fillmode": "overlay",
              "size": 10,
              "solidity": 0.2
             }
            },
            "type": "bar"
           }
          ],
          "barpolar": [
           {
            "marker": {
             "line": {
              "color": "#E5ECF6",
              "width": 0.5
             },
             "pattern": {
              "fillmode": "overlay",
              "size": 10,
              "solidity": 0.2
             }
            },
            "type": "barpolar"
           }
          ],
          "carpet": [
           {
            "aaxis": {
             "endlinecolor": "#2a3f5f",
             "gridcolor": "white",
             "linecolor": "white",
             "minorgridcolor": "white",
             "startlinecolor": "#2a3f5f"
            },
            "baxis": {
             "endlinecolor": "#2a3f5f",
             "gridcolor": "white",
             "linecolor": "white",
             "minorgridcolor": "white",
             "startlinecolor": "#2a3f5f"
            },
            "type": "carpet"
           }
          ],
          "choropleth": [
           {
            "colorbar": {
             "outlinewidth": 0,
             "ticks": ""
            },
            "type": "choropleth"
           }
          ],
          "contour": [
           {
            "colorbar": {
             "outlinewidth": 0,
             "ticks": ""
            },
            "colorscale": [
             [
              0,
              "#0d0887"
             ],
             [
              0.1111111111111111,
              "#46039f"
             ],
             [
              0.2222222222222222,
              "#7201a8"
             ],
             [
              0.3333333333333333,
              "#9c179e"
             ],
             [
              0.4444444444444444,
              "#bd3786"
             ],
             [
              0.5555555555555556,
              "#d8576b"
             ],
             [
              0.6666666666666666,
              "#ed7953"
             ],
             [
              0.7777777777777778,
              "#fb9f3a"
             ],
             [
              0.8888888888888888,
              "#fdca26"
             ],
             [
              1,
              "#f0f921"
             ]
            ],
            "type": "contour"
           }
          ],
          "contourcarpet": [
           {
            "colorbar": {
             "outlinewidth": 0,
             "ticks": ""
            },
            "type": "contourcarpet"
           }
          ],
          "heatmap": [
           {
            "colorbar": {
             "outlinewidth": 0,
             "ticks": ""
            },
            "colorscale": [
             [
              0,
              "#0d0887"
             ],
             [
              0.1111111111111111,
              "#46039f"
             ],
             [
              0.2222222222222222,
              "#7201a8"
             ],
             [
              0.3333333333333333,
              "#9c179e"
             ],
             [
              0.4444444444444444,
              "#bd3786"
             ],
             [
              0.5555555555555556,
              "#d8576b"
             ],
             [
              0.6666666666666666,
              "#ed7953"
             ],
             [
              0.7777777777777778,
              "#fb9f3a"
             ],
             [
              0.8888888888888888,
              "#fdca26"
             ],
             [
              1,
              "#f0f921"
             ]
            ],
            "type": "heatmap"
           }
          ],
          "histogram": [
           {
            "marker": {
             "pattern": {
              "fillmode": "overlay",
              "size": 10,
              "solidity": 0.2
             }
            },
            "type": "histogram"
           }
          ],
          "histogram2d": [
           {
            "colorbar": {
             "outlinewidth": 0,
             "ticks": ""
            },
            "colorscale": [
             [
              0,
              "#0d0887"
             ],
             [
              0.1111111111111111,
              "#46039f"
             ],
             [
              0.2222222222222222,
              "#7201a8"
             ],
             [
              0.3333333333333333,
              "#9c179e"
             ],
             [
              0.4444444444444444,
              "#bd3786"
             ],
             [
              0.5555555555555556,
              "#d8576b"
             ],
             [
              0.6666666666666666,
              "#ed7953"
             ],
             [
              0.7777777777777778,
              "#fb9f3a"
             ],
             [
              0.8888888888888888,
              "#fdca26"
             ],
             [
              1,
              "#f0f921"
             ]
            ],
            "type": "histogram2d"
           }
          ],
          "histogram2dcontour": [
           {
            "colorbar": {
             "outlinewidth": 0,
             "ticks": ""
            },
            "colorscale": [
             [
              0,
              "#0d0887"
             ],
             [
              0.1111111111111111,
              "#46039f"
             ],
             [
              0.2222222222222222,
              "#7201a8"
             ],
             [
              0.3333333333333333,
              "#9c179e"
             ],
             [
              0.4444444444444444,
              "#bd3786"
             ],
             [
              0.5555555555555556,
              "#d8576b"
             ],
             [
              0.6666666666666666,
              "#ed7953"
             ],
             [
              0.7777777777777778,
              "#fb9f3a"
             ],
             [
              0.8888888888888888,
              "#fdca26"
             ],
             [
              1,
              "#f0f921"
             ]
            ],
            "type": "histogram2dcontour"
           }
          ],
          "mesh3d": [
           {
            "colorbar": {
             "outlinewidth": 0,
             "ticks": ""
            },
            "type": "mesh3d"
           }
          ],
          "parcoords": [
           {
            "line": {
             "colorbar": {
              "outlinewidth": 0,
              "ticks": ""
             }
            },
            "type": "parcoords"
           }
          ],
          "pie": [
           {
            "automargin": true,
            "type": "pie"
           }
          ],
          "scatter": [
           {
            "fillpattern": {
             "fillmode": "overlay",
             "size": 10,
             "solidity": 0.2
            },
            "type": "scatter"
           }
          ],
          "scatter3d": [
           {
            "line": {
             "colorbar": {
              "outlinewidth": 0,
              "ticks": ""
             }
            },
            "marker": {
             "colorbar": {
              "outlinewidth": 0,
              "ticks": ""
             }
            },
            "type": "scatter3d"
           }
          ],
          "scattercarpet": [
           {
            "marker": {
             "colorbar": {
              "outlinewidth": 0,
              "ticks": ""
             }
            },
            "type": "scattercarpet"
           }
          ],
          "scattergeo": [
           {
            "marker": {
             "colorbar": {
              "outlinewidth": 0,
              "ticks": ""
             }
            },
            "type": "scattergeo"
           }
          ],
          "scattergl": [
           {
            "marker": {
             "colorbar": {
              "outlinewidth": 0,
              "ticks": ""
             }
            },
            "type": "scattergl"
           }
          ],
          "scattermap": [
           {
            "marker": {
             "colorbar": {
              "outlinewidth": 0,
              "ticks": ""
             }
            },
            "type": "scattermap"
           }
          ],
          "scattermapbox": [
           {
            "marker": {
             "colorbar": {
              "outlinewidth": 0,
              "ticks": ""
             }
            },
            "type": "scattermapbox"
           }
          ],
          "scatterpolar": [
           {
            "marker": {
             "colorbar": {
              "outlinewidth": 0,
              "ticks": ""
             }
            },
            "type": "scatterpolar"
           }
          ],
          "scatterpolargl": [
           {
            "marker": {
             "colorbar": {
              "outlinewidth": 0,
              "ticks": ""
             }
            },
            "type": "scatterpolargl"
           }
          ],
          "scatterternary": [
           {
            "marker": {
             "colorbar": {
              "outlinewidth": 0,
              "ticks": ""
             }
            },
            "type": "scatterternary"
           }
          ],
          "surface": [
           {
            "colorbar": {
             "outlinewidth": 0,
             "ticks": ""
            },
            "colorscale": [
             [
              0,
              "#0d0887"
             ],
             [
              0.1111111111111111,
              "#46039f"
             ],
             [
              0.2222222222222222,
              "#7201a8"
             ],
             [
              0.3333333333333333,
              "#9c179e"
             ],
             [
              0.4444444444444444,
              "#bd3786"
             ],
             [
              0.5555555555555556,
              "#d8576b"
             ],
             [
              0.6666666666666666,
              "#ed7953"
             ],
             [
              0.7777777777777778,
              "#fb9f3a"
             ],
             [
              0.8888888888888888,
              "#fdca26"
             ],
             [
              1,
              "#f0f921"
             ]
            ],
            "type": "surface"
           }
          ],
          "table": [
           {
            "cells": {
             "fill": {
              "color": "#EBF0F8"
             },
             "line": {
              "color": "white"
             }
            },
            "header": {
             "fill": {
              "color": "#C8D4E3"
             },
             "line": {
              "color": "white"
             }
            },
            "type": "table"
           }
          ]
         },
         "layout": {
          "annotationdefaults": {
           "arrowcolor": "#2a3f5f",
           "arrowhead": 0,
           "arrowwidth": 1
          },
          "autotypenumbers": "strict",
          "coloraxis": {
           "colorbar": {
            "outlinewidth": 0,
            "ticks": ""
           }
          },
          "colorscale": {
           "diverging": [
            [
             0,
             "#8e0152"
            ],
            [
             0.1,
             "#c51b7d"
            ],
            [
             0.2,
             "#de77ae"
            ],
            [
             0.3,
             "#f1b6da"
            ],
            [
             0.4,
             "#fde0ef"
            ],
            [
             0.5,
             "#f7f7f7"
            ],
            [
             0.6,
             "#e6f5d0"
            ],
            [
             0.7,
             "#b8e186"
            ],
            [
             0.8,
             "#7fbc41"
            ],
            [
             0.9,
             "#4d9221"
            ],
            [
             1,
             "#276419"
            ]
           ],
           "sequential": [
            [
             0,
             "#0d0887"
            ],
            [
             0.1111111111111111,
             "#46039f"
            ],
            [
             0.2222222222222222,
             "#7201a8"
            ],
            [
             0.3333333333333333,
             "#9c179e"
            ],
            [
             0.4444444444444444,
             "#bd3786"
            ],
            [
             0.5555555555555556,
             "#d8576b"
            ],
            [
             0.6666666666666666,
             "#ed7953"
            ],
            [
             0.7777777777777778,
             "#fb9f3a"
            ],
            [
             0.8888888888888888,
             "#fdca26"
            ],
            [
             1,
             "#f0f921"
            ]
           ],
           "sequentialminus": [
            [
             0,
             "#0d0887"
            ],
            [
             0.1111111111111111,
             "#46039f"
            ],
            [
             0.2222222222222222,
             "#7201a8"
            ],
            [
             0.3333333333333333,
             "#9c179e"
            ],
            [
             0.4444444444444444,
             "#bd3786"
            ],
            [
             0.5555555555555556,
             "#d8576b"
            ],
            [
             0.6666666666666666,
             "#ed7953"
            ],
            [
             0.7777777777777778,
             "#fb9f3a"
            ],
            [
             0.8888888888888888,
             "#fdca26"
            ],
            [
             1,
             "#f0f921"
            ]
           ]
          },
          "colorway": [
           "#636efa",
           "#EF553B",
           "#00cc96",
           "#ab63fa",
           "#FFA15A",
           "#19d3f3",
           "#FF6692",
           "#B6E880",
           "#FF97FF",
           "#FECB52"
          ],
          "font": {
           "color": "#2a3f5f"
          },
          "geo": {
           "bgcolor": "white",
           "lakecolor": "white",
           "landcolor": "#E5ECF6",
           "showlakes": true,
           "showland": true,
           "subunitcolor": "white"
          },
          "hoverlabel": {
           "align": "left"
          },
          "hovermode": "closest",
          "mapbox": {
           "style": "light"
          },
          "paper_bgcolor": "white",
          "plot_bgcolor": "#E5ECF6",
          "polar": {
           "angularaxis": {
            "gridcolor": "white",
            "linecolor": "white",
            "ticks": ""
           },
           "bgcolor": "#E5ECF6",
           "radialaxis": {
            "gridcolor": "white",
            "linecolor": "white",
            "ticks": ""
           }
          },
          "scene": {
           "xaxis": {
            "backgroundcolor": "#E5ECF6",
            "gridcolor": "white",
            "gridwidth": 2,
            "linecolor": "white",
            "showbackground": true,
            "ticks": "",
            "zerolinecolor": "white"
           },
           "yaxis": {
            "backgroundcolor": "#E5ECF6",
            "gridcolor": "white",
            "gridwidth": 2,
            "linecolor": "white",
            "showbackground": true,
            "ticks": "",
            "zerolinecolor": "white"
           },
           "zaxis": {
            "backgroundcolor": "#E5ECF6",
            "gridcolor": "white",
            "gridwidth": 2,
            "linecolor": "white",
            "showbackground": true,
            "ticks": "",
            "zerolinecolor": "white"
           }
          },
          "shapedefaults": {
           "line": {
            "color": "#2a3f5f"
           }
          },
          "ternary": {
           "aaxis": {
            "gridcolor": "white",
            "linecolor": "white",
            "ticks": ""
           },
           "baxis": {
            "gridcolor": "white",
            "linecolor": "white",
            "ticks": ""
           },
           "bgcolor": "#E5ECF6",
           "caxis": {
            "gridcolor": "white",
            "linecolor": "white",
            "ticks": ""
           }
          },
          "title": {
           "x": 0.05
          },
          "xaxis": {
           "automargin": true,
           "gridcolor": "white",
           "linecolor": "white",
           "ticks": "",
           "title": {
            "standoff": 15
           },
           "zerolinecolor": "white",
           "zerolinewidth": 2
          },
          "yaxis": {
           "automargin": true,
           "gridcolor": "white",
           "linecolor": "white",
           "ticks": "",
           "title": {
            "standoff": 15
           },
           "zerolinecolor": "white",
           "zerolinewidth": 2
          }
         }
        },
        "title": {
         "font": {
          "size": 35
         },
         "text": "Category Counts",
         "x": 0.5
        },
        "width": 800,
        "xaxis": {
         "anchor": "y",
         "domain": [
          0,
          1
         ],
         "showgrid": false,
         "title": {
          "text": "Category"
         }
        },
        "yaxis": {
         "anchor": "x",
         "domain": [
          0,
          1
         ],
         "showgrid": false,
         "title": {
          "text": "Value"
         }
        }
       }
      },
      "text/html": [
       "<div>            <script src=\"https://cdnjs.cloudflare.com/ajax/libs/mathjax/2.7.5/MathJax.js?config=TeX-AMS-MML_SVG\"></script><script type=\"text/javascript\">if (window.MathJax && window.MathJax.Hub && window.MathJax.Hub.Config) {window.MathJax.Hub.Config({SVG: {font: \"STIX-Web\"}});}</script>                <script type=\"text/javascript\">window.PlotlyConfig = {MathJaxConfig: 'local'};</script>\n",
       "        <script charset=\"utf-8\" src=\"https://cdn.plot.ly/plotly-3.0.1.min.js\"></script>                <div id=\"596ca92d-3dac-4c74-93f9-1c5a4c6e3758\" class=\"plotly-graph-div\" style=\"height:500px; width:800px;\"></div>            <script type=\"text/javascript\">                window.PLOTLYENV=window.PLOTLYENV || {};                                if (document.getElementById(\"596ca92d-3dac-4c74-93f9-1c5a4c6e3758\")) {                    Plotly.newPlot(                        \"596ca92d-3dac-4c74-93f9-1c5a4c6e3758\",                        [{\"hovertemplate\":\"Category:'%{x}' Counted: %{y}\",\"legendgroup\":\"environment\",\"marker\":{\"color\":\"#636efa\",\"pattern\":{\"shape\":\"\"}},\"name\":\"environment\",\"orientation\":\"v\",\"showlegend\":true,\"text\":{\"dtype\":\"f8\",\"bdata\":\"AAAAAABwt0A=\"},\"textposition\":\"auto\",\"x\":[\"environment\"],\"xaxis\":\"x\",\"y\":{\"dtype\":\"i2\",\"bdata\":\"cBc=\"},\"yaxis\":\"y\",\"type\":\"bar\"},{\"hovertemplate\":\"Category:'%{x}' Counted: %{y}\",\"legendgroup\":\"Culture\",\"marker\":{\"color\":\"#EF553B\",\"pattern\":{\"shape\":\"\"}},\"name\":\"Culture\",\"orientation\":\"v\",\"showlegend\":true,\"text\":{\"dtype\":\"f8\",\"bdata\":\"AAAAAABwt0A=\"},\"textposition\":\"auto\",\"x\":[\"Culture\"],\"xaxis\":\"x\",\"y\":{\"dtype\":\"i2\",\"bdata\":\"cBc=\"},\"yaxis\":\"y\",\"type\":\"bar\"},{\"hovertemplate\":\"Category:'%{x}' Counted: %{y}\",\"legendgroup\":\"Education\",\"marker\":{\"color\":\"#00cc96\",\"pattern\":{\"shape\":\"\"}},\"name\":\"Education\",\"orientation\":\"v\",\"showlegend\":true,\"text\":{\"dtype\":\"f8\",\"bdata\":\"AAAAAABwt0A=\"},\"textposition\":\"auto\",\"x\":[\"Education\"],\"xaxis\":\"x\",\"y\":{\"dtype\":\"i2\",\"bdata\":\"cBc=\"},\"yaxis\":\"y\",\"type\":\"bar\"},{\"hovertemplate\":\"Category:'%{x}' Counted: %{y}\",\"legendgroup\":\"Palestine-Israel Conflict\",\"marker\":{\"color\":\"#ab63fa\",\"pattern\":{\"shape\":\"\"}},\"name\":\"Palestine-Israel Conflict\",\"orientation\":\"v\",\"showlegend\":true,\"text\":{\"dtype\":\"f8\",\"bdata\":\"AAAAAABwt0A=\"},\"textposition\":\"auto\",\"x\":[\"Palestine-Israel Conflict\"],\"xaxis\":\"x\",\"y\":{\"dtype\":\"i2\",\"bdata\":\"cBc=\"},\"yaxis\":\"y\",\"type\":\"bar\"},{\"hovertemplate\":\"Category:'%{x}' Counted: %{y}\",\"legendgroup\":\"Labor Rights\",\"marker\":{\"color\":\"#FFA15A\",\"pattern\":{\"shape\":\"\"}},\"name\":\"Labor Rights\",\"orientation\":\"v\",\"showlegend\":true,\"text\":{\"dtype\":\"f8\",\"bdata\":\"AAAAAABwt0A=\"},\"textposition\":\"auto\",\"x\":[\"Labor Rights\"],\"xaxis\":\"x\",\"y\":{\"dtype\":\"i2\",\"bdata\":\"cBc=\"},\"yaxis\":\"y\",\"type\":\"bar\"},{\"hovertemplate\":\"Category:'%{x}' Counted: %{y}\",\"legendgroup\":\"Public Services & Social Welfare\",\"marker\":{\"color\":\"#19d3f3\",\"pattern\":{\"shape\":\"\"}},\"name\":\"Public Services & Social Welfare\",\"orientation\":\"v\",\"showlegend\":true,\"text\":{\"dtype\":\"f8\",\"bdata\":\"AAAAAABwt0A=\"},\"textposition\":\"auto\",\"x\":[\"Public Services & Social Welfare\"],\"xaxis\":\"x\",\"y\":{\"dtype\":\"i2\",\"bdata\":\"cBc=\"},\"yaxis\":\"y\",\"type\":\"bar\"},{\"hovertemplate\":\"Category:'%{x}' Counted: %{y}\",\"legendgroup\":\"Justice & Civil Rights\",\"marker\":{\"color\":\"#FF6692\",\"pattern\":{\"shape\":\"\"}},\"name\":\"Justice & Civil Rights\",\"orientation\":\"v\",\"showlegend\":true,\"text\":{\"dtype\":\"f8\",\"bdata\":\"AAAAAABwt0A=\"},\"textposition\":\"auto\",\"x\":[\"Justice & Civil Rights\"],\"xaxis\":\"x\",\"y\":{\"dtype\":\"i2\",\"bdata\":\"cBc=\"},\"yaxis\":\"y\",\"type\":\"bar\"},{\"hovertemplate\":\"Category:'%{x}' Counted: %{y}\",\"legendgroup\":\"Climate Action & Animal Welfare\",\"marker\":{\"color\":\"#B6E880\",\"pattern\":{\"shape\":\"\"}},\"name\":\"Climate Action & Animal Welfare\",\"orientation\":\"v\",\"showlegend\":true,\"text\":{\"dtype\":\"f8\",\"bdata\":\"AAAAAABwt0A=\"},\"textposition\":\"auto\",\"x\":[\"Climate Action & Animal Welfare\"],\"xaxis\":\"x\",\"y\":{\"dtype\":\"i2\",\"bdata\":\"cBc=\"},\"yaxis\":\"y\",\"type\":\"bar\"},{\"hovertemplate\":\"Category:'%{x}' Counted: %{y}\",\"legendgroup\":\"Political & Democratic Governance\",\"marker\":{\"color\":\"#FF97FF\",\"pattern\":{\"shape\":\"\"}},\"name\":\"Political & Democratic Governance\",\"orientation\":\"v\",\"showlegend\":true,\"text\":{\"dtype\":\"f8\",\"bdata\":\"AAAAAAAXt0A=\"},\"textposition\":\"auto\",\"x\":[\"Political & Democratic Governance\"],\"xaxis\":\"x\",\"y\":{\"dtype\":\"i2\",\"bdata\":\"Fxc=\"},\"yaxis\":\"y\",\"type\":\"bar\"},{\"hovertemplate\":\"Category:'%{x}' Counted: %{y}\",\"legendgroup\":\"Ukraine-Russia War\",\"marker\":{\"color\":\"#FECB52\",\"pattern\":{\"shape\":\"\"}},\"name\":\"Ukraine-Russia War\",\"orientation\":\"v\",\"showlegend\":true,\"text\":{\"dtype\":\"f8\",\"bdata\":\"AAAAAADTtUA=\"},\"textposition\":\"auto\",\"x\":[\"Ukraine-Russia War\"],\"xaxis\":\"x\",\"y\":{\"dtype\":\"i2\",\"bdata\":\"0xU=\"},\"yaxis\":\"y\",\"type\":\"bar\"},{\"hovertemplate\":\"Category:'%{x}' Counted: %{y}\",\"legendgroup\":\"Infrastructure\",\"marker\":{\"color\":\"#636efa\",\"pattern\":{\"shape\":\"\"}},\"name\":\"Infrastructure\",\"orientation\":\"v\",\"showlegend\":true,\"text\":{\"dtype\":\"f8\",\"bdata\":\"AAAAAAAztUA=\"},\"textposition\":\"auto\",\"x\":[\"Infrastructure\"],\"xaxis\":\"x\",\"y\":{\"dtype\":\"i2\",\"bdata\":\"MxU=\"},\"yaxis\":\"y\",\"type\":\"bar\"},{\"hovertemplate\":\"Category:'%{x}' Counted: %{y}\",\"legendgroup\":\"Climate Action & Resource Management\",\"marker\":{\"color\":\"#EF553B\",\"pattern\":{\"shape\":\"\"}},\"name\":\"Climate Action & Resource Management\",\"orientation\":\"v\",\"showlegend\":true,\"text\":{\"dtype\":\"f8\",\"bdata\":\"AAAAAAA0sUA=\"},\"textposition\":\"auto\",\"x\":[\"Climate Action & Resource Management\"],\"xaxis\":\"x\",\"y\":{\"dtype\":\"i2\",\"bdata\":\"NBE=\"},\"yaxis\":\"y\",\"type\":\"bar\"}],                        {\"barmode\":\"relative\",\"height\":500,\"legend\":{\"title\":{\"text\":\"color\"},\"tracegroupgap\":0},\"margin\":{\"t\":60},\"plot_bgcolor\":\"white\",\"showlegend\":false,\"template\":{\"data\":{\"barpolar\":[{\"marker\":{\"line\":{\"color\":\"#E5ECF6\",\"width\":0.5},\"pattern\":{\"fillmode\":\"overlay\",\"size\":10,\"solidity\":0.2}},\"type\":\"barpolar\"}],\"bar\":[{\"error_x\":{\"color\":\"#2a3f5f\"},\"error_y\":{\"color\":\"#2a3f5f\"},\"marker\":{\"line\":{\"color\":\"#E5ECF6\",\"width\":0.5},\"pattern\":{\"fillmode\":\"overlay\",\"size\":10,\"solidity\":0.2}},\"type\":\"bar\"}],\"carpet\":[{\"aaxis\":{\"endlinecolor\":\"#2a3f5f\",\"gridcolor\":\"white\",\"linecolor\":\"white\",\"minorgridcolor\":\"white\",\"startlinecolor\":\"#2a3f5f\"},\"baxis\":{\"endlinecolor\":\"#2a3f5f\",\"gridcolor\":\"white\",\"linecolor\":\"white\",\"minorgridcolor\":\"white\",\"startlinecolor\":\"#2a3f5f\"},\"type\":\"carpet\"}],\"choropleth\":[{\"colorbar\":{\"outlinewidth\":0,\"ticks\":\"\"},\"type\":\"choropleth\"}],\"contourcarpet\":[{\"colorbar\":{\"outlinewidth\":0,\"ticks\":\"\"},\"type\":\"contourcarpet\"}],\"contour\":[{\"colorbar\":{\"outlinewidth\":0,\"ticks\":\"\"},\"colorscale\":[[0.0,\"#0d0887\"],[0.1111111111111111,\"#46039f\"],[0.2222222222222222,\"#7201a8\"],[0.3333333333333333,\"#9c179e\"],[0.4444444444444444,\"#bd3786\"],[0.5555555555555556,\"#d8576b\"],[0.6666666666666666,\"#ed7953\"],[0.7777777777777778,\"#fb9f3a\"],[0.8888888888888888,\"#fdca26\"],[1.0,\"#f0f921\"]],\"type\":\"contour\"}],\"heatmap\":[{\"colorbar\":{\"outlinewidth\":0,\"ticks\":\"\"},\"colorscale\":[[0.0,\"#0d0887\"],[0.1111111111111111,\"#46039f\"],[0.2222222222222222,\"#7201a8\"],[0.3333333333333333,\"#9c179e\"],[0.4444444444444444,\"#bd3786\"],[0.5555555555555556,\"#d8576b\"],[0.6666666666666666,\"#ed7953\"],[0.7777777777777778,\"#fb9f3a\"],[0.8888888888888888,\"#fdca26\"],[1.0,\"#f0f921\"]],\"type\":\"heatmap\"}],\"histogram2dcontour\":[{\"colorbar\":{\"outlinewidth\":0,\"ticks\":\"\"},\"colorscale\":[[0.0,\"#0d0887\"],[0.1111111111111111,\"#46039f\"],[0.2222222222222222,\"#7201a8\"],[0.3333333333333333,\"#9c179e\"],[0.4444444444444444,\"#bd3786\"],[0.5555555555555556,\"#d8576b\"],[0.6666666666666666,\"#ed7953\"],[0.7777777777777778,\"#fb9f3a\"],[0.8888888888888888,\"#fdca26\"],[1.0,\"#f0f921\"]],\"type\":\"histogram2dcontour\"}],\"histogram2d\":[{\"colorbar\":{\"outlinewidth\":0,\"ticks\":\"\"},\"colorscale\":[[0.0,\"#0d0887\"],[0.1111111111111111,\"#46039f\"],[0.2222222222222222,\"#7201a8\"],[0.3333333333333333,\"#9c179e\"],[0.4444444444444444,\"#bd3786\"],[0.5555555555555556,\"#d8576b\"],[0.6666666666666666,\"#ed7953\"],[0.7777777777777778,\"#fb9f3a\"],[0.8888888888888888,\"#fdca26\"],[1.0,\"#f0f921\"]],\"type\":\"histogram2d\"}],\"histogram\":[{\"marker\":{\"pattern\":{\"fillmode\":\"overlay\",\"size\":10,\"solidity\":0.2}},\"type\":\"histogram\"}],\"mesh3d\":[{\"colorbar\":{\"outlinewidth\":0,\"ticks\":\"\"},\"type\":\"mesh3d\"}],\"parcoords\":[{\"line\":{\"colorbar\":{\"outlinewidth\":0,\"ticks\":\"\"}},\"type\":\"parcoords\"}],\"pie\":[{\"automargin\":true,\"type\":\"pie\"}],\"scatter3d\":[{\"line\":{\"colorbar\":{\"outlinewidth\":0,\"ticks\":\"\"}},\"marker\":{\"colorbar\":{\"outlinewidth\":0,\"ticks\":\"\"}},\"type\":\"scatter3d\"}],\"scattercarpet\":[{\"marker\":{\"colorbar\":{\"outlinewidth\":0,\"ticks\":\"\"}},\"type\":\"scattercarpet\"}],\"scattergeo\":[{\"marker\":{\"colorbar\":{\"outlinewidth\":0,\"ticks\":\"\"}},\"type\":\"scattergeo\"}],\"scattergl\":[{\"marker\":{\"colorbar\":{\"outlinewidth\":0,\"ticks\":\"\"}},\"type\":\"scattergl\"}],\"scattermapbox\":[{\"marker\":{\"colorbar\":{\"outlinewidth\":0,\"ticks\":\"\"}},\"type\":\"scattermapbox\"}],\"scattermap\":[{\"marker\":{\"colorbar\":{\"outlinewidth\":0,\"ticks\":\"\"}},\"type\":\"scattermap\"}],\"scatterpolargl\":[{\"marker\":{\"colorbar\":{\"outlinewidth\":0,\"ticks\":\"\"}},\"type\":\"scatterpolargl\"}],\"scatterpolar\":[{\"marker\":{\"colorbar\":{\"outlinewidth\":0,\"ticks\":\"\"}},\"type\":\"scatterpolar\"}],\"scatter\":[{\"fillpattern\":{\"fillmode\":\"overlay\",\"size\":10,\"solidity\":0.2},\"type\":\"scatter\"}],\"scatterternary\":[{\"marker\":{\"colorbar\":{\"outlinewidth\":0,\"ticks\":\"\"}},\"type\":\"scatterternary\"}],\"surface\":[{\"colorbar\":{\"outlinewidth\":0,\"ticks\":\"\"},\"colorscale\":[[0.0,\"#0d0887\"],[0.1111111111111111,\"#46039f\"],[0.2222222222222222,\"#7201a8\"],[0.3333333333333333,\"#9c179e\"],[0.4444444444444444,\"#bd3786\"],[0.5555555555555556,\"#d8576b\"],[0.6666666666666666,\"#ed7953\"],[0.7777777777777778,\"#fb9f3a\"],[0.8888888888888888,\"#fdca26\"],[1.0,\"#f0f921\"]],\"type\":\"surface\"}],\"table\":[{\"cells\":{\"fill\":{\"color\":\"#EBF0F8\"},\"line\":{\"color\":\"white\"}},\"header\":{\"fill\":{\"color\":\"#C8D4E3\"},\"line\":{\"color\":\"white\"}},\"type\":\"table\"}]},\"layout\":{\"annotationdefaults\":{\"arrowcolor\":\"#2a3f5f\",\"arrowhead\":0,\"arrowwidth\":1},\"autotypenumbers\":\"strict\",\"coloraxis\":{\"colorbar\":{\"outlinewidth\":0,\"ticks\":\"\"}},\"colorscale\":{\"diverging\":[[0,\"#8e0152\"],[0.1,\"#c51b7d\"],[0.2,\"#de77ae\"],[0.3,\"#f1b6da\"],[0.4,\"#fde0ef\"],[0.5,\"#f7f7f7\"],[0.6,\"#e6f5d0\"],[0.7,\"#b8e186\"],[0.8,\"#7fbc41\"],[0.9,\"#4d9221\"],[1,\"#276419\"]],\"sequential\":[[0.0,\"#0d0887\"],[0.1111111111111111,\"#46039f\"],[0.2222222222222222,\"#7201a8\"],[0.3333333333333333,\"#9c179e\"],[0.4444444444444444,\"#bd3786\"],[0.5555555555555556,\"#d8576b\"],[0.6666666666666666,\"#ed7953\"],[0.7777777777777778,\"#fb9f3a\"],[0.8888888888888888,\"#fdca26\"],[1.0,\"#f0f921\"]],\"sequentialminus\":[[0.0,\"#0d0887\"],[0.1111111111111111,\"#46039f\"],[0.2222222222222222,\"#7201a8\"],[0.3333333333333333,\"#9c179e\"],[0.4444444444444444,\"#bd3786\"],[0.5555555555555556,\"#d8576b\"],[0.6666666666666666,\"#ed7953\"],[0.7777777777777778,\"#fb9f3a\"],[0.8888888888888888,\"#fdca26\"],[1.0,\"#f0f921\"]]},\"colorway\":[\"#636efa\",\"#EF553B\",\"#00cc96\",\"#ab63fa\",\"#FFA15A\",\"#19d3f3\",\"#FF6692\",\"#B6E880\",\"#FF97FF\",\"#FECB52\"],\"font\":{\"color\":\"#2a3f5f\"},\"geo\":{\"bgcolor\":\"white\",\"lakecolor\":\"white\",\"landcolor\":\"#E5ECF6\",\"showlakes\":true,\"showland\":true,\"subunitcolor\":\"white\"},\"hoverlabel\":{\"align\":\"left\"},\"hovermode\":\"closest\",\"mapbox\":{\"style\":\"light\"},\"paper_bgcolor\":\"white\",\"plot_bgcolor\":\"#E5ECF6\",\"polar\":{\"angularaxis\":{\"gridcolor\":\"white\",\"linecolor\":\"white\",\"ticks\":\"\"},\"bgcolor\":\"#E5ECF6\",\"radialaxis\":{\"gridcolor\":\"white\",\"linecolor\":\"white\",\"ticks\":\"\"}},\"scene\":{\"xaxis\":{\"backgroundcolor\":\"#E5ECF6\",\"gridcolor\":\"white\",\"gridwidth\":2,\"linecolor\":\"white\",\"showbackground\":true,\"ticks\":\"\",\"zerolinecolor\":\"white\"},\"yaxis\":{\"backgroundcolor\":\"#E5ECF6\",\"gridcolor\":\"white\",\"gridwidth\":2,\"linecolor\":\"white\",\"showbackground\":true,\"ticks\":\"\",\"zerolinecolor\":\"white\"},\"zaxis\":{\"backgroundcolor\":\"#E5ECF6\",\"gridcolor\":\"white\",\"gridwidth\":2,\"linecolor\":\"white\",\"showbackground\":true,\"ticks\":\"\",\"zerolinecolor\":\"white\"}},\"shapedefaults\":{\"line\":{\"color\":\"#2a3f5f\"}},\"ternary\":{\"aaxis\":{\"gridcolor\":\"white\",\"linecolor\":\"white\",\"ticks\":\"\"},\"baxis\":{\"gridcolor\":\"white\",\"linecolor\":\"white\",\"ticks\":\"\"},\"bgcolor\":\"#E5ECF6\",\"caxis\":{\"gridcolor\":\"white\",\"linecolor\":\"white\",\"ticks\":\"\"}},\"title\":{\"x\":0.05},\"xaxis\":{\"automargin\":true,\"gridcolor\":\"white\",\"linecolor\":\"white\",\"ticks\":\"\",\"title\":{\"standoff\":15},\"zerolinecolor\":\"white\",\"zerolinewidth\":2},\"yaxis\":{\"automargin\":true,\"gridcolor\":\"white\",\"linecolor\":\"white\",\"ticks\":\"\",\"title\":{\"standoff\":15},\"zerolinecolor\":\"white\",\"zerolinewidth\":2}}},\"title\":{\"font\":{\"size\":35},\"text\":\"Category Counts\",\"x\":0.5},\"width\":800,\"xaxis\":{\"anchor\":\"y\",\"domain\":[0.0,1.0],\"showgrid\":false,\"title\":{\"text\":\"Category\"}},\"yaxis\":{\"anchor\":\"x\",\"domain\":[0.0,1.0],\"showgrid\":false,\"title\":{\"text\":\"Value\"}}},                        {\"responsive\": true}                    ).then(function(){\n",
       "                            \n",
       "var gd = document.getElementById('596ca92d-3dac-4c74-93f9-1c5a4c6e3758');\n",
       "var x = new MutationObserver(function (mutations, observer) {{\n",
       "        var display = window.getComputedStyle(gd).display;\n",
       "        if (!display || display === 'none') {{\n",
       "            console.log([gd, 'removed!']);\n",
       "            Plotly.purge(gd);\n",
       "            observer.disconnect();\n",
       "        }}\n",
       "}});\n",
       "\n",
       "// Listen for the removal of the full notebook cells\n",
       "var notebookContainer = gd.closest('#notebook-container');\n",
       "if (notebookContainer) {{\n",
       "    x.observe(notebookContainer, {childList: true});\n",
       "}}\n",
       "\n",
       "// Listen for the clearing of the current output cell\n",
       "var outputEl = gd.closest('.output');\n",
       "if (outputEl) {{\n",
       "    x.observe(outputEl, {childList: true});\n",
       "}}\n",
       "\n",
       "                        })                };            </script>        </div>"
      ]
     },
     "metadata": {},
     "output_type": "display_data"
    }
   ],
   "source": [
    "fig = px.bar(x=dataset[\"class\"].value_counts().index,y=dataset[\"class\"].value_counts(),color=dataset[\"class\"].value_counts().index,text=dataset[\"class\"].value_counts())\n",
    "fig.update_traces(hovertemplate=\"Category:'%{x}' Counted: %{y}\")\n",
    "fig.update_layout(title={\"text\":\"Category Counts\",\"x\":0.5,\"font\":{\"size\":35}},xaxis={\"title\":\"Category\",\"showgrid\":False},yaxis={\"title\":\"Value\",\"showgrid\":False},plot_bgcolor=\"white\",width=800,height=500,showlegend=False)\n",
    "iplot(fig)"
   ]
  },
  {
   "cell_type": "code",
   "execution_count": null,
   "id": "16d030ec",
   "metadata": {},
   "outputs": [
    {
     "data": {
      "application/vnd.plotly.v1+json": {
       "config": {
        "plotlyServerURL": "https://plot.ly"
       },
       "data": [
        {
         "branchvalues": "total",
         "customdata": {
          "bdata": "AAAAAEAk3UAAAAAAgGvWQAAAAAAAir5AAAAAAADhukAAAAAAAAO4QAAAAAAAOrZAAAAAAAAztUAAAAAAAFuyQAAAAAAATq9AAAAAAACgqkAAAAAAAISpQAAAAAAARKNAAAAAAABcokAAAAAAAHahQAAAAAAAJJVAAAAAAAC4kEAAAAAAAGCPQAAAAAAAAIpAAAAAAACAhUAAAAAAAMB7QAAAAAAAsHRAAAAAAAAQdEAAAAAAAABeQAAAAAAAQF1AAAAAAADAVkAAAAAAAIBBQAAAAAAAgEBAAAAAAAAAP0AAAAAAAAA6QAAAAAAAACBAAAAAAAAAIEAAAAAAAAAAQAAAAABAJN1AAAAAAIBr1kAAAAAAAIq+QAAAAAAA4bpAAAAAAAA8uEAAAAAAADy2QAAAAAAAM7VAAAAAAACkt0AAAAAAAIG4QAAAAAAAfLpAAAAAAACJsUAAAAAAAKy0QA==",
          "dtype": "f8",
          "shape": "44, 1"
         },
         "domain": {
          "x": [
           0,
           1
          ],
          "y": [
           0,
           1
          ]
         },
         "hovertemplate": "labels=%{label}<br>Count=%{customdata[0]:.0f}<br>parent=%{parent}<br>id=%{id}<extra></extra>",
         "ids": [
          "Labor Rights/labor rights",
          "Education/education",
          "Culture/culture",
          "Environment/environment",
          "Palestine-Israel Conflict/palestine-israel conflict",
          "Ukraine-Russia War/ukraine-russia war",
          "Infrastructure/infrastructure",
          "Climate Action & Animal Welfare/climate",
          "Public Services & Social Welfare/health care",
          "Justice & Civil Rights/women rights",
          "Climate Action & Resource Management/farmers",
          "Political & Democratic Governance/anti right wing",
          "Political & Democratic Governance/democracy",
          "Justice & Civil Rights/unjust law enforcement",
          "Climate Action & Animal Welfare/animal welfare",
          "Public Services & Social Welfare/public services",
          "Justice & Civil Rights/discrimination",
          "Public Services & Social Welfare/eviction",
          "Climate Action & Resource Management/immigration",
          "Climate Action & Resource Management/tourism",
          "Public Services & Social Welfare/social welfare",
          "Political & Democratic Governance/political rights",
          "Political & Democratic Governance/political criticism",
          "Justice & Civil Rights/anti crime",
          "Climate Action & Resource Management/skip",
          "Political & Democratic Governance/local policy",
          "Public Services & Social Welfare/housing",
          "Palestine-Israel Conflict/cyprus conflict",
          "Palestine-Israel Conflict/sudan conflict",
          "Justice & Civil Rights/youth violence",
          "Justice & Civil Rights/economic justice",
          "Ukraine-Russia War/military",
          "Labor Rights",
          "Education",
          "Culture",
          "Environment",
          "Palestine-Israel Conflict",
          "Ukraine-Russia War",
          "Infrastructure",
          "Climate Action & Animal Welfare",
          "Public Services & Social Welfare",
          "Justice & Civil Rights",
          "Climate Action & Resource Management",
          "Political & Democratic Governance"
         ],
         "labels": [
          "labor rights",
          "education",
          "culture",
          "environment",
          "palestine-israel conflict",
          "ukraine-russia war",
          "infrastructure",
          "climate",
          "health care",
          "women rights",
          "farmers",
          "anti right wing",
          "democracy",
          "unjust law enforcement",
          "animal welfare",
          "public services",
          "discrimination",
          "eviction",
          "immigration",
          "tourism",
          "social welfare",
          "political rights",
          "political criticism",
          "anti crime",
          "skip",
          "local policy",
          "housing",
          "cyprus conflict",
          "sudan conflict",
          "youth violence",
          "economic justice",
          "military",
          "Labor Rights",
          "Education",
          "Culture",
          "Environment",
          "Palestine-Israel Conflict",
          "Ukraine-Russia War",
          "Infrastructure",
          "Climate Action & Animal Welfare",
          "Public Services & Social Welfare",
          "Justice & Civil Rights",
          "Climate Action & Resource Management",
          "Political & Democratic Governance"
         ],
         "name": "",
         "parents": [
          "Labor Rights",
          "Education",
          "Culture",
          "Environment",
          "Palestine-Israel Conflict",
          "Ukraine-Russia War",
          "Infrastructure",
          "Climate Action & Animal Welfare",
          "Public Services & Social Welfare",
          "Justice & Civil Rights",
          "Climate Action & Resource Management",
          "Political & Democratic Governance",
          "Political & Democratic Governance",
          "Justice & Civil Rights",
          "Climate Action & Animal Welfare",
          "Public Services & Social Welfare",
          "Justice & Civil Rights",
          "Public Services & Social Welfare",
          "Climate Action & Resource Management",
          "Climate Action & Resource Management",
          "Public Services & Social Welfare",
          "Political & Democratic Governance",
          "Political & Democratic Governance",
          "Justice & Civil Rights",
          "Climate Action & Resource Management",
          "Political & Democratic Governance",
          "Public Services & Social Welfare",
          "Palestine-Israel Conflict",
          "Palestine-Israel Conflict",
          "Justice & Civil Rights",
          "Justice & Civil Rights",
          "Ukraine-Russia War",
          "",
          "",
          "",
          "",
          "",
          "",
          "",
          "",
          "",
          "",
          "",
          ""
         ],
         "type": "sunburst",
         "values": {
          "bdata": "AAAAAEAk3UAAAAAAgGvWQAAAAAAAir5AAAAAAADhukAAAAAAAAO4QAAAAAAAOrZAAAAAAAAztUAAAAAAAFuyQAAAAAAATq9AAAAAAACgqkAAAAAAAISpQAAAAAAARKNAAAAAAABcokAAAAAAAHahQAAAAAAAJJVAAAAAAAC4kEAAAAAAAGCPQAAAAAAAAIpAAAAAAACAhUAAAAAAAMB7QAAAAAAAsHRAAAAAAAAQdEAAAAAAAABeQAAAAAAAQF1AAAAAAADAVkAAAAAAAIBBQAAAAAAAgEBAAAAAAAAAP0AAAAAAAAA6QAAAAAAAACBAAAAAAAAAIEAAAAAAAAAAQAAAAABAJN1AAAAAAIBr1kAAAAAAAIq+QAAAAAAA4bpAAAAAAAA8uEAAAAAAADy2QAAAAAAAM7VAAAAAAACkt0AAAAAAAIG4QAAAAAAAfLpAAAAAAACJsUAAAAAAAKy0QA==",
          "dtype": "f8"
         }
        }
       ],
       "layout": {
        "height": 700,
        "legend": {
         "tracegroupgap": 0
        },
        "margin": {
         "b": 0,
         "l": 0,
         "r": 0,
         "t": 50
        },
        "template": {
         "data": {
          "bar": [
           {
            "error_x": {
             "color": "#2a3f5f"
            },
            "error_y": {
             "color": "#2a3f5f"
            },
            "marker": {
             "line": {
              "color": "#E5ECF6",
              "width": 0.5
             },
             "pattern": {
              "fillmode": "overlay",
              "size": 10,
              "solidity": 0.2
             }
            },
            "type": "bar"
           }
          ],
          "barpolar": [
           {
            "marker": {
             "line": {
              "color": "#E5ECF6",
              "width": 0.5
             },
             "pattern": {
              "fillmode": "overlay",
              "size": 10,
              "solidity": 0.2
             }
            },
            "type": "barpolar"
           }
          ],
          "carpet": [
           {
            "aaxis": {
             "endlinecolor": "#2a3f5f",
             "gridcolor": "white",
             "linecolor": "white",
             "minorgridcolor": "white",
             "startlinecolor": "#2a3f5f"
            },
            "baxis": {
             "endlinecolor": "#2a3f5f",
             "gridcolor": "white",
             "linecolor": "white",
             "minorgridcolor": "white",
             "startlinecolor": "#2a3f5f"
            },
            "type": "carpet"
           }
          ],
          "choropleth": [
           {
            "colorbar": {
             "outlinewidth": 0,
             "ticks": ""
            },
            "type": "choropleth"
           }
          ],
          "contour": [
           {
            "colorbar": {
             "outlinewidth": 0,
             "ticks": ""
            },
            "colorscale": [
             [
              0,
              "#0d0887"
             ],
             [
              0.1111111111111111,
              "#46039f"
             ],
             [
              0.2222222222222222,
              "#7201a8"
             ],
             [
              0.3333333333333333,
              "#9c179e"
             ],
             [
              0.4444444444444444,
              "#bd3786"
             ],
             [
              0.5555555555555556,
              "#d8576b"
             ],
             [
              0.6666666666666666,
              "#ed7953"
             ],
             [
              0.7777777777777778,
              "#fb9f3a"
             ],
             [
              0.8888888888888888,
              "#fdca26"
             ],
             [
              1,
              "#f0f921"
             ]
            ],
            "type": "contour"
           }
          ],
          "contourcarpet": [
           {
            "colorbar": {
             "outlinewidth": 0,
             "ticks": ""
            },
            "type": "contourcarpet"
           }
          ],
          "heatmap": [
           {
            "colorbar": {
             "outlinewidth": 0,
             "ticks": ""
            },
            "colorscale": [
             [
              0,
              "#0d0887"
             ],
             [
              0.1111111111111111,
              "#46039f"
             ],
             [
              0.2222222222222222,
              "#7201a8"
             ],
             [
              0.3333333333333333,
              "#9c179e"
             ],
             [
              0.4444444444444444,
              "#bd3786"
             ],
             [
              0.5555555555555556,
              "#d8576b"
             ],
             [
              0.6666666666666666,
              "#ed7953"
             ],
             [
              0.7777777777777778,
              "#fb9f3a"
             ],
             [
              0.8888888888888888,
              "#fdca26"
             ],
             [
              1,
              "#f0f921"
             ]
            ],
            "type": "heatmap"
           }
          ],
          "histogram": [
           {
            "marker": {
             "pattern": {
              "fillmode": "overlay",
              "size": 10,
              "solidity": 0.2
             }
            },
            "type": "histogram"
           }
          ],
          "histogram2d": [
           {
            "colorbar": {
             "outlinewidth": 0,
             "ticks": ""
            },
            "colorscale": [
             [
              0,
              "#0d0887"
             ],
             [
              0.1111111111111111,
              "#46039f"
             ],
             [
              0.2222222222222222,
              "#7201a8"
             ],
             [
              0.3333333333333333,
              "#9c179e"
             ],
             [
              0.4444444444444444,
              "#bd3786"
             ],
             [
              0.5555555555555556,
              "#d8576b"
             ],
             [
              0.6666666666666666,
              "#ed7953"
             ],
             [
              0.7777777777777778,
              "#fb9f3a"
             ],
             [
              0.8888888888888888,
              "#fdca26"
             ],
             [
              1,
              "#f0f921"
             ]
            ],
            "type": "histogram2d"
           }
          ],
          "histogram2dcontour": [
           {
            "colorbar": {
             "outlinewidth": 0,
             "ticks": ""
            },
            "colorscale": [
             [
              0,
              "#0d0887"
             ],
             [
              0.1111111111111111,
              "#46039f"
             ],
             [
              0.2222222222222222,
              "#7201a8"
             ],
             [
              0.3333333333333333,
              "#9c179e"
             ],
             [
              0.4444444444444444,
              "#bd3786"
             ],
             [
              0.5555555555555556,
              "#d8576b"
             ],
             [
              0.6666666666666666,
              "#ed7953"
             ],
             [
              0.7777777777777778,
              "#fb9f3a"
             ],
             [
              0.8888888888888888,
              "#fdca26"
             ],
             [
              1,
              "#f0f921"
             ]
            ],
            "type": "histogram2dcontour"
           }
          ],
          "mesh3d": [
           {
            "colorbar": {
             "outlinewidth": 0,
             "ticks": ""
            },
            "type": "mesh3d"
           }
          ],
          "parcoords": [
           {
            "line": {
             "colorbar": {
              "outlinewidth": 0,
              "ticks": ""
             }
            },
            "type": "parcoords"
           }
          ],
          "pie": [
           {
            "automargin": true,
            "type": "pie"
           }
          ],
          "scatter": [
           {
            "fillpattern": {
             "fillmode": "overlay",
             "size": 10,
             "solidity": 0.2
            },
            "type": "scatter"
           }
          ],
          "scatter3d": [
           {
            "line": {
             "colorbar": {
              "outlinewidth": 0,
              "ticks": ""
             }
            },
            "marker": {
             "colorbar": {
              "outlinewidth": 0,
              "ticks": ""
             }
            },
            "type": "scatter3d"
           }
          ],
          "scattercarpet": [
           {
            "marker": {
             "colorbar": {
              "outlinewidth": 0,
              "ticks": ""
             }
            },
            "type": "scattercarpet"
           }
          ],
          "scattergeo": [
           {
            "marker": {
             "colorbar": {
              "outlinewidth": 0,
              "ticks": ""
             }
            },
            "type": "scattergeo"
           }
          ],
          "scattergl": [
           {
            "marker": {
             "colorbar": {
              "outlinewidth": 0,
              "ticks": ""
             }
            },
            "type": "scattergl"
           }
          ],
          "scattermap": [
           {
            "marker": {
             "colorbar": {
              "outlinewidth": 0,
              "ticks": ""
             }
            },
            "type": "scattermap"
           }
          ],
          "scattermapbox": [
           {
            "marker": {
             "colorbar": {
              "outlinewidth": 0,
              "ticks": ""
             }
            },
            "type": "scattermapbox"
           }
          ],
          "scatterpolar": [
           {
            "marker": {
             "colorbar": {
              "outlinewidth": 0,
              "ticks": ""
             }
            },
            "type": "scatterpolar"
           }
          ],
          "scatterpolargl": [
           {
            "marker": {
             "colorbar": {
              "outlinewidth": 0,
              "ticks": ""
             }
            },
            "type": "scatterpolargl"
           }
          ],
          "scatterternary": [
           {
            "marker": {
             "colorbar": {
              "outlinewidth": 0,
              "ticks": ""
             }
            },
            "type": "scatterternary"
           }
          ],
          "surface": [
           {
            "colorbar": {
             "outlinewidth": 0,
             "ticks": ""
            },
            "colorscale": [
             [
              0,
              "#0d0887"
             ],
             [
              0.1111111111111111,
              "#46039f"
             ],
             [
              0.2222222222222222,
              "#7201a8"
             ],
             [
              0.3333333333333333,
              "#9c179e"
             ],
             [
              0.4444444444444444,
              "#bd3786"
             ],
             [
              0.5555555555555556,
              "#d8576b"
             ],
             [
              0.6666666666666666,
              "#ed7953"
             ],
             [
              0.7777777777777778,
              "#fb9f3a"
             ],
             [
              0.8888888888888888,
              "#fdca26"
             ],
             [
              1,
              "#f0f921"
             ]
            ],
            "type": "surface"
           }
          ],
          "table": [
           {
            "cells": {
             "fill": {
              "color": "#EBF0F8"
             },
             "line": {
              "color": "white"
             }
            },
            "header": {
             "fill": {
              "color": "#C8D4E3"
             },
             "line": {
              "color": "white"
             }
            },
            "type": "table"
           }
          ]
         },
         "layout": {
          "annotationdefaults": {
           "arrowcolor": "#2a3f5f",
           "arrowhead": 0,
           "arrowwidth": 1
          },
          "autotypenumbers": "strict",
          "coloraxis": {
           "colorbar": {
            "outlinewidth": 0,
            "ticks": ""
           }
          },
          "colorscale": {
           "diverging": [
            [
             0,
             "#8e0152"
            ],
            [
             0.1,
             "#c51b7d"
            ],
            [
             0.2,
             "#de77ae"
            ],
            [
             0.3,
             "#f1b6da"
            ],
            [
             0.4,
             "#fde0ef"
            ],
            [
             0.5,
             "#f7f7f7"
            ],
            [
             0.6,
             "#e6f5d0"
            ],
            [
             0.7,
             "#b8e186"
            ],
            [
             0.8,
             "#7fbc41"
            ],
            [
             0.9,
             "#4d9221"
            ],
            [
             1,
             "#276419"
            ]
           ],
           "sequential": [
            [
             0,
             "#0d0887"
            ],
            [
             0.1111111111111111,
             "#46039f"
            ],
            [
             0.2222222222222222,
             "#7201a8"
            ],
            [
             0.3333333333333333,
             "#9c179e"
            ],
            [
             0.4444444444444444,
             "#bd3786"
            ],
            [
             0.5555555555555556,
             "#d8576b"
            ],
            [
             0.6666666666666666,
             "#ed7953"
            ],
            [
             0.7777777777777778,
             "#fb9f3a"
            ],
            [
             0.8888888888888888,
             "#fdca26"
            ],
            [
             1,
             "#f0f921"
            ]
           ],
           "sequentialminus": [
            [
             0,
             "#0d0887"
            ],
            [
             0.1111111111111111,
             "#46039f"
            ],
            [
             0.2222222222222222,
             "#7201a8"
            ],
            [
             0.3333333333333333,
             "#9c179e"
            ],
            [
             0.4444444444444444,
             "#bd3786"
            ],
            [
             0.5555555555555556,
             "#d8576b"
            ],
            [
             0.6666666666666666,
             "#ed7953"
            ],
            [
             0.7777777777777778,
             "#fb9f3a"
            ],
            [
             0.8888888888888888,
             "#fdca26"
            ],
            [
             1,
             "#f0f921"
            ]
           ]
          },
          "colorway": [
           "#636efa",
           "#EF553B",
           "#00cc96",
           "#ab63fa",
           "#FFA15A",
           "#19d3f3",
           "#FF6692",
           "#B6E880",
           "#FF97FF",
           "#FECB52"
          ],
          "font": {
           "color": "#2a3f5f"
          },
          "geo": {
           "bgcolor": "white",
           "lakecolor": "white",
           "landcolor": "#E5ECF6",
           "showlakes": true,
           "showland": true,
           "subunitcolor": "white"
          },
          "hoverlabel": {
           "align": "left"
          },
          "hovermode": "closest",
          "mapbox": {
           "style": "light"
          },
          "paper_bgcolor": "white",
          "plot_bgcolor": "#E5ECF6",
          "polar": {
           "angularaxis": {
            "gridcolor": "white",
            "linecolor": "white",
            "ticks": ""
           },
           "bgcolor": "#E5ECF6",
           "radialaxis": {
            "gridcolor": "white",
            "linecolor": "white",
            "ticks": ""
           }
          },
          "scene": {
           "xaxis": {
            "backgroundcolor": "#E5ECF6",
            "gridcolor": "white",
            "gridwidth": 2,
            "linecolor": "white",
            "showbackground": true,
            "ticks": "",
            "zerolinecolor": "white"
           },
           "yaxis": {
            "backgroundcolor": "#E5ECF6",
            "gridcolor": "white",
            "gridwidth": 2,
            "linecolor": "white",
            "showbackground": true,
            "ticks": "",
            "zerolinecolor": "white"
           },
           "zaxis": {
            "backgroundcolor": "#E5ECF6",
            "gridcolor": "white",
            "gridwidth": 2,
            "linecolor": "white",
            "showbackground": true,
            "ticks": "",
            "zerolinecolor": "white"
           }
          },
          "shapedefaults": {
           "line": {
            "color": "#2a3f5f"
           }
          },
          "ternary": {
           "aaxis": {
            "gridcolor": "white",
            "linecolor": "white",
            "ticks": ""
           },
           "baxis": {
            "gridcolor": "white",
            "linecolor": "white",
            "ticks": ""
           },
           "bgcolor": "#E5ECF6",
           "caxis": {
            "gridcolor": "white",
            "linecolor": "white",
            "ticks": ""
           }
          },
          "title": {
           "x": 0.05
          },
          "xaxis": {
           "automargin": true,
           "gridcolor": "white",
           "linecolor": "white",
           "ticks": "",
           "title": {
            "standoff": 15
           },
           "zerolinecolor": "white",
           "zerolinewidth": 2
          },
          "yaxis": {
           "automargin": true,
           "gridcolor": "white",
           "linecolor": "white",
           "ticks": "",
           "title": {
            "standoff": 15
           },
           "zerolinecolor": "white",
           "zerolinewidth": 2
          }
         }
        },
        "title": {
         "font": {
          "size": 25
         },
         "text": "Hierarchical Distribution of Topic Categories",
         "x": 0.5
        },
        "width": 800
       }
      },
      "text/html": [
       "<div>            <script src=\"https://cdnjs.cloudflare.com/ajax/libs/mathjax/2.7.5/MathJax.js?config=TeX-AMS-MML_SVG\"></script><script type=\"text/javascript\">if (window.MathJax && window.MathJax.Hub && window.MathJax.Hub.Config) {window.MathJax.Hub.Config({SVG: {font: \"STIX-Web\"}});}</script>                <script type=\"text/javascript\">window.PlotlyConfig = {MathJaxConfig: 'local'};</script>\n",
       "        <script charset=\"utf-8\" src=\"https://cdn.plot.ly/plotly-3.0.1.min.js\"></script>                <div id=\"c4221989-5c56-48cb-9c6a-77efefa4531d\" class=\"plotly-graph-div\" style=\"height:700px; width:800px;\"></div>            <script type=\"text/javascript\">                window.PLOTLYENV=window.PLOTLYENV || {};                                if (document.getElementById(\"c4221989-5c56-48cb-9c6a-77efefa4531d\")) {                    Plotly.newPlot(                        \"c4221989-5c56-48cb-9c6a-77efefa4531d\",                        [{\"branchvalues\":\"total\",\"customdata\":{\"dtype\":\"f8\",\"bdata\":\"AAAAAEAk3UAAAAAAgGvWQAAAAAAAir5AAAAAAADhukAAAAAAAAO4QAAAAAAAOrZAAAAAAAAztUAAAAAAAFuyQAAAAAAATq9AAAAAAACgqkAAAAAAAISpQAAAAAAARKNAAAAAAABcokAAAAAAAHahQAAAAAAAJJVAAAAAAAC4kEAAAAAAAGCPQAAAAAAAAIpAAAAAAACAhUAAAAAAAMB7QAAAAAAAsHRAAAAAAAAQdEAAAAAAAABeQAAAAAAAQF1AAAAAAADAVkAAAAAAAIBBQAAAAAAAgEBAAAAAAAAAP0AAAAAAAAA6QAAAAAAAACBAAAAAAAAAIEAAAAAAAAAAQAAAAABAJN1AAAAAAIBr1kAAAAAAAIq+QAAAAAAA4bpAAAAAAAA8uEAAAAAAADy2QAAAAAAAM7VAAAAAAACkt0AAAAAAAIG4QAAAAAAAfLpAAAAAAACJsUAAAAAAAKy0QA==\",\"shape\":\"44, 1\"},\"domain\":{\"x\":[0.0,1.0],\"y\":[0.0,1.0]},\"hovertemplate\":\"labels=%{label}\\u003cbr\\u003eCount=%{customdata[0]:.0f}\\u003cbr\\u003eparent=%{parent}\\u003cbr\\u003eid=%{id}\\u003cextra\\u003e\\u003c\\u002fextra\\u003e\",\"ids\":[\"Labor Rights\\u002flabor rights\",\"Education\\u002feducation\",\"Culture\\u002fculture\",\"Environment\\u002fenvironment\",\"Palestine-Israel Conflict\\u002fpalestine-israel conflict\",\"Ukraine-Russia War\\u002fukraine-russia war\",\"Infrastructure\\u002finfrastructure\",\"Climate Action & Animal Welfare\\u002fclimate\",\"Public Services & Social Welfare\\u002fhealth care\",\"Justice & Civil Rights\\u002fwomen rights\",\"Climate Action & Resource Management\\u002ffarmers\",\"Political & Democratic Governance\\u002fanti right wing\",\"Political & Democratic Governance\\u002fdemocracy\",\"Justice & Civil Rights\\u002funjust law enforcement\",\"Climate Action & Animal Welfare\\u002fanimal welfare\",\"Public Services & Social Welfare\\u002fpublic services\",\"Justice & Civil Rights\\u002fdiscrimination\",\"Public Services & Social Welfare\\u002feviction\",\"Climate Action & Resource Management\\u002fimmigration\",\"Climate Action & Resource Management\\u002ftourism\",\"Public Services & Social Welfare\\u002fsocial welfare\",\"Political & Democratic Governance\\u002fpolitical rights\",\"Political & Democratic Governance\\u002fpolitical criticism\",\"Justice & Civil Rights\\u002fanti crime\",\"Climate Action & Resource Management\\u002fskip\",\"Political & Democratic Governance\\u002flocal policy\",\"Public Services & Social Welfare\\u002fhousing\",\"Palestine-Israel Conflict\\u002fcyprus conflict\",\"Palestine-Israel Conflict\\u002fsudan conflict\",\"Justice & Civil Rights\\u002fyouth violence\",\"Justice & Civil Rights\\u002feconomic justice\",\"Ukraine-Russia War\\u002fmilitary\",\"Labor Rights\",\"Education\",\"Culture\",\"Environment\",\"Palestine-Israel Conflict\",\"Ukraine-Russia War\",\"Infrastructure\",\"Climate Action & Animal Welfare\",\"Public Services & Social Welfare\",\"Justice & Civil Rights\",\"Climate Action & Resource Management\",\"Political & Democratic Governance\"],\"labels\":[\"labor rights\",\"education\",\"culture\",\"environment\",\"palestine-israel conflict\",\"ukraine-russia war\",\"infrastructure\",\"climate\",\"health care\",\"women rights\",\"farmers\",\"anti right wing\",\"democracy\",\"unjust law enforcement\",\"animal welfare\",\"public services\",\"discrimination\",\"eviction\",\"immigration\",\"tourism\",\"social welfare\",\"political rights\",\"political criticism\",\"anti crime\",\"skip\",\"local policy\",\"housing\",\"cyprus conflict\",\"sudan conflict\",\"youth violence\",\"economic justice\",\"military\",\"Labor Rights\",\"Education\",\"Culture\",\"Environment\",\"Palestine-Israel Conflict\",\"Ukraine-Russia War\",\"Infrastructure\",\"Climate Action & Animal Welfare\",\"Public Services & Social Welfare\",\"Justice & Civil Rights\",\"Climate Action & Resource Management\",\"Political & Democratic Governance\"],\"name\":\"\",\"parents\":[\"Labor Rights\",\"Education\",\"Culture\",\"Environment\",\"Palestine-Israel Conflict\",\"Ukraine-Russia War\",\"Infrastructure\",\"Climate Action & Animal Welfare\",\"Public Services & Social Welfare\",\"Justice & Civil Rights\",\"Climate Action & Resource Management\",\"Political & Democratic Governance\",\"Political & Democratic Governance\",\"Justice & Civil Rights\",\"Climate Action & Animal Welfare\",\"Public Services & Social Welfare\",\"Justice & Civil Rights\",\"Public Services & Social Welfare\",\"Climate Action & Resource Management\",\"Climate Action & Resource Management\",\"Public Services & Social Welfare\",\"Political & Democratic Governance\",\"Political & Democratic Governance\",\"Justice & Civil Rights\",\"Climate Action & Resource Management\",\"Political & Democratic Governance\",\"Public Services & Social Welfare\",\"Palestine-Israel Conflict\",\"Palestine-Israel Conflict\",\"Justice & Civil Rights\",\"Justice & Civil Rights\",\"Ukraine-Russia War\",\"\",\"\",\"\",\"\",\"\",\"\",\"\",\"\",\"\",\"\",\"\",\"\"],\"values\":{\"dtype\":\"f8\",\"bdata\":\"AAAAAEAk3UAAAAAAgGvWQAAAAAAAir5AAAAAAADhukAAAAAAAAO4QAAAAAAAOrZAAAAAAAAztUAAAAAAAFuyQAAAAAAATq9AAAAAAACgqkAAAAAAAISpQAAAAAAARKNAAAAAAABcokAAAAAAAHahQAAAAAAAJJVAAAAAAAC4kEAAAAAAAGCPQAAAAAAAAIpAAAAAAACAhUAAAAAAAMB7QAAAAAAAsHRAAAAAAAAQdEAAAAAAAABeQAAAAAAAQF1AAAAAAADAVkAAAAAAAIBBQAAAAAAAgEBAAAAAAAAAP0AAAAAAAAA6QAAAAAAAACBAAAAAAAAAIEAAAAAAAAAAQAAAAABAJN1AAAAAAIBr1kAAAAAAAIq+QAAAAAAA4bpAAAAAAAA8uEAAAAAAADy2QAAAAAAAM7VAAAAAAACkt0AAAAAAAIG4QAAAAAAAfLpAAAAAAACJsUAAAAAAAKy0QA==\"},\"type\":\"sunburst\"}],                        {\"template\":{\"data\":{\"histogram2dcontour\":[{\"type\":\"histogram2dcontour\",\"colorbar\":{\"outlinewidth\":0,\"ticks\":\"\"},\"colorscale\":[[0.0,\"#0d0887\"],[0.1111111111111111,\"#46039f\"],[0.2222222222222222,\"#7201a8\"],[0.3333333333333333,\"#9c179e\"],[0.4444444444444444,\"#bd3786\"],[0.5555555555555556,\"#d8576b\"],[0.6666666666666666,\"#ed7953\"],[0.7777777777777778,\"#fb9f3a\"],[0.8888888888888888,\"#fdca26\"],[1.0,\"#f0f921\"]]}],\"choropleth\":[{\"type\":\"choropleth\",\"colorbar\":{\"outlinewidth\":0,\"ticks\":\"\"}}],\"histogram2d\":[{\"type\":\"histogram2d\",\"colorbar\":{\"outlinewidth\":0,\"ticks\":\"\"},\"colorscale\":[[0.0,\"#0d0887\"],[0.1111111111111111,\"#46039f\"],[0.2222222222222222,\"#7201a8\"],[0.3333333333333333,\"#9c179e\"],[0.4444444444444444,\"#bd3786\"],[0.5555555555555556,\"#d8576b\"],[0.6666666666666666,\"#ed7953\"],[0.7777777777777778,\"#fb9f3a\"],[0.8888888888888888,\"#fdca26\"],[1.0,\"#f0f921\"]]}],\"heatmap\":[{\"type\":\"heatmap\",\"colorbar\":{\"outlinewidth\":0,\"ticks\":\"\"},\"colorscale\":[[0.0,\"#0d0887\"],[0.1111111111111111,\"#46039f\"],[0.2222222222222222,\"#7201a8\"],[0.3333333333333333,\"#9c179e\"],[0.4444444444444444,\"#bd3786\"],[0.5555555555555556,\"#d8576b\"],[0.6666666666666666,\"#ed7953\"],[0.7777777777777778,\"#fb9f3a\"],[0.8888888888888888,\"#fdca26\"],[1.0,\"#f0f921\"]]}],\"contourcarpet\":[{\"type\":\"contourcarpet\",\"colorbar\":{\"outlinewidth\":0,\"ticks\":\"\"}}],\"contour\":[{\"type\":\"contour\",\"colorbar\":{\"outlinewidth\":0,\"ticks\":\"\"},\"colorscale\":[[0.0,\"#0d0887\"],[0.1111111111111111,\"#46039f\"],[0.2222222222222222,\"#7201a8\"],[0.3333333333333333,\"#9c179e\"],[0.4444444444444444,\"#bd3786\"],[0.5555555555555556,\"#d8576b\"],[0.6666666666666666,\"#ed7953\"],[0.7777777777777778,\"#fb9f3a\"],[0.8888888888888888,\"#fdca26\"],[1.0,\"#f0f921\"]]}],\"surface\":[{\"type\":\"surface\",\"colorbar\":{\"outlinewidth\":0,\"ticks\":\"\"},\"colorscale\":[[0.0,\"#0d0887\"],[0.1111111111111111,\"#46039f\"],[0.2222222222222222,\"#7201a8\"],[0.3333333333333333,\"#9c179e\"],[0.4444444444444444,\"#bd3786\"],[0.5555555555555556,\"#d8576b\"],[0.6666666666666666,\"#ed7953\"],[0.7777777777777778,\"#fb9f3a\"],[0.8888888888888888,\"#fdca26\"],[1.0,\"#f0f921\"]]}],\"mesh3d\":[{\"type\":\"mesh3d\",\"colorbar\":{\"outlinewidth\":0,\"ticks\":\"\"}}],\"scatter\":[{\"fillpattern\":{\"fillmode\":\"overlay\",\"size\":10,\"solidity\":0.2},\"type\":\"scatter\"}],\"parcoords\":[{\"type\":\"parcoords\",\"line\":{\"colorbar\":{\"outlinewidth\":0,\"ticks\":\"\"}}}],\"scatterpolargl\":[{\"type\":\"scatterpolargl\",\"marker\":{\"colorbar\":{\"outlinewidth\":0,\"ticks\":\"\"}}}],\"bar\":[{\"error_x\":{\"color\":\"#2a3f5f\"},\"error_y\":{\"color\":\"#2a3f5f\"},\"marker\":{\"line\":{\"color\":\"#E5ECF6\",\"width\":0.5},\"pattern\":{\"fillmode\":\"overlay\",\"size\":10,\"solidity\":0.2}},\"type\":\"bar\"}],\"scattergeo\":[{\"type\":\"scattergeo\",\"marker\":{\"colorbar\":{\"outlinewidth\":0,\"ticks\":\"\"}}}],\"scatterpolar\":[{\"type\":\"scatterpolar\",\"marker\":{\"colorbar\":{\"outlinewidth\":0,\"ticks\":\"\"}}}],\"histogram\":[{\"marker\":{\"pattern\":{\"fillmode\":\"overlay\",\"size\":10,\"solidity\":0.2}},\"type\":\"histogram\"}],\"scattergl\":[{\"type\":\"scattergl\",\"marker\":{\"colorbar\":{\"outlinewidth\":0,\"ticks\":\"\"}}}],\"scatter3d\":[{\"type\":\"scatter3d\",\"line\":{\"colorbar\":{\"outlinewidth\":0,\"ticks\":\"\"}},\"marker\":{\"colorbar\":{\"outlinewidth\":0,\"ticks\":\"\"}}}],\"scattermap\":[{\"type\":\"scattermap\",\"marker\":{\"colorbar\":{\"outlinewidth\":0,\"ticks\":\"\"}}}],\"scattermapbox\":[{\"type\":\"scattermapbox\",\"marker\":{\"colorbar\":{\"outlinewidth\":0,\"ticks\":\"\"}}}],\"scatterternary\":[{\"type\":\"scatterternary\",\"marker\":{\"colorbar\":{\"outlinewidth\":0,\"ticks\":\"\"}}}],\"scattercarpet\":[{\"type\":\"scattercarpet\",\"marker\":{\"colorbar\":{\"outlinewidth\":0,\"ticks\":\"\"}}}],\"carpet\":[{\"aaxis\":{\"endlinecolor\":\"#2a3f5f\",\"gridcolor\":\"white\",\"linecolor\":\"white\",\"minorgridcolor\":\"white\",\"startlinecolor\":\"#2a3f5f\"},\"baxis\":{\"endlinecolor\":\"#2a3f5f\",\"gridcolor\":\"white\",\"linecolor\":\"white\",\"minorgridcolor\":\"white\",\"startlinecolor\":\"#2a3f5f\"},\"type\":\"carpet\"}],\"table\":[{\"cells\":{\"fill\":{\"color\":\"#EBF0F8\"},\"line\":{\"color\":\"white\"}},\"header\":{\"fill\":{\"color\":\"#C8D4E3\"},\"line\":{\"color\":\"white\"}},\"type\":\"table\"}],\"barpolar\":[{\"marker\":{\"line\":{\"color\":\"#E5ECF6\",\"width\":0.5},\"pattern\":{\"fillmode\":\"overlay\",\"size\":10,\"solidity\":0.2}},\"type\":\"barpolar\"}],\"pie\":[{\"automargin\":true,\"type\":\"pie\"}]},\"layout\":{\"autotypenumbers\":\"strict\",\"colorway\":[\"#636efa\",\"#EF553B\",\"#00cc96\",\"#ab63fa\",\"#FFA15A\",\"#19d3f3\",\"#FF6692\",\"#B6E880\",\"#FF97FF\",\"#FECB52\"],\"font\":{\"color\":\"#2a3f5f\"},\"hovermode\":\"closest\",\"hoverlabel\":{\"align\":\"left\"},\"paper_bgcolor\":\"white\",\"plot_bgcolor\":\"#E5ECF6\",\"polar\":{\"bgcolor\":\"#E5ECF6\",\"angularaxis\":{\"gridcolor\":\"white\",\"linecolor\":\"white\",\"ticks\":\"\"},\"radialaxis\":{\"gridcolor\":\"white\",\"linecolor\":\"white\",\"ticks\":\"\"}},\"ternary\":{\"bgcolor\":\"#E5ECF6\",\"aaxis\":{\"gridcolor\":\"white\",\"linecolor\":\"white\",\"ticks\":\"\"},\"baxis\":{\"gridcolor\":\"white\",\"linecolor\":\"white\",\"ticks\":\"\"},\"caxis\":{\"gridcolor\":\"white\",\"linecolor\":\"white\",\"ticks\":\"\"}},\"coloraxis\":{\"colorbar\":{\"outlinewidth\":0,\"ticks\":\"\"}},\"colorscale\":{\"sequential\":[[0.0,\"#0d0887\"],[0.1111111111111111,\"#46039f\"],[0.2222222222222222,\"#7201a8\"],[0.3333333333333333,\"#9c179e\"],[0.4444444444444444,\"#bd3786\"],[0.5555555555555556,\"#d8576b\"],[0.6666666666666666,\"#ed7953\"],[0.7777777777777778,\"#fb9f3a\"],[0.8888888888888888,\"#fdca26\"],[1.0,\"#f0f921\"]],\"sequentialminus\":[[0.0,\"#0d0887\"],[0.1111111111111111,\"#46039f\"],[0.2222222222222222,\"#7201a8\"],[0.3333333333333333,\"#9c179e\"],[0.4444444444444444,\"#bd3786\"],[0.5555555555555556,\"#d8576b\"],[0.6666666666666666,\"#ed7953\"],[0.7777777777777778,\"#fb9f3a\"],[0.8888888888888888,\"#fdca26\"],[1.0,\"#f0f921\"]],\"diverging\":[[0,\"#8e0152\"],[0.1,\"#c51b7d\"],[0.2,\"#de77ae\"],[0.3,\"#f1b6da\"],[0.4,\"#fde0ef\"],[0.5,\"#f7f7f7\"],[0.6,\"#e6f5d0\"],[0.7,\"#b8e186\"],[0.8,\"#7fbc41\"],[0.9,\"#4d9221\"],[1,\"#276419\"]]},\"xaxis\":{\"gridcolor\":\"white\",\"linecolor\":\"white\",\"ticks\":\"\",\"title\":{\"standoff\":15},\"zerolinecolor\":\"white\",\"automargin\":true,\"zerolinewidth\":2},\"yaxis\":{\"gridcolor\":\"white\",\"linecolor\":\"white\",\"ticks\":\"\",\"title\":{\"standoff\":15},\"zerolinecolor\":\"white\",\"automargin\":true,\"zerolinewidth\":2},\"scene\":{\"xaxis\":{\"backgroundcolor\":\"#E5ECF6\",\"gridcolor\":\"white\",\"linecolor\":\"white\",\"showbackground\":true,\"ticks\":\"\",\"zerolinecolor\":\"white\",\"gridwidth\":2},\"yaxis\":{\"backgroundcolor\":\"#E5ECF6\",\"gridcolor\":\"white\",\"linecolor\":\"white\",\"showbackground\":true,\"ticks\":\"\",\"zerolinecolor\":\"white\",\"gridwidth\":2},\"zaxis\":{\"backgroundcolor\":\"#E5ECF6\",\"gridcolor\":\"white\",\"linecolor\":\"white\",\"showbackground\":true,\"ticks\":\"\",\"zerolinecolor\":\"white\",\"gridwidth\":2}},\"shapedefaults\":{\"line\":{\"color\":\"#2a3f5f\"}},\"annotationdefaults\":{\"arrowcolor\":\"#2a3f5f\",\"arrowhead\":0,\"arrowwidth\":1},\"geo\":{\"bgcolor\":\"white\",\"landcolor\":\"#E5ECF6\",\"subunitcolor\":\"white\",\"showland\":true,\"showlakes\":true,\"lakecolor\":\"white\"},\"title\":{\"x\":0.05},\"mapbox\":{\"style\":\"light\"}}},\"legend\":{\"tracegroupgap\":0},\"title\":{\"text\":\"Hierarchical Distribution of Topic Categories\",\"font\":{\"size\":25},\"x\":0.5},\"height\":700,\"width\":800,\"margin\":{\"t\":50,\"l\":0,\"r\":0,\"b\":0}},                        {\"responsive\": true}                    ).then(function(){\n",
       "                            \n",
       "var gd = document.getElementById('c4221989-5c56-48cb-9c6a-77efefa4531d');\n",
       "var x = new MutationObserver(function (mutations, observer) {{\n",
       "        var display = window.getComputedStyle(gd).display;\n",
       "        if (!display || display === 'none') {{\n",
       "            console.log([gd, 'removed!']);\n",
       "            Plotly.purge(gd);\n",
       "            observer.disconnect();\n",
       "        }}\n",
       "}});\n",
       "\n",
       "// Listen for the removal of the full notebook cells\n",
       "var notebookContainer = gd.closest('#notebook-container');\n",
       "if (notebookContainer) {{\n",
       "    x.observe(notebookContainer, {childList: true});\n",
       "}}\n",
       "\n",
       "// Listen for the clearing of the current output cell\n",
       "var outputEl = gd.closest('.output');\n",
       "if (outputEl) {{\n",
       "    x.observe(outputEl, {childList: true});\n",
       "}}\n",
       "\n",
       "                        })                };            </script>        </div>"
      ]
     },
     "metadata": {},
     "output_type": "display_data"
    }
   ],
   "source": [
    "data_for_sunburst = []\n",
    "\n",
    "original_topic_counts = {\n",
    "    'labor rights': 29841,\n",
    "    'education': 22958,\n",
    "    'culture': 7818,\n",
    "    'environment': 6881,\n",
    "    'palestine-israel conflict': 6147,\n",
    "    'ukraine-russia war': 5690,\n",
    "    'infrastructure': 5427,\n",
    "    'climate': 4699,\n",
    "    'health care': 4007,\n",
    "    'women rights': 3408,\n",
    "    'farmers': 3266,\n",
    "    'anti right wing': 2466,\n",
    "    'democracy': 2350,\n",
    "    'unjust law enforcement': 2235,\n",
    "    'animal welfare': 1353,\n",
    "    'public services': 1070,\n",
    "    'discrimination': 1004,\n",
    "    'eviction': 832,\n",
    "    'immigration': 688,\n",
    "    'tourism': 444,\n",
    "    'social welfare': 331,\n",
    "    'political rights': 321,\n",
    "    'political criticism': 120,\n",
    "    'anti crime': 117,\n",
    "    'skip': 91,\n",
    "    'local policy': 35,\n",
    "    'housing': 33,\n",
    "    'cyprus conflict': 31,\n",
    "    'sudan conflict': 26,\n",
    "    'youth violence': 8,\n",
    "    'economic justice': 8,\n",
    "    'military': 2\n",
    "}\n",
    "\n",
    "\n",
    "for original_topic, count in original_topic_counts.items():\n",
    "    mapped_key = original_topic\n",
    "    if original_topic == 'environment' and 'Environment' in class_mapping:\n",
    "        mapped_key = 'Environment'\n",
    "\n",
    "    if mapped_key in class_mapping:\n",
    "        parent_category = class_mapping[mapped_key]\n",
    "        data_for_sunburst.append({\n",
    "            'Category': parent_category,\n",
    "            'Subcategory': original_topic,\n",
    "            'Count': count\n",
    "        })\n",
    "    else:\n",
    "        print(f\"Warning: Original topic '{original_topic}' not found in class_mapping. It will not be plotted.\")\n",
    "\n",
    "df_sunburst = pd.DataFrame(data_for_sunburst)\n",
    "\n",
    "fig = px.sunburst(\n",
    "    df_sunburst,\n",
    "    path=['Category', 'Subcategory'],\n",
    "    values='Count',\n",
    "    title='Hierarchical Distribution of Topic Categories',\n",
    "    width=800,\n",
    "    height=700,\n",
    "    hover_data={'Count': ':.0f'} \n",
    ")\n",
    "\n",
    "fig.update_layout(\n",
    "    title={\n",
    "        \"text\": \"Hierarchical Distribution of Topic Categories\",\n",
    "        \"x\": 0.5,\n",
    "        \"font\": {\"size\": 25}\n",
    "    },\n",
    "    margin=dict(t=50, l=0, r=0, b=0) \n",
    ")\n",
    "\n",
    "fig.show()"
   ]
  },
  {
   "cell_type": "code",
   "execution_count": 46,
   "id": "177c53c3",
   "metadata": {},
   "outputs": [],
   "source": [
    "dataset.to_csv('../data/filtered_events_class.csv', index=False)"
   ]
  },
  {
   "cell_type": "code",
   "execution_count": null,
   "id": "0c2e6012",
   "metadata": {},
   "outputs": [],
   "source": []
  }
 ],
 "metadata": {
  "kernelspec": {
   "display_name": "base",
   "language": "python",
   "name": "python3"
  },
  "language_info": {
   "codemirror_mode": {
    "name": "ipython",
    "version": 3
   },
   "file_extension": ".py",
   "mimetype": "text/x-python",
   "name": "python",
   "nbconvert_exporter": "python",
   "pygments_lexer": "ipython3",
   "version": "3.11.13"
  }
 },
 "nbformat": 4,
 "nbformat_minor": 5
}
